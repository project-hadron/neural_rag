{
 "cells": [
  {
   "cell_type": "code",
   "execution_count": 1,
   "id": "962e2eab-fef2-4393-8e03-836e7921a99d",
   "metadata": {},
   "outputs": [],
   "source": [
    "# saves you having to use print as all exposed variables are printed in the cell\n",
    "from IPython.core.interactiveshell import InteractiveShell\n",
    "InteractiveShell.ast_node_interactivity = \"all\""
   ]
  },
  {
   "cell_type": "code",
   "execution_count": 2,
   "id": "68bdaf3a-78fb-438b-9590-d4feb46ad151",
   "metadata": {},
   "outputs": [],
   "source": [
    "import os\n",
    "from nn_rag import Controller"
   ]
  },
  {
   "cell_type": "markdown",
   "id": "46761902-7106-4628-9b12-0ff133fe2041",
   "metadata": {},
   "source": [
    "### Set parameters as environment variables"
   ]
  },
  {
   "cell_type": "code",
   "execution_count": 3,
   "id": "52a63c1a-db81-4b74-83dc-0e84b9e5bb48",
   "metadata": {},
   "outputs": [],
   "source": [
    "# Remote recipie\n",
    "os.environ['HADRON_DOMAIN_REPO_PATH'] = 'https://raw.githubusercontent.com/project-hadron/neural_rag/main/jupyter/knowledge/hadron/contracts/'\n",
    "\n",
    "# Data\n",
    "os.environ['HADRON_KNOWLEDGE_SOURCE_URI'] = 'https://www.europarl.europa.eu/doceo/document/TA-9-2024-0138_EN.pdf'\n",
    "os.environ['HADRON_KNOWLEDGE_PERSIST_URI'] = './hadron/data/eu_ai_act_2024.parquet'\n",
    "\n",
    "# Parameters\n",
    "os.environ['HADRON_NUM_SENTENCE_CHUNK_SIZE'] = '10'\n",
    "os.environ['HADRON_EMBEDDING_BATCH_SIZE'] = '32'\n",
    "os.environ['HADRON_EMBEDDING_MODEL_NAME'] = 'all-mpnet-base-v2'\n",
    "os.environ['HADRON_EMBEDDING_DEVICE'] = 'cpu'"
   ]
  },
  {
   "cell_type": "markdown",
   "id": "17997d56-64f5-4124-8a3d-0d3cc13c0d6b",
   "metadata": {},
   "source": [
    "### Controller"
   ]
  },
  {
   "cell_type": "code",
   "execution_count": 4,
   "id": "edc796f5-7f22-478a-857d-60f50565b590",
   "metadata": {},
   "outputs": [],
   "source": [
    "ctr = Controller.from_env()"
   ]
  },
  {
   "cell_type": "code",
   "execution_count": 5,
   "id": "de680ad9-b26f-4821-a146-5f60dc60218a",
   "metadata": {},
   "outputs": [],
   "source": [
    "ctr.run_controller()"
   ]
  },
  {
   "cell_type": "code",
   "execution_count": 6,
   "id": "3a7efe55-64dc-45af-bc99-091c9fd510ff",
   "metadata": {},
   "outputs": [
    {
     "data": {
      "text/html": [
       "<style type=\"text/css\">\n",
       "#T_8ac0b th {\n",
       "  font-size: 120%;\n",
       "  text-align: center;\n",
       "}\n",
       "#T_8ac0b .row_heading {\n",
       "  display: none;;\n",
       "}\n",
       "#T_8ac0b  .blank {\n",
       "  display: none;;\n",
       "}\n",
       "#T_8ac0b_row0_col0, #T_8ac0b_row1_col0, #T_8ac0b_row2_col0, #T_8ac0b_row3_col0, #T_8ac0b_row4_col0 {\n",
       "  text-align: left;\n",
       "  font-weight: bold;\n",
       "  font-size: 120%;\n",
       "}\n",
       "#T_8ac0b_row0_col1, #T_8ac0b_row1_col1, #T_8ac0b_row2_col1, #T_8ac0b_row3_col1, #T_8ac0b_row4_col1 {\n",
       "  text-align: left;\n",
       "}\n",
       "</style>\n",
       "<table id=\"T_8ac0b\">\n",
       "  <thead>\n",
       "    <tr>\n",
       "      <th class=\"blank level0\" >&nbsp;</th>\n",
       "      <th id=\"T_8ac0b_level0_col0\" class=\"col_heading level0 col0\" >use_case</th>\n",
       "      <th id=\"T_8ac0b_level0_col1\" class=\"col_heading level0 col1\" >values</th>\n",
       "    </tr>\n",
       "  </thead>\n",
       "  <tbody>\n",
       "    <tr>\n",
       "      <th id=\"T_8ac0b_level0_row0\" class=\"row_heading level0 row0\" >0</th>\n",
       "      <td id=\"T_8ac0b_row0_col0\" class=\"data row0 col0\" >actions</td>\n",
       "      <td id=\"T_8ac0b_row0_col1\" class=\"data row0 col1\" >build a catalog of embedded documents</td>\n",
       "    </tr>\n",
       "    <tr>\n",
       "      <th id=\"T_8ac0b_level0_row1\" class=\"row_heading level0 row1\" >1</th>\n",
       "      <td id=\"T_8ac0b_row1_col0\" class=\"data row1 col0\" >domain</td>\n",
       "      <td id=\"T_8ac0b_row1_col1\" class=\"data row1 col1\" >General</td>\n",
       "    </tr>\n",
       "    <tr>\n",
       "      <th id=\"T_8ac0b_level0_row2\" class=\"row_heading level0 row2\" >2</th>\n",
       "      <td id=\"T_8ac0b_row2_col0\" class=\"data row2 col0\" >opportunity</td>\n",
       "      <td id=\"T_8ac0b_row2_col1\" class=\"data row2 col1\" >Improve accessibility through a RAG</td>\n",
       "    </tr>\n",
       "    <tr>\n",
       "      <th id=\"T_8ac0b_level0_row3\" class=\"row_heading level0 row3\" >3</th>\n",
       "      <td id=\"T_8ac0b_row3_col0\" class=\"data row3 col0\" >situation</td>\n",
       "      <td id=\"T_8ac0b_row3_col1\" class=\"data row3 col1\" >HUB requirement for better access to documentation</td>\n",
       "    </tr>\n",
       "    <tr>\n",
       "      <th id=\"T_8ac0b_level0_row4\" class=\"row_heading level0 row4\" >4</th>\n",
       "      <td id=\"T_8ac0b_row4_col0\" class=\"data row4 col0\" >title</td>\n",
       "      <td id=\"T_8ac0b_row4_col1\" class=\"data row4 col1\" >Rag Demo</td>\n",
       "    </tr>\n",
       "  </tbody>\n",
       "</table>\n"
      ],
      "text/plain": [
       "<pandas.io.formats.style.Styler at 0x7fe0fd2b2b90>"
      ]
     },
     "execution_count": 6,
     "metadata": {},
     "output_type": "execute_result"
    }
   ],
   "source": [
    "ctr.report_use_case()"
   ]
  },
  {
   "cell_type": "code",
   "execution_count": 8,
   "id": "6700f0fb-94e8-455e-b997-f5591aca94a9",
   "metadata": {},
   "outputs": [
    {
     "data": {
      "text/html": [
       "<style type=\"text/css\">\n",
       "#T_545d5 th {\n",
       "  font-size: 120%;\n",
       "  text-align: center;\n",
       "}\n",
       "#T_545d5 .row_heading {\n",
       "  display: none;;\n",
       "}\n",
       "#T_545d5  .blank {\n",
       "  display: none;;\n",
       "}\n",
       "</style>\n",
       "<table id=\"T_545d5\">\n",
       "  <thead>\n",
       "    <tr>\n",
       "      <th class=\"blank level0\" >&nbsp;</th>\n",
       "      <th id=\"T_545d5_level0_col0\" class=\"col_heading level0 col0\" >level</th>\n",
       "      <th id=\"T_545d5_level0_col1\" class=\"col_heading level0 col1\" >order</th>\n",
       "      <th id=\"T_545d5_level0_col2\" class=\"col_heading level0 col2\" >intent</th>\n",
       "      <th id=\"T_545d5_level0_col3\" class=\"col_heading level0 col3\" >parameters</th>\n",
       "      <th id=\"T_545d5_level0_col4\" class=\"col_heading level0 col4\" >creator</th>\n",
       "    </tr>\n",
       "  </thead>\n",
       "  <tbody>\n",
       "  </tbody>\n",
       "</table>\n"
      ],
      "text/plain": [
       "<pandas.io.formats.style.Styler at 0x7fe0ff955420>"
      ]
     },
     "execution_count": 8,
     "metadata": {},
     "output_type": "execute_result"
    }
   ],
   "source": [
    "ctr.report_intent()"
   ]
  },
  {
   "cell_type": "code",
   "execution_count": null,
   "id": "33196185-0cb8-48f0-bbe1-12ac69a41a74",
   "metadata": {},
   "outputs": [],
   "source": []
  }
 ],
 "metadata": {
  "kernelspec": {
   "display_name": "Python 3 (ipykernel)",
   "language": "python",
   "name": "python3"
  },
  "language_info": {
   "codemirror_mode": {
    "name": "ipython",
    "version": 3
   },
   "file_extension": ".py",
   "mimetype": "text/x-python",
   "name": "python",
   "nbconvert_exporter": "python",
   "pygments_lexer": "ipython3",
   "version": "3.10.14"
  }
 },
 "nbformat": 4,
 "nbformat_minor": 5
}
