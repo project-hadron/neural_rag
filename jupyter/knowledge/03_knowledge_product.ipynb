{
 "cells": [
  {
   "cell_type": "code",
   "execution_count": 1,
   "id": "962e2eab-fef2-4393-8e03-836e7921a99d",
   "metadata": {},
   "outputs": [],
   "source": [
    "# saves you having to use print as all exposed variables are printed in the cell\n",
    "from IPython.core.interactiveshell import InteractiveShell\n",
    "InteractiveShell.ast_node_interactivity = \"all\""
   ]
  },
  {
   "cell_type": "code",
   "execution_count": 2,
   "id": "116bbfb0-cf0d-4946-a9ab-0430479d0e94",
   "metadata": {},
   "outputs": [],
   "source": [
    "# suppress warning message\n",
    "import warnings\n",
    "warnings.filterwarnings('ignore')"
   ]
  },
  {
   "cell_type": "code",
   "execution_count": 3,
   "id": "68bdaf3a-78fb-438b-9590-d4feb46ad151",
   "metadata": {},
   "outputs": [],
   "source": [
    "import os\n",
    "from nn_rag import Controller"
   ]
  },
  {
   "cell_type": "markdown",
   "id": "ab3d305a-ca36-42a0-831b-2f196bd489e3",
   "metadata": {},
   "source": [
    "### Milvus Vector Params\n",
    "\n",
    "    URI example\n",
    "        uri = \"milvus://host:port/database?collection=<name>&partition=<name>\"\n",
    "\n",
    "    params:\n",
    "        collection: The name of the collection\n",
    "        partition: The name of the document partition\n",
    "\n",
    "    Environment Hyperparams:\n",
    "        MILVUS_EMBEDDING_NAME\n",
    "        MILVUS_EMBEDDING_DEVICE\n",
    "        MILVUS_EMBEDDING_BATCH_SIZE\n",
    "        MILVUS_EMBEDDING_DIM\n",
    "        MILVUS_INDEX_CLUSTERS\n",
    "        MILVUS_INDEX_SIMILARITY_TYPE\n",
    "        MILVUS_QUERY_SEARCH_LIMIT\n",
    "        MILVUS_QUERY_NUM_SIMILARITY\n"
   ]
  },
  {
   "cell_type": "markdown",
   "id": "46761902-7106-4628-9b12-0ff133fe2041",
   "metadata": {},
   "source": [
    "### Set parameters as environment variables"
   ]
  },
  {
   "cell_type": "code",
   "execution_count": 4,
   "id": "52a63c1a-db81-4b74-83dc-0e84b9e5bb48",
   "metadata": {},
   "outputs": [],
   "source": [
    "# Remote recipie\n",
    "os.environ['HADRON_PM_REPO'] = 'https://raw.githubusercontent.com/project-hadron/neural_rag/main/jupyter/knowledge/hadron/stable/'\n",
    "\n",
    "# Data\n",
    "os.environ['HADRON_KNOWLEDGE_SOURCE_URI'] = 'https://www.europarl.europa.eu/doceo/document/TA-9-2024-0138_EN.pdf'\n",
    "os.environ['HADRON_KNOWLEDGE_EMBED_URI'] = 'milvus://localhost:19530/rai?collection=demo&eu_ai_act_2024'\n",
    "\n",
    "# Parameters\n",
    "os.environ['HADRON_KNOWLEDGE_EMBEDDING_NAME'] = 'all-mpnet-base-v2'\n",
    "os.environ['HADRON_KNOWLEDGE_CHUNK_SIZE'] = '500'\n",
    "\n",
    "# Vector Db\n",
    "os.environ['MILVUS_EMBEDDING_NAME'] = 'all-mpnet-base-v2'\n",
    "os.environ['MILVUS_EMBEDDING_DIM'] = '768'\n",
    "os.environ['MILVUS_EMBEDDING_DEVICE'] = 'cpu'\n",
    "os.environ['MILVUS_QUERY_SEARCH_LIMIT'] = '4'\n"
   ]
  },
  {
   "cell_type": "markdown",
   "id": "17997d56-64f5-4124-8a3d-0d3cc13c0d6b",
   "metadata": {},
   "source": [
    "### Controller"
   ]
  },
  {
   "cell_type": "code",
   "execution_count": 5,
   "id": "edc796f5-7f22-478a-857d-60f50565b590",
   "metadata": {},
   "outputs": [],
   "source": [
    "ctr = Controller.from_env()"
   ]
  },
  {
   "cell_type": "code",
   "execution_count": 6,
   "id": "de680ad9-b26f-4821-a146-5f60dc60218a",
   "metadata": {},
   "outputs": [],
   "source": [
    "ctr.run_controller()"
   ]
  },
  {
   "cell_type": "markdown",
   "id": "abe74a87-a6e7-4774-9286-29ae5cf11d93",
   "metadata": {},
   "source": [
    "-----------------\n",
    "-----------------"
   ]
  },
  {
   "cell_type": "markdown",
   "id": "b6fe53d5-397f-4d8d-b905-57eb27f7b7d8",
   "metadata": {},
   "source": [
    "### Query"
   ]
  },
  {
   "cell_type": "code",
   "execution_count": 14,
   "id": "0499ff13-2df9-4b38-9242-0b5f2c462cdc",
   "metadata": {},
   "outputs": [],
   "source": [
    "import textwrap\n",
    "\n",
    "def print_wrapped(text, wrap_length=80):\n",
    "    wrapped_text = textwrap.fill(text, wrap_length)\n",
    "    return wrapped_text"
   ]
  },
  {
   "cell_type": "code",
   "execution_count": 15,
   "id": "d7d5f1a9-9997-43c8-8bfa-b5b9e6320df0",
   "metadata": {},
   "outputs": [],
   "source": [
    "import random\n",
    "\n",
    "# Nutrition-style questions generated with GPT4\n",
    "gpt4_questions = [\n",
    "    'What are the main objectives of the Artificial Intelligence Act?',\n",
    "    'How does the Act define \"high-risk AI systems\"?',\n",
    "    'What are the key obligations for operators under this Act?',\n",
    "    'How does the Act address the protection of personal data?',\n",
    "    'What sectors does the Act specifically mention as benefiting from AI?',\n",
    "    'How does the Act ensure the free movement of AI-based goods and services within the EU?]',\n",
    "]\n",
    "\n",
    "query = random.choice(gpt4_questions)"
   ]
  },
  {
   "cell_type": "markdown",
   "id": "2c11da3e-cc99-497f-a3f0-703db243ff93",
   "metadata": {},
   "source": [
    "### Model answers\n",
    "\n",
    "#### What are the main objectives of the Artificial Intelligence Act?\n",
    "The main objectives are to lay down harmonized rules for the development, marketing, and use of AI systems in the EU, ensuring they are trustworthy, safe, and align with EU values, while also promoting innovation and the free movement of AI products and services.\n",
    "\n",
    "#### How does the Act define \"high-risk AI systems\"?\n",
    "High-risk AI systems are defined by their potential impact on health, safety, and fundamental rights. These include systems used in critical sectors such as law enforcement, employment, and essential services, where failure could cause significant harm.\n",
    "\n",
    "#### What are the key obligations for operators under this Act?\n",
    "Operators must ensure their AI systems comply with strict requirements for transparency, risk management, data governance, and human oversight. They are also required to maintain technical documentation and keep records to demonstrate compliance.\n",
    "\n",
    "#### How does the Act address the protection of personal data?\n",
    "The Act emphasizes that it does not override existing EU data protection laws, such as the GDPR. It ensures AI systems are designed and used in ways that protect personal data, and individuals retain all their rights under existing data protection regulations.\n",
    "\n",
    "#### What sectors does the Act specifically mention as benefiting from AI?\n",
    "The Act mentions sectors like healthcare, agriculture, education, transportation, public services, and environmental management as areas where AI can provide significant economic, societal, and environmental benefits.\n",
    "\n",
    "#### How does the Act ensure the free movement of AI-based goods and services within the EU?\n",
    "By establishing uniform rules and standards for AI systems, the Act prevents individual Member States from imposing their own regulations, thus facilitating the seamless cross-border movement and market access of AI products and services throughout the EU.\n"
   ]
  },
  {
   "cell_type": "code",
   "execution_count": 16,
   "id": "67a62df2-f098-42ea-a8dd-744d2679eeaa",
   "metadata": {},
   "outputs": [],
   "source": [
    "from nn_rag import Knowledge\n",
    "\n",
    "kn = Knowledge.from_env('base')"
   ]
  },
  {
   "cell_type": "code",
   "execution_count": 18,
   "id": "6d1aaaab-ab57-47a2-884a-b382347bb41b",
   "metadata": {},
   "outputs": [
    {
     "name": "stdout",
     "output_type": "stream",
     "text": [
      "Query: What are the main objectives of the Artificial Intelligence Act?\n",
      "\n",
      "Id: general_6.as_py()\n",
      "Distance: 0.6535344123840332\n",
      "Answer: (Artificial Intelligence Act) (Text with EEA relevance) THE EUROPEAN PARLIAMENT\n",
      "AND THE COUNCIL OF THE EUROPEAN UNION, Having regard to the Treaty on the\n",
      "Functioning of the European Union, and in particular Articles 16 and 114\n",
      "thereof, Having regard to the proposal from the European Commission, After\n",
      "transmission of the draft legislative act to the national parliaments, Having\n",
      "regard to the opinion of the European Economic and Social Committee1, Having\n",
      "regard to the opinion of the European Central Bank2, Having regard to the\n",
      "opinion of the Com\n",
      "\n",
      "Id: general_156.as_py()\n",
      "Distance: 0.6974389553070068\n",
      "Answer: d be empowered to adopt, via delegated acts, to take into account the rapid pace\n",
      "of technological development, as well as the potential changes in the use of AI\n",
      "systems.  (53) It is also important to clarify that there may be specific cases\n",
      "in which AI systems referred to pre-defined areas specified in this Regulation\n",
      "do not lead to a significant risk of harm to the legal interests protected under\n",
      "those areas because they do not materially influence the decision-making or do\n",
      "not harm those interests substantially. For the purposes of this Regul\n",
      "\n",
      "Id: general_888.as_py()\n",
      "Distance: 0.6992852687835693\n",
      "Answer: ing implications in terms of accountability; (vii) on the potential need for\n",
      "amendment to Annex III in accordance with Article 7, and on the potential need\n",
      "for possible revision of Article 5 pursuant to Article 112, taking into account\n",
      "relevant available evidence and the latest developments in technology; (f)\n",
      "support the Commission in promoting AI literacy, public awareness and\n",
      "understanding of the benefits, risks, safeguards and rights and obligations in\n",
      "relation to the use of AI systems; (g) facilitate the development of common\n",
      "criteria and a\n",
      "\n",
      "Id: general_17.as_py()\n",
      "Distance: 0.6999227404594421\n",
      "Answer: and, pursuant to Article 6 TEU, the Charter. As a pre-requisite, AI should be a\n",
      "human-centric technology. It should serve as a tool for people, with the\n",
      "ultimate aim of increasing human well-being. ( 7) In order to ensure a\n",
      "consistent and high level of protection of public interests as regards health,\n",
      "safety and fundamental rights, common rules for high-risk AI systems should be\n",
      "established. Those rules should be consistent with the Charter, non-\n",
      "discriminatory and in line with the Union’s international trade commitments.\n",
      "They should also take\n",
      "\n"
     ]
    }
   ],
   "source": [
    "print(f\"Query: {query}\\n\")\n",
    "\n",
    "answer = kn.load_canonical('query', query=query)\n",
    "\n",
    "for i in range(answer.num_rows):\n",
    "    s = answer.slice(i,1)\n",
    "    print(f\"Id: {s.column('id')[0]}.as_py()\")\n",
    "    print(f\"Distance: {s.column('distance')[0].as_py()}\")\n",
    "    print(f\"Answer: {print_wrapped(s.column('source')[0].as_py())}\\n\")\n",
    "\n"
   ]
  },
  {
   "cell_type": "code",
   "execution_count": null,
   "id": "2b7af52b-bdb8-484d-b614-a51a4adf4c7c",
   "metadata": {},
   "outputs": [],
   "source": []
  },
  {
   "cell_type": "code",
   "execution_count": null,
   "id": "4097cd21-b4bc-4cb8-8663-9d08562e4e45",
   "metadata": {},
   "outputs": [],
   "source": []
  }
 ],
 "metadata": {
  "kernelspec": {
   "display_name": "Python 3 (ipykernel)",
   "language": "python",
   "name": "python3"
  },
  "language_info": {
   "codemirror_mode": {
    "name": "ipython",
    "version": 3
   },
   "file_extension": ".py",
   "mimetype": "text/x-python",
   "name": "python",
   "nbconvert_exporter": "python",
   "pygments_lexer": "ipython3",
   "version": "3.10.14"
  }
 },
 "nbformat": 4,
 "nbformat_minor": 5
}
