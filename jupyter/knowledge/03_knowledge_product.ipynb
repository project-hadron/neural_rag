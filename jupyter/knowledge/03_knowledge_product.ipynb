{
 "cells": [
  {
   "cell_type": "code",
   "execution_count": 1,
   "id": "962e2eab-fef2-4393-8e03-836e7921a99d",
   "metadata": {},
   "outputs": [],
   "source": [
    "# saves you having to use print as all exposed variables are printed in the cell\n",
    "from IPython.core.interactiveshell import InteractiveShell\n",
    "InteractiveShell.ast_node_interactivity = \"all\""
   ]
  },
  {
   "cell_type": "code",
   "execution_count": 2,
   "id": "116bbfb0-cf0d-4946-a9ab-0430479d0e94",
   "metadata": {},
   "outputs": [],
   "source": [
    "# suppress warning message\n",
    "import warnings\n",
    "warnings.filterwarnings('ignore')"
   ]
  },
  {
   "cell_type": "code",
   "execution_count": 3,
   "id": "68bdaf3a-78fb-438b-9590-d4feb46ad151",
   "metadata": {},
   "outputs": [],
   "source": [
    "import os\n",
    "from nn_rag import Controller"
   ]
  },
  {
   "cell_type": "markdown",
   "id": "ab3d305a-ca36-42a0-831b-2f196bd489e3",
   "metadata": {},
   "source": [
    "### Vector Params\n",
    "    MILVUS_DOC_REF\n",
    "    MILVUS_EMBEDDING_NAME\n",
    "    MILVUS_EMBEDDING_DEVICE\n",
    "    MILVUS_EMBEDDING_BATCH_SIZE\n",
    "    MILVUS_EMBEDDING_DIM\n",
    "    MILVUS_INDEX_CLUSTERS\n",
    "    MILVUS_INDEX_SIMILARITY_TYPE\n",
    "    MILVUS_QUERY_SEARCH_LIMIT\n",
    "    MILVUS_QUERY_NUM_SIMILARITY\n"
   ]
  },
  {
   "cell_type": "markdown",
   "id": "46761902-7106-4628-9b12-0ff133fe2041",
   "metadata": {},
   "source": [
    "### Set parameters as environment variables"
   ]
  },
  {
   "cell_type": "code",
   "execution_count": 4,
   "id": "52a63c1a-db81-4b74-83dc-0e84b9e5bb48",
   "metadata": {},
   "outputs": [],
   "source": [
    "# Remote recipie\n",
    "os.environ['HADRON_PM_REPO'] = 'https://raw.githubusercontent.com/project-hadron/neural_rag/main/jupyter/knowledge/hadron/stable/'\n",
    "\n",
    "# Data\n",
    "os.environ['HADRON_KNOWLEDGE_SOURCE_URI'] = 'https://www.europarl.europa.eu/doceo/document/TA-9-2024-0138_EN.pdf'\n",
    "os.environ['HADRON_KNOWLEDGE_EMBED_URI'] = 'milvus://localhost:19530/rai'\n",
    "os.environ['HADRON_KNOWLEDGE_QUERY_URI'] = 'milvus://localhost:19530/rai'\n",
    "\n",
    "# Parameters\n",
    "os.environ['HADRON_SENTENCE_SCORE_NAME'] = 'all-mpnet-base-v2'\n",
    "os.environ['HADRON_SENTENCE_CHUNK_SIZE'] = '500'\n",
    "\n",
    "# Vector Db\n",
    "os.environ['MILVUS_DOC_REF'] = 'eu_ai_act'\n",
    "os.environ['MILVUS_EMBEDDING_DEVICE'] = 'cpu'\n"
   ]
  },
  {
   "cell_type": "markdown",
   "id": "17997d56-64f5-4124-8a3d-0d3cc13c0d6b",
   "metadata": {},
   "source": [
    "### Controller"
   ]
  },
  {
   "cell_type": "code",
   "execution_count": 5,
   "id": "edc796f5-7f22-478a-857d-60f50565b590",
   "metadata": {},
   "outputs": [],
   "source": [
    "ctr = Controller.from_env()"
   ]
  },
  {
   "cell_type": "code",
   "execution_count": 6,
   "id": "de680ad9-b26f-4821-a146-5f60dc60218a",
   "metadata": {},
   "outputs": [],
   "source": [
    "ctr.run_controller()"
   ]
  },
  {
   "cell_type": "markdown",
   "id": "abe74a87-a6e7-4774-9286-29ae5cf11d93",
   "metadata": {},
   "source": [
    "-----------------\n",
    "-----------------"
   ]
  },
  {
   "cell_type": "markdown",
   "id": "8b273b5f-77d4-42ab-9bd4-dc95f3938c94",
   "metadata": {},
   "source": [
    "### Query Score"
   ]
  },
  {
   "cell_type": "code",
   "execution_count": 7,
   "id": "692c3a50-328c-4643-bfdb-2081af0c0036",
   "metadata": {},
   "outputs": [],
   "source": [
    "query = 'The management of infrastructure'"
   ]
  },
  {
   "cell_type": "code",
   "execution_count": 8,
   "id": "8265fea8-fc38-434b-96ab-e33add4608bd",
   "metadata": {},
   "outputs": [],
   "source": [
    "from nn_rag import Knowledge"
   ]
  },
  {
   "cell_type": "code",
   "execution_count": 9,
   "id": "92cb81ec-fe85-49e2-b556-74d2cb0827d5",
   "metadata": {},
   "outputs": [
    {
     "data": {
      "text/plain": [
       "pyarrow.Table\n",
       "id: string\n",
       "distance: float\n",
       "source: string\n",
       "----\n",
       "id: [[\"eu_ai_act_2559\",\"eu_ai_act_1853\",\"eu_ai_act_1194\",\"eu_ai_act_1005\",\"eu_ai_act_322\",\"eu_ai_act_325\",\"eu_ai_act_327\",\"eu_ai_act_2016\"]]\n",
       "distance: [[0.76481575,1.0458388,1.12486,1.1372185,1.1510638,1.1643323,1.1706758,1.1978328]]\n",
       "source: [[\"▌Critical infrastructure: (a) AI systems intended to be used as safety components in the management and operation of critical digital infrastructure, road traffic, or in the supply of water, gas, heating or electricity.\",\"ntion, control and treatment and improvement of health care systems; (ii) a high level of protection and improvement of the quality of the environment, protection of biodiversity, protection against pollution, green transition measures, climate change mitigation and adaptation measures; \n",
       "(iii) energy sustainability; (iv) safety and resilience of transport systems and mobility, critical infrastructure and networks; (v) efficiency and quality of public administration and public services; (b) the d\",\"Technical and organisational measures shall be taken towards this regard.\",\"tive is located or established; or (iii) the deployer is established, when the infringement is committed by the deployer; (b) has caused, causes or is likely to cause harm to the collective interests of individuals and has common features, including the same unlawful practice or the same interest being infringed, and is occurring concurrently, committed by the same operator, in at least three Member States; \n",
       "(62) ‘critical infrastructure’ means critical infrastructure as defined in Article 2, po\",\"(55) As regards the management and operation of critical infrastructure, it is appropriate to classify as high-risk the AI systems intended to be used as safety components in the management and operation of critical digital infrastructure as listed in Annex I, point (8),to Directive (EU) 2022/2557, road traffic and the supply of water, gas, heating and electricity, since their failure or malfunctioning may put at risk the life and health of persons at large scale and lead to appreciable disrupt\",\"The failure or malfunctioning of such components might directly lead to risks to the physical integrity of critical infrastructure and thus to risks to health and safety of persons and property.\",\"Examples of safety components of such critical infrastructure may include systems for monitoring water pressure or fire alarm controlling systems in cloud computing centres.\",\"Member States shall ensure that their national competent authorities are provided with adequate technical, financial and human resources, and with infrastructure to fulfil their tasks effectively under this Regulation.\"]]"
      ]
     },
     "execution_count": 9,
     "metadata": {},
     "output_type": "execute_result"
    }
   ],
   "source": [
    "kn = Knowledge.from_env('demo')\n",
    "kn.load_canonical('query', query=query)"
   ]
  }
 ],
 "metadata": {
  "kernelspec": {
   "display_name": "Python 3 (ipykernel)",
   "language": "python",
   "name": "python3"
  },
  "language_info": {
   "codemirror_mode": {
    "name": "ipython",
    "version": 3
   },
   "file_extension": ".py",
   "mimetype": "text/x-python",
   "name": "python",
   "nbconvert_exporter": "python",
   "pygments_lexer": "ipython3",
   "version": "3.10.14"
  }
 },
 "nbformat": 4,
 "nbformat_minor": 5
}
