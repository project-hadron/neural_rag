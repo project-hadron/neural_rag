{
 "cells": [
  {
   "cell_type": "code",
   "execution_count": 1,
   "id": "962e2eab-fef2-4393-8e03-836e7921a99d",
   "metadata": {},
   "outputs": [],
   "source": [
    "# saves you having to use print as all exposed variables are printed in the cell\n",
    "from IPython.core.interactiveshell import InteractiveShell\n",
    "InteractiveShell.ast_node_interactivity = \"all\""
   ]
  },
  {
   "cell_type": "code",
   "execution_count": 2,
   "id": "68bdaf3a-78fb-438b-9590-d4feb46ad151",
   "metadata": {},
   "outputs": [],
   "source": [
    "import os\n",
    "from nn_rag import Controller"
   ]
  },
  {
   "cell_type": "markdown",
   "id": "46761902-7106-4628-9b12-0ff133fe2041",
   "metadata": {},
   "source": [
    "### Set parameters as environment variables"
   ]
  },
  {
   "cell_type": "code",
   "execution_count": 3,
   "id": "52a63c1a-db81-4b74-83dc-0e84b9e5bb48",
   "metadata": {},
   "outputs": [],
   "source": [
    "# Remote recipie\n",
    "os.environ['HADRON_PM_REPO'] = 'https://raw.githubusercontent.com/project-hadron/neural_rag/main/jupyter/knowledge/hadron/stable/'\n",
    "\n",
    "# Data\n",
    "os.environ['HADRON_KNOWLEDGE_SOURCE_URI'] = 'https://www.europarl.europa.eu/doceo/document/TA-9-2024-0138_EN.pdf'\n",
    "os.environ['HADRON_KNOWLEDGE_PERSIST_URI'] = './hadron/data/eu_ai_act_2024.parquet'\n",
    "\n",
    "# Parameters\n",
    "os.environ['HADRON_NUM_SENTENCE_CHUNK_SIZE'] = '10'\n",
    "os.environ['HADRON_EMBEDDING_BATCH_SIZE'] = '32'\n",
    "os.environ['HADRON_EMBEDDING_MODEL_NAME'] = 'all-mpnet-base-v2'\n",
    "os.environ['HADRON_EMBEDDING_DEVICE'] = 'cpu'"
   ]
  },
  {
   "cell_type": "markdown",
   "id": "17997d56-64f5-4124-8a3d-0d3cc13c0d6b",
   "metadata": {},
   "source": [
    "### Controller"
   ]
  },
  {
   "cell_type": "code",
   "execution_count": 4,
   "id": "edc796f5-7f22-478a-857d-60f50565b590",
   "metadata": {},
   "outputs": [],
   "source": [
    "ctr = Controller.from_env()"
   ]
  },
  {
   "cell_type": "code",
   "execution_count": 5,
   "id": "de680ad9-b26f-4821-a146-5f60dc60218a",
   "metadata": {},
   "outputs": [],
   "source": [
    "ctr.run_controller()"
   ]
  },
  {
   "cell_type": "markdown",
   "id": "abe74a87-a6e7-4774-9286-29ae5cf11d93",
   "metadata": {},
   "source": [
    "-----------------\n",
    "-----------------"
   ]
  },
  {
   "cell_type": "markdown",
   "id": "8b273b5f-77d4-42ab-9bd4-dc95f3938c94",
   "metadata": {},
   "source": [
    "### Query Score"
   ]
  },
  {
   "cell_type": "code",
   "execution_count": 6,
   "id": "692c3a50-328c-4643-bfdb-2081af0c0036",
   "metadata": {},
   "outputs": [],
   "source": [
    "query = 'The management of infrastructure'"
   ]
  },
  {
   "cell_type": "code",
   "execution_count": 7,
   "id": "8265fea8-fc38-434b-96ab-e33add4608bd",
   "metadata": {},
   "outputs": [],
   "source": [
    "from nn_rag import Knowledge"
   ]
  },
  {
   "cell_type": "code",
   "execution_count": 8,
   "id": "27186858-c343-4aef-a24f-f3a76e0cb021",
   "metadata": {},
   "outputs": [],
   "source": [
    "# this uses the remote recipe\n",
    "kn = Knowledge.from_env('demo')"
   ]
  },
  {
   "cell_type": "code",
   "execution_count": 9,
   "id": "872aff6f-4787-4617-8ade-d46703b0e77a",
   "metadata": {},
   "outputs": [],
   "source": [
    "tensor = kn.load_persist_canonical()"
   ]
  },
  {
   "cell_type": "code",
   "execution_count": 10,
   "id": "cca8789c-8c60-4c4c-a269-3f599205e53c",
   "metadata": {},
   "outputs": [],
   "source": [
    "scores, indices = kn.tools.score_embedding(tensor, query=query, topk=5,\n",
    "                                          embedding_name='all-mpnet-base-v2', device='cpu')"
   ]
  },
  {
   "cell_type": "code",
   "execution_count": 11,
   "id": "33196185-0cb8-48f0-bbe1-12ac69a41a74",
   "metadata": {},
   "outputs": [
    {
     "data": {
      "text/plain": [
       "tensor([0.3334, 0.3173, 0.3114, 0.3080, 0.2849])"
      ]
     },
     "execution_count": 11,
     "metadata": {},
     "output_type": "execute_result"
    },
    {
     "data": {
      "text/plain": [
       "tensor([ 49,  44, 170, 235,  30])"
      ]
     },
     "execution_count": 11,
     "metadata": {},
     "output_type": "execute_result"
    }
   ],
   "source": [
    "scores\n",
    "indices"
   ]
  },
  {
   "cell_type": "code",
   "execution_count": null,
   "id": "92cb81ec-fe85-49e2-b556-74d2cb0827d5",
   "metadata": {},
   "outputs": [],
   "source": []
  }
 ],
 "metadata": {
  "kernelspec": {
   "display_name": "Python 3 (ipykernel)",
   "language": "python",
   "name": "python3"
  },
  "language_info": {
   "codemirror_mode": {
    "name": "ipython",
    "version": 3
   },
   "file_extension": ".py",
   "mimetype": "text/x-python",
   "name": "python",
   "nbconvert_exporter": "python",
   "pygments_lexer": "ipython3",
   "version": "3.10.14"
  }
 },
 "nbformat": 4,
 "nbformat_minor": 5
}
