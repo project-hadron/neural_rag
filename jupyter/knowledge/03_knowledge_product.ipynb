{
 "cells": [
  {
   "cell_type": "code",
   "execution_count": 1,
   "id": "962e2eab-fef2-4393-8e03-836e7921a99d",
   "metadata": {},
   "outputs": [],
   "source": [
    "# saves you having to use print as all exposed variables are printed in the cell\n",
    "from IPython.core.interactiveshell import InteractiveShell\n",
    "InteractiveShell.ast_node_interactivity = \"all\""
   ]
  },
  {
   "cell_type": "code",
   "execution_count": 2,
   "id": "68bdaf3a-78fb-438b-9590-d4feb46ad151",
   "metadata": {},
   "outputs": [],
   "source": [
    "import os\n",
    "from nn_rag import Controller"
   ]
  },
  {
   "cell_type": "markdown",
   "id": "46761902-7106-4628-9b12-0ff133fe2041",
   "metadata": {},
   "source": [
    "### Set parameters as environment variables"
   ]
  },
  {
   "cell_type": "code",
   "execution_count": 6,
   "id": "52a63c1a-db81-4b74-83dc-0e84b9e5bb48",
   "metadata": {},
   "outputs": [],
   "source": [
    "# Remote recipie\n",
    "repo = 'https://raw.githubusercontent.com/project-hadron/neural_rag/main/jupyter/knowledge/hadron/contracts/'\n",
    "\n",
    "# Data\n",
    "os.environ['HADRON_KNOWLEDGE_SOURCE_URI'] = 'https://www.europarl.europa.eu/doceo/document/TA-9-2024-0138_EN.pdf'\n",
    "os.environ['HADRON_KNOWLEDGE_PERSIST_URI'] = './hadron/data/eu_ai_act_2024.parquet'\n",
    "\n",
    "# Parameters\n",
    "os.environ['HADRON_NUM_SENTENCE_CHUNK_SIZE'] = '10'\n",
    "os.environ['HADRON_EMBEDDING_BATCH_SIZE'] = '32'\n",
    "os.environ['HADRON_EMBEDDING_MODEL_NAME'] = 'all-mpnet-base-v2'\n",
    "os.environ['HADRON_EMBEDDING_DEVICE'] = 'cpu'"
   ]
  },
  {
   "cell_type": "markdown",
   "id": "17997d56-64f5-4124-8a3d-0d3cc13c0d6b",
   "metadata": {},
   "source": [
    "### Controller"
   ]
  },
  {
   "cell_type": "code",
   "execution_count": 7,
   "id": "edc796f5-7f22-478a-857d-60f50565b590",
   "metadata": {},
   "outputs": [
    {
     "ename": "FileNotFoundError",
     "evalue": "The property manager domain contact 'https://raw.githubusercontent.com/project-hadron/neural_rag/main/jupyter/knowledge/hadron/contracts/hadron_pm_controller_master.parquet' could not be found. If this is a new contract, set 'has_contract' to False",
     "output_type": "error",
     "traceback": [
      "\u001b[0;31m---------------------------------------------------------------------------\u001b[0m",
      "\u001b[0;31mFileNotFoundError\u001b[0m                         Traceback (most recent call last)",
      "Cell \u001b[0;32mIn[7], line 1\u001b[0m\n\u001b[0;32m----> 1\u001b[0m ctr \u001b[38;5;241m=\u001b[39m \u001b[43mController\u001b[49m\u001b[38;5;241;43m.\u001b[39;49m\u001b[43mfrom_env\u001b[49m\u001b[43m(\u001b[49m\u001b[43muri_pm_repo\u001b[49m\u001b[38;5;241;43m=\u001b[39;49m\u001b[43mrepo\u001b[49m\u001b[43m)\u001b[49m\n",
      "File \u001b[0;32m/opt/anaconda3/envs/neural/lib/python3.10/site-packages/nn_rag/components/controller.py:135\u001b[0m, in \u001b[0;36mController.from_env\u001b[0;34m(cls, task_name, default_save, reset_templates, align_connectors, default_save_intent, default_intent_level, order_next_available, default_replace_intent, uri_pm_repo, has_contract, **kwargs)\u001b[0m\n\u001b[1;32m    107\u001b[0m \u001b[38;5;250m\u001b[39m\u001b[38;5;124;03m\"\"\" Class Factory Method that builds the connector handlers taking the property contract path from\u001b[39;00m\n\u001b[1;32m    108\u001b[0m \u001b[38;5;124;03mthe os.environ['HADRON_PM_PATH'] or, if not found, uses the system default,\u001b[39;00m\n\u001b[1;32m    109\u001b[0m \u001b[38;5;124;03m            for Linux and IOS '/tmp/components/contracts\u001b[39;00m\n\u001b[0;32m   (...)\u001b[0m\n\u001b[1;32m    132\u001b[0m \u001b[38;5;124;03m :return: the initialised class instance\u001b[39;00m\n\u001b[1;32m    133\u001b[0m \u001b[38;5;124;03m \"\"\"\u001b[39;00m\n\u001b[1;32m    134\u001b[0m task_name \u001b[38;5;241m=\u001b[39m task_name \u001b[38;5;28;01mif\u001b[39;00m \u001b[38;5;28misinstance\u001b[39m(task_name, \u001b[38;5;28mstr\u001b[39m) \u001b[38;5;28;01melse\u001b[39;00m \u001b[38;5;124m'\u001b[39m\u001b[38;5;124mmaster\u001b[39m\u001b[38;5;124m'\u001b[39m\n\u001b[0;32m--> 135\u001b[0m \u001b[38;5;28;01mreturn\u001b[39;00m \u001b[38;5;28;43msuper\u001b[39;49m\u001b[43m(\u001b[49m\u001b[43m)\u001b[49m\u001b[38;5;241;43m.\u001b[39;49m\u001b[43mfrom_env\u001b[49m\u001b[43m(\u001b[49m\u001b[43mtask_name\u001b[49m\u001b[38;5;241;43m=\u001b[39;49m\u001b[43mtask_name\u001b[49m\u001b[43m,\u001b[49m\u001b[43m \u001b[49m\u001b[43mdefault_save\u001b[49m\u001b[38;5;241;43m=\u001b[39;49m\u001b[43mdefault_save\u001b[49m\u001b[43m,\u001b[49m\u001b[43m \u001b[49m\u001b[43mreset_templates\u001b[49m\u001b[38;5;241;43m=\u001b[39;49m\u001b[43mreset_templates\u001b[49m\u001b[43m,\u001b[49m\n\u001b[1;32m    136\u001b[0m \u001b[43m                        \u001b[49m\u001b[43malign_connectors\u001b[49m\u001b[38;5;241;43m=\u001b[39;49m\u001b[43malign_connectors\u001b[49m\u001b[43m,\u001b[49m\u001b[43m \u001b[49m\u001b[43mdefault_save_intent\u001b[49m\u001b[38;5;241;43m=\u001b[39;49m\u001b[43mdefault_save_intent\u001b[49m\u001b[43m,\u001b[49m\n\u001b[1;32m    137\u001b[0m \u001b[43m                        \u001b[49m\u001b[43mdefault_intent_level\u001b[49m\u001b[38;5;241;43m=\u001b[39;49m\u001b[43mdefault_intent_level\u001b[49m\u001b[43m,\u001b[49m\u001b[43m \u001b[49m\u001b[43morder_next_available\u001b[49m\u001b[38;5;241;43m=\u001b[39;49m\u001b[43morder_next_available\u001b[49m\u001b[43m,\u001b[49m\n\u001b[1;32m    138\u001b[0m \u001b[43m                        \u001b[49m\u001b[43mdefault_replace_intent\u001b[49m\u001b[38;5;241;43m=\u001b[39;49m\u001b[43mdefault_replace_intent\u001b[49m\u001b[43m,\u001b[49m\u001b[43m \u001b[49m\u001b[43muri_pm_repo\u001b[49m\u001b[38;5;241;43m=\u001b[39;49m\u001b[43muri_pm_repo\u001b[49m\u001b[43m,\u001b[49m\n\u001b[1;32m    139\u001b[0m \u001b[43m                        \u001b[49m\u001b[43mhas_contract\u001b[49m\u001b[38;5;241;43m=\u001b[39;49m\u001b[43mhas_contract\u001b[49m\u001b[43m,\u001b[49m\u001b[43m \u001b[49m\u001b[38;5;241;43m*\u001b[39;49m\u001b[38;5;241;43m*\u001b[39;49m\u001b[43mkwargs\u001b[49m\u001b[43m)\u001b[49m\n",
      "File \u001b[0;32m/opt/anaconda3/envs/neural/lib/python3.10/site-packages/ds_core/components/abstract_component.py:312\u001b[0m, in \u001b[0;36mAbstractComponent.from_env\u001b[0;34m(cls, task_name, default_save, reset_templates, align_connectors, default_save_intent, default_intent_level, order_next_available, default_replace_intent, uri_pm_repo, has_contract, **kwargs)\u001b[0m\n\u001b[1;32m    310\u001b[0m pm_handler \u001b[38;5;241m=\u001b[39m os\u001b[38;5;241m.\u001b[39menviron\u001b[38;5;241m.\u001b[39mget(\u001b[38;5;124m'\u001b[39m\u001b[38;5;124mHADRON_PM_HANDLER\u001b[39m\u001b[38;5;124m'\u001b[39m, \u001b[38;5;28;01mNone\u001b[39;00m)\n\u001b[1;32m    311\u001b[0m pm_kwargs \u001b[38;5;241m=\u001b[39m kwargs \u001b[38;5;28;01mif\u001b[39;00m \u001b[38;5;28misinstance\u001b[39m(kwargs, \u001b[38;5;28mdict\u001b[39m) \u001b[38;5;129;01mand\u001b[39;00m \u001b[38;5;28mlen\u001b[39m(kwargs) \u001b[38;5;241m>\u001b[39m \u001b[38;5;241m0\u001b[39m \u001b[38;5;28;01melse\u001b[39;00m \u001b[38;5;28;01mNone\u001b[39;00m\n\u001b[0;32m--> 312\u001b[0m \u001b[38;5;28;01mreturn\u001b[39;00m \u001b[38;5;28;43mcls\u001b[39;49m\u001b[38;5;241;43m.\u001b[39;49m\u001b[43mfrom_uri\u001b[49m\u001b[43m(\u001b[49m\u001b[43mtask_name\u001b[49m\u001b[38;5;241;43m=\u001b[39;49m\u001b[43mtask_name\u001b[49m\u001b[43m,\u001b[49m\u001b[43m \u001b[49m\u001b[43muri_pm_path\u001b[49m\u001b[38;5;241;43m=\u001b[39;49m\u001b[43mpm_uri\u001b[49m\u001b[43m,\u001b[49m\u001b[43m \u001b[49m\u001b[43muri_pm_repo\u001b[49m\u001b[38;5;241;43m=\u001b[39;49m\u001b[43mpm_repo\u001b[49m\u001b[43m,\u001b[49m\u001b[43m \u001b[49m\u001b[43mcreator\u001b[49m\u001b[38;5;241;43m=\u001b[39;49m\u001b[43mcreator\u001b[49m\u001b[43m,\u001b[49m\n\u001b[1;32m    313\u001b[0m \u001b[43m                    \u001b[49m\u001b[43mhas_contract\u001b[49m\u001b[38;5;241;43m=\u001b[39;49m\u001b[43mhas_contract\u001b[49m\u001b[43m,\u001b[49m\u001b[43m \u001b[49m\u001b[43mpm_file_type\u001b[49m\u001b[38;5;241;43m=\u001b[39;49m\u001b[43mpm_file_type\u001b[49m\u001b[43m,\u001b[49m\u001b[43m \u001b[49m\u001b[43mpm_module\u001b[49m\u001b[38;5;241;43m=\u001b[39;49m\u001b[43mpm_module\u001b[49m\u001b[43m,\u001b[49m\n\u001b[1;32m    314\u001b[0m \u001b[43m                    \u001b[49m\u001b[43mpm_handler\u001b[49m\u001b[38;5;241;43m=\u001b[39;49m\u001b[43mpm_handler\u001b[49m\u001b[43m,\u001b[49m\u001b[43m \u001b[49m\u001b[43mpm_kwargs\u001b[49m\u001b[38;5;241;43m=\u001b[39;49m\u001b[43mpm_kwargs\u001b[49m\u001b[43m,\u001b[49m\u001b[43m \u001b[49m\u001b[43mdefault_save\u001b[49m\u001b[38;5;241;43m=\u001b[39;49m\u001b[43mdefault_save\u001b[49m\u001b[43m,\u001b[49m\n\u001b[1;32m    315\u001b[0m \u001b[43m                    \u001b[49m\u001b[43mreset_templates\u001b[49m\u001b[38;5;241;43m=\u001b[39;49m\u001b[43mreset_templates\u001b[49m\u001b[43m,\u001b[49m\u001b[43m \u001b[49m\u001b[43malign_connectors\u001b[49m\u001b[38;5;241;43m=\u001b[39;49m\u001b[43malign_connectors\u001b[49m\u001b[43m,\u001b[49m\n\u001b[1;32m    316\u001b[0m \u001b[43m                    \u001b[49m\u001b[43mdefault_save_intent\u001b[49m\u001b[38;5;241;43m=\u001b[39;49m\u001b[43mdefault_save_intent\u001b[49m\u001b[43m,\u001b[49m\u001b[43m \u001b[49m\u001b[43mdefault_intent_level\u001b[49m\u001b[38;5;241;43m=\u001b[39;49m\u001b[43mdefault_intent_level\u001b[49m\u001b[43m,\u001b[49m\n\u001b[1;32m    317\u001b[0m \u001b[43m                    \u001b[49m\u001b[43morder_next_available\u001b[49m\u001b[38;5;241;43m=\u001b[39;49m\u001b[43morder_next_available\u001b[49m\u001b[43m,\u001b[49m\u001b[43m \u001b[49m\u001b[43mdefault_replace_intent\u001b[49m\u001b[38;5;241;43m=\u001b[39;49m\u001b[43mdefault_replace_intent\u001b[49m\u001b[43m)\u001b[49m\n",
      "File \u001b[0;32m/opt/anaconda3/envs/neural/lib/python3.10/site-packages/nn_rag/components/controller.py:94\u001b[0m, in \u001b[0;36mController.from_uri\u001b[0;34m(cls, task_name, uri_pm_path, creator, uri_pm_repo, pm_file_type, pm_module, pm_handler, pm_kwargs, default_save, reset_templates, template_path, template_module, template_source_handler, template_persist_handler, align_connectors, default_save_intent, default_intent_level, order_next_available, default_replace_intent, has_contract)\u001b[0m\n\u001b[1;32m     89\u001b[0m _pm \u001b[38;5;241m=\u001b[39m ControllerPropertyManager(task_name\u001b[38;5;241m=\u001b[39mtask_name, creator\u001b[38;5;241m=\u001b[39mcreator)\n\u001b[1;32m     90\u001b[0m _intent_model \u001b[38;5;241m=\u001b[39m ControllerIntentModel(property_manager\u001b[38;5;241m=\u001b[39m_pm, default_save_intent\u001b[38;5;241m=\u001b[39mdefault_save_intent,\n\u001b[1;32m     91\u001b[0m                                       default_intent_level\u001b[38;5;241m=\u001b[39mdefault_intent_level,\n\u001b[1;32m     92\u001b[0m                                       order_next_available\u001b[38;5;241m=\u001b[39morder_next_available,\n\u001b[1;32m     93\u001b[0m                                       default_replace_intent\u001b[38;5;241m=\u001b[39mdefault_replace_intent)\n\u001b[0;32m---> 94\u001b[0m \u001b[38;5;28;43msuper\u001b[39;49m\u001b[43m(\u001b[49m\u001b[43m)\u001b[49m\u001b[38;5;241;43m.\u001b[39;49m\u001b[43m_init_properties\u001b[49m\u001b[43m(\u001b[49m\u001b[43mproperty_manager\u001b[49m\u001b[38;5;241;43m=\u001b[39;49m\u001b[43m_pm\u001b[49m\u001b[43m,\u001b[49m\u001b[43m \u001b[49m\u001b[43muri_pm_path\u001b[49m\u001b[38;5;241;43m=\u001b[39;49m\u001b[43muri_pm_path\u001b[49m\u001b[43m,\u001b[49m\u001b[43m \u001b[49m\u001b[43mdefault_save\u001b[49m\u001b[38;5;241;43m=\u001b[39;49m\u001b[43mdefault_save\u001b[49m\u001b[43m,\u001b[49m\n\u001b[1;32m     95\u001b[0m \u001b[43m                         \u001b[49m\u001b[43muri_pm_repo\u001b[49m\u001b[38;5;241;43m=\u001b[39;49m\u001b[43muri_pm_repo\u001b[49m\u001b[43m,\u001b[49m\u001b[43m \u001b[49m\u001b[43mpm_file_type\u001b[49m\u001b[38;5;241;43m=\u001b[39;49m\u001b[43mpm_file_type\u001b[49m\u001b[43m,\u001b[49m\u001b[43m \u001b[49m\u001b[43mpm_module\u001b[49m\u001b[38;5;241;43m=\u001b[39;49m\u001b[43mpm_module\u001b[49m\u001b[43m,\u001b[49m\n\u001b[1;32m     96\u001b[0m \u001b[43m                         \u001b[49m\u001b[43mpm_handler\u001b[49m\u001b[38;5;241;43m=\u001b[39;49m\u001b[43mpm_handler\u001b[49m\u001b[43m,\u001b[49m\u001b[43m \u001b[49m\u001b[43mpm_kwargs\u001b[49m\u001b[38;5;241;43m=\u001b[39;49m\u001b[43mpm_kwargs\u001b[49m\u001b[43m,\u001b[49m\u001b[43m \u001b[49m\u001b[43mhas_contract\u001b[49m\u001b[38;5;241;43m=\u001b[39;49m\u001b[43mhas_contract\u001b[49m\u001b[43m)\u001b[49m\n\u001b[1;32m     97\u001b[0m \u001b[38;5;28;01mreturn\u001b[39;00m \u001b[38;5;28mcls\u001b[39m(property_manager\u001b[38;5;241m=\u001b[39m_pm, intent_model\u001b[38;5;241m=\u001b[39m_intent_model, default_save\u001b[38;5;241m=\u001b[39mdefault_save,\n\u001b[1;32m     98\u001b[0m            reset_templates\u001b[38;5;241m=\u001b[39mreset_templates, template_path\u001b[38;5;241m=\u001b[39mtemplate_path, template_module\u001b[38;5;241m=\u001b[39mtemplate_module,\n\u001b[1;32m     99\u001b[0m            template_source_handler\u001b[38;5;241m=\u001b[39mtemplate_source_handler, template_persist_handler\u001b[38;5;241m=\u001b[39mtemplate_persist_handler,\n\u001b[1;32m    100\u001b[0m            align_connectors\u001b[38;5;241m=\u001b[39malign_connectors)\n",
      "File \u001b[0;32m/opt/anaconda3/envs/neural/lib/python3.10/site-packages/ds_core/components/abstract_component.py:235\u001b[0m, in \u001b[0;36mAbstractComponent._init_properties\u001b[0;34m(cls, property_manager, uri_pm_path, default_save, uri_pm_repo, pm_file_type, pm_module, pm_handler, has_contract, pm_kwargs)\u001b[0m\n\u001b[1;32m    233\u001b[0m         property_manager\u001b[38;5;241m.\u001b[39mset_property_connector(connector_contract\u001b[38;5;241m=\u001b[39m_pm_connector)\n\u001b[1;32m    234\u001b[0m \u001b[38;5;28;01melif\u001b[39;00m has_contract \u001b[38;5;129;01mand\u001b[39;00m \u001b[38;5;129;01mnot\u001b[39;00m HandlerFactory\u001b[38;5;241m.\u001b[39minstantiate(_connector)\u001b[38;5;241m.\u001b[39mexists():\n\u001b[0;32m--> 235\u001b[0m     \u001b[38;5;28;01mraise\u001b[39;00m \u001b[38;5;167;01mFileNotFoundError\u001b[39;00m(\u001b[38;5;124mf\u001b[39m\u001b[38;5;124m\"\u001b[39m\u001b[38;5;124mThe property manager domain contact \u001b[39m\u001b[38;5;124m'\u001b[39m\u001b[38;5;132;01m{\u001b[39;00m_connector\u001b[38;5;241m.\u001b[39muri\u001b[38;5;132;01m}\u001b[39;00m\u001b[38;5;124m'\u001b[39m\u001b[38;5;124m could not be found.\u001b[39m\u001b[38;5;124m\"\u001b[39m\n\u001b[1;32m    236\u001b[0m                             \u001b[38;5;124mf\u001b[39m\u001b[38;5;124m\"\u001b[39m\u001b[38;5;124m If this is a new contract, set \u001b[39m\u001b[38;5;124m'\u001b[39m\u001b[38;5;124mhas_contract\u001b[39m\u001b[38;5;124m'\u001b[39m\u001b[38;5;124m to False\u001b[39m\u001b[38;5;124m\"\u001b[39m)\n\u001b[1;32m    237\u001b[0m \u001b[38;5;28;01mif\u001b[39;00m default_save:\n\u001b[1;32m    238\u001b[0m     property_manager\u001b[38;5;241m.\u001b[39mpersist_properties(connector_contract\u001b[38;5;241m=\u001b[39m_pm_connector)\n",
      "\u001b[0;31mFileNotFoundError\u001b[0m: The property manager domain contact 'https://raw.githubusercontent.com/project-hadron/neural_rag/main/jupyter/knowledge/hadron/contracts/hadron_pm_controller_master.parquet' could not be found. If this is a new contract, set 'has_contract' to False"
     ]
    }
   ],
   "source": [
    "ctr = Controller.from_env(uri_pm_repo=repo)"
   ]
  },
  {
   "cell_type": "code",
   "execution_count": null,
   "id": "de680ad9-b26f-4821-a146-5f60dc60218a",
   "metadata": {},
   "outputs": [],
   "source": [
    "ctr.run_controller()"
   ]
  },
  {
   "cell_type": "markdown",
   "id": "abe74a87-a6e7-4774-9286-29ae5cf11d93",
   "metadata": {},
   "source": [
    "-----------------\n",
    "-----------------\n",
    "\n",
    "### Reports"
   ]
  },
  {
   "cell_type": "markdown",
   "id": "4dccb8bd-e902-408c-b4e4-7d8da52533a3",
   "metadata": {},
   "source": [
    "#### controller"
   ]
  },
  {
   "cell_type": "code",
   "execution_count": null,
   "id": "d8de9b65-1732-483d-a3ec-9951e88cb64a",
   "metadata": {},
   "outputs": [],
   "source": [
    "ctr.report_use_case()"
   ]
  },
  {
   "cell_type": "code",
   "execution_count": null,
   "id": "1a18d5d0-2201-48fd-a63a-b197134b9e7e",
   "metadata": {},
   "outputs": [],
   "source": [
    "ctr.report_intent()"
   ]
  },
  {
   "cell_type": "markdown",
   "id": "e5d5d58f-e206-44eb-8d21-c7b23441f32f",
   "metadata": {},
   "source": [
    "#### knowledge"
   ]
  },
  {
   "cell_type": "code",
   "execution_count": null,
   "id": "5a04e6b8-29d8-4b60-9c4a-2e0d8d213dc5",
   "metadata": {},
   "outputs": [],
   "source": [
    "from nn_rag import Knowledge"
   ]
  },
  {
   "cell_type": "code",
   "execution_count": null,
   "id": "016b9567-5518-4642-bbd3-63f3feb280e6",
   "metadata": {},
   "outputs": [],
   "source": [
    "kn = Knowledge.from_env('demo')"
   ]
  },
  {
   "cell_type": "code",
   "execution_count": null,
   "id": "235f0ed5-f798-47c9-863a-b3ab14444189",
   "metadata": {},
   "outputs": [],
   "source": [
    "kn.report_task()"
   ]
  },
  {
   "cell_type": "code",
   "execution_count": null,
   "id": "c7222baf-248d-4edd-8c80-2590f25b4f86",
   "metadata": {},
   "outputs": [],
   "source": [
    "kn.report_intent()"
   ]
  },
  {
   "cell_type": "code",
   "execution_count": null,
   "id": "753008f8-1ce2-49f1-b789-774e1ad5850f",
   "metadata": {},
   "outputs": [],
   "source": [
    "kn.report_connectors()"
   ]
  },
  {
   "cell_type": "code",
   "execution_count": null,
   "id": "7c414d23-78e4-432e-b02d-396d6f257ce9",
   "metadata": {},
   "outputs": [],
   "source": [
    "kn.report_task()"
   ]
  },
  {
   "cell_type": "code",
   "execution_count": null,
   "id": "33196185-0cb8-48f0-bbe1-12ac69a41a74",
   "metadata": {},
   "outputs": [],
   "source": []
  }
 ],
 "metadata": {
  "kernelspec": {
   "display_name": "Python 3 (ipykernel)",
   "language": "python",
   "name": "python3"
  },
  "language_info": {
   "codemirror_mode": {
    "name": "ipython",
    "version": 3
   },
   "file_extension": ".py",
   "mimetype": "text/x-python",
   "name": "python",
   "nbconvert_exporter": "python",
   "pygments_lexer": "ipython3",
   "version": "3.10.14"
  }
 },
 "nbformat": 4,
 "nbformat_minor": 5
}
