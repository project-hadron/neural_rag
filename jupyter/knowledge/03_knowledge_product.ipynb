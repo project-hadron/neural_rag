{
 "cells": [
  {
   "cell_type": "code",
   "execution_count": 1,
   "id": "962e2eab-fef2-4393-8e03-836e7921a99d",
   "metadata": {},
   "outputs": [],
   "source": [
    "# saves you having to use print as all exposed variables are printed in the cell\n",
    "from IPython.core.interactiveshell import InteractiveShell\n",
    "InteractiveShell.ast_node_interactivity = \"all\""
   ]
  },
  {
   "cell_type": "code",
   "execution_count": 2,
   "id": "116bbfb0-cf0d-4946-a9ab-0430479d0e94",
   "metadata": {},
   "outputs": [],
   "source": [
    "# suppress warning message\n",
    "import warnings\n",
    "warnings.filterwarnings('ignore')"
   ]
  },
  {
   "cell_type": "code",
   "execution_count": 3,
   "id": "68bdaf3a-78fb-438b-9590-d4feb46ad151",
   "metadata": {},
   "outputs": [],
   "source": [
    "import os\n",
    "from nn_rag import Controller"
   ]
  },
  {
   "cell_type": "markdown",
   "id": "ab3d305a-ca36-42a0-831b-2f196bd489e3",
   "metadata": {},
   "source": [
    "### Milvus Vector Params\n",
    "\n",
    "    URI example\n",
    "        uri = \"milvus://host:port/database?collection=<name>&partition=<name>\"\n",
    "\n",
    "    params:\n",
    "        collection: The name of the collection\n",
    "        partition: The name of the document partition\n",
    "\n",
    "    Environment Hyperparams:\n",
    "        MILVUS_EMBEDDING_NAME\n",
    "        MILVUS_EMBEDDING_DEVICE\n",
    "        MILVUS_EMBEDDING_BATCH_SIZE\n",
    "        MILVUS_EMBEDDING_DIM\n",
    "        MILVUS_INDEX_CLUSTERS\n",
    "        MILVUS_INDEX_SIMILARITY_TYPE\n",
    "        MILVUS_QUERY_SEARCH_LIMIT\n",
    "        MILVUS_QUERY_NUM_SIMILARITY\n"
   ]
  },
  {
   "cell_type": "markdown",
   "id": "46761902-7106-4628-9b12-0ff133fe2041",
   "metadata": {},
   "source": [
    "### Set parameters as environment variables"
   ]
  },
  {
   "cell_type": "code",
   "execution_count": 4,
   "id": "52a63c1a-db81-4b74-83dc-0e84b9e5bb48",
   "metadata": {},
   "outputs": [],
   "source": [
    "# Remote recipie\n",
    "os.environ['HADRON_PM_REPO'] = 'https://raw.githubusercontent.com/project-hadron/neural_rag/main/jupyter/knowledge/hadron/stable/'\n",
    "\n",
    "# Data\n",
    "os.environ['HADRON_KNOWLEDGE_SOURCE_URI'] = 'https://www.europarl.europa.eu/doceo/document/TA-9-2024-0138_EN.pdf'\n",
    "os.environ['HADRON_KNOWLEDGE_EMBED_URI'] = 'milvus://localhost:19530/rai?collection=demo&eu_ai_act_2024'\n",
    "\n",
    "# Parameters\n",
    "os.environ['HADRON_KNOWLEDGE_EMBEDDING_NAME'] = 'all-mpnet-base-v2'\n",
    "os.environ['HADRON_KNOWLEDGE_CHUNK_SIZE'] = '500'\n",
    "\n",
    "# Vector Db\n",
    "os.environ['MILVUS_EMBEDDING_NAME'] = 'all-mpnet-base-v2'\n",
    "os.environ['MILVUS_EMBEDDING_DIM'] = '768'\n",
    "os.environ['MILVUS_EMBEDDING_DEVICE'] = 'cpu'\n",
    "os.environ['MILVUS_QUERY_SEARCH_LIMIT'] = '4'\n"
   ]
  },
  {
   "cell_type": "markdown",
   "id": "17997d56-64f5-4124-8a3d-0d3cc13c0d6b",
   "metadata": {},
   "source": [
    "### Controller"
   ]
  },
  {
   "cell_type": "code",
   "execution_count": 5,
   "id": "edc796f5-7f22-478a-857d-60f50565b590",
   "metadata": {},
   "outputs": [],
   "source": [
    "ctr = Controller.from_env()"
   ]
  },
  {
   "cell_type": "code",
   "execution_count": 6,
   "id": "de680ad9-b26f-4821-a146-5f60dc60218a",
   "metadata": {},
   "outputs": [],
   "source": [
    "ctr.run_controller()"
   ]
  },
  {
   "cell_type": "markdown",
   "id": "abe74a87-a6e7-4774-9286-29ae5cf11d93",
   "metadata": {},
   "source": [
    "-----------------\n",
    "-----------------"
   ]
  },
  {
   "cell_type": "markdown",
   "id": "b6fe53d5-397f-4d8d-b905-57eb27f7b7d8",
   "metadata": {},
   "source": [
    "### Query"
   ]
  },
  {
   "cell_type": "code",
   "execution_count": 13,
   "id": "ae067a64-050d-4828-b704-9deb2482c50b",
   "metadata": {},
   "outputs": [
    {
     "data": {
      "text/html": [
       "<style type=\"text/css\">\n",
       "#T_e6a6f th {\n",
       "  font-size: 120%;\n",
       "  text-align: center;\n",
       "}\n",
       "#T_e6a6f .row_heading {\n",
       "  display: none;;\n",
       "}\n",
       "#T_e6a6f  .blank {\n",
       "  display: none;;\n",
       "}\n",
       "#T_e6a6f_row0_col0 {\n",
       "  text-align: left;\n",
       "  font-weight: bold;\n",
       "  font-size: 120%;\n",
       "}\n",
       "#T_e6a6f_row0_col1, #T_e6a6f_row0_col2, #T_e6a6f_row0_col3, #T_e6a6f_row0_col4 {\n",
       "  text-align: left;\n",
       "}\n",
       "</style>\n",
       "<table id=\"T_e6a6f\">\n",
       "  <thead>\n",
       "    <tr>\n",
       "      <th class=\"blank level0\" >&nbsp;</th>\n",
       "      <th id=\"T_e6a6f_level0_col0\" class=\"col_heading level0 col0\" >level</th>\n",
       "      <th id=\"T_e6a6f_level0_col1\" class=\"col_heading level0 col1\" >order</th>\n",
       "      <th id=\"T_e6a6f_level0_col2\" class=\"col_heading level0 col2\" >component</th>\n",
       "      <th id=\"T_e6a6f_level0_col3\" class=\"col_heading level0 col3\" >parameters</th>\n",
       "      <th id=\"T_e6a6f_level0_col4\" class=\"col_heading level0 col4\" >creator</th>\n",
       "    </tr>\n",
       "  </thead>\n",
       "  <tbody>\n",
       "    <tr>\n",
       "      <th id=\"T_e6a6f_level0_row0\" class=\"row_heading level0 row0\" >0</th>\n",
       "      <td id=\"T_e6a6f_row0_col0\" class=\"data row0 col0\" >knowledge_demo</td>\n",
       "      <td id=\"T_e6a6f_row0_col1\" class=\"data row0 col1\" >0</td>\n",
       "      <td id=\"T_e6a6f_row0_col2\" class=\"data row0 col2\" >knowledge</td>\n",
       "      <td id=\"T_e6a6f_row0_col3\" class=\"data row0 col3\" >[\"task_name='demo'\", 'save_intent=False', 'register_only=False', \"uri_pm_repo='https://raw.githubusercontent.com/project-hadron/neural_rag/main/jupyter/knowledge/hadron/stable/'\"]</td>\n",
       "      <td id=\"T_e6a6f_row0_col4\" class=\"data row0 col4\" >default</td>\n",
       "    </tr>\n",
       "  </tbody>\n",
       "</table>\n"
      ],
      "text/plain": [
       "<pandas.io.formats.style.Styler at 0x7f7c78b8eb30>"
      ]
     },
     "execution_count": 13,
     "metadata": {},
     "output_type": "execute_result"
    }
   ],
   "source": [
    "ctr.report_tasks()"
   ]
  },
  {
   "cell_type": "code",
   "execution_count": null,
   "id": "67a62df2-f098-42ea-a8dd-744d2679eeaa",
   "metadata": {},
   "outputs": [],
   "source": []
  },
  {
   "cell_type": "code",
   "execution_count": 7,
   "id": "0499ff13-2df9-4b38-9242-0b5f2c462cdc",
   "metadata": {},
   "outputs": [],
   "source": [
    "import textwrap\n",
    "\n",
    "def print_wrapped(text, wrap_length=80):\n",
    "    wrapped_text = textwrap.fill(text, wrap_length)\n",
    "    print(wrapped_text)"
   ]
  },
  {
   "cell_type": "code",
   "execution_count": 8,
   "id": "d7d5f1a9-9997-43c8-8bfa-b5b9e6320df0",
   "metadata": {},
   "outputs": [],
   "source": [
    "import random\n",
    "\n",
    "# Nutrition-style questions generated with GPT4\n",
    "gpt4_questions = [\n",
    "    'What are the main objectives of the Artificial Intelligence Act?',\n",
    "    'How does the Act define \"high-risk AI systems\"?',\n",
    "    'What are the key obligations for operators under this Act?',\n",
    "    'How does the Act address the protection of personal data?',\n",
    "    'What sectors does the Act specifically mention as benefiting from AI?',\n",
    "    'How does the Act ensure the free movement of AI-based goods and services within the EU?]',\n",
    "]\n",
    "\n",
    "query = random.choice(gpt4_questions)"
   ]
  },
  {
   "cell_type": "markdown",
   "id": "2c11da3e-cc99-497f-a3f0-703db243ff93",
   "metadata": {},
   "source": [
    "### Model answers\n",
    "\n",
    "#### What are the main objectives of the Artificial Intelligence Act?\n",
    "The main objectives are to lay down harmonized rules for the development, marketing, and use of AI systems in the EU, ensuring they are trustworthy, safe, and align with EU values, while also promoting innovation and the free movement of AI products and services.\n",
    "\n",
    "#### How does the Act define \"high-risk AI systems\"?\n",
    "High-risk AI systems are defined by their potential impact on health, safety, and fundamental rights. These include systems used in critical sectors such as law enforcement, employment, and essential services, where failure could cause significant harm.\n",
    "\n",
    "#### What are the key obligations for operators under this Act?\n",
    "Operators must ensure their AI systems comply with strict requirements for transparency, risk management, data governance, and human oversight. They are also required to maintain technical documentation and keep records to demonstrate compliance.\n",
    "\n",
    "#### How does the Act address the protection of personal data?\n",
    "The Act emphasizes that it does not override existing EU data protection laws, such as the GDPR. It ensures AI systems are designed and used in ways that protect personal data, and individuals retain all their rights under existing data protection regulations.\n",
    "\n",
    "#### What sectors does the Act specifically mention as benefiting from AI?\n",
    "The Act mentions sectors like healthcare, agriculture, education, transportation, public services, and environmental management as areas where AI can provide significant economic, societal, and environmental benefits.\n",
    "\n",
    "#### How does the Act ensure the free movement of AI-based goods and services within the EU?\n",
    "By establishing uniform rules and standards for AI systems, the Act prevents individual Member States from imposing their own regulations, thus facilitating the seamless cross-border movement and market access of AI products and services throughout the EU.\n"
   ]
  },
  {
   "cell_type": "code",
   "execution_count": 10,
   "id": "6d1aaaab-ab57-47a2-884a-b382347bb41b",
   "metadata": {},
   "outputs": [
    {
     "name": "stdout",
     "output_type": "stream",
     "text": [
      "Query: What are the main objectives of the Artificial Intelligence Act?\n",
      "\n"
     ]
    },
    {
     "ename": "NameError",
     "evalue": "name 'kn' is not defined",
     "output_type": "error",
     "traceback": [
      "\u001b[0;31m---------------------------------------------------------------------------\u001b[0m",
      "\u001b[0;31mNameError\u001b[0m                                 Traceback (most recent call last)",
      "Cell \u001b[0;32mIn[10], line 3\u001b[0m\n\u001b[1;32m      1\u001b[0m \u001b[38;5;28mprint\u001b[39m(\u001b[38;5;124mf\u001b[39m\u001b[38;5;124m\"\u001b[39m\u001b[38;5;124mQuery: \u001b[39m\u001b[38;5;132;01m{\u001b[39;00mquery\u001b[38;5;132;01m}\u001b[39;00m\u001b[38;5;130;01m\\n\u001b[39;00m\u001b[38;5;124m\"\u001b[39m)\n\u001b[0;32m----> 3\u001b[0m answer \u001b[38;5;241m=\u001b[39m \u001b[43mkn\u001b[49m\u001b[38;5;241m.\u001b[39mload_canonical(\u001b[38;5;124m'\u001b[39m\u001b[38;5;124mquery\u001b[39m\u001b[38;5;124m'\u001b[39m, query\u001b[38;5;241m=\u001b[39mquery)\n\u001b[1;32m      5\u001b[0m \u001b[38;5;28;01mfor\u001b[39;00m i \u001b[38;5;129;01min\u001b[39;00m \u001b[38;5;28mrange\u001b[39m(answer\u001b[38;5;241m.\u001b[39mnum_rows):\n\u001b[1;32m      6\u001b[0m     s \u001b[38;5;241m=\u001b[39m answer\u001b[38;5;241m.\u001b[39mslice(i,\u001b[38;5;241m1\u001b[39m)\n",
      "\u001b[0;31mNameError\u001b[0m: name 'kn' is not defined"
     ]
    }
   ],
   "source": [
    "print(f\"Query: {query}\\n\")\n",
    "\n",
    "answer = kn.load_canonical('query', query=query)\n",
    "\n",
    "for i in range(answer.num_rows):\n",
    "    s = answer.slice(i,1)\n",
    "    print(f\"Id: {s.column('id')[0]}.as_py()\")\n",
    "    print(f\"Distance: {s.column('distance')[0].as_py()}\")\n",
    "    print(f\"Answer: {print_wrapped(s.column('source')[0].as_py())}\\n\")\n",
    "\n"
   ]
  },
  {
   "cell_type": "code",
   "execution_count": null,
   "id": "2b7af52b-bdb8-484d-b614-a51a4adf4c7c",
   "metadata": {},
   "outputs": [],
   "source": []
  },
  {
   "cell_type": "code",
   "execution_count": null,
   "id": "4097cd21-b4bc-4cb8-8663-9d08562e4e45",
   "metadata": {},
   "outputs": [],
   "source": []
  }
 ],
 "metadata": {
  "kernelspec": {
   "display_name": "Python 3 (ipykernel)",
   "language": "python",
   "name": "python3"
  },
  "language_info": {
   "codemirror_mode": {
    "name": "ipython",
    "version": 3
   },
   "file_extension": ".py",
   "mimetype": "text/x-python",
   "name": "python",
   "nbconvert_exporter": "python",
   "pygments_lexer": "ipython3",
   "version": "3.10.14"
  }
 },
 "nbformat": 4,
 "nbformat_minor": 5
}
