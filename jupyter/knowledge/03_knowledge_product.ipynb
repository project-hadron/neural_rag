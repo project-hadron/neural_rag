{
 "cells": [
  {
   "cell_type": "code",
   "execution_count": 1,
   "id": "962e2eab-fef2-4393-8e03-836e7921a99d",
   "metadata": {},
   "outputs": [],
   "source": [
    "# saves you having to use print as all exposed variables are printed in the cell\n",
    "from IPython.core.interactiveshell import InteractiveShell\n",
    "InteractiveShell.ast_node_interactivity = \"all\""
   ]
  },
  {
   "cell_type": "code",
   "execution_count": 2,
   "id": "116bbfb0-cf0d-4946-a9ab-0430479d0e94",
   "metadata": {},
   "outputs": [],
   "source": [
    "# suppress warning message\n",
    "import warnings\n",
    "warnings.filterwarnings('ignore')"
   ]
  },
  {
   "cell_type": "code",
   "execution_count": 3,
   "id": "68bdaf3a-78fb-438b-9590-d4feb46ad151",
   "metadata": {},
   "outputs": [],
   "source": [
    "import os\n",
    "from nn_rag import Controller"
   ]
  },
  {
   "cell_type": "markdown",
   "id": "ab3d305a-ca36-42a0-831b-2f196bd489e3",
   "metadata": {},
   "source": [
    "### Milvus Vector Params\n",
    "\n",
    "    URI example\n",
    "        uri = \"milvus://host:port/database?collection=<name>&partition=<name>\"\n",
    "\n",
    "    params:\n",
    "        collection: The name of the collection\n",
    "        partition: The name of the document partition\n",
    "\n",
    "    Environment Hyperparams:\n",
    "        MILVUS_EMBEDDING_NAME\n",
    "        MILVUS_EMBEDDING_DEVICE\n",
    "        MILVUS_EMBEDDING_BATCH_SIZE\n",
    "        MILVUS_EMBEDDING_DIM\n",
    "        MILVUS_INDEX_CLUSTERS\n",
    "        MILVUS_INDEX_SIMILARITY_TYPE\n",
    "        MILVUS_QUERY_SEARCH_LIMIT\n",
    "        MILVUS_QUERY_NUM_SIMILARITY\n"
   ]
  },
  {
   "cell_type": "markdown",
   "id": "46761902-7106-4628-9b12-0ff133fe2041",
   "metadata": {},
   "source": [
    "### Set parameters as environment variables"
   ]
  },
  {
   "cell_type": "code",
   "execution_count": 4,
   "id": "52a63c1a-db81-4b74-83dc-0e84b9e5bb48",
   "metadata": {},
   "outputs": [],
   "source": [
    "# Remote recipie\n",
    "os.environ['HADRON_PM_REPO'] = 'https://raw.githubusercontent.com/project-hadron/neural_rag/main/jupyter/knowledge/hadron/stable/'\n",
    "\n",
    "# Data\n",
    "os.environ['HADRON_KNOWLEDGE_SOURCE_URI'] = 'https://www.europarl.europa.eu/doceo/document/TA-9-2024-0138_EN.pdf'\n",
    "os.environ['HADRON_KNOWLEDGE_EMBED_URI'] = 'milvus://localhost:19530/rai?collection=demo&eu_ai_act_2024'\n",
    "\n",
    "# Parameters\n",
    "os.environ['HADRON_KNOWLEDGE_EMBEDDING_NAME'] = 'all-mpnet-base-v2'\n",
    "os.environ['HADRON_KNOWLEDGE_CHUNK_SIZE'] = '500'\n",
    "\n",
    "# Vector Db\n",
    "os.environ['MILVUS_EMBEDDING_NAME'] = 'all-mpnet-base-v2'\n",
    "os.environ['MILVUS_EMBEDDING_DIM'] = '768'\n",
    "os.environ['MILVUS_EMBEDDING_DEVICE'] = 'cpu'\n",
    "os.environ['MILVUS_QUERY_SEARCH_LIMIT'] = '4'\n"
   ]
  },
  {
   "cell_type": "markdown",
   "id": "17997d56-64f5-4124-8a3d-0d3cc13c0d6b",
   "metadata": {},
   "source": [
    "### Controller"
   ]
  },
  {
   "cell_type": "code",
   "execution_count": 5,
   "id": "edc796f5-7f22-478a-857d-60f50565b590",
   "metadata": {},
   "outputs": [],
   "source": [
    "ctr = Controller.from_env()"
   ]
  },
  {
   "cell_type": "code",
   "execution_count": 6,
   "id": "de680ad9-b26f-4821-a146-5f60dc60218a",
   "metadata": {},
   "outputs": [
    {
     "ename": "FileNotFoundError",
     "evalue": "The property manager domain contact 'https://raw.githubusercontent.com/project-hadron/neural_rag/main/jupyter/knowledge/hadron/stable/hadron_pm_knowledge_base.parquet' could not be found. If this is a new contract, set 'has_contract' to False",
     "output_type": "error",
     "traceback": [
      "\u001b[0;31m---------------------------------------------------------------------------\u001b[0m",
      "\u001b[0;31mFileNotFoundError\u001b[0m                         Traceback (most recent call last)",
      "Cell \u001b[0;32mIn[6], line 1\u001b[0m\n\u001b[0;32m----> 1\u001b[0m \u001b[43mctr\u001b[49m\u001b[38;5;241;43m.\u001b[39;49m\u001b[43mrun_controller\u001b[49m\u001b[43m(\u001b[49m\u001b[43m)\u001b[49m\n",
      "File \u001b[0;32m/opt/anaconda3/envs/neural/lib/python3.10/site-packages/nn_rag/components/controller.py:491\u001b[0m, in \u001b[0;36mController.run_controller\u001b[0;34m(self, run_book, repeat, sleep, run_time, source_check_uri, run_cycle_report)\u001b[0m\n\u001b[1;32m    489\u001b[0m     df_report\u001b[38;5;241m.\u001b[39mloc[\u001b[38;5;28mlen\u001b[39m(df_report\u001b[38;5;241m.\u001b[39mindex)] \u001b[38;5;241m=\u001b[39m [datetime\u001b[38;5;241m.\u001b[39mdatetime\u001b[38;5;241m.\u001b[39mnow(), \u001b[38;5;124mf\u001b[39m\u001b[38;5;124m\"\u001b[39m\u001b[38;5;124mrunning: \u001b[39m\u001b[38;5;124m'\u001b[39m\u001b[38;5;132;01m{\u001b[39;00mrun_level\u001b[38;5;132;01m}\u001b[39;00m\u001b[38;5;124m'\u001b[39m\u001b[38;5;124m\"\u001b[39m]\n\u001b[1;32m    490\u001b[0m \u001b[38;5;66;03m# run level\u001b[39;00m\n\u001b[0;32m--> 491\u001b[0m shape \u001b[38;5;241m=\u001b[39m \u001b[38;5;28;43mself\u001b[39;49m\u001b[38;5;241;43m.\u001b[39;49m\u001b[43mintent_model\u001b[49m\u001b[38;5;241;43m.\u001b[39;49m\u001b[43mrun_intent_pipeline\u001b[49m\u001b[43m(\u001b[49m\u001b[43mrun_level\u001b[49m\u001b[38;5;241;43m=\u001b[39;49m\u001b[43mrun_level\u001b[49m\u001b[43m,\u001b[49m\u001b[43m \u001b[49m\u001b[43msource\u001b[49m\u001b[38;5;241;43m=\u001b[39;49m\u001b[43msource\u001b[49m\u001b[43m,\u001b[49m\u001b[43m \u001b[49m\u001b[43mpersist\u001b[49m\u001b[38;5;241;43m=\u001b[39;49m\u001b[43mpersist\u001b[49m\u001b[43m,\u001b[49m\n\u001b[1;32m    492\u001b[0m \u001b[43m                                              \u001b[49m\u001b[43mcontroller_repo\u001b[49m\u001b[38;5;241;43m=\u001b[39;49m\u001b[38;5;28;43mself\u001b[39;49m\u001b[38;5;241;43m.\u001b[39;49m\u001b[43mURI_PM_REPO\u001b[49m\u001b[43m)\u001b[49m\n\u001b[1;32m    493\u001b[0m \u001b[38;5;28;01mif\u001b[39;00m \u001b[38;5;28misinstance\u001b[39m(run_cycle_report, \u001b[38;5;28mstr\u001b[39m):\n\u001b[1;32m    494\u001b[0m     df_report\u001b[38;5;241m.\u001b[39mloc[\u001b[38;5;28mlen\u001b[39m(df_report\u001b[38;5;241m.\u001b[39mindex)] \u001b[38;5;241m=\u001b[39m [datetime\u001b[38;5;241m.\u001b[39mdatetime\u001b[38;5;241m.\u001b[39mnow(), \u001b[38;5;124mf\u001b[39m\u001b[38;5;124m'\u001b[39m\u001b[38;5;124moutcome shape: \u001b[39m\u001b[38;5;132;01m{\u001b[39;00mshape\u001b[38;5;132;01m}\u001b[39;00m\u001b[38;5;124m'\u001b[39m]\n",
      "File \u001b[0;32m/opt/anaconda3/envs/neural/lib/python3.10/site-packages/nn_rag/intent/controller_intent.py:76\u001b[0m, in \u001b[0;36mControllerIntentModel.run_intent_pipeline\u001b[0;34m(self, run_level, source, persist, controller_repo, **kwargs)\u001b[0m\n\u001b[1;32m     74\u001b[0m             \u001b[38;5;28;01mif\u001b[39;00m \u001b[38;5;28misinstance\u001b[39m(controller_repo, \u001b[38;5;28mstr\u001b[39m) \u001b[38;5;129;01mand\u001b[39;00m \u001b[38;5;124m'\u001b[39m\u001b[38;5;124muri_pm_repo\u001b[39m\u001b[38;5;124m'\u001b[39m \u001b[38;5;129;01mnot\u001b[39;00m \u001b[38;5;129;01min\u001b[39;00m params\u001b[38;5;241m.\u001b[39mkeys():\n\u001b[1;32m     75\u001b[0m                 params\u001b[38;5;241m.\u001b[39mupdate({\u001b[38;5;124m'\u001b[39m\u001b[38;5;124muri_pm_repo\u001b[39m\u001b[38;5;124m'\u001b[39m: controller_repo})\n\u001b[0;32m---> 76\u001b[0m             shape \u001b[38;5;241m=\u001b[39m \u001b[38;5;28;43meval\u001b[39;49m\u001b[43m(\u001b[49m\u001b[38;5;124;43mf\u001b[39;49m\u001b[38;5;124;43m\"\u001b[39;49m\u001b[38;5;124;43mself.\u001b[39;49m\u001b[38;5;132;43;01m{\u001b[39;49;00m\u001b[43mmethod\u001b[49m\u001b[38;5;132;43;01m}\u001b[39;49;00m\u001b[38;5;124;43m(source=source, persist=persist, **\u001b[39;49m\u001b[38;5;132;43;01m{\u001b[39;49;00m\u001b[43mparams\u001b[49m\u001b[38;5;132;43;01m}\u001b[39;49;00m\u001b[38;5;124;43m)\u001b[39;49m\u001b[38;5;124;43m\"\u001b[39;49m\u001b[43m,\u001b[49m\u001b[43m \u001b[49m\u001b[38;5;28;43mglobals\u001b[39;49m\u001b[43m(\u001b[49m\u001b[43m)\u001b[49m\u001b[43m,\u001b[49m\u001b[43m \u001b[49m\u001b[38;5;28;43mlocals\u001b[39;49m\u001b[43m(\u001b[49m\u001b[43m)\u001b[49m\u001b[43m)\u001b[49m\n\u001b[1;32m     77\u001b[0m \u001b[38;5;28;01mreturn\u001b[39;00m shape\n",
      "File \u001b[0;32m<string>:1\u001b[0m\n",
      "File \u001b[0;32m/opt/anaconda3/envs/neural/lib/python3.10/site-packages/nn_rag/intent/controller_intent.py:108\u001b[0m, in \u001b[0;36mControllerIntentModel.knowledge\u001b[0;34m(self, task_name, source, persist, columns, register_only, save_intent, intent_order, intent_level, replace_intent, remove_duplicates, **kwargs)\u001b[0m\n\u001b[1;32m    106\u001b[0m \u001b[38;5;28;01mif\u001b[39;00m register_only:\n\u001b[1;32m    107\u001b[0m     \u001b[38;5;28;01mreturn\u001b[39;00m\n\u001b[0;32m--> 108\u001b[0m kn: Knowledge \u001b[38;5;241m=\u001b[39m \u001b[38;5;28;43meval\u001b[39;49m\u001b[43m(\u001b[49m\u001b[38;5;124;43mf\u001b[39;49m\u001b[38;5;124;43m\"\u001b[39;49m\u001b[38;5;124;43mKnowledge.from_env(task_name=task_name, default_save=False, \u001b[39;49m\u001b[38;5;124;43m\"\u001b[39;49m\n\u001b[1;32m    109\u001b[0m \u001b[43m                        \u001b[49m\u001b[38;5;124;43mf\u001b[39;49m\u001b[38;5;124;43m\"\u001b[39;49m\u001b[38;5;124;43mhas_contract=True, **\u001b[39;49m\u001b[38;5;132;43;01m{\u001b[39;49;00m\u001b[43mkwargs\u001b[49m\u001b[38;5;132;43;01m}\u001b[39;49;00m\u001b[38;5;124;43m)\u001b[39;49m\u001b[38;5;124;43m\"\u001b[39;49m\u001b[43m,\u001b[49m\u001b[43m \u001b[49m\u001b[38;5;28;43mglobals\u001b[39;49m\u001b[43m(\u001b[49m\u001b[43m)\u001b[49m\u001b[43m,\u001b[49m\u001b[43m \u001b[49m\u001b[38;5;28;43mlocals\u001b[39;49m\u001b[43m(\u001b[49m\u001b[43m)\u001b[49m\u001b[43m)\u001b[49m\n\u001b[1;32m    110\u001b[0m \u001b[38;5;28;01mif\u001b[39;00m source \u001b[38;5;129;01mand\u001b[39;00m kn\u001b[38;5;241m.\u001b[39mpm\u001b[38;5;241m.\u001b[39mhas_connector(source):\n\u001b[1;32m    111\u001b[0m     canonical \u001b[38;5;241m=\u001b[39m kn\u001b[38;5;241m.\u001b[39mload_canonical(source)\n",
      "File \u001b[0;32m<string>:1\u001b[0m\n",
      "File \u001b[0;32m/opt/anaconda3/envs/neural/lib/python3.10/site-packages/ds_core/components/abstract_component.py:312\u001b[0m, in \u001b[0;36mAbstractComponent.from_env\u001b[0;34m(cls, task_name, default_save, reset_templates, align_connectors, default_save_intent, default_intent_level, order_next_available, default_replace_intent, uri_pm_repo, has_contract, **kwargs)\u001b[0m\n\u001b[1;32m    310\u001b[0m pm_handler \u001b[38;5;241m=\u001b[39m os\u001b[38;5;241m.\u001b[39menviron\u001b[38;5;241m.\u001b[39mget(\u001b[38;5;124m'\u001b[39m\u001b[38;5;124mHADRON_PM_HANDLER\u001b[39m\u001b[38;5;124m'\u001b[39m, \u001b[38;5;28;01mNone\u001b[39;00m)\n\u001b[1;32m    311\u001b[0m pm_kwargs \u001b[38;5;241m=\u001b[39m kwargs \u001b[38;5;28;01mif\u001b[39;00m \u001b[38;5;28misinstance\u001b[39m(kwargs, \u001b[38;5;28mdict\u001b[39m) \u001b[38;5;129;01mand\u001b[39;00m \u001b[38;5;28mlen\u001b[39m(kwargs) \u001b[38;5;241m>\u001b[39m \u001b[38;5;241m0\u001b[39m \u001b[38;5;28;01melse\u001b[39;00m \u001b[38;5;28;01mNone\u001b[39;00m\n\u001b[0;32m--> 312\u001b[0m \u001b[38;5;28;01mreturn\u001b[39;00m \u001b[38;5;28;43mcls\u001b[39;49m\u001b[38;5;241;43m.\u001b[39;49m\u001b[43mfrom_uri\u001b[49m\u001b[43m(\u001b[49m\u001b[43mtask_name\u001b[49m\u001b[38;5;241;43m=\u001b[39;49m\u001b[43mtask_name\u001b[49m\u001b[43m,\u001b[49m\u001b[43m \u001b[49m\u001b[43muri_pm_path\u001b[49m\u001b[38;5;241;43m=\u001b[39;49m\u001b[43mpm_uri\u001b[49m\u001b[43m,\u001b[49m\u001b[43m \u001b[49m\u001b[43muri_pm_repo\u001b[49m\u001b[38;5;241;43m=\u001b[39;49m\u001b[43mpm_repo\u001b[49m\u001b[43m,\u001b[49m\u001b[43m \u001b[49m\u001b[43mcreator\u001b[49m\u001b[38;5;241;43m=\u001b[39;49m\u001b[43mcreator\u001b[49m\u001b[43m,\u001b[49m\n\u001b[1;32m    313\u001b[0m \u001b[43m                    \u001b[49m\u001b[43mhas_contract\u001b[49m\u001b[38;5;241;43m=\u001b[39;49m\u001b[43mhas_contract\u001b[49m\u001b[43m,\u001b[49m\u001b[43m \u001b[49m\u001b[43mpm_file_type\u001b[49m\u001b[38;5;241;43m=\u001b[39;49m\u001b[43mpm_file_type\u001b[49m\u001b[43m,\u001b[49m\u001b[43m \u001b[49m\u001b[43mpm_module\u001b[49m\u001b[38;5;241;43m=\u001b[39;49m\u001b[43mpm_module\u001b[49m\u001b[43m,\u001b[49m\n\u001b[1;32m    314\u001b[0m \u001b[43m                    \u001b[49m\u001b[43mpm_handler\u001b[49m\u001b[38;5;241;43m=\u001b[39;49m\u001b[43mpm_handler\u001b[49m\u001b[43m,\u001b[49m\u001b[43m \u001b[49m\u001b[43mpm_kwargs\u001b[49m\u001b[38;5;241;43m=\u001b[39;49m\u001b[43mpm_kwargs\u001b[49m\u001b[43m,\u001b[49m\u001b[43m \u001b[49m\u001b[43mdefault_save\u001b[49m\u001b[38;5;241;43m=\u001b[39;49m\u001b[43mdefault_save\u001b[49m\u001b[43m,\u001b[49m\n\u001b[1;32m    315\u001b[0m \u001b[43m                    \u001b[49m\u001b[43mreset_templates\u001b[49m\u001b[38;5;241;43m=\u001b[39;49m\u001b[43mreset_templates\u001b[49m\u001b[43m,\u001b[49m\u001b[43m \u001b[49m\u001b[43malign_connectors\u001b[49m\u001b[38;5;241;43m=\u001b[39;49m\u001b[43malign_connectors\u001b[49m\u001b[43m,\u001b[49m\n\u001b[1;32m    316\u001b[0m \u001b[43m                    \u001b[49m\u001b[43mdefault_save_intent\u001b[49m\u001b[38;5;241;43m=\u001b[39;49m\u001b[43mdefault_save_intent\u001b[49m\u001b[43m,\u001b[49m\u001b[43m \u001b[49m\u001b[43mdefault_intent_level\u001b[49m\u001b[38;5;241;43m=\u001b[39;49m\u001b[43mdefault_intent_level\u001b[49m\u001b[43m,\u001b[49m\n\u001b[1;32m    317\u001b[0m \u001b[43m                    \u001b[49m\u001b[43morder_next_available\u001b[49m\u001b[38;5;241;43m=\u001b[39;49m\u001b[43morder_next_available\u001b[49m\u001b[43m,\u001b[49m\u001b[43m \u001b[49m\u001b[43mdefault_replace_intent\u001b[49m\u001b[38;5;241;43m=\u001b[39;49m\u001b[43mdefault_replace_intent\u001b[49m\u001b[43m)\u001b[49m\n",
      "File \u001b[0;32m/opt/anaconda3/envs/neural/lib/python3.10/site-packages/nn_rag/components/knowledge.py:56\u001b[0m, in \u001b[0;36mKnowledge.from_uri\u001b[0;34m(cls, task_name, uri_pm_path, creator, uri_pm_repo, pm_file_type, pm_module, pm_handler, pm_kwargs, default_save, reset_templates, template_path, template_module, template_source_handler, template_persist_handler, align_connectors, default_save_intent, default_intent_level, order_next_available, default_replace_intent, has_contract)\u001b[0m\n\u001b[1;32m     51\u001b[0m _pm \u001b[38;5;241m=\u001b[39m KnowledgePropertyManager(task_name\u001b[38;5;241m=\u001b[39mtask_name, creator\u001b[38;5;241m=\u001b[39mcreator)\n\u001b[1;32m     52\u001b[0m _intent_model \u001b[38;5;241m=\u001b[39m KnowledgeIntent(property_manager\u001b[38;5;241m=\u001b[39m_pm, default_save_intent\u001b[38;5;241m=\u001b[39mdefault_save_intent,\n\u001b[1;32m     53\u001b[0m                                      default_intent_level\u001b[38;5;241m=\u001b[39mdefault_intent_level,\n\u001b[1;32m     54\u001b[0m                                      order_next_available\u001b[38;5;241m=\u001b[39morder_next_available,\n\u001b[1;32m     55\u001b[0m                                      default_replace_intent\u001b[38;5;241m=\u001b[39mdefault_replace_intent)\n\u001b[0;32m---> 56\u001b[0m \u001b[38;5;28;43msuper\u001b[39;49m\u001b[43m(\u001b[49m\u001b[43m)\u001b[49m\u001b[38;5;241;43m.\u001b[39;49m\u001b[43m_init_properties\u001b[49m\u001b[43m(\u001b[49m\u001b[43mproperty_manager\u001b[49m\u001b[38;5;241;43m=\u001b[39;49m\u001b[43m_pm\u001b[49m\u001b[43m,\u001b[49m\u001b[43m \u001b[49m\u001b[43muri_pm_path\u001b[49m\u001b[38;5;241;43m=\u001b[39;49m\u001b[43muri_pm_path\u001b[49m\u001b[43m,\u001b[49m\u001b[43m \u001b[49m\u001b[43mdefault_save\u001b[49m\u001b[38;5;241;43m=\u001b[39;49m\u001b[43mdefault_save\u001b[49m\u001b[43m,\u001b[49m\n\u001b[1;32m     57\u001b[0m \u001b[43m                         \u001b[49m\u001b[43muri_pm_repo\u001b[49m\u001b[38;5;241;43m=\u001b[39;49m\u001b[43muri_pm_repo\u001b[49m\u001b[43m,\u001b[49m\u001b[43m \u001b[49m\u001b[43mpm_file_type\u001b[49m\u001b[38;5;241;43m=\u001b[39;49m\u001b[43mpm_file_type\u001b[49m\u001b[43m,\u001b[49m\u001b[43m \u001b[49m\u001b[43mpm_module\u001b[49m\u001b[38;5;241;43m=\u001b[39;49m\u001b[43mpm_module\u001b[49m\u001b[43m,\u001b[49m\n\u001b[1;32m     58\u001b[0m \u001b[43m                         \u001b[49m\u001b[43mpm_handler\u001b[49m\u001b[38;5;241;43m=\u001b[39;49m\u001b[43mpm_handler\u001b[49m\u001b[43m,\u001b[49m\u001b[43m \u001b[49m\u001b[43mpm_kwargs\u001b[49m\u001b[38;5;241;43m=\u001b[39;49m\u001b[43mpm_kwargs\u001b[49m\u001b[43m,\u001b[49m\u001b[43m \u001b[49m\u001b[43mhas_contract\u001b[49m\u001b[38;5;241;43m=\u001b[39;49m\u001b[43mhas_contract\u001b[49m\u001b[43m)\u001b[49m\n\u001b[1;32m     59\u001b[0m \u001b[38;5;28;01mreturn\u001b[39;00m \u001b[38;5;28mcls\u001b[39m(property_manager\u001b[38;5;241m=\u001b[39m_pm, intent_model\u001b[38;5;241m=\u001b[39m_intent_model, default_save\u001b[38;5;241m=\u001b[39mdefault_save,\n\u001b[1;32m     60\u001b[0m            reset_templates\u001b[38;5;241m=\u001b[39mreset_templates, template_path\u001b[38;5;241m=\u001b[39mtemplate_path, template_module\u001b[38;5;241m=\u001b[39mtemplate_module,\n\u001b[1;32m     61\u001b[0m            template_source_handler\u001b[38;5;241m=\u001b[39mtemplate_source_handler, template_persist_handler\u001b[38;5;241m=\u001b[39mtemplate_persist_handler,\n\u001b[1;32m     62\u001b[0m            align_connectors\u001b[38;5;241m=\u001b[39malign_connectors)\n",
      "File \u001b[0;32m/opt/anaconda3/envs/neural/lib/python3.10/site-packages/ds_core/components/abstract_component.py:235\u001b[0m, in \u001b[0;36mAbstractComponent._init_properties\u001b[0;34m(cls, property_manager, uri_pm_path, default_save, uri_pm_repo, pm_file_type, pm_module, pm_handler, has_contract, pm_kwargs)\u001b[0m\n\u001b[1;32m    233\u001b[0m         property_manager\u001b[38;5;241m.\u001b[39mset_property_connector(connector_contract\u001b[38;5;241m=\u001b[39m_pm_connector)\n\u001b[1;32m    234\u001b[0m \u001b[38;5;28;01melif\u001b[39;00m has_contract \u001b[38;5;129;01mand\u001b[39;00m \u001b[38;5;129;01mnot\u001b[39;00m HandlerFactory\u001b[38;5;241m.\u001b[39minstantiate(_connector)\u001b[38;5;241m.\u001b[39mexists():\n\u001b[0;32m--> 235\u001b[0m     \u001b[38;5;28;01mraise\u001b[39;00m \u001b[38;5;167;01mFileNotFoundError\u001b[39;00m(\u001b[38;5;124mf\u001b[39m\u001b[38;5;124m\"\u001b[39m\u001b[38;5;124mThe property manager domain contact \u001b[39m\u001b[38;5;124m'\u001b[39m\u001b[38;5;132;01m{\u001b[39;00m_connector\u001b[38;5;241m.\u001b[39muri\u001b[38;5;132;01m}\u001b[39;00m\u001b[38;5;124m'\u001b[39m\u001b[38;5;124m could not be found.\u001b[39m\u001b[38;5;124m\"\u001b[39m\n\u001b[1;32m    236\u001b[0m                             \u001b[38;5;124mf\u001b[39m\u001b[38;5;124m\"\u001b[39m\u001b[38;5;124m If this is a new contract, set \u001b[39m\u001b[38;5;124m'\u001b[39m\u001b[38;5;124mhas_contract\u001b[39m\u001b[38;5;124m'\u001b[39m\u001b[38;5;124m to False\u001b[39m\u001b[38;5;124m\"\u001b[39m)\n\u001b[1;32m    237\u001b[0m \u001b[38;5;28;01mif\u001b[39;00m default_save:\n\u001b[1;32m    238\u001b[0m     property_manager\u001b[38;5;241m.\u001b[39mpersist_properties(connector_contract\u001b[38;5;241m=\u001b[39m_pm_connector)\n",
      "\u001b[0;31mFileNotFoundError\u001b[0m: The property manager domain contact 'https://raw.githubusercontent.com/project-hadron/neural_rag/main/jupyter/knowledge/hadron/stable/hadron_pm_knowledge_base.parquet' could not be found. If this is a new contract, set 'has_contract' to False"
     ]
    }
   ],
   "source": [
    "ctr.run_controller()"
   ]
  },
  {
   "cell_type": "markdown",
   "id": "abe74a87-a6e7-4774-9286-29ae5cf11d93",
   "metadata": {},
   "source": [
    "-----------------\n",
    "-----------------"
   ]
  },
  {
   "cell_type": "markdown",
   "id": "b6fe53d5-397f-4d8d-b905-57eb27f7b7d8",
   "metadata": {},
   "source": [
    "### Query"
   ]
  },
  {
   "cell_type": "code",
   "execution_count": null,
   "id": "ae067a64-050d-4828-b704-9deb2482c50b",
   "metadata": {},
   "outputs": [],
   "source": [
    "ctr.report_tasks()"
   ]
  },
  {
   "cell_type": "code",
   "execution_count": null,
   "id": "67a62df2-f098-42ea-a8dd-744d2679eeaa",
   "metadata": {},
   "outputs": [],
   "source": []
  },
  {
   "cell_type": "code",
   "execution_count": null,
   "id": "0499ff13-2df9-4b38-9242-0b5f2c462cdc",
   "metadata": {},
   "outputs": [],
   "source": [
    "import textwrap\n",
    "\n",
    "def print_wrapped(text, wrap_length=80):\n",
    "    wrapped_text = textwrap.fill(text, wrap_length)\n",
    "    print(wrapped_text)"
   ]
  },
  {
   "cell_type": "code",
   "execution_count": null,
   "id": "d7d5f1a9-9997-43c8-8bfa-b5b9e6320df0",
   "metadata": {},
   "outputs": [],
   "source": [
    "import random\n",
    "\n",
    "# Nutrition-style questions generated with GPT4\n",
    "gpt4_questions = [\n",
    "    'What are the main objectives of the Artificial Intelligence Act?',\n",
    "    'How does the Act define \"high-risk AI systems\"?',\n",
    "    'What are the key obligations for operators under this Act?',\n",
    "    'How does the Act address the protection of personal data?',\n",
    "    'What sectors does the Act specifically mention as benefiting from AI?',\n",
    "    'How does the Act ensure the free movement of AI-based goods and services within the EU?]',\n",
    "]\n",
    "\n",
    "query = random.choice(gpt4_questions)"
   ]
  },
  {
   "cell_type": "markdown",
   "id": "2c11da3e-cc99-497f-a3f0-703db243ff93",
   "metadata": {},
   "source": [
    "### Model answers\n",
    "\n",
    "#### What are the main objectives of the Artificial Intelligence Act?\n",
    "The main objectives are to lay down harmonized rules for the development, marketing, and use of AI systems in the EU, ensuring they are trustworthy, safe, and align with EU values, while also promoting innovation and the free movement of AI products and services.\n",
    "\n",
    "#### How does the Act define \"high-risk AI systems\"?\n",
    "High-risk AI systems are defined by their potential impact on health, safety, and fundamental rights. These include systems used in critical sectors such as law enforcement, employment, and essential services, where failure could cause significant harm.\n",
    "\n",
    "#### What are the key obligations for operators under this Act?\n",
    "Operators must ensure their AI systems comply with strict requirements for transparency, risk management, data governance, and human oversight. They are also required to maintain technical documentation and keep records to demonstrate compliance.\n",
    "\n",
    "#### How does the Act address the protection of personal data?\n",
    "The Act emphasizes that it does not override existing EU data protection laws, such as the GDPR. It ensures AI systems are designed and used in ways that protect personal data, and individuals retain all their rights under existing data protection regulations.\n",
    "\n",
    "#### What sectors does the Act specifically mention as benefiting from AI?\n",
    "The Act mentions sectors like healthcare, agriculture, education, transportation, public services, and environmental management as areas where AI can provide significant economic, societal, and environmental benefits.\n",
    "\n",
    "#### How does the Act ensure the free movement of AI-based goods and services within the EU?\n",
    "By establishing uniform rules and standards for AI systems, the Act prevents individual Member States from imposing their own regulations, thus facilitating the seamless cross-border movement and market access of AI products and services throughout the EU.\n"
   ]
  },
  {
   "cell_type": "code",
   "execution_count": null,
   "id": "6d1aaaab-ab57-47a2-884a-b382347bb41b",
   "metadata": {},
   "outputs": [],
   "source": [
    "print(f\"Query: {query}\\n\")\n",
    "\n",
    "answer = kn.load_canonical('query', query=query)\n",
    "\n",
    "for i in range(answer.num_rows):\n",
    "    s = answer.slice(i,1)\n",
    "    print(f\"Id: {s.column('id')[0]}.as_py()\")\n",
    "    print(f\"Distance: {s.column('distance')[0].as_py()}\")\n",
    "    print(f\"Answer: {print_wrapped(s.column('source')[0].as_py())}\\n\")\n",
    "\n"
   ]
  },
  {
   "cell_type": "code",
   "execution_count": null,
   "id": "2b7af52b-bdb8-484d-b614-a51a4adf4c7c",
   "metadata": {},
   "outputs": [],
   "source": []
  },
  {
   "cell_type": "code",
   "execution_count": null,
   "id": "4097cd21-b4bc-4cb8-8663-9d08562e4e45",
   "metadata": {},
   "outputs": [],
   "source": []
  }
 ],
 "metadata": {
  "kernelspec": {
   "display_name": "Python 3 (ipykernel)",
   "language": "python",
   "name": "python3"
  },
  "language_info": {
   "codemirror_mode": {
    "name": "ipython",
    "version": 3
   },
   "file_extension": ".py",
   "mimetype": "text/x-python",
   "name": "python",
   "nbconvert_exporter": "python",
   "pygments_lexer": "ipython3",
   "version": "3.10.14"
  }
 },
 "nbformat": 4,
 "nbformat_minor": 5
}
