{
 "cells": [
  {
   "cell_type": "code",
   "execution_count": 1,
   "id": "962e2eab-fef2-4393-8e03-836e7921a99d",
   "metadata": {},
   "outputs": [],
   "source": [
    "# saves you having to use print as all exposed variables are printed in the cell\n",
    "from IPython.core.interactiveshell import InteractiveShell\n",
    "InteractiveShell.ast_node_interactivity = \"all\""
   ]
  },
  {
   "cell_type": "code",
   "execution_count": 2,
   "id": "68bdaf3a-78fb-438b-9590-d4feb46ad151",
   "metadata": {},
   "outputs": [],
   "source": [
    "import os\n",
    "from nn_rag import Controller"
   ]
  },
  {
   "cell_type": "markdown",
   "id": "46761902-7106-4628-9b12-0ff133fe2041",
   "metadata": {},
   "source": [
    "### Set parameters as environment variables"
   ]
  },
  {
   "cell_type": "code",
   "execution_count": 3,
   "id": "52a63c1a-db81-4b74-83dc-0e84b9e5bb48",
   "metadata": {},
   "outputs": [],
   "source": [
    "# Remote recipie\n",
    "os.environ['HADRON_DOMAIN_REPO_PATH'] = 'https://raw.githubusercontent.com/project-hadron/neural_rag/main/jupyter/knowledge/hadron/contracts/'\n",
    "\n",
    "# Data\n",
    "os.environ['HADRON_KNOWLEDGE_SOURCE_URI'] = 'https://www.europarl.europa.eu/doceo/document/TA-9-2024-0138_EN.pdf'\n",
    "os.environ['HADRON_KNOWLEDGE_PERSIST_URI'] = './hadron/data/eu_ai_act_2024.parquet'\n",
    "\n",
    "# Parameters\n",
    "os.environ['HADRON_NUM_SENTENCE_CHUNK_SIZE'] = '10'\n",
    "os.environ['HADRON_EMBEDDING_BATCH_SIZE'] = '32'\n",
    "os.environ['HADRON_EMBEDDING_MODEL_NAME'] = 'all-mpnet-base-v2'\n",
    "os.environ['HADRON_EMBEDDING_DEVICE'] = 'cpu'"
   ]
  },
  {
   "cell_type": "markdown",
   "id": "17997d56-64f5-4124-8a3d-0d3cc13c0d6b",
   "metadata": {},
   "source": [
    "### Controller"
   ]
  },
  {
   "cell_type": "code",
   "execution_count": 4,
   "id": "edc796f5-7f22-478a-857d-60f50565b590",
   "metadata": {},
   "outputs": [],
   "source": [
    "ctr = Controller.from_env()"
   ]
  },
  {
   "cell_type": "code",
   "execution_count": 5,
   "id": "de680ad9-b26f-4821-a146-5f60dc60218a",
   "metadata": {},
   "outputs": [],
   "source": [
    "ctr.run_controller()"
   ]
  },
  {
   "cell_type": "markdown",
   "id": "abe74a87-a6e7-4774-9286-29ae5cf11d93",
   "metadata": {},
   "source": [
    "-----------------\n",
    "-----------------\n",
    "\n",
    "### Reports"
   ]
  },
  {
   "cell_type": "markdown",
   "id": "4dccb8bd-e902-408c-b4e4-7d8da52533a3",
   "metadata": {},
   "source": [
    "#### controller"
   ]
  },
  {
   "cell_type": "code",
   "execution_count": 18,
   "id": "d8de9b65-1732-483d-a3ec-9951e88cb64a",
   "metadata": {},
   "outputs": [
    {
     "data": {
      "text/html": [
       "<style type=\"text/css\">\n",
       "#T_2e409 th {\n",
       "  font-size: 120%;\n",
       "  text-align: center;\n",
       "}\n",
       "#T_2e409 .row_heading {\n",
       "  display: none;;\n",
       "}\n",
       "#T_2e409  .blank {\n",
       "  display: none;;\n",
       "}\n",
       "#T_2e409_row0_col0, #T_2e409_row1_col0, #T_2e409_row2_col0, #T_2e409_row3_col0, #T_2e409_row4_col0 {\n",
       "  text-align: left;\n",
       "  font-weight: bold;\n",
       "  font-size: 120%;\n",
       "}\n",
       "#T_2e409_row0_col1, #T_2e409_row1_col1, #T_2e409_row2_col1, #T_2e409_row3_col1, #T_2e409_row4_col1 {\n",
       "  text-align: left;\n",
       "}\n",
       "</style>\n",
       "<table id=\"T_2e409\">\n",
       "  <thead>\n",
       "    <tr>\n",
       "      <th class=\"blank level0\" >&nbsp;</th>\n",
       "      <th id=\"T_2e409_level0_col0\" class=\"col_heading level0 col0\" >use_case</th>\n",
       "      <th id=\"T_2e409_level0_col1\" class=\"col_heading level0 col1\" >values</th>\n",
       "    </tr>\n",
       "  </thead>\n",
       "  <tbody>\n",
       "    <tr>\n",
       "      <th id=\"T_2e409_level0_row0\" class=\"row_heading level0 row0\" >0</th>\n",
       "      <td id=\"T_2e409_row0_col0\" class=\"data row0 col0\" >title</td>\n",
       "      <td id=\"T_2e409_row0_col1\" class=\"data row0 col1\" >Rag Demo</td>\n",
       "    </tr>\n",
       "    <tr>\n",
       "      <th id=\"T_2e409_level0_row1\" class=\"row_heading level0 row1\" >1</th>\n",
       "      <td id=\"T_2e409_row1_col0\" class=\"data row1 col0\" >domain</td>\n",
       "      <td id=\"T_2e409_row1_col1\" class=\"data row1 col1\" >General</td>\n",
       "    </tr>\n",
       "    <tr>\n",
       "      <th id=\"T_2e409_level0_row2\" class=\"row_heading level0 row2\" >2</th>\n",
       "      <td id=\"T_2e409_row2_col0\" class=\"data row2 col0\" >situation</td>\n",
       "      <td id=\"T_2e409_row2_col1\" class=\"data row2 col1\" >HUB requirement for better access to documentation</td>\n",
       "    </tr>\n",
       "    <tr>\n",
       "      <th id=\"T_2e409_level0_row3\" class=\"row_heading level0 row3\" >3</th>\n",
       "      <td id=\"T_2e409_row3_col0\" class=\"data row3 col0\" >opportunity</td>\n",
       "      <td id=\"T_2e409_row3_col1\" class=\"data row3 col1\" >Improve accessibility through a RAG</td>\n",
       "    </tr>\n",
       "    <tr>\n",
       "      <th id=\"T_2e409_level0_row4\" class=\"row_heading level0 row4\" >4</th>\n",
       "      <td id=\"T_2e409_row4_col0\" class=\"data row4 col0\" >actions</td>\n",
       "      <td id=\"T_2e409_row4_col1\" class=\"data row4 col1\" >build a catalog of embedded documents</td>\n",
       "    </tr>\n",
       "  </tbody>\n",
       "</table>\n"
      ],
      "text/plain": [
       "<pandas.io.formats.style.Styler at 0x7fd6f15e5390>"
      ]
     },
     "execution_count": 18,
     "metadata": {},
     "output_type": "execute_result"
    }
   ],
   "source": [
    "ctr.report_use_case()"
   ]
  },
  {
   "cell_type": "code",
   "execution_count": 19,
   "id": "1a18d5d0-2201-48fd-a63a-b197134b9e7e",
   "metadata": {},
   "outputs": [
    {
     "data": {
      "text/html": [
       "<style type=\"text/css\">\n",
       "#T_d870c th {\n",
       "  font-size: 120%;\n",
       "  text-align: center;\n",
       "}\n",
       "#T_d870c .row_heading {\n",
       "  display: none;;\n",
       "}\n",
       "#T_d870c  .blank {\n",
       "  display: none;;\n",
       "}\n",
       "#T_d870c_row0_col0 {\n",
       "  text-align: left;\n",
       "  font-weight: bold;\n",
       "  font-size: 120%;\n",
       "}\n",
       "#T_d870c_row0_col1, #T_d870c_row0_col2, #T_d870c_row0_col3, #T_d870c_row0_col4 {\n",
       "  text-align: left;\n",
       "}\n",
       "</style>\n",
       "<table id=\"T_d870c\">\n",
       "  <thead>\n",
       "    <tr>\n",
       "      <th class=\"blank level0\" >&nbsp;</th>\n",
       "      <th id=\"T_d870c_level0_col0\" class=\"col_heading level0 col0\" >level</th>\n",
       "      <th id=\"T_d870c_level0_col1\" class=\"col_heading level0 col1\" >order</th>\n",
       "      <th id=\"T_d870c_level0_col2\" class=\"col_heading level0 col2\" >intent</th>\n",
       "      <th id=\"T_d870c_level0_col3\" class=\"col_heading level0 col3\" >parameters</th>\n",
       "      <th id=\"T_d870c_level0_col4\" class=\"col_heading level0 col4\" >creator</th>\n",
       "    </tr>\n",
       "  </thead>\n",
       "  <tbody>\n",
       "    <tr>\n",
       "      <th id=\"T_d870c_level0_row0\" class=\"row_heading level0 row0\" >0</th>\n",
       "      <td id=\"T_d870c_row0_col0\" class=\"data row0 col0\" >knowledge_demo</td>\n",
       "      <td id=\"T_d870c_row0_col1\" class=\"data row0 col1\" >0</td>\n",
       "      <td id=\"T_d870c_row0_col2\" class=\"data row0 col2\" >knowledge</td>\n",
       "      <td id=\"T_d870c_row0_col3\" class=\"data row0 col3\" >[\"task_name='demo'\", 'save_intent=False']</td>\n",
       "      <td id=\"T_d870c_row0_col4\" class=\"data row0 col4\" >default</td>\n",
       "    </tr>\n",
       "  </tbody>\n",
       "</table>\n"
      ],
      "text/plain": [
       "<pandas.io.formats.style.Styler at 0x7fd68f032800>"
      ]
     },
     "execution_count": 19,
     "metadata": {},
     "output_type": "execute_result"
    }
   ],
   "source": [
    "ctr.report_intent()"
   ]
  },
  {
   "cell_type": "markdown",
   "id": "e5d5d58f-e206-44eb-8d21-c7b23441f32f",
   "metadata": {},
   "source": [
    "#### knowledge"
   ]
  },
  {
   "cell_type": "code",
   "execution_count": 8,
   "id": "5a04e6b8-29d8-4b60-9c4a-2e0d8d213dc5",
   "metadata": {},
   "outputs": [],
   "source": [
    "from nn_rag import Knowledge"
   ]
  },
  {
   "cell_type": "code",
   "execution_count": null,
   "id": "016b9567-5518-4642-bbd3-63f3feb280e6",
   "metadata": {},
   "outputs": [],
   "source": [
    "kn = Knowledge.from_env('dem')"
   ]
  },
  {
   "cell_type": "code",
   "execution_count": 20,
   "id": "235f0ed5-f798-47c9-863a-b3ab14444189",
   "metadata": {},
   "outputs": [
    {
     "data": {
      "text/html": [
       "<style type=\"text/css\">\n",
       "#T_661b5 th {\n",
       "  font-size: 120%;\n",
       "  text-align: center;\n",
       "}\n",
       "#T_661b5 .row_heading {\n",
       "  display: none;;\n",
       "}\n",
       "#T_661b5  .blank {\n",
       "  display: none;;\n",
       "}\n",
       "#T_661b5_row0_col0, #T_661b5_row1_col0, #T_661b5_row2_col0, #T_661b5_row3_col0, #T_661b5_row4_col0 {\n",
       "  text-align: left;\n",
       "  font-weight: bold;\n",
       "  font-size: 120%;\n",
       "}\n",
       "#T_661b5_row0_col1, #T_661b5_row1_col1, #T_661b5_row2_col1, #T_661b5_row3_col1, #T_661b5_row4_col1 {\n",
       "  text-align: left;\n",
       "}\n",
       "</style>\n",
       "<table id=\"T_661b5\">\n",
       "  <thead>\n",
       "    <tr>\n",
       "      <th class=\"blank level0\" >&nbsp;</th>\n",
       "      <th id=\"T_661b5_level0_col0\" class=\"col_heading level0 col0\" >name</th>\n",
       "      <th id=\"T_661b5_level0_col1\" class=\"col_heading level0 col1\" >value</th>\n",
       "    </tr>\n",
       "  </thead>\n",
       "  <tbody>\n",
       "    <tr>\n",
       "      <th id=\"T_661b5_level0_row0\" class=\"row_heading level0 row0\" >0</th>\n",
       "      <td id=\"T_661b5_row0_col0\" class=\"data row0 col0\" >contract</td>\n",
       "      <td id=\"T_661b5_row0_col1\" class=\"data row0 col1\" >knowledge</td>\n",
       "    </tr>\n",
       "    <tr>\n",
       "      <th id=\"T_661b5_level0_row1\" class=\"row_heading level0 row1\" >1</th>\n",
       "      <td id=\"T_661b5_row1_col0\" class=\"data row1 col0\" >task</td>\n",
       "      <td id=\"T_661b5_row1_col1\" class=\"data row1 col1\" >demo</td>\n",
       "    </tr>\n",
       "    <tr>\n",
       "      <th id=\"T_661b5_level0_row2\" class=\"row_heading level0 row2\" >2</th>\n",
       "      <td id=\"T_661b5_row2_col0\" class=\"data row2 col0\" >description</td>\n",
       "      <td id=\"T_661b5_row2_col1\" class=\"data row2 col1\" >a reusable component to embed documentation to build an AI knowledge base for a RAG</td>\n",
       "    </tr>\n",
       "    <tr>\n",
       "      <th id=\"T_661b5_level0_row3\" class=\"row_heading level0 row3\" >3</th>\n",
       "      <td id=\"T_661b5_row3_col0\" class=\"data row3 col0\" >status</td>\n",
       "      <td id=\"T_661b5_row3_col1\" class=\"data row3 col1\" >discovery</td>\n",
       "    </tr>\n",
       "    <tr>\n",
       "      <th id=\"T_661b5_level0_row4\" class=\"row_heading level0 row4\" >4</th>\n",
       "      <td id=\"T_661b5_row4_col0\" class=\"data row4 col0\" >version</td>\n",
       "      <td id=\"T_661b5_row4_col1\" class=\"data row4 col1\" >0.0.1</td>\n",
       "    </tr>\n",
       "  </tbody>\n",
       "</table>\n"
      ],
      "text/plain": [
       "<pandas.io.formats.style.Styler at 0x7fd68f0321a0>"
      ]
     },
     "execution_count": 20,
     "metadata": {},
     "output_type": "execute_result"
    }
   ],
   "source": [
    "kn.report_task()"
   ]
  },
  {
   "cell_type": "code",
   "execution_count": 21,
   "id": "c7222baf-248d-4edd-8c80-2590f25b4f86",
   "metadata": {},
   "outputs": [
    {
     "data": {
      "text/html": [
       "<style type=\"text/css\">\n",
       "#T_66240 th {\n",
       "  font-size: 120%;\n",
       "  text-align: center;\n",
       "}\n",
       "#T_66240 .row_heading {\n",
       "  display: none;;\n",
       "}\n",
       "#T_66240  .blank {\n",
       "  display: none;;\n",
       "}\n",
       "#T_66240_row0_col0, #T_66240_row1_col0, #T_66240_row2_col0, #T_66240_row3_col0, #T_66240_row4_col0 {\n",
       "  text-align: left;\n",
       "  font-weight: bold;\n",
       "  font-size: 120%;\n",
       "}\n",
       "#T_66240_row0_col1, #T_66240_row0_col2, #T_66240_row0_col3, #T_66240_row0_col4, #T_66240_row1_col1, #T_66240_row1_col2, #T_66240_row1_col3, #T_66240_row1_col4, #T_66240_row2_col1, #T_66240_row2_col2, #T_66240_row2_col3, #T_66240_row2_col4, #T_66240_row3_col1, #T_66240_row3_col2, #T_66240_row3_col3, #T_66240_row3_col4, #T_66240_row4_col1, #T_66240_row4_col2, #T_66240_row4_col3, #T_66240_row4_col4 {\n",
       "  text-align: left;\n",
       "}\n",
       "</style>\n",
       "<table id=\"T_66240\">\n",
       "  <thead>\n",
       "    <tr>\n",
       "      <th class=\"blank level0\" >&nbsp;</th>\n",
       "      <th id=\"T_66240_level0_col0\" class=\"col_heading level0 col0\" >level</th>\n",
       "      <th id=\"T_66240_level0_col1\" class=\"col_heading level0 col1\" >order</th>\n",
       "      <th id=\"T_66240_level0_col2\" class=\"col_heading level0 col2\" >intent</th>\n",
       "      <th id=\"T_66240_level0_col3\" class=\"col_heading level0 col3\" >parameters</th>\n",
       "      <th id=\"T_66240_level0_col4\" class=\"col_heading level0 col4\" >creator</th>\n",
       "    </tr>\n",
       "  </thead>\n",
       "  <tbody>\n",
       "    <tr>\n",
       "      <th id=\"T_66240_level0_row0\" class=\"row_heading level0 row0\" >0</th>\n",
       "      <td id=\"T_66240_row0_col0\" class=\"data row0 col0\" >primary</td>\n",
       "      <td id=\"T_66240_row0_col1\" class=\"data row0 col1\" >0</td>\n",
       "      <td id=\"T_66240_row0_col2\" class=\"data row0 col2\" >pattern_replace</td>\n",
       "      <td id=\"T_66240_row0_col3\" class=\"data row0 col3\" >[\"header='text'\", \"pattern='\\n'\", \"replacement=' '\", 'save_intent=False']</td>\n",
       "      <td id=\"T_66240_row0_col4\" class=\"data row0 col4\" >default</td>\n",
       "    </tr>\n",
       "    <tr>\n",
       "      <th id=\"T_66240_level0_row1\" class=\"row_heading level0 row1\" >1</th>\n",
       "      <td id=\"T_66240_row1_col0\" class=\"data row1 col0\" ></td>\n",
       "      <td id=\"T_66240_row1_col1\" class=\"data row1 col1\" >1</td>\n",
       "      <td id=\"T_66240_row1_col2\" class=\"data row1 col2\" >pattern_replace</td>\n",
       "      <td id=\"T_66240_row1_col3\" class=\"data row1 col3\" >[\"header='text'\", \"pattern='  '\", \"replacement=' '\", 'save_intent=False']</td>\n",
       "      <td id=\"T_66240_row1_col4\" class=\"data row1 col4\" >default</td>\n",
       "    </tr>\n",
       "    <tr>\n",
       "      <th id=\"T_66240_level0_row2\" class=\"row_heading level0 row2\" >2</th>\n",
       "      <td id=\"T_66240_row2_col0\" class=\"data row2 col0\" ></td>\n",
       "      <td id=\"T_66240_row2_col1\" class=\"data row2 col1\" >2</td>\n",
       "      <td id=\"T_66240_row2_col2\" class=\"data row2 col2\" >text_profiler</td>\n",
       "      <td id=\"T_66240_row2_col3\" class=\"data row2 col3\" >['save_intent=False']</td>\n",
       "      <td id=\"T_66240_row2_col4\" class=\"data row2 col4\" >default</td>\n",
       "    </tr>\n",
       "    <tr>\n",
       "      <th id=\"T_66240_level0_row3\" class=\"row_heading level0 row3\" >3</th>\n",
       "      <td id=\"T_66240_row3_col0\" class=\"data row3 col0\" ></td>\n",
       "      <td id=\"T_66240_row3_col1\" class=\"data row3 col1\" >3</td>\n",
       "      <td id=\"T_66240_row3_col2\" class=\"data row3 col2\" >sentence_chunks</td>\n",
       "      <td id=\"T_66240_row3_col3\" class=\"data row3 col3\" >['num_sentence_chunk_size=10', 'save_intent=False']</td>\n",
       "      <td id=\"T_66240_row3_col4\" class=\"data row3 col4\" >default</td>\n",
       "    </tr>\n",
       "    <tr>\n",
       "      <th id=\"T_66240_level0_row4\" class=\"row_heading level0 row4\" >4</th>\n",
       "      <td id=\"T_66240_row4_col0\" class=\"data row4 col0\" ></td>\n",
       "      <td id=\"T_66240_row4_col1\" class=\"data row4 col1\" >4</td>\n",
       "      <td id=\"T_66240_row4_col2\" class=\"data row4 col2\" >chunk_embedding</td>\n",
       "      <td id=\"T_66240_row4_col3\" class=\"data row4 col3\" >[\"batch_size='${HADRON_EMBEDDING_BATCH_SIZE}'\", \"embedding_name='${HADRON_EMBEDDING_MODEL_NAME}'\", \"device='${HADRON_EMBEDDING_DEVICE}'\", 'save_intent=False']</td>\n",
       "      <td id=\"T_66240_row4_col4\" class=\"data row4 col4\" >default</td>\n",
       "    </tr>\n",
       "  </tbody>\n",
       "</table>\n"
      ],
      "text/plain": [
       "<pandas.io.formats.style.Styler at 0x7fd7279f2b00>"
      ]
     },
     "execution_count": 21,
     "metadata": {},
     "output_type": "execute_result"
    }
   ],
   "source": [
    "kn.report_intent()"
   ]
  },
  {
   "cell_type": "code",
   "execution_count": 22,
   "id": "753008f8-1ce2-49f1-b789-774e1ad5850f",
   "metadata": {},
   "outputs": [
    {
     "data": {
      "text/html": [
       "<style type=\"text/css\">\n",
       "#T_dfa41 th {\n",
       "  font-size: 120%;\n",
       "  text-align: center;\n",
       "}\n",
       "#T_dfa41 .row_heading {\n",
       "  display: none;;\n",
       "}\n",
       "#T_dfa41  .blank {\n",
       "  display: none;;\n",
       "}\n",
       "#T_dfa41_row0_col0, #T_dfa41_row1_col0 {\n",
       "  text-align: left;\n",
       "  font-weight: bold;\n",
       "  font-size: 120%;\n",
       "}\n",
       "#T_dfa41_row0_col1, #T_dfa41_row0_col2, #T_dfa41_row0_col3, #T_dfa41_row0_col4, #T_dfa41_row0_col5, #T_dfa41_row0_col6, #T_dfa41_row0_col7, #T_dfa41_row1_col1, #T_dfa41_row1_col2, #T_dfa41_row1_col3, #T_dfa41_row1_col4, #T_dfa41_row1_col5, #T_dfa41_row1_col6, #T_dfa41_row1_col7 {\n",
       "  text-align: left;\n",
       "}\n",
       "</style>\n",
       "<table id=\"T_dfa41\">\n",
       "  <thead>\n",
       "    <tr>\n",
       "      <th class=\"blank level0\" >&nbsp;</th>\n",
       "      <th id=\"T_dfa41_level0_col0\" class=\"col_heading level0 col0\" >connector_name</th>\n",
       "      <th id=\"T_dfa41_level0_col1\" class=\"col_heading level0 col1\" >uri</th>\n",
       "      <th id=\"T_dfa41_level0_col2\" class=\"col_heading level0 col2\" >module_name</th>\n",
       "      <th id=\"T_dfa41_level0_col3\" class=\"col_heading level0 col3\" >handler</th>\n",
       "      <th id=\"T_dfa41_level0_col4\" class=\"col_heading level0 col4\" >version</th>\n",
       "      <th id=\"T_dfa41_level0_col5\" class=\"col_heading level0 col5\" >kwargs</th>\n",
       "      <th id=\"T_dfa41_level0_col6\" class=\"col_heading level0 col6\" >query</th>\n",
       "      <th id=\"T_dfa41_level0_col7\" class=\"col_heading level0 col7\" >aligned</th>\n",
       "    </tr>\n",
       "  </thead>\n",
       "  <tbody>\n",
       "    <tr>\n",
       "      <th id=\"T_dfa41_level0_row0\" class=\"row_heading level0 row0\" >0</th>\n",
       "      <td id=\"T_dfa41_row0_col0\" class=\"data row0 col0\" >primary_source</td>\n",
       "      <td id=\"T_dfa41_row0_col1\" class=\"data row0 col1\" >{HADRON_KNOWLEDGE_SOURCE_URI}</td>\n",
       "      <td id=\"T_dfa41_row0_col2\" class=\"data row0 col2\" >nn_rag.handlers.knowledge_handlers</td>\n",
       "      <td id=\"T_dfa41_row0_col3\" class=\"data row0 col3\" >KnowledgePersistHandler</td>\n",
       "      <td id=\"T_dfa41_row0_col4\" class=\"data row0 col4\" >0.0.1</td>\n",
       "      <td id=\"T_dfa41_row0_col5\" class=\"data row0 col5\" ></td>\n",
       "      <td id=\"T_dfa41_row0_col6\" class=\"data row0 col6\" ></td>\n",
       "      <td id=\"T_dfa41_row0_col7\" class=\"data row0 col7\" >False</td>\n",
       "    </tr>\n",
       "    <tr>\n",
       "      <th id=\"T_dfa41_level0_row1\" class=\"row_heading level0 row1\" >1</th>\n",
       "      <td id=\"T_dfa41_row1_col0\" class=\"data row1 col0\" >primary_persist</td>\n",
       "      <td id=\"T_dfa41_row1_col1\" class=\"data row1 col1\" >{HADRON_KNOWLEDGE_PERSIST_URI}</td>\n",
       "      <td id=\"T_dfa41_row1_col2\" class=\"data row1 col2\" >nn_rag.handlers.knowledge_handlers</td>\n",
       "      <td id=\"T_dfa41_row1_col3\" class=\"data row1 col3\" >KnowledgePersistHandler</td>\n",
       "      <td id=\"T_dfa41_row1_col4\" class=\"data row1 col4\" >0.0.1</td>\n",
       "      <td id=\"T_dfa41_row1_col5\" class=\"data row1 col5\" ></td>\n",
       "      <td id=\"T_dfa41_row1_col6\" class=\"data row1 col6\" ></td>\n",
       "      <td id=\"T_dfa41_row1_col7\" class=\"data row1 col7\" >False</td>\n",
       "    </tr>\n",
       "  </tbody>\n",
       "</table>\n"
      ],
      "text/plain": [
       "<pandas.io.formats.style.Styler at 0x7fd68f033490>"
      ]
     },
     "execution_count": 22,
     "metadata": {},
     "output_type": "execute_result"
    }
   ],
   "source": [
    "kn.report_connectors()"
   ]
  },
  {
   "cell_type": "code",
   "execution_count": 23,
   "id": "7c414d23-78e4-432e-b02d-396d6f257ce9",
   "metadata": {},
   "outputs": [
    {
     "data": {
      "text/html": [
       "<style type=\"text/css\">\n",
       "#T_8eff7 th {\n",
       "  font-size: 120%;\n",
       "  text-align: center;\n",
       "}\n",
       "#T_8eff7 .row_heading {\n",
       "  display: none;;\n",
       "}\n",
       "#T_8eff7  .blank {\n",
       "  display: none;;\n",
       "}\n",
       "#T_8eff7_row0_col0, #T_8eff7_row1_col0, #T_8eff7_row2_col0, #T_8eff7_row3_col0, #T_8eff7_row4_col0 {\n",
       "  text-align: left;\n",
       "  font-weight: bold;\n",
       "  font-size: 120%;\n",
       "}\n",
       "#T_8eff7_row0_col1, #T_8eff7_row1_col1, #T_8eff7_row2_col1, #T_8eff7_row3_col1, #T_8eff7_row4_col1 {\n",
       "  text-align: left;\n",
       "}\n",
       "</style>\n",
       "<table id=\"T_8eff7\">\n",
       "  <thead>\n",
       "    <tr>\n",
       "      <th class=\"blank level0\" >&nbsp;</th>\n",
       "      <th id=\"T_8eff7_level0_col0\" class=\"col_heading level0 col0\" >name</th>\n",
       "      <th id=\"T_8eff7_level0_col1\" class=\"col_heading level0 col1\" >value</th>\n",
       "    </tr>\n",
       "  </thead>\n",
       "  <tbody>\n",
       "    <tr>\n",
       "      <th id=\"T_8eff7_level0_row0\" class=\"row_heading level0 row0\" >0</th>\n",
       "      <td id=\"T_8eff7_row0_col0\" class=\"data row0 col0\" >contract</td>\n",
       "      <td id=\"T_8eff7_row0_col1\" class=\"data row0 col1\" >knowledge</td>\n",
       "    </tr>\n",
       "    <tr>\n",
       "      <th id=\"T_8eff7_level0_row1\" class=\"row_heading level0 row1\" >1</th>\n",
       "      <td id=\"T_8eff7_row1_col0\" class=\"data row1 col0\" >task</td>\n",
       "      <td id=\"T_8eff7_row1_col1\" class=\"data row1 col1\" >demo</td>\n",
       "    </tr>\n",
       "    <tr>\n",
       "      <th id=\"T_8eff7_level0_row2\" class=\"row_heading level0 row2\" >2</th>\n",
       "      <td id=\"T_8eff7_row2_col0\" class=\"data row2 col0\" >description</td>\n",
       "      <td id=\"T_8eff7_row2_col1\" class=\"data row2 col1\" >a reusable component to embed documentation to build an AI knowledge base for a RAG</td>\n",
       "    </tr>\n",
       "    <tr>\n",
       "      <th id=\"T_8eff7_level0_row3\" class=\"row_heading level0 row3\" >3</th>\n",
       "      <td id=\"T_8eff7_row3_col0\" class=\"data row3 col0\" >status</td>\n",
       "      <td id=\"T_8eff7_row3_col1\" class=\"data row3 col1\" >discovery</td>\n",
       "    </tr>\n",
       "    <tr>\n",
       "      <th id=\"T_8eff7_level0_row4\" class=\"row_heading level0 row4\" >4</th>\n",
       "      <td id=\"T_8eff7_row4_col0\" class=\"data row4 col0\" >version</td>\n",
       "      <td id=\"T_8eff7_row4_col1\" class=\"data row4 col1\" >0.0.1</td>\n",
       "    </tr>\n",
       "  </tbody>\n",
       "</table>\n"
      ],
      "text/plain": [
       "<pandas.io.formats.style.Styler at 0x7fd6f15e5b10>"
      ]
     },
     "execution_count": 23,
     "metadata": {},
     "output_type": "execute_result"
    }
   ],
   "source": [
    "kn.report_task()"
   ]
  },
  {
   "cell_type": "code",
   "execution_count": null,
   "id": "33196185-0cb8-48f0-bbe1-12ac69a41a74",
   "metadata": {},
   "outputs": [],
   "source": []
  }
 ],
 "metadata": {
  "kernelspec": {
   "display_name": "Python 3 (ipykernel)",
   "language": "python",
   "name": "python3"
  },
  "language_info": {
   "codemirror_mode": {
    "name": "ipython",
    "version": 3
   },
   "file_extension": ".py",
   "mimetype": "text/x-python",
   "name": "python",
   "nbconvert_exporter": "python",
   "pygments_lexer": "ipython3",
   "version": "3.10.14"
  }
 },
 "nbformat": 4,
 "nbformat_minor": 5
}
