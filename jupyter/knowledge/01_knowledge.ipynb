{
 "cells": [
  {
   "cell_type": "code",
   "execution_count": 42,
   "id": "962e2eab-fef2-4393-8e03-836e7921a99d",
   "metadata": {},
   "outputs": [],
   "source": [
    "# saves you having to use print as all exposed variables are printed in the cell\n",
    "from IPython.core.interactiveshell import InteractiveShell\n",
    "InteractiveShell.ast_node_interactivity = \"all\""
   ]
  },
  {
   "cell_type": "code",
   "execution_count": 43,
   "id": "68bdaf3a-78fb-438b-9590-d4feb46ad151",
   "metadata": {},
   "outputs": [],
   "source": [
    "import pyarrow as pa\n",
    "import pyarrow.compute as pc\n",
    "from nn_rag import Knowledge"
   ]
  },
  {
   "cell_type": "markdown",
   "id": "709d851e-70d0-4767-819f-e5571262c431",
   "metadata": {},
   "source": [
    "### Instantiate capability"
   ]
  },
  {
   "cell_type": "code",
   "execution_count": 44,
   "id": "b85ae8c1-598a-4764-97b0-7b882e3fadc8",
   "metadata": {},
   "outputs": [],
   "source": [
    "kn = Knowledge.from_memory()"
   ]
  },
  {
   "cell_type": "code",
   "execution_count": 45,
   "id": "361cb284-9dbd-461b-9fbe-6abf87fed6c1",
   "metadata": {},
   "outputs": [],
   "source": [
    "tbl = kn.set_source_uri(\"source/Gen AI Best Practices.pdf\").load_source_canonical()\n",
    "kn.set_persist_uri('./hadron/data/gen_ai_best_practice.parquet')"
   ]
  },
  {
   "cell_type": "code",
   "execution_count": 46,
   "id": "b990c759-1ea5-467c-9f33-b9acd6a47ac7",
   "metadata": {},
   "outputs": [
    {
     "data": {
      "text/plain": [
       "(1, 1)"
      ]
     },
     "execution_count": 46,
     "metadata": {},
     "output_type": "execute_result"
    },
    {
     "data": {
      "text/plain": [
       "['text']"
      ]
     },
     "execution_count": 46,
     "metadata": {},
     "output_type": "execute_result"
    },
    {
     "data": {
      "text/plain": [
       "'Best Practices in Generative AI\\nResponsible use and development \\nin the modern workplace\\n© Responsible AI Institute 2024  \\nAll Rights Reserved | Do Not Use Without Permission\\n\\x0cExecutive Summary\\nGenerative AI, a technology capable of producing realistic content in the form of text, images,\\nsound, and'"
      ]
     },
     "execution_count": 46,
     "metadata": {},
     "output_type": "execute_result"
    }
   ],
   "source": [
    "tbl.shape\n",
    "tbl.column_names\n",
    "tbl.column('text').to_pylist()[0][:300]"
   ]
  },
  {
   "cell_type": "markdown",
   "id": "92fe3fce-bcba-4c3c-a422-09595a350230",
   "metadata": {},
   "source": [
    "### Tidy the text"
   ]
  },
  {
   "cell_type": "code",
   "execution_count": 47,
   "id": "29e41f1b-9f7d-4679-866b-345d7ea9fdbb",
   "metadata": {},
   "outputs": [],
   "source": [
    "tbl = kn.tools.correlate_replace(tbl, 'text', '\\n', ' ', intent_order=-1)\n",
    "tbl = kn.tools.correlate_replace(tbl, 'text', '  ', ' ', intent_order=-1)\n",
    "tbl = kn.tools.correlate_replace(tbl, 'text', r'\\.([A-Z])', r'. \\1', is_regex=True, intent_order=-1)"
   ]
  },
  {
   "cell_type": "markdown",
   "id": "d26fef06-d700-4ec1-944e-cdf80ce03df0",
   "metadata": {},
   "source": [
    "### Profling\n",
    "#### discovery"
   ]
  },
  {
   "cell_type": "code",
   "execution_count": 7,
   "id": "b103bdd8-3502-4028-89d7-81b247024742",
   "metadata": {},
   "outputs": [
    {
     "data": {
      "text/plain": [
       "(392, 5)"
      ]
     },
     "execution_count": 7,
     "metadata": {},
     "output_type": "execute_result"
    },
    {
     "data": {
      "text/html": [
       "<style type=\"text/css\">\n",
       "#T_240e5 th {\n",
       "  font-size: 120%;\n",
       "  text-align: center;\n",
       "}\n",
       "#T_240e5 .row_heading {\n",
       "  display: none;;\n",
       "}\n",
       "#T_240e5  .blank {\n",
       "  display: none;;\n",
       "}\n",
       "#T_240e5_row0_col0, #T_240e5_row0_col1, #T_240e5_row0_col2, #T_240e5_row0_col3, #T_240e5_row0_col4, #T_240e5_row1_col0, #T_240e5_row1_col1, #T_240e5_row1_col2, #T_240e5_row1_col3, #T_240e5_row1_col4, #T_240e5_row2_col0, #T_240e5_row2_col1, #T_240e5_row2_col2, #T_240e5_row2_col3, #T_240e5_row2_col4, #T_240e5_row3_col0, #T_240e5_row3_col1, #T_240e5_row3_col2, #T_240e5_row3_col3, #T_240e5_row3_col4, #T_240e5_row4_col0, #T_240e5_row4_col1, #T_240e5_row4_col2, #T_240e5_row4_col3, #T_240e5_row4_col4 {\n",
       "  text-align: left;\n",
       "}\n",
       "</style>\n",
       "<table id=\"T_240e5\">\n",
       "  <thead>\n",
       "    <tr>\n",
       "      <th class=\"blank level0\" >&nbsp;</th>\n",
       "      <th id=\"T_240e5_level0_col0\" class=\"col_heading level0 col0\" >sentence</th>\n",
       "      <th id=\"T_240e5_level0_col1\" class=\"col_heading level0 col1\" >sentence_num</th>\n",
       "      <th id=\"T_240e5_level0_col2\" class=\"col_heading level0 col2\" >char_count</th>\n",
       "      <th id=\"T_240e5_level0_col3\" class=\"col_heading level0 col3\" >word_count</th>\n",
       "      <th id=\"T_240e5_level0_col4\" class=\"col_heading level0 col4\" >token_count</th>\n",
       "    </tr>\n",
       "  </thead>\n",
       "  <tbody>\n",
       "    <tr>\n",
       "      <th id=\"T_240e5_level0_row0\" class=\"row_heading level0 row0\" >0</th>\n",
       "      <td id=\"T_240e5_row0_col0\" class=\"data row0 col0\" >Best Practices in Generative AI Responsible use and development in the modern workplace © Responsible AI Institute 2024  All Rights Reserved | Do Not Use Without Permission \f",
       "Executive Summary Generative AI, a technology capable of producing realistic content in the form of text, images, sound, and more, presents signiﬁcant opportunities and challenges for businesses today.</td>\n",
       "      <td id=\"T_240e5_row0_col1\" class=\"data row0 col1\" >0</td>\n",
       "      <td id=\"T_240e5_row0_col2\" class=\"data row0 col2\" >375</td>\n",
       "      <td id=\"T_240e5_row0_col3\" class=\"data row0 col3\" >56</td>\n",
       "      <td id=\"T_240e5_row0_col4\" class=\"data row0 col4\" >94</td>\n",
       "    </tr>\n",
       "    <tr>\n",
       "      <th id=\"T_240e5_level0_row1\" class=\"row_heading level0 row1\" >1</th>\n",
       "      <td id=\"T_240e5_row1_col0\" class=\"data row1 col0\" >With generative AI (GenAI) applications ranging from customer service automation to content creation, the recent explosive adoption of LLM technologies like ChatGPT underscores the potential transformative scale of AI impact, both positive and negative.</td>\n",
       "      <td id=\"T_240e5_row1_col1\" class=\"data row1 col1\" >1</td>\n",
       "      <td id=\"T_240e5_row1_col2\" class=\"data row1 col2\" >253</td>\n",
       "      <td id=\"T_240e5_row1_col3\" class=\"data row1 col3\" >34</td>\n",
       "      <td id=\"T_240e5_row1_col4\" class=\"data row1 col4\" >63</td>\n",
       "    </tr>\n",
       "    <tr>\n",
       "      <th id=\"T_240e5_level0_row2\" class=\"row_heading level0 row2\" >2</th>\n",
       "      <td id=\"T_240e5_row2_col0\" class=\"data row2 col0\" >Potential risks and harms from generative AI impact human rights, privacy, security, labor, fairness, sustainability, and more.</td>\n",
       "      <td id=\"T_240e5_row2_col1\" class=\"data row2 col1\" >2</td>\n",
       "      <td id=\"T_240e5_row2_col2\" class=\"data row2 col2\" >127</td>\n",
       "      <td id=\"T_240e5_row2_col3\" class=\"data row2 col3\" >17</td>\n",
       "      <td id=\"T_240e5_row2_col4\" class=\"data row2 col4\" >32</td>\n",
       "    </tr>\n",
       "    <tr>\n",
       "      <th id=\"T_240e5_level0_row3\" class=\"row_heading level0 row3\" >3</th>\n",
       "      <td id=\"T_240e5_row3_col0\" class=\"data row3 col0\" >Without investing effort to comprehensively address these issues across the enterprise, businesses are exposed to the risks of compliance penalties, consumer harm, loss of trust, damages, and more.</td>\n",
       "      <td id=\"T_240e5_row3_col1\" class=\"data row3 col1\" >3</td>\n",
       "      <td id=\"T_240e5_row3_col2\" class=\"data row3 col2\" >197</td>\n",
       "      <td id=\"T_240e5_row3_col3\" class=\"data row3 col3\" >28</td>\n",
       "      <td id=\"T_240e5_row3_col4\" class=\"data row3 col4\" >49</td>\n",
       "    </tr>\n",
       "    <tr>\n",
       "      <th id=\"T_240e5_level0_row4\" class=\"row_heading level0 row4\" >4</th>\n",
       "      <td id=\"T_240e5_row4_col0\" class=\"data row4 col0\" >To position themselves to responsibly capitalize on this potential, organizations must implement governance to pave the way for trustworthy AI deployment, procurement, sale, and use, as applicable.</td>\n",
       "      <td id=\"T_240e5_row4_col1\" class=\"data row4 col1\" >4</td>\n",
       "      <td id=\"T_240e5_row4_col2\" class=\"data row4 col2\" >197</td>\n",
       "      <td id=\"T_240e5_row4_col3\" class=\"data row4 col3\" >27</td>\n",
       "      <td id=\"T_240e5_row4_col4\" class=\"data row4 col4\" >49</td>\n",
       "    </tr>\n",
       "  </tbody>\n",
       "</table>\n"
      ],
      "text/plain": [
       "<pandas.io.formats.style.Styler at 0x7f8d2cd43fd0>"
      ]
     },
     "execution_count": 7,
     "metadata": {},
     "output_type": "execute_result"
    }
   ],
   "source": [
    "profile = kn.tools.text_profiler(tbl)\n",
    "profile.shape\n",
    "kn.table_report(profile, head=5)"
   ]
  },
  {
   "cell_type": "code",
   "execution_count": 39,
   "id": "ac1b8436-846a-4824-95ad-4779be9f640f",
   "metadata": {},
   "outputs": [
    {
     "name": "stdout",
     "output_type": "stream",
     "text": [
      "min word count 1\n"
     ]
    }
   ],
   "source": [
    "print(f\"min word count {pc.min(profile['word_count']).as_py()}\")\n",
    "print(f\"max word count {pc.max(profile['word_count']).as_py()}\")\n",
    "print(f\"mean word count {pc.mean(profile['word_count']).as_py()}\")"
   ]
  },
  {
   "cell_type": "code",
   "execution_count": 41,
   "id": "44b751ef-bd2e-44f5-bfad-5622fa36a0d3",
   "metadata": {},
   "outputs": [
    {
     "name": "stdout",
     "output_type": "stream",
     "text": [
      "sentence less than four words 17\n"
     ]
    }
   ],
   "source": [
    "print(f\"sentence less than four words {pc.count(pc.filter(profile['word_count'], pc.less_equal(profile['word_count'], 3))).as_py()}\")"
   ]
  },
  {
   "cell_type": "markdown",
   "id": "038bf8a1-319a-48c9-89be-a547ace47e90",
   "metadata": {},
   "source": [
    "#### clean"
   ]
  },
  {
   "cell_type": "code",
   "execution_count": null,
   "id": "743aae24-6d37-4479-b827-fe5a9a6123f8",
   "metadata": {},
   "outputs": [],
   "source": [
    "tbl = kn.tools.correlate_replace(tbl, 'text', '\\n', ' ', intent_order=-1)\n",
    "tbl = kn.tools.correlate_replace(tbl, 'text', '  ', ' ', intent_order=-1)"
   ]
  },
  {
   "cell_type": "code",
   "execution_count": 9,
   "id": "4a10b987-08f7-4260-95da-5d8aea544264",
   "metadata": {},
   "outputs": [
    {
     "data": {
      "text/plain": [
       "(389, 5)"
      ]
     },
     "execution_count": 9,
     "metadata": {},
     "output_type": "execute_result"
    },
    {
     "data": {
      "text/html": [
       "<style type=\"text/css\">\n",
       "#T_fba92 th {\n",
       "  font-size: 120%;\n",
       "  text-align: center;\n",
       "}\n",
       "#T_fba92 .row_heading {\n",
       "  display: none;;\n",
       "}\n",
       "#T_fba92  .blank {\n",
       "  display: none;;\n",
       "}\n",
       "#T_fba92_row0_col0, #T_fba92_row0_col1, #T_fba92_row0_col2, #T_fba92_row0_col3, #T_fba92_row0_col4, #T_fba92_row1_col0, #T_fba92_row1_col1, #T_fba92_row1_col2, #T_fba92_row1_col3, #T_fba92_row1_col4, #T_fba92_row2_col0, #T_fba92_row2_col1, #T_fba92_row2_col2, #T_fba92_row2_col3, #T_fba92_row2_col4, #T_fba92_row3_col0, #T_fba92_row3_col1, #T_fba92_row3_col2, #T_fba92_row3_col3, #T_fba92_row3_col4 {\n",
       "  text-align: left;\n",
       "}\n",
       "</style>\n",
       "<table id=\"T_fba92\">\n",
       "  <thead>\n",
       "    <tr>\n",
       "      <th class=\"blank level0\" >&nbsp;</th>\n",
       "      <th id=\"T_fba92_level0_col0\" class=\"col_heading level0 col0\" >sentence</th>\n",
       "      <th id=\"T_fba92_level0_col1\" class=\"col_heading level0 col1\" >sentence_num</th>\n",
       "      <th id=\"T_fba92_level0_col2\" class=\"col_heading level0 col2\" >char_count</th>\n",
       "      <th id=\"T_fba92_level0_col3\" class=\"col_heading level0 col3\" >word_count</th>\n",
       "      <th id=\"T_fba92_level0_col4\" class=\"col_heading level0 col4\" >token_count</th>\n",
       "    </tr>\n",
       "  </thead>\n",
       "  <tbody>\n",
       "    <tr>\n",
       "      <th id=\"T_fba92_level0_row0\" class=\"row_heading level0 row0\" >0</th>\n",
       "      <td id=\"T_fba92_row0_col0\" class=\"data row0 col0\" >With generative AI (GenAI) applications ranging from customer service automation to content creation, the recent explosive adoption of LLM technologies like ChatGPT underscores the potential transformative scale of AI impact, both positive and negative.</td>\n",
       "      <td id=\"T_fba92_row0_col1\" class=\"data row0 col1\" >1</td>\n",
       "      <td id=\"T_fba92_row0_col2\" class=\"data row0 col2\" >253</td>\n",
       "      <td id=\"T_fba92_row0_col3\" class=\"data row0 col3\" >34</td>\n",
       "      <td id=\"T_fba92_row0_col4\" class=\"data row0 col4\" >63</td>\n",
       "    </tr>\n",
       "    <tr>\n",
       "      <th id=\"T_fba92_level0_row1\" class=\"row_heading level0 row1\" >1</th>\n",
       "      <td id=\"T_fba92_row1_col0\" class=\"data row1 col0\" >To position themselves to responsibly capitalize on this potential, organizations must implement governance to pave the way for trustworthy AI deployment, procurement, sale, and use, as applicable.</td>\n",
       "      <td id=\"T_fba92_row1_col1\" class=\"data row1 col1\" >4</td>\n",
       "      <td id=\"T_fba92_row1_col2\" class=\"data row1 col2\" >197</td>\n",
       "      <td id=\"T_fba92_row1_col3\" class=\"data row1 col3\" >27</td>\n",
       "      <td id=\"T_fba92_row1_col4\" class=\"data row1 col4\" >49</td>\n",
       "    </tr>\n",
       "    <tr>\n",
       "      <th id=\"T_fba92_level0_row2\" class=\"row_heading level0 row2\" >2</th>\n",
       "      <td id=\"T_fba92_row2_col0\" class=\"data row2 col0\" >Applying Responsible AI (RAI) frameworks to generative and other forms of AI across the organization can mitigate pressing risks and threats, allowing the technology’s potential to be maximized.</td>\n",
       "      <td id=\"T_fba92_row2_col1\" class=\"data row2 col1\" >5</td>\n",
       "      <td id=\"T_fba92_row2_col2\" class=\"data row2 col2\" >194</td>\n",
       "      <td id=\"T_fba92_row2_col3\" class=\"data row2 col3\" >28</td>\n",
       "      <td id=\"T_fba92_row2_col4\" class=\"data row2 col4\" >48</td>\n",
       "    </tr>\n",
       "    <tr>\n",
       "      <th id=\"T_fba92_level0_row3\" class=\"row_heading level0 row3\" >3</th>\n",
       "      <td id=\"T_fba92_row3_col0\" class=\"data row3 col0\" >The RAI Institute offers the following set of best practices for responsible generative AI use to guide AI practitioners, executive, and other professionals.</td>\n",
       "      <td id=\"T_fba92_row3_col1\" class=\"data row3 col1\" >6</td>\n",
       "      <td id=\"T_fba92_row3_col2\" class=\"data row3 col2\" >157</td>\n",
       "      <td id=\"T_fba92_row3_col3\" class=\"data row3 col3\" >23</td>\n",
       "      <td id=\"T_fba92_row3_col4\" class=\"data row3 col4\" >39</td>\n",
       "    </tr>\n",
       "  </tbody>\n",
       "</table>\n"
      ],
      "text/plain": [
       "<pandas.io.formats.style.Styler at 0x7f8d2d913fa0>"
      ]
     },
     "execution_count": 9,
     "metadata": {},
     "output_type": "execute_result"
    }
   ],
   "source": [
    "profile = kn.tools.text_profiler(tbl, to_drop=[0, (2,4)])\n",
    "profile.shape\n",
    "kn.table_report(profile, head=4)"
   ]
  },
  {
   "cell_type": "markdown",
   "id": "0942ae33-6616-4158-948c-b506f752f778",
   "metadata": {},
   "source": [
    "#### rebuild"
   ]
  },
  {
   "cell_type": "code",
   "execution_count": 10,
   "id": "fe64dac8-6e3b-4062-9a9a-a7196af98a28",
   "metadata": {},
   "outputs": [
    {
     "data": {
      "text/plain": [
       "(1, 1)"
      ]
     },
     "execution_count": 10,
     "metadata": {},
     "output_type": "execute_result"
    },
    {
     "data": {
      "text/plain": [
       "'With generative AI (GenAI) applications ranging from customer service automation to content creation, the recent explosive adoption of LLM technologies like ChatGPT underscores the potential transformative scale of AI impact, both positive and negative. Applying Responsible AI (RAI) frameworks to generative and other forms of AI across the organization can mitigate pressing risks and threats, allowing the technology’s potential to be maximized. The RAI Institute offers the following set of best practices for responsible generative AI use to guide AI practitioners, executive, and other professionals. These guidelines include recommendations related to gathering the right teams and tools, trac'"
      ]
     },
     "execution_count": 10,
     "metadata": {},
     "output_type": "execute_result"
    }
   ],
   "source": [
    "clean_text = kn.tools.text_profiler(tbl, to_drop=[0, (2,5)], as_text=True)\n",
    "clean_text.shape\n",
    "clean_text.column('text').to_pylist()[0][:700]"
   ]
  },
  {
   "cell_type": "markdown",
   "id": "5d00b208-3e72-435c-bdf1-deaa89c8de35",
   "metadata": {},
   "source": [
    "### Chunking"
   ]
  },
  {
   "cell_type": "code",
   "execution_count": 11,
   "id": "be78fdc2-df14-4fad-bcf2-60490b6e9629",
   "metadata": {},
   "outputs": [
    {
     "data": {
      "text/plain": [
       "(39, 7)"
      ]
     },
     "execution_count": 11,
     "metadata": {},
     "output_type": "execute_result"
    },
    {
     "data": {
      "text/plain": [
       "['text_name',\n",
       " 'chunk_number',\n",
       " 'sentence_chunk',\n",
       " 'chunk_sentence_count',\n",
       " 'chunk_char_count',\n",
       " 'chunk_word_count',\n",
       " 'chunk_token_count']"
      ]
     },
     "execution_count": 11,
     "metadata": {},
     "output_type": "execute_result"
    }
   ],
   "source": [
    "chunks = kn.tools.text_chunk(clean_text, text_name='GenAIBestPractice', num_sentence_chunk_size=10)\n",
    "chunks.shape\n",
    "chunks.column_names"
   ]
  },
  {
   "cell_type": "markdown",
   "id": "6caee61a-6506-4025-99d5-d2969a320a10",
   "metadata": {},
   "source": [
    "### Embedding"
   ]
  },
  {
   "cell_type": "code",
   "execution_count": 12,
   "id": "1caf4977-4398-45f5-9a48-af84a21cf7a7",
   "metadata": {},
   "outputs": [],
   "source": [
    "embedding = kn.tools.chunk_embedding(chunks, batch_size=32, embedding_name='all-mpnet-base-v2', device='cpu')"
   ]
  },
  {
   "cell_type": "code",
   "execution_count": 13,
   "id": "69f9ab6c-d6df-44a1-b420-1b6172d6726f",
   "metadata": {},
   "outputs": [
    {
     "data": {
      "text/plain": [
       "pyarrow.lib.Tensor"
      ]
     },
     "execution_count": 13,
     "metadata": {},
     "output_type": "execute_result"
    },
    {
     "data": {
      "text/plain": [
       "(39, 768)"
      ]
     },
     "execution_count": 13,
     "metadata": {},
     "output_type": "execute_result"
    }
   ],
   "source": [
    "type(embedding)\n",
    "embedding.shape"
   ]
  },
  {
   "cell_type": "code",
   "execution_count": 14,
   "id": "7bcd0df8-9233-42c6-94ba-3aabe16ea94b",
   "metadata": {},
   "outputs": [
    {
     "ename": "TypeError",
     "evalue": "Argument 'tensor' has incorrect type (expected pyarrow.lib.Tensor, got pyarrow.lib.Table)",
     "output_type": "error",
     "traceback": [
      "\u001b[0;31m---------------------------------------------------------------------------\u001b[0m",
      "\u001b[0;31mTypeError\u001b[0m                                 Traceback (most recent call last)",
      "Cell \u001b[0;32mIn[14], line 1\u001b[0m\n\u001b[0;32m----> 1\u001b[0m \u001b[43mkn\u001b[49m\u001b[38;5;241;43m.\u001b[39;49m\u001b[43mrun_component_pipeline\u001b[49m\u001b[43m(\u001b[49m\u001b[43m)\u001b[49m\n",
      "File \u001b[0;32m/opt/anaconda3/envs/neural/lib/python3.10/site-packages/nn_rag/components/abstract_common_component.py:60\u001b[0m, in \u001b[0;36mAbstractCommonComponent.run_component_pipeline\u001b[0;34m(self, intent_levels, run_book, seed, reset_changed, has_changed, **kwargs)\u001b[0m\n\u001b[1;32m     58\u001b[0m \u001b[38;5;28;01mfor\u001b[39;00m level \u001b[38;5;129;01min\u001b[39;00m intent_levels:\n\u001b[1;32m     59\u001b[0m     canonical \u001b[38;5;241m=\u001b[39m \u001b[38;5;28mself\u001b[39m\u001b[38;5;241m.\u001b[39mintent_model\u001b[38;5;241m.\u001b[39mrun_intent_pipeline(canonical\u001b[38;5;241m=\u001b[39mcanonical, intent_level\u001b[38;5;241m=\u001b[39mlevel, seed\u001b[38;5;241m=\u001b[39mseed, \u001b[38;5;241m*\u001b[39m\u001b[38;5;241m*\u001b[39mkwargs)\n\u001b[0;32m---> 60\u001b[0m \u001b[38;5;28;43mself\u001b[39;49m\u001b[38;5;241;43m.\u001b[39;49m\u001b[43msave_persist_canonical\u001b[49m\u001b[43m(\u001b[49m\u001b[43mcanonical\u001b[49m\u001b[43m)\u001b[49m\n\u001b[1;32m     61\u001b[0m \u001b[38;5;28;01mreturn\u001b[39;00m\n",
      "File \u001b[0;32m/opt/anaconda3/envs/neural/lib/python3.10/site-packages/nn_rag/components/abstract_common_component.py:106\u001b[0m, in \u001b[0;36mAbstractCommonComponent.save_persist_canonical\u001b[0;34m(self, canonical, auto_connectors, **kwargs)\u001b[0m\n\u001b[1;32m    104\u001b[0m     \u001b[38;5;28;01mif\u001b[39;00m \u001b[38;5;129;01mnot\u001b[39;00m \u001b[38;5;28mself\u001b[39m\u001b[38;5;241m.\u001b[39mpm\u001b[38;5;241m.\u001b[39mhas_connector(\u001b[38;5;28mself\u001b[39m\u001b[38;5;241m.\u001b[39mCONNECTOR_PERSIST):\n\u001b[1;32m    105\u001b[0m         \u001b[38;5;28mself\u001b[39m\u001b[38;5;241m.\u001b[39mset_persist()\n\u001b[0;32m--> 106\u001b[0m \u001b[38;5;28;43mself\u001b[39;49m\u001b[38;5;241;43m.\u001b[39;49m\u001b[43mpersist_canonical\u001b[49m\u001b[43m(\u001b[49m\u001b[43mconnector_name\u001b[49m\u001b[38;5;241;43m=\u001b[39;49m\u001b[38;5;28;43mself\u001b[39;49m\u001b[38;5;241;43m.\u001b[39;49m\u001b[43mCONNECTOR_PERSIST\u001b[49m\u001b[43m,\u001b[49m\u001b[43m \u001b[49m\u001b[43mcanonical\u001b[49m\u001b[38;5;241;43m=\u001b[39;49m\u001b[43mcanonical\u001b[49m\u001b[43m,\u001b[49m\u001b[43m \u001b[49m\u001b[38;5;241;43m*\u001b[39;49m\u001b[38;5;241;43m*\u001b[39;49m\u001b[43mkwargs\u001b[49m\u001b[43m)\u001b[49m\n",
      "File \u001b[0;32m/opt/anaconda3/envs/neural/lib/python3.10/site-packages/ds_core/components/abstract_component.py:860\u001b[0m, in \u001b[0;36mAbstractComponent.persist_canonical\u001b[0;34m(self, connector_name, canonical, **kwargs)\u001b[0m\n\u001b[1;32m    858\u001b[0m \u001b[38;5;28;01mif\u001b[39;00m \u001b[38;5;28mself\u001b[39m\u001b[38;5;241m.\u001b[39mpm\u001b[38;5;241m.\u001b[39mhas_connector(connector_name):\n\u001b[1;32m    859\u001b[0m     handler \u001b[38;5;241m=\u001b[39m \u001b[38;5;28mself\u001b[39m\u001b[38;5;241m.\u001b[39mpm\u001b[38;5;241m.\u001b[39mget_connector_handler(connector_name)\n\u001b[0;32m--> 860\u001b[0m     \u001b[43mhandler\u001b[49m\u001b[38;5;241;43m.\u001b[39;49m\u001b[43mpersist_canonical\u001b[49m\u001b[43m(\u001b[49m\u001b[43mcanonical\u001b[49m\u001b[43m,\u001b[49m\u001b[43m \u001b[49m\u001b[38;5;241;43m*\u001b[39;49m\u001b[38;5;241;43m*\u001b[39;49m\u001b[43mkwargs\u001b[49m\u001b[43m)\u001b[49m\n\u001b[1;32m    861\u001b[0m     \u001b[38;5;28;01mreturn\u001b[39;00m\n\u001b[1;32m    862\u001b[0m \u001b[38;5;28;01mraise\u001b[39;00m \u001b[38;5;167;01mConnectionError\u001b[39;00m(\u001b[38;5;124m\"\u001b[39m\u001b[38;5;124mThe connector name \u001b[39m\u001b[38;5;132;01m{}\u001b[39;00m\u001b[38;5;124m can\u001b[39m\u001b[38;5;124m'\u001b[39m\u001b[38;5;124mt be found.\u001b[39m\u001b[38;5;124m\"\u001b[39m\u001b[38;5;241m.\u001b[39mformat(connector_name))\n",
      "File \u001b[0;32m/opt/anaconda3/envs/neural/lib/python3.10/site-packages/nn_rag/handlers/knowledge_handlers.py:125\u001b[0m, in \u001b[0;36mKnowledgePersistHandler.persist_canonical\u001b[0;34m(self, canonical, **kwargs)\u001b[0m\n\u001b[1;32m    123\u001b[0m     \u001b[38;5;28;01mreturn\u001b[39;00m \u001b[38;5;28;01mFalse\u001b[39;00m\n\u001b[1;32m    124\u001b[0m _uri \u001b[38;5;241m=\u001b[39m \u001b[38;5;28mself\u001b[39m\u001b[38;5;241m.\u001b[39mconnector_contract\u001b[38;5;241m.\u001b[39muri\n\u001b[0;32m--> 125\u001b[0m \u001b[38;5;28;01mreturn\u001b[39;00m \u001b[38;5;28;43mself\u001b[39;49m\u001b[38;5;241;43m.\u001b[39;49m\u001b[43mbackup_canonical\u001b[49m\u001b[43m(\u001b[49m\u001b[43muri\u001b[49m\u001b[38;5;241;43m=\u001b[39;49m\u001b[43m_uri\u001b[49m\u001b[43m,\u001b[49m\u001b[43m \u001b[49m\u001b[43mcanonical\u001b[49m\u001b[38;5;241;43m=\u001b[39;49m\u001b[43mcanonical\u001b[49m\u001b[43m,\u001b[49m\u001b[43m \u001b[49m\u001b[38;5;241;43m*\u001b[39;49m\u001b[38;5;241;43m*\u001b[39;49m\u001b[43mkwargs\u001b[49m\u001b[43m)\u001b[49m\n",
      "File \u001b[0;32m/opt/anaconda3/envs/neural/lib/python3.10/site-packages/nn_rag/handlers/knowledge_handlers.py:139\u001b[0m, in \u001b[0;36mKnowledgePersistHandler.backup_canonical\u001b[0;34m(self, canonical, uri, **kwargs)\u001b[0m\n\u001b[1;32m    137\u001b[0m _address \u001b[38;5;241m=\u001b[39m _cc\u001b[38;5;241m.\u001b[39mparse_address(uri\u001b[38;5;241m=\u001b[39muri)\n\u001b[1;32m    138\u001b[0m \u001b[38;5;28;01mwith\u001b[39;00m pa\u001b[38;5;241m.\u001b[39mOSFile(uri, \u001b[38;5;124m'\u001b[39m\u001b[38;5;124mwb\u001b[39m\u001b[38;5;124m'\u001b[39m) \u001b[38;5;28;01mas\u001b[39;00m sink:\n\u001b[0;32m--> 139\u001b[0m     \u001b[43mpa\u001b[49m\u001b[38;5;241;43m.\u001b[39;49m\u001b[43mipc\u001b[49m\u001b[38;5;241;43m.\u001b[39;49m\u001b[43mwrite_tensor\u001b[49m\u001b[43m(\u001b[49m\u001b[43mcanonical\u001b[49m\u001b[43m,\u001b[49m\u001b[43m \u001b[49m\u001b[43msink\u001b[49m\u001b[43m)\u001b[49m\n\u001b[1;32m    140\u001b[0m \u001b[38;5;28;01mreturn\u001b[39;00m \u001b[38;5;28;01mTrue\u001b[39;00m\n",
      "\u001b[0;31mTypeError\u001b[0m: Argument 'tensor' has incorrect type (expected pyarrow.lib.Tensor, got pyarrow.lib.Table)"
     ]
    }
   ],
   "source": [
    "kn.run_component_pipeline()"
   ]
  },
  {
   "cell_type": "markdown",
   "id": "75f15270-8c12-40cd-b7ed-8f198af6b51a",
   "metadata": {},
   "source": [
    "### Save Embedding"
   ]
  },
  {
   "cell_type": "code",
   "execution_count": null,
   "id": "ef47ae87-c55e-406b-9faa-db20c19925ba",
   "metadata": {},
   "outputs": [],
   "source": [
    "kn.save_persist_canonical(embedding)"
   ]
  },
  {
   "cell_type": "code",
   "execution_count": null,
   "id": "cfc0886a-3de7-41eb-a0a7-f2210ee784e8",
   "metadata": {},
   "outputs": [],
   "source": []
  }
 ],
 "metadata": {
  "kernelspec": {
   "display_name": "Python 3 (ipykernel)",
   "language": "python",
   "name": "python3"
  },
  "language_info": {
   "codemirror_mode": {
    "name": "ipython",
    "version": 3
   },
   "file_extension": ".py",
   "mimetype": "text/x-python",
   "name": "python",
   "nbconvert_exporter": "python",
   "pygments_lexer": "ipython3",
   "version": "3.10.14"
  }
 },
 "nbformat": 4,
 "nbformat_minor": 5
}
