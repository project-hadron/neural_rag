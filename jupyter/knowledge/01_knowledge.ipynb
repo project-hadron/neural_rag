{
 "cells": [
  {
   "cell_type": "code",
   "execution_count": 1,
   "id": "962e2eab-fef2-4393-8e03-836e7921a99d",
   "metadata": {},
   "outputs": [],
   "source": [
    "# saves you having to use print as all exposed variables are printed in the cell\n",
    "from IPython.core.interactiveshell import InteractiveShell\n",
    "InteractiveShell.ast_node_interactivity = \"all\""
   ]
  },
  {
   "cell_type": "code",
   "execution_count": 2,
   "id": "68bdaf3a-78fb-438b-9590-d4feb46ad151",
   "metadata": {},
   "outputs": [],
   "source": [
    "import pyarrow as pa\n",
    "import pyarrow.compute as pc\n",
    "from nn_rag import Knowledge"
   ]
  },
  {
   "cell_type": "markdown",
   "id": "709d851e-70d0-4767-819f-e5571262c431",
   "metadata": {},
   "source": [
    "### Instantiate capability"
   ]
  },
  {
   "cell_type": "code",
   "execution_count": 3,
   "id": "b85ae8c1-598a-4764-97b0-7b882e3fadc8",
   "metadata": {},
   "outputs": [],
   "source": [
    "kn = Knowledge.from_memory()"
   ]
  },
  {
   "cell_type": "code",
   "execution_count": 4,
   "id": "361cb284-9dbd-461b-9fbe-6abf87fed6c1",
   "metadata": {},
   "outputs": [],
   "source": [
    "uri = \"source/Gen AI Best Practices.pdf\"\n",
    "tbl = kn.set_source_uri(uri).load_source_canonical()"
   ]
  },
  {
   "cell_type": "code",
   "execution_count": 5,
   "id": "b990c759-1ea5-467c-9f33-b9acd6a47ac7",
   "metadata": {},
   "outputs": [
    {
     "data": {
      "text/plain": [
       "(1, 1)"
      ]
     },
     "execution_count": 5,
     "metadata": {},
     "output_type": "execute_result"
    },
    {
     "data": {
      "text/plain": [
       "['text']"
      ]
     },
     "execution_count": 5,
     "metadata": {},
     "output_type": "execute_result"
    },
    {
     "data": {
      "text/plain": [
       "'Best Practices in Generative AI\\nResponsible use and development \\nin the modern workplace\\n© Responsible AI Institute 2024  \\nAll Rights Reserved | Do Not Use Without Permission\\n\\x0cExecutive Summary\\nGenerative AI, a technology capable of producing realistic content in the form of text, images,\\nsound, and'"
      ]
     },
     "execution_count": 5,
     "metadata": {},
     "output_type": "execute_result"
    }
   ],
   "source": [
    "tbl.shape\n",
    "tbl.column_names\n",
    "tbl.column('text').to_pylist()[0][:300]"
   ]
  },
  {
   "cell_type": "markdown",
   "id": "92fe3fce-bcba-4c3c-a422-09595a350230",
   "metadata": {},
   "source": [
    "### Tidy the text"
   ]
  },
  {
   "cell_type": "code",
   "execution_count": 6,
   "id": "29e41f1b-9f7d-4679-866b-345d7ea9fdbb",
   "metadata": {},
   "outputs": [],
   "source": [
    "tbl = kn.tools.correlate_replace(tbl, 'text', '\\n', ' ', intent_order=-1)\n",
    "tbl = kn.tools.correlate_replace(tbl, 'text', '  ', ' ', intent_order=-1)"
   ]
  },
  {
   "cell_type": "markdown",
   "id": "d26fef06-d700-4ec1-944e-cdf80ce03df0",
   "metadata": {},
   "source": [
    "### Profling"
   ]
  },
  {
   "cell_type": "code",
   "execution_count": 13,
   "id": "b103bdd8-3502-4028-89d7-81b247024742",
   "metadata": {},
   "outputs": [
    {
     "data": {
      "text/plain": [
       "(392, 5)"
      ]
     },
     "execution_count": 13,
     "metadata": {},
     "output_type": "execute_result"
    },
    {
     "data": {
      "text/html": [
       "<style type=\"text/css\">\n",
       "#T_22aee th {\n",
       "  font-size: 120%;\n",
       "  text-align: center;\n",
       "}\n",
       "#T_22aee .row_heading {\n",
       "  display: none;;\n",
       "}\n",
       "#T_22aee  .blank {\n",
       "  display: none;;\n",
       "}\n",
       "#T_22aee_row0_col0, #T_22aee_row0_col1, #T_22aee_row0_col2, #T_22aee_row0_col3, #T_22aee_row0_col4, #T_22aee_row1_col0, #T_22aee_row1_col1, #T_22aee_row1_col2, #T_22aee_row1_col3, #T_22aee_row1_col4, #T_22aee_row2_col0, #T_22aee_row2_col1, #T_22aee_row2_col2, #T_22aee_row2_col3, #T_22aee_row2_col4, #T_22aee_row3_col0, #T_22aee_row3_col1, #T_22aee_row3_col2, #T_22aee_row3_col3, #T_22aee_row3_col4 {\n",
       "  text-align: left;\n",
       "}\n",
       "</style>\n",
       "<table id=\"T_22aee\">\n",
       "  <thead>\n",
       "    <tr>\n",
       "      <th class=\"blank level0\" >&nbsp;</th>\n",
       "      <th id=\"T_22aee_level0_col0\" class=\"col_heading level0 col0\" >sentence</th>\n",
       "      <th id=\"T_22aee_level0_col1\" class=\"col_heading level0 col1\" >sentence_num</th>\n",
       "      <th id=\"T_22aee_level0_col2\" class=\"col_heading level0 col2\" >char_count</th>\n",
       "      <th id=\"T_22aee_level0_col3\" class=\"col_heading level0 col3\" >word_count</th>\n",
       "      <th id=\"T_22aee_level0_col4\" class=\"col_heading level0 col4\" >token_count</th>\n",
       "    </tr>\n",
       "  </thead>\n",
       "  <tbody>\n",
       "    <tr>\n",
       "      <th id=\"T_22aee_level0_row0\" class=\"row_heading level0 row0\" >0</th>\n",
       "      <td id=\"T_22aee_row0_col0\" class=\"data row0 col0\" >Best Practices in Generative AI Responsible use and development in the modern workplace © Responsible AI Institute 2024  All Rights Reserved | Do Not Use Without Permission \f",
       "Executive Summary Generative AI, a technology capable of producing realistic content in the form of text, images, sound, and more, presents signiﬁcant opportunities and challenges for businesses today.</td>\n",
       "      <td id=\"T_22aee_row0_col1\" class=\"data row0 col1\" >0</td>\n",
       "      <td id=\"T_22aee_row0_col2\" class=\"data row0 col2\" >375</td>\n",
       "      <td id=\"T_22aee_row0_col3\" class=\"data row0 col3\" >56</td>\n",
       "      <td id=\"T_22aee_row0_col4\" class=\"data row0 col4\" >93.7500</td>\n",
       "    </tr>\n",
       "    <tr>\n",
       "      <th id=\"T_22aee_level0_row1\" class=\"row_heading level0 row1\" >1</th>\n",
       "      <td id=\"T_22aee_row1_col0\" class=\"data row1 col0\" >With generative AI (GenAI) applications ranging from customer service automation to content creation, the recent explosive adoption of LLM technologies like ChatGPT underscores the potential transformative scale of AI impact, both positive and negative.</td>\n",
       "      <td id=\"T_22aee_row1_col1\" class=\"data row1 col1\" >1</td>\n",
       "      <td id=\"T_22aee_row1_col2\" class=\"data row1 col2\" >253</td>\n",
       "      <td id=\"T_22aee_row1_col3\" class=\"data row1 col3\" >34</td>\n",
       "      <td id=\"T_22aee_row1_col4\" class=\"data row1 col4\" >63.2500</td>\n",
       "    </tr>\n",
       "    <tr>\n",
       "      <th id=\"T_22aee_level0_row2\" class=\"row_heading level0 row2\" >2</th>\n",
       "      <td id=\"T_22aee_row2_col0\" class=\"data row2 col0\" >Potential risks and harms from generative AI impact human rights, privacy, security, labor, fairness, sustainability, and more.</td>\n",
       "      <td id=\"T_22aee_row2_col1\" class=\"data row2 col1\" >2</td>\n",
       "      <td id=\"T_22aee_row2_col2\" class=\"data row2 col2\" >127</td>\n",
       "      <td id=\"T_22aee_row2_col3\" class=\"data row2 col3\" >17</td>\n",
       "      <td id=\"T_22aee_row2_col4\" class=\"data row2 col4\" >31.7500</td>\n",
       "    </tr>\n",
       "    <tr>\n",
       "      <th id=\"T_22aee_level0_row3\" class=\"row_heading level0 row3\" >3</th>\n",
       "      <td id=\"T_22aee_row3_col0\" class=\"data row3 col0\" >Without investing effort to comprehensively address these issues across the enterprise, businesses are exposed to the risks of compliance penalties, consumer harm, loss of trust, damages, and more.</td>\n",
       "      <td id=\"T_22aee_row3_col1\" class=\"data row3 col1\" >3</td>\n",
       "      <td id=\"T_22aee_row3_col2\" class=\"data row3 col2\" >197</td>\n",
       "      <td id=\"T_22aee_row3_col3\" class=\"data row3 col3\" >28</td>\n",
       "      <td id=\"T_22aee_row3_col4\" class=\"data row3 col4\" >49.2500</td>\n",
       "    </tr>\n",
       "  </tbody>\n",
       "</table>\n"
      ],
      "text/plain": [
       "<pandas.io.formats.style.Styler at 0x7f8dd6573cd0>"
      ]
     },
     "execution_count": 13,
     "metadata": {},
     "output_type": "execute_result"
    }
   ],
   "source": [
    "profile = kn.tools.text_profiler(tbl)\n",
    "profile.shape\n",
    "kn.table_report(profile, head=4)"
   ]
  },
  {
   "cell_type": "markdown",
   "id": "5d00b208-3e72-435c-bdf1-deaa89c8de35",
   "metadata": {},
   "source": [
    "### Chunking"
   ]
  },
  {
   "cell_type": "code",
   "execution_count": 8,
   "id": "be78fdc2-df14-4fad-bcf2-60490b6e9629",
   "metadata": {},
   "outputs": [
    {
     "ename": "AttributeError",
     "evalue": "'KnowledgeIntent' object has no attribute 'sentence_chunk'",
     "output_type": "error",
     "traceback": [
      "\u001b[0;31m---------------------------------------------------------------------------\u001b[0m",
      "\u001b[0;31mAttributeError\u001b[0m                            Traceback (most recent call last)",
      "Cell \u001b[0;32mIn[8], line 1\u001b[0m\n\u001b[0;32m----> 1\u001b[0m chunks \u001b[38;5;241m=\u001b[39m \u001b[43mkn\u001b[49m\u001b[38;5;241;43m.\u001b[39;49m\u001b[43mtools\u001b[49m\u001b[38;5;241;43m.\u001b[39;49m\u001b[43msentence_chunk\u001b[49m(profile, intent_order\u001b[38;5;241m=\u001b[39m\u001b[38;5;241m-\u001b[39m\u001b[38;5;241m1\u001b[39m)\n",
      "\u001b[0;31mAttributeError\u001b[0m: 'KnowledgeIntent' object has no attribute 'sentence_chunk'"
     ]
    }
   ],
   "source": [
    "chunks = kn.tools.sentence_chunk(profile, intent_order=-1)"
   ]
  },
  {
   "cell_type": "code",
   "execution_count": null,
   "id": "2748067e-69ea-4c2d-8b3e-5cb458f2a5a9",
   "metadata": {},
   "outputs": [],
   "source": [
    "chunks.shape\n",
    "chunks.column_names"
   ]
  },
  {
   "cell_type": "markdown",
   "id": "6caee61a-6506-4025-99d5-d2969a320a10",
   "metadata": {},
   "source": [
    "### Embedding"
   ]
  },
  {
   "cell_type": "code",
   "execution_count": null,
   "id": "1caf4977-4398-45f5-9a48-af84a21cf7a7",
   "metadata": {},
   "outputs": [],
   "source": [
    "embedding = kn.tools.chunk_embedding(chunks, batch_size=32, embedding_name='all-mpnet-base-v2', device='cpu', intent_order=-1)"
   ]
  },
  {
   "cell_type": "code",
   "execution_count": null,
   "id": "69f9ab6c-d6df-44a1-b420-1b6172d6726f",
   "metadata": {},
   "outputs": [],
   "source": [
    "type(embedding)\n",
    "embedding.shape"
   ]
  },
  {
   "cell_type": "code",
   "execution_count": null,
   "id": "7bcd0df8-9233-42c6-94ba-3aabe16ea94b",
   "metadata": {},
   "outputs": [],
   "source": [
    "kn.run_component_pipeline()"
   ]
  },
  {
   "cell_type": "markdown",
   "id": "17997d56-64f5-4124-8a3d-0d3cc13c0d6b",
   "metadata": {},
   "source": [
    "### Reports"
   ]
  },
  {
   "cell_type": "code",
   "execution_count": null,
   "id": "1ff795ff-3a79-4cd4-beb4-55eea3956233",
   "metadata": {},
   "outputs": [],
   "source": [
    "kn.report_intent()"
   ]
  },
  {
   "cell_type": "code",
   "execution_count": null,
   "id": "87e4bd97-7e5f-4dc4-b687-810679fa0c1c",
   "metadata": {},
   "outputs": [],
   "source": [
    "kn.report_connectors()"
   ]
  },
  {
   "cell_type": "code",
   "execution_count": null,
   "id": "6a227891-7135-4057-a4ff-fa29ed8c1d05",
   "metadata": {},
   "outputs": [],
   "source": [
    "kn.report_task()"
   ]
  },
  {
   "cell_type": "code",
   "execution_count": null,
   "id": "edc796f5-7f22-478a-857d-60f50565b590",
   "metadata": {},
   "outputs": [],
   "source": []
  }
 ],
 "metadata": {
  "kernelspec": {
   "display_name": "Python 3 (ipykernel)",
   "language": "python",
   "name": "python3"
  },
  "language_info": {
   "codemirror_mode": {
    "name": "ipython",
    "version": 3
   },
   "file_extension": ".py",
   "mimetype": "text/x-python",
   "name": "python",
   "nbconvert_exporter": "python",
   "pygments_lexer": "ipython3",
   "version": "3.10.14"
  }
 },
 "nbformat": 4,
 "nbformat_minor": 5
}
