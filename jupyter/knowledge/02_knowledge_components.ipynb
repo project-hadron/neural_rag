{
 "cells": [
  {
   "cell_type": "code",
   "execution_count": 1,
   "id": "962e2eab-fef2-4393-8e03-836e7921a99d",
   "metadata": {
    "is_executing": true
   },
   "outputs": [],
   "source": [
    "# saves you having to use print as all exposed variables are printed in the cell\n",
    "from IPython.core.interactiveshell import InteractiveShell\n",
    "InteractiveShell.ast_node_interactivity = \"all\""
   ]
  },
  {
   "cell_type": "code",
   "execution_count": 2,
   "id": "68bdaf3a-78fb-438b-9590-d4feb46ad151",
   "metadata": {
    "is_executing": true
   },
   "outputs": [],
   "source": [
    "import os\n",
    "from nn_rag import Knowledge, Controller"
   ]
  },
  {
   "cell_type": "markdown",
   "id": "94d62f37-c1fe-4d91-aadc-231253ccf97f",
   "metadata": {},
   "source": [
    "### Vector Params\n",
    "    MILVUS_EMBEDDING_NAME\n",
    "    MILVUS_EMBEDDING_DEVICE\n",
    "    MILVUS_EMBEDDING_BATCH_SIZE\n",
    "    MILVUS_EMBEDDING_DIM\n",
    "    MILVUS_RESPONSE_LIMIT\n",
    "    MILVUS_INDEX_METRIC\n",
    "    MILVUS_DOC_REF"
   ]
  },
  {
   "cell_type": "markdown",
   "id": "46761902-7106-4628-9b12-0ff133fe2041",
   "metadata": {},
   "source": [
    "### Set parameters as environment variables"
   ]
  },
  {
   "cell_type": "code",
   "execution_count": 3,
   "id": "52a63c1a-db81-4b74-83dc-0e84b9e5bb48",
   "metadata": {
    "is_executing": true
   },
   "outputs": [],
   "source": [
    "# Data\n",
    "os.environ['HADRON_KNOWLEDGE_SOURCE_URI'] = './hadron/source/euaiact.pdf'\n",
    "os.environ['HADRON_KNOWLEDGE_EMBED_URI'] = 'milvus://localhost:19530/rai'\n",
    "os.environ['HADRON_KNOWLEDGE_QUERY_URI'] = 'milvus://localhost:19530/rai'\n",
    "\n",
    "# Vector Db\n",
    "os.environ['MILVUS_DOC_REF'] = 'eu_ai_act_2024'\n",
    "os.environ['MILVUS_EMBEDDING_DEVICE'] = 'cpu'\n",
    "os.environ['MILVUS_RESPONSE_LIMIT'] = '4'\n",
    "\n",
    "# Parameters\n",
    "os.environ['HADRON_NUM_SENTENCE_CHUNK_SIZE'] = '5'"
   ]
  },
  {
   "cell_type": "markdown",
   "id": "0cb5c8ff-3497-4213-a0fc-db712cb4a8a8",
   "metadata": {},
   "source": [
    "### Instantiate capability"
   ]
  },
  {
   "cell_type": "code",
   "execution_count": 4,
   "id": "b85ae8c1-598a-4764-97b0-7b882e3fadc8",
   "metadata": {
    "is_executing": true
   },
   "outputs": [],
   "source": [
    "kn = Knowledge.from_env('demo', has_contract=False)"
   ]
  },
  {
   "cell_type": "code",
   "execution_count": 5,
   "id": "89a26a14-a209-4c55-9925-125667c1f168",
   "metadata": {
    "is_executing": true
   },
   "outputs": [],
   "source": [
    "kn.set_description('a reusable component to embed documentation to build an AI knowledge base for a RAG')"
   ]
  },
  {
   "cell_type": "code",
   "execution_count": 6,
   "id": "361cb284-9dbd-461b-9fbe-6abf87fed6c1",
   "metadata": {
    "is_executing": true
   },
   "outputs": [
    {
     "data": {
      "text/plain": [
       "<nn_rag.components.knowledge.Knowledge at 0x7fa495fc8d30>"
      ]
     },
     "execution_count": 6,
     "metadata": {},
     "output_type": "execute_result"
    },
    {
     "data": {
      "text/plain": [
       "<nn_rag.components.knowledge.Knowledge at 0x7fa495fc8d30>"
      ]
     },
     "execution_count": 6,
     "metadata": {},
     "output_type": "execute_result"
    }
   ],
   "source": [
    "kn.set_source_uri(\"${HADRON_KNOWLEDGE_SOURCE_URI}\")\n",
    "kn.set_persist_uri('${HADRON_KNOWLEDGE_EMBED_URI}')\n",
    "kn.add_connector_uri('query', '${HADRON_KNOWLEDGE_QUERY_URI}')"
   ]
  },
  {
   "cell_type": "markdown",
   "id": "92fe3fce-bcba-4c3c-a422-09595a350230",
   "metadata": {},
   "source": [
    "### Document"
   ]
  },
  {
   "cell_type": "code",
   "execution_count": 7,
   "id": "531af383-5d1c-4a86-adaf-c049d1cc7917",
   "metadata": {
    "is_executing": true
   },
   "outputs": [
    {
     "ename": "ModuleNotFoundError",
     "evalue": "The module 'ds_core.handlers.knowledge_handlers' could not be found",
     "output_type": "error",
     "traceback": [
      "\u001b[0;31m---------------------------------------------------------------------------\u001b[0m",
      "\u001b[0;31mModuleNotFoundError\u001b[0m                       Traceback (most recent call last)",
      "Cell \u001b[0;32mIn[7], line 1\u001b[0m\n\u001b[0;32m----> 1\u001b[0m doc \u001b[38;5;241m=\u001b[39m \u001b[43mkn\u001b[49m\u001b[38;5;241;43m.\u001b[39;49m\u001b[43mload_source_canonical\u001b[49m\u001b[43m(\u001b[49m\u001b[43m)\u001b[49m\n",
      "File \u001b[0;32m/opt/anaconda3/envs/neural/lib/python3.10/site-packages/nn_rag/components/abstract_common_component.py:72\u001b[0m, in \u001b[0;36mAbstractCommonComponent.load_source_canonical\u001b[0;34m(self, reset_changed, has_changed, return_empty, **kwargs)\u001b[0m\n\u001b[1;32m     63\u001b[0m \u001b[38;5;28;01mdef\u001b[39;00m \u001b[38;5;21mload_source_canonical\u001b[39m(\u001b[38;5;28mself\u001b[39m, reset_changed: \u001b[38;5;28mbool\u001b[39m\u001b[38;5;241m=\u001b[39m\u001b[38;5;28;01mNone\u001b[39;00m, has_changed: \u001b[38;5;28mbool\u001b[39m\u001b[38;5;241m=\u001b[39m\u001b[38;5;28;01mNone\u001b[39;00m, return_empty: \u001b[38;5;28mbool\u001b[39m\u001b[38;5;241m=\u001b[39m\u001b[38;5;28;01mNone\u001b[39;00m,\n\u001b[1;32m     64\u001b[0m                           \u001b[38;5;241m*\u001b[39m\u001b[38;5;241m*\u001b[39mkwargs) \u001b[38;5;241m-\u001b[39m\u001b[38;5;241m>\u001b[39m pa\u001b[38;5;241m.\u001b[39mTable:\n\u001b[1;32m     65\u001b[0m \u001b[38;5;250m    \u001b[39m\u001b[38;5;124;03m\"\"\"returns the contracted source data as a DataFrame\u001b[39;00m\n\u001b[1;32m     66\u001b[0m \n\u001b[1;32m     67\u001b[0m \u001b[38;5;124;03m    :param reset_changed: (optional) resets the has_changed boolean to True\u001b[39;00m\n\u001b[0;32m   (...)\u001b[0m\n\u001b[1;32m     70\u001b[0m \u001b[38;5;124;03m    :param kwargs: arguments to be passed to the handler on load\u001b[39;00m\n\u001b[1;32m     71\u001b[0m \u001b[38;5;124;03m    \"\"\"\u001b[39;00m\n\u001b[0;32m---> 72\u001b[0m     \u001b[38;5;28;01mreturn\u001b[39;00m \u001b[38;5;28;43mself\u001b[39;49m\u001b[38;5;241;43m.\u001b[39;49m\u001b[43mload_canonical\u001b[49m\u001b[43m(\u001b[49m\u001b[38;5;28;43mself\u001b[39;49m\u001b[38;5;241;43m.\u001b[39;49m\u001b[43mCONNECTOR_SOURCE\u001b[49m\u001b[43m,\u001b[49m\u001b[43m \u001b[49m\u001b[43mreset_changed\u001b[49m\u001b[38;5;241;43m=\u001b[39;49m\u001b[43mreset_changed\u001b[49m\u001b[43m,\u001b[49m\u001b[43m \u001b[49m\u001b[43mhas_changed\u001b[49m\u001b[38;5;241;43m=\u001b[39;49m\u001b[43mhas_changed\u001b[49m\u001b[43m,\u001b[49m\n\u001b[1;32m     73\u001b[0m \u001b[43m                               \u001b[49m\u001b[43mreturn_empty\u001b[49m\u001b[38;5;241;43m=\u001b[39;49m\u001b[43mreturn_empty\u001b[49m\u001b[43m,\u001b[49m\u001b[43m \u001b[49m\u001b[38;5;241;43m*\u001b[39;49m\u001b[38;5;241;43m*\u001b[39;49m\u001b[43mkwargs\u001b[49m\u001b[43m)\u001b[49m\n",
      "File \u001b[0;32m/opt/anaconda3/envs/neural/lib/python3.10/site-packages/nn_rag/components/abstract_common_component.py:85\u001b[0m, in \u001b[0;36mAbstractCommonComponent.load_canonical\u001b[0;34m(self, connector_name, reset_changed, has_changed, return_empty, **kwargs)\u001b[0m\n\u001b[1;32m     75\u001b[0m \u001b[38;5;28;01mdef\u001b[39;00m \u001b[38;5;21mload_canonical\u001b[39m(\u001b[38;5;28mself\u001b[39m, connector_name: \u001b[38;5;28mstr\u001b[39m, reset_changed: \u001b[38;5;28mbool\u001b[39m\u001b[38;5;241m=\u001b[39m\u001b[38;5;28;01mNone\u001b[39;00m, has_changed: \u001b[38;5;28mbool\u001b[39m\u001b[38;5;241m=\u001b[39m\u001b[38;5;28;01mNone\u001b[39;00m,\n\u001b[1;32m     76\u001b[0m                    return_empty: \u001b[38;5;28mbool\u001b[39m\u001b[38;5;241m=\u001b[39m\u001b[38;5;28;01mNone\u001b[39;00m, \u001b[38;5;241m*\u001b[39m\u001b[38;5;241m*\u001b[39mkwargs) \u001b[38;5;241m-\u001b[39m\u001b[38;5;241m>\u001b[39m pa\u001b[38;5;241m.\u001b[39mTable:\n\u001b[1;32m     77\u001b[0m \u001b[38;5;250m    \u001b[39m\u001b[38;5;124;03m\"\"\"returns the canonical of the referenced connector\u001b[39;00m\n\u001b[1;32m     78\u001b[0m \n\u001b[1;32m     79\u001b[0m \u001b[38;5;124;03m    :param connector_name: the name or label to identify and reference the connector\u001b[39;00m\n\u001b[0;32m   (...)\u001b[0m\n\u001b[1;32m     83\u001b[0m \u001b[38;5;124;03m    :param kwargs: arguments to be passed to the handler on load\u001b[39;00m\n\u001b[1;32m     84\u001b[0m \u001b[38;5;124;03m    \"\"\"\u001b[39;00m\n\u001b[0;32m---> 85\u001b[0m     canonical \u001b[38;5;241m=\u001b[39m \u001b[38;5;28;43msuper\u001b[39;49m\u001b[43m(\u001b[49m\u001b[43m)\u001b[49m\u001b[38;5;241;43m.\u001b[39;49m\u001b[43mload_canonical\u001b[49m\u001b[43m(\u001b[49m\u001b[43mconnector_name\u001b[49m\u001b[38;5;241;43m=\u001b[39;49m\u001b[43mconnector_name\u001b[49m\u001b[43m,\u001b[49m\u001b[43m \u001b[49m\u001b[43mreset_changed\u001b[49m\u001b[38;5;241;43m=\u001b[39;49m\u001b[43mreset_changed\u001b[49m\u001b[43m,\u001b[49m\n\u001b[1;32m     86\u001b[0m \u001b[43m                                       \u001b[49m\u001b[43mhas_changed\u001b[49m\u001b[38;5;241;43m=\u001b[39;49m\u001b[43mhas_changed\u001b[49m\u001b[43m,\u001b[49m\u001b[43m \u001b[49m\u001b[43mreturn_empty\u001b[49m\u001b[38;5;241;43m=\u001b[39;49m\u001b[43mreturn_empty\u001b[49m\u001b[43m,\u001b[49m\u001b[43m \u001b[49m\u001b[38;5;241;43m*\u001b[39;49m\u001b[38;5;241;43m*\u001b[39;49m\u001b[43mkwargs\u001b[49m\u001b[43m)\u001b[49m\n\u001b[1;32m     87\u001b[0m     \u001b[38;5;28;01mreturn\u001b[39;00m canonical\n",
      "File \u001b[0;32m/opt/anaconda3/envs/neural/lib/python3.10/site-packages/ds_core/components/abstract_component.py:833\u001b[0m, in \u001b[0;36mAbstractComponent.load_canonical\u001b[0;34m(self, connector_name, reset_changed, has_changed, return_empty, **kwargs)\u001b[0m\n\u001b[1;32m    831\u001b[0m has_changed \u001b[38;5;241m=\u001b[39m has_changed \u001b[38;5;28;01mif\u001b[39;00m \u001b[38;5;28misinstance\u001b[39m(has_changed, \u001b[38;5;28mbool\u001b[39m) \u001b[38;5;28;01melse\u001b[39;00m \u001b[38;5;28;01mFalse\u001b[39;00m\n\u001b[1;32m    832\u001b[0m reset_changed \u001b[38;5;241m=\u001b[39m reset_changed \u001b[38;5;28;01mif\u001b[39;00m \u001b[38;5;28misinstance\u001b[39m(reset_changed, \u001b[38;5;28mbool\u001b[39m) \u001b[38;5;28;01melse\u001b[39;00m \u001b[38;5;28;01mFalse\u001b[39;00m\n\u001b[0;32m--> 833\u001b[0m handler \u001b[38;5;241m=\u001b[39m \u001b[38;5;28;43mself\u001b[39;49m\u001b[38;5;241;43m.\u001b[39;49m\u001b[43mpm\u001b[49m\u001b[38;5;241;43m.\u001b[39;49m\u001b[43mget_connector_handler\u001b[49m\u001b[43m(\u001b[49m\u001b[43mconnector_name\u001b[49m\u001b[43m)\u001b[49m\n\u001b[1;32m    834\u001b[0m \u001b[38;5;28;01mif\u001b[39;00m has_changed \u001b[38;5;129;01mand\u001b[39;00m handler\u001b[38;5;241m.\u001b[39mexists() \u001b[38;5;241m==\u001b[39m \u001b[38;5;28;01mFalse\u001b[39;00m:\n\u001b[1;32m    835\u001b[0m     \u001b[38;5;28;01mif\u001b[39;00m \u001b[38;5;28misinstance\u001b[39m(return_empty, \u001b[38;5;28mbool\u001b[39m) \u001b[38;5;129;01mand\u001b[39;00m return_empty:\n",
      "File \u001b[0;32m/opt/anaconda3/envs/neural/lib/python3.10/site-packages/ds_core/properties/abstract_properties.py:856\u001b[0m, in \u001b[0;36mAbstractPropertyManager.get_connector_handler\u001b[0;34m(self, connector_name)\u001b[0m\n\u001b[1;32m    854\u001b[0m         \u001b[38;5;28mself\u001b[39m\u001b[38;5;241m.\u001b[39m_connection_handler[connector_name] \u001b[38;5;241m=\u001b[39m EventPersistHandler(connector_contract)\n\u001b[1;32m    855\u001b[0m     \u001b[38;5;28;01melse\u001b[39;00m:\n\u001b[0;32m--> 856\u001b[0m         \u001b[38;5;28mself\u001b[39m\u001b[38;5;241m.\u001b[39m_connection_handler[connector_name] \u001b[38;5;241m=\u001b[39m \u001b[43mHandlerFactory\u001b[49m\u001b[38;5;241;43m.\u001b[39;49m\u001b[43minstantiate\u001b[49m\u001b[43m(\u001b[49m\u001b[43mconnector_contract\u001b[49m\u001b[43m)\u001b[49m\n\u001b[1;32m    857\u001b[0m \u001b[38;5;28;01mreturn\u001b[39;00m \u001b[38;5;28mself\u001b[39m\u001b[38;5;241m.\u001b[39m_connection_handler\u001b[38;5;241m.\u001b[39mget(connector_name)\n",
      "File \u001b[0;32m/opt/anaconda3/envs/neural/lib/python3.10/site-packages/ds_core/handlers/abstract_handlers.py:391\u001b[0m, in \u001b[0;36mHandlerFactory.instantiate\u001b[0;34m(connector_contract)\u001b[0m\n\u001b[1;32m    389\u001b[0m module_spec \u001b[38;5;241m=\u001b[39m importlib\u001b[38;5;241m.\u001b[39mutil\u001b[38;5;241m.\u001b[39mfind_spec(module_name)\n\u001b[1;32m    390\u001b[0m \u001b[38;5;28;01mif\u001b[39;00m module_spec \u001b[38;5;129;01mis\u001b[39;00m \u001b[38;5;28;01mNone\u001b[39;00m:\n\u001b[0;32m--> 391\u001b[0m     \u001b[38;5;28;01mraise\u001b[39;00m \u001b[38;5;167;01mModuleNotFoundError\u001b[39;00m(\u001b[38;5;124mf\u001b[39m\u001b[38;5;124m\"\u001b[39m\u001b[38;5;124mThe module \u001b[39m\u001b[38;5;124m'\u001b[39m\u001b[38;5;132;01m{\u001b[39;00mmodule_name\u001b[38;5;132;01m}\u001b[39;00m\u001b[38;5;124m'\u001b[39m\u001b[38;5;124m could not be found\u001b[39m\u001b[38;5;124m\"\u001b[39m)\n\u001b[1;32m    393\u001b[0m \u001b[38;5;66;03m# check handler\u001b[39;00m\n\u001b[1;32m    394\u001b[0m module \u001b[38;5;241m=\u001b[39m importlib\u001b[38;5;241m.\u001b[39mutil\u001b[38;5;241m.\u001b[39mmodule_from_spec(module_spec)\n",
      "\u001b[0;31mModuleNotFoundError\u001b[0m: The module 'ds_core.handlers.knowledge_handlers' could not be found"
     ]
    }
   ],
   "source": [
    "doc = kn.load_source_canonical()"
   ]
  },
  {
   "cell_type": "code",
   "execution_count": null,
   "id": "29e41f1b-9f7d-4679-866b-345d7ea9fdbb",
   "metadata": {
    "is_executing": true
   },
   "outputs": [],
   "source": [
    "# tidy the text\n",
    "doc = kn.tools.pattern_replace(doc, 'text', '\\n', ' ', intent_order=-1)\n",
    "doc = kn.tools.pattern_replace(doc, 'text', '  ', ' ', intent_order=-1)"
   ]
  },
  {
   "cell_type": "markdown",
   "id": "e87bb432-0fd3-4ac4-b4ea-8d766905a62f",
   "metadata": {},
   "source": [
    "### Sentences"
   ]
  },
  {
   "cell_type": "code",
   "execution_count": null,
   "id": "4c36146e-e73c-4596-88f2-9936a8bc984d",
   "metadata": {
    "is_executing": true
   },
   "outputs": [],
   "source": [
    "sentences = kn.tools.text_profiler(doc, intent_order=-1)"
   ]
  },
  {
   "cell_type": "markdown",
   "id": "5d00b208-3e72-435c-bdf1-deaa89c8de35",
   "metadata": {},
   "source": [
    "### Chunking"
   ]
  },
  {
   "cell_type": "code",
   "execution_count": null,
   "id": "be78fdc2-df14-4fad-bcf2-60490b6e9629",
   "metadata": {
    "is_executing": true
   },
   "outputs": [],
   "source": [
    "chunks = kn.tools.sentence_chunks(sentences, num_sentence_chunk_size='${HADRON_NUM_SENTENCE_CHUNK_SIZE}', intent_order=-1)"
   ]
  },
  {
   "cell_type": "markdown",
   "id": "6caee61a-6506-4025-99d5-d2969a320a10",
   "metadata": {},
   "source": [
    "### Embedding"
   ]
  },
  {
   "cell_type": "code",
   "execution_count": null,
   "id": "1caf4977-4398-45f5-9a48-af84a21cf7a7",
   "metadata": {
    "is_executing": true
   },
   "outputs": [],
   "source": [
    "kn."
   ]
  },
  {
   "cell_type": "markdown",
   "id": "2fe89767-7f4a-467e-aab6-8055471df145",
   "metadata": {},
   "source": [
    "### Run capability"
   ]
  },
  {
   "cell_type": "code",
   "execution_count": null,
   "id": "7bcd0df8-9233-42c6-94ba-3aabe16ea94b",
   "metadata": {
    "is_executing": true
   },
   "outputs": [],
   "source": [
    "kn.run_component_pipeline()"
   ]
  },
  {
   "cell_type": "code",
   "execution_count": null,
   "id": "575ba611-68fb-4b8f-bf31-b6e1b0d6da48",
   "metadata": {
    "is_executing": true
   },
   "outputs": [],
   "source": [
    "kn.remove_canonical(kn.CONNECTOR_PERSIST)"
   ]
  },
  {
   "cell_type": "markdown",
   "id": "17997d56-64f5-4124-8a3d-0d3cc13c0d6b",
   "metadata": {},
   "source": [
    "### Controller"
   ]
  },
  {
   "cell_type": "code",
   "execution_count": null,
   "id": "edc796f5-7f22-478a-857d-60f50565b590",
   "metadata": {
    "is_executing": true
   },
   "outputs": [],
   "source": [
    "ctr = Controller.from_env(has_contract=False)\n",
    "ctr.set_use_case(title='Rag Demo', domain='General', \n",
    "                 overview='A pipeline that allows the collection of documentation to embed for a RAG catalog.', \n",
    "                 situation='HUB requirement for better access to documentation', \n",
    "                 opportunity='Improve accessibility through a RAG', \n",
    "                 actions='build a catalog of embedded documents')"
   ]
  },
  {
   "cell_type": "code",
   "execution_count": null,
   "id": "c448c458-551f-4471-a162-4bec81298110",
   "metadata": {
    "is_executing": true
   },
   "outputs": [],
   "source": [
    "ctr.register.knowledge(task_name='demo', intent_level='knowledge_demo')"
   ]
  },
  {
   "cell_type": "code",
   "execution_count": null,
   "id": "2ebb0eb6-8b8c-432a-a33a-109eeefed64c",
   "metadata": {
    "is_executing": true
   },
   "outputs": [],
   "source": [
    "kn.remove_canonical(kn.CONNECTOR_PERSIST)"
   ]
  },
  {
   "cell_type": "code",
   "execution_count": null,
   "id": "de680ad9-b26f-4821-a146-5f60dc60218a",
   "metadata": {
    "is_executing": true
   },
   "outputs": [],
   "source": [
    "ctr.run_controller()"
   ]
  },
  {
   "cell_type": "markdown",
   "id": "a3b5ccab-fc3f-4dbc-86f3-bdcae7cc1c5e",
   "metadata": {},
   "source": [
    "### Reports"
   ]
  },
  {
   "cell_type": "markdown",
   "id": "70bc7f14-50bb-473e-b6c7-b263f87b91ac",
   "metadata": {},
   "source": [
    "#### controller"
   ]
  },
  {
   "cell_type": "code",
   "execution_count": null,
   "id": "6700f0fb-94e8-455e-b997-f5591aca94a9",
   "metadata": {
    "is_executing": true
   },
   "outputs": [],
   "source": [
    "ctr.report_use_case()"
   ]
  },
  {
   "cell_type": "code",
   "execution_count": null,
   "id": "7b43c7f2-5b87-43a5-af94-511280d6d405",
   "metadata": {
    "is_executing": true
   },
   "outputs": [],
   "source": [
    "ctr.report_intent()"
   ]
  },
  {
   "cell_type": "markdown",
   "id": "e9292b9e-c183-442f-ad34-04a7f8df9097",
   "metadata": {},
   "source": [
    "#### knowledge"
   ]
  },
  {
   "cell_type": "code",
   "execution_count": null,
   "id": "f3422240-926c-4ddc-901b-26d60ef9d867",
   "metadata": {
    "is_executing": true
   },
   "outputs": [],
   "source": [
    "kn.report_task()"
   ]
  },
  {
   "cell_type": "code",
   "execution_count": null,
   "id": "5a1a2b05-400b-43a9-8efa-3b79f10bc3ba",
   "metadata": {
    "is_executing": true
   },
   "outputs": [],
   "source": [
    "kn.report_intent()"
   ]
  },
  {
   "cell_type": "code",
   "execution_count": null,
   "id": "cf126ddc-7270-4028-b945-538fe09ab41d",
   "metadata": {
    "is_executing": true
   },
   "outputs": [],
   "source": [
    "kn.report_connectors()"
   ]
  },
  {
   "cell_type": "code",
   "execution_count": null,
   "id": "ee7da657-4642-4323-98e3-aa34cbce30bd",
   "metadata": {
    "is_executing": true
   },
   "outputs": [],
   "source": []
  },
  {
   "cell_type": "code",
   "execution_count": null,
   "id": "a6b25025-7706-4622-b42d-ccea534b020f",
   "metadata": {
    "is_executing": true
   },
   "outputs": [],
   "source": []
  }
 ],
 "metadata": {
  "kernelspec": {
   "display_name": "Python 3 (ipykernel)",
   "language": "python",
   "name": "python3"
  },
  "language_info": {
   "codemirror_mode": {
    "name": "ipython",
    "version": 3
   },
   "file_extension": ".py",
   "mimetype": "text/x-python",
   "name": "python",
   "nbconvert_exporter": "python",
   "pygments_lexer": "ipython3",
   "version": "3.10.14"
  }
 },
 "nbformat": 4,
 "nbformat_minor": 5
}
