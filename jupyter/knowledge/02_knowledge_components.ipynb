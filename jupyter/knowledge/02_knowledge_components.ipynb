{
 "cells": [
  {
   "cell_type": "code",
   "execution_count": 1,
   "id": "962e2eab-fef2-4393-8e03-836e7921a99d",
   "metadata": {},
   "outputs": [],
   "source": [
    "# saves you having to use print as all exposed variables are printed in the cell\n",
    "from IPython.core.interactiveshell import InteractiveShell\n",
    "InteractiveShell.ast_node_interactivity = \"all\""
   ]
  },
  {
   "cell_type": "code",
   "execution_count": 2,
   "id": "68bdaf3a-78fb-438b-9590-d4feb46ad151",
   "metadata": {},
   "outputs": [],
   "source": [
    "import os\n",
    "from nn_rag import Knowledge, Controller"
   ]
  },
  {
   "cell_type": "markdown",
   "id": "46761902-7106-4628-9b12-0ff133fe2041",
   "metadata": {},
   "source": [
    "### Set parameters as environment variables"
   ]
  },
  {
   "cell_type": "code",
   "execution_count": 3,
   "id": "52a63c1a-db81-4b74-83dc-0e84b9e5bb48",
   "metadata": {},
   "outputs": [],
   "source": [
    "# Data\n",
    "os.environ['HADRON_KNOWLEDGE_SOURCE_URI'] = './hadron/source/euaiact.pdf'\n",
    "os.environ['HADRON_KNOWLEDGE_EMBED_URI'] = './hadron/data/eu_ai_act_2024.embedding'\n",
    "os.environ['HADRON_KNOWLEDGE_CHUNK_URI'] = './hadron/data/eu_ai_act_2024.parquet'\n",
    "\n",
    "# Parameters\n",
    "os.environ['HADRON_NUM_SENTENCE_CHUNK_SIZE'] = '5'\n",
    "os.environ['HADRON_EMBEDDING_BATCH_SIZE'] = '32'\n",
    "os.environ['HADRON_EMBEDDING_MODEL_NAME'] = 'all-mpnet-base-v2'\n",
    "os.environ['HADRON_EMBEDDING_DEVICE'] = 'cpu'"
   ]
  },
  {
   "cell_type": "markdown",
   "id": "0cb5c8ff-3497-4213-a0fc-db712cb4a8a8",
   "metadata": {},
   "source": [
    "### Instantiate capability"
   ]
  },
  {
   "cell_type": "code",
   "execution_count": 4,
   "id": "b85ae8c1-598a-4764-97b0-7b882e3fadc8",
   "metadata": {},
   "outputs": [],
   "source": [
    "kn = Knowledge.from_env('demo', has_contract=False)"
   ]
  },
  {
   "cell_type": "code",
   "execution_count": 5,
   "id": "89a26a14-a209-4c55-9925-125667c1f168",
   "metadata": {},
   "outputs": [],
   "source": [
    "kn.set_description('a reusable component to embed documentation to build an AI knowledge base for a RAG')"
   ]
  },
  {
   "cell_type": "code",
   "execution_count": 6,
   "id": "361cb284-9dbd-461b-9fbe-6abf87fed6c1",
   "metadata": {},
   "outputs": [
    {
     "data": {
      "text/plain": [
       "<nn_rag.components.knowledge.Knowledge at 0x7fac9f0eee30>"
      ]
     },
     "execution_count": 6,
     "metadata": {},
     "output_type": "execute_result"
    },
    {
     "data": {
      "text/plain": [
       "<nn_rag.components.knowledge.Knowledge at 0x7fac9f0eee30>"
      ]
     },
     "execution_count": 6,
     "metadata": {},
     "output_type": "execute_result"
    }
   ],
   "source": [
    "kn.set_source_uri(\"${HADRON_KNOWLEDGE_SOURCE_URI}\")\n",
    "kn.set_persist_uri('${HADRON_KNOWLEDGE_EMBED_URI}')\n",
    "kn.add_connector_uri('chunks', '${HADRON_KNOWLEDGE_CHUNK_URI}')"
   ]
  },
  {
   "cell_type": "markdown",
   "id": "92fe3fce-bcba-4c3c-a422-09595a350230",
   "metadata": {},
   "source": [
    "### Document"
   ]
  },
  {
   "cell_type": "code",
   "execution_count": 7,
   "id": "531af383-5d1c-4a86-adaf-c049d1cc7917",
   "metadata": {},
   "outputs": [],
   "source": [
    "doc = kn.load_source_canonical()"
   ]
  },
  {
   "cell_type": "code",
   "execution_count": 8,
   "id": "29e41f1b-9f7d-4679-866b-345d7ea9fdbb",
   "metadata": {},
   "outputs": [],
   "source": [
    "# tidy the text\n",
    "doc = kn.tools.pattern_replace(doc, 'text', '\\n', ' ', intent_order=-1)\n",
    "doc = kn.tools.pattern_replace(doc, 'text', '  ', ' ', intent_order=-1)"
   ]
  },
  {
   "cell_type": "markdown",
   "id": "e87bb432-0fd3-4ac4-b4ea-8d766905a62f",
   "metadata": {},
   "source": [
    "### Sentences"
   ]
  },
  {
   "cell_type": "code",
   "execution_count": 9,
   "id": "4c36146e-e73c-4596-88f2-9936a8bc984d",
   "metadata": {},
   "outputs": [],
   "source": [
    "sentences = kn.tools.text_profiler(doc, intent_order=-1)"
   ]
  },
  {
   "cell_type": "markdown",
   "id": "5d00b208-3e72-435c-bdf1-deaa89c8de35",
   "metadata": {},
   "source": [
    "### Chunking"
   ]
  },
  {
   "cell_type": "code",
   "execution_count": 10,
   "id": "be78fdc2-df14-4fad-bcf2-60490b6e9629",
   "metadata": {},
   "outputs": [],
   "source": [
    "chunks = kn.tools.sentence_chunks(sentences, num_sentence_chunk_size=10, intent_order=-1)"
   ]
  },
  {
   "cell_type": "code",
   "execution_count": 11,
   "id": "a4baaeaf-3515-4345-8398-fead538ded78",
   "metadata": {},
   "outputs": [],
   "source": [
    "kn.save_canonical('chunks', chunks)"
   ]
  },
  {
   "cell_type": "markdown",
   "id": "6caee61a-6506-4025-99d5-d2969a320a10",
   "metadata": {},
   "source": [
    "### Embedding"
   ]
  },
  {
   "cell_type": "code",
   "execution_count": 12,
   "id": "1caf4977-4398-45f5-9a48-af84a21cf7a7",
   "metadata": {},
   "outputs": [
    {
     "name": "stderr",
     "output_type": "stream",
     "text": [
      "/opt/anaconda3/envs/neural/lib/python3.10/site-packages/huggingface_hub/file_download.py:1132: FutureWarning: `resume_download` is deprecated and will be removed in version 1.0.0. Downloads always resume when possible. If you want to force a new download, use `force_download=True`.\n",
      "  warnings.warn(\n"
     ]
    }
   ],
   "source": [
    "embedding = kn.tools.chunk_embedding(chunks, batch_size='${HADRON_EMBEDDING_BATCH_SIZE}', \n",
    "                                     embedding_name='${HADRON_EMBEDDING_MODEL_NAME}', \n",
    "                                     device='${HADRON_EMBEDDING_DEVICE}', \n",
    "                                     intent_order=-1)"
   ]
  },
  {
   "cell_type": "markdown",
   "id": "2fe89767-7f4a-467e-aab6-8055471df145",
   "metadata": {},
   "source": [
    "### Run capability"
   ]
  },
  {
   "cell_type": "code",
   "execution_count": 13,
   "id": "7bcd0df8-9233-42c6-94ba-3aabe16ea94b",
   "metadata": {},
   "outputs": [
    {
     "name": "stderr",
     "output_type": "stream",
     "text": [
      "/opt/anaconda3/envs/neural/lib/python3.10/site-packages/huggingface_hub/file_download.py:1132: FutureWarning: `resume_download` is deprecated and will be removed in version 1.0.0. Downloads always resume when possible. If you want to force a new download, use `force_download=True`.\n",
      "  warnings.warn(\n"
     ]
    }
   ],
   "source": [
    "kn.run_component_pipeline()"
   ]
  },
  {
   "cell_type": "code",
   "execution_count": 14,
   "id": "575ba611-68fb-4b8f-bf31-b6e1b0d6da48",
   "metadata": {},
   "outputs": [],
   "source": [
    "kn.remove_canonical(kn.CONNECTOR_PERSIST)"
   ]
  },
  {
   "cell_type": "markdown",
   "id": "17997d56-64f5-4124-8a3d-0d3cc13c0d6b",
   "metadata": {},
   "source": [
    "### Controller"
   ]
  },
  {
   "cell_type": "code",
   "execution_count": 15,
   "id": "edc796f5-7f22-478a-857d-60f50565b590",
   "metadata": {},
   "outputs": [],
   "source": [
    "ctr = Controller.from_env(has_contract=False)\n",
    "ctr.set_use_case(title='Rag Demo', domain='General', \n",
    "                 overview='A pipeline that allows the collection of documentation to embed for a RAG catalog.', \n",
    "                 situation='HUB requirement for better access to documentation', \n",
    "                 opportunity='Improve accessibility through a RAG', \n",
    "                 actions='build a catalog of embedded documents')"
   ]
  },
  {
   "cell_type": "code",
   "execution_count": 16,
   "id": "c448c458-551f-4471-a162-4bec81298110",
   "metadata": {},
   "outputs": [
    {
     "data": {
      "text/plain": [
       "(248, 768)"
      ]
     },
     "execution_count": 16,
     "metadata": {},
     "output_type": "execute_result"
    }
   ],
   "source": [
    "ctr.register.knowledge(task_name='demo', intent_level='knowledge_demo')"
   ]
  },
  {
   "cell_type": "code",
   "execution_count": 17,
   "id": "2ebb0eb6-8b8c-432a-a33a-109eeefed64c",
   "metadata": {},
   "outputs": [],
   "source": [
    "kn.remove_canonical(kn.CONNECTOR_PERSIST)"
   ]
  },
  {
   "cell_type": "code",
   "execution_count": 18,
   "id": "de680ad9-b26f-4821-a146-5f60dc60218a",
   "metadata": {},
   "outputs": [
    {
     "name": "stderr",
     "output_type": "stream",
     "text": [
      "/opt/anaconda3/envs/neural/lib/python3.10/site-packages/huggingface_hub/file_download.py:1132: FutureWarning: `resume_download` is deprecated and will be removed in version 1.0.0. Downloads always resume when possible. If you want to force a new download, use `force_download=True`.\n",
      "  warnings.warn(\n"
     ]
    }
   ],
   "source": [
    "ctr.run_controller()"
   ]
  },
  {
   "cell_type": "markdown",
   "id": "a3b5ccab-fc3f-4dbc-86f3-bdcae7cc1c5e",
   "metadata": {},
   "source": [
    "### Reports"
   ]
  },
  {
   "cell_type": "markdown",
   "id": "70bc7f14-50bb-473e-b6c7-b263f87b91ac",
   "metadata": {},
   "source": [
    "#### controller"
   ]
  },
  {
   "cell_type": "code",
   "execution_count": 19,
   "id": "6700f0fb-94e8-455e-b997-f5591aca94a9",
   "metadata": {},
   "outputs": [
    {
     "data": {
      "text/html": [
       "<style type=\"text/css\">\n",
       "#T_2b24c th {\n",
       "  font-size: 120%;\n",
       "  text-align: center;\n",
       "}\n",
       "#T_2b24c .row_heading {\n",
       "  display: none;;\n",
       "}\n",
       "#T_2b24c  .blank {\n",
       "  display: none;;\n",
       "}\n",
       "#T_2b24c_row0_col0, #T_2b24c_row1_col0, #T_2b24c_row2_col0, #T_2b24c_row3_col0, #T_2b24c_row4_col0 {\n",
       "  text-align: left;\n",
       "  font-weight: bold;\n",
       "  font-size: 120%;\n",
       "}\n",
       "#T_2b24c_row0_col1, #T_2b24c_row1_col1, #T_2b24c_row2_col1, #T_2b24c_row3_col1, #T_2b24c_row4_col1 {\n",
       "  text-align: left;\n",
       "}\n",
       "</style>\n",
       "<table id=\"T_2b24c\">\n",
       "  <thead>\n",
       "    <tr>\n",
       "      <th class=\"blank level0\" >&nbsp;</th>\n",
       "      <th id=\"T_2b24c_level0_col0\" class=\"col_heading level0 col0\" >use_case</th>\n",
       "      <th id=\"T_2b24c_level0_col1\" class=\"col_heading level0 col1\" >values</th>\n",
       "    </tr>\n",
       "  </thead>\n",
       "  <tbody>\n",
       "    <tr>\n",
       "      <th id=\"T_2b24c_level0_row0\" class=\"row_heading level0 row0\" >0</th>\n",
       "      <td id=\"T_2b24c_row0_col0\" class=\"data row0 col0\" >title</td>\n",
       "      <td id=\"T_2b24c_row0_col1\" class=\"data row0 col1\" >Rag Demo</td>\n",
       "    </tr>\n",
       "    <tr>\n",
       "      <th id=\"T_2b24c_level0_row1\" class=\"row_heading level0 row1\" >1</th>\n",
       "      <td id=\"T_2b24c_row1_col0\" class=\"data row1 col0\" >domain</td>\n",
       "      <td id=\"T_2b24c_row1_col1\" class=\"data row1 col1\" >General</td>\n",
       "    </tr>\n",
       "    <tr>\n",
       "      <th id=\"T_2b24c_level0_row2\" class=\"row_heading level0 row2\" >2</th>\n",
       "      <td id=\"T_2b24c_row2_col0\" class=\"data row2 col0\" >situation</td>\n",
       "      <td id=\"T_2b24c_row2_col1\" class=\"data row2 col1\" >HUB requirement for better access to documentation</td>\n",
       "    </tr>\n",
       "    <tr>\n",
       "      <th id=\"T_2b24c_level0_row3\" class=\"row_heading level0 row3\" >3</th>\n",
       "      <td id=\"T_2b24c_row3_col0\" class=\"data row3 col0\" >opportunity</td>\n",
       "      <td id=\"T_2b24c_row3_col1\" class=\"data row3 col1\" >Improve accessibility through a RAG</td>\n",
       "    </tr>\n",
       "    <tr>\n",
       "      <th id=\"T_2b24c_level0_row4\" class=\"row_heading level0 row4\" >4</th>\n",
       "      <td id=\"T_2b24c_row4_col0\" class=\"data row4 col0\" >actions</td>\n",
       "      <td id=\"T_2b24c_row4_col1\" class=\"data row4 col1\" >build a catalog of embedded documents</td>\n",
       "    </tr>\n",
       "  </tbody>\n",
       "</table>\n"
      ],
      "text/plain": [
       "<pandas.io.formats.style.Styler at 0x7fac7f5ac970>"
      ]
     },
     "execution_count": 19,
     "metadata": {},
     "output_type": "execute_result"
    }
   ],
   "source": [
    "ctr.report_use_case()"
   ]
  },
  {
   "cell_type": "code",
   "execution_count": 20,
   "id": "7b43c7f2-5b87-43a5-af94-511280d6d405",
   "metadata": {},
   "outputs": [
    {
     "data": {
      "text/html": [
       "<style type=\"text/css\">\n",
       "#T_895d5 th {\n",
       "  font-size: 120%;\n",
       "  text-align: center;\n",
       "}\n",
       "#T_895d5 .row_heading {\n",
       "  display: none;;\n",
       "}\n",
       "#T_895d5  .blank {\n",
       "  display: none;;\n",
       "}\n",
       "#T_895d5_row0_col0 {\n",
       "  text-align: left;\n",
       "  font-weight: bold;\n",
       "  font-size: 120%;\n",
       "}\n",
       "#T_895d5_row0_col1, #T_895d5_row0_col2, #T_895d5_row0_col3, #T_895d5_row0_col4 {\n",
       "  text-align: left;\n",
       "}\n",
       "</style>\n",
       "<table id=\"T_895d5\">\n",
       "  <thead>\n",
       "    <tr>\n",
       "      <th class=\"blank level0\" >&nbsp;</th>\n",
       "      <th id=\"T_895d5_level0_col0\" class=\"col_heading level0 col0\" >level</th>\n",
       "      <th id=\"T_895d5_level0_col1\" class=\"col_heading level0 col1\" >order</th>\n",
       "      <th id=\"T_895d5_level0_col2\" class=\"col_heading level0 col2\" >intent</th>\n",
       "      <th id=\"T_895d5_level0_col3\" class=\"col_heading level0 col3\" >parameters</th>\n",
       "      <th id=\"T_895d5_level0_col4\" class=\"col_heading level0 col4\" >creator</th>\n",
       "    </tr>\n",
       "  </thead>\n",
       "  <tbody>\n",
       "    <tr>\n",
       "      <th id=\"T_895d5_level0_row0\" class=\"row_heading level0 row0\" >0</th>\n",
       "      <td id=\"T_895d5_row0_col0\" class=\"data row0 col0\" >knowledge_demo</td>\n",
       "      <td id=\"T_895d5_row0_col1\" class=\"data row0 col1\" >0</td>\n",
       "      <td id=\"T_895d5_row0_col2\" class=\"data row0 col2\" >knowledge</td>\n",
       "      <td id=\"T_895d5_row0_col3\" class=\"data row0 col3\" >[\"task_name='demo'\", 'save_intent=False']</td>\n",
       "      <td id=\"T_895d5_row0_col4\" class=\"data row0 col4\" >default</td>\n",
       "    </tr>\n",
       "  </tbody>\n",
       "</table>\n"
      ],
      "text/plain": [
       "<pandas.io.formats.style.Styler at 0x7fac0d279210>"
      ]
     },
     "execution_count": 20,
     "metadata": {},
     "output_type": "execute_result"
    }
   ],
   "source": [
    "ctr.report_intent()"
   ]
  },
  {
   "cell_type": "markdown",
   "id": "e9292b9e-c183-442f-ad34-04a7f8df9097",
   "metadata": {},
   "source": [
    "#### knowledge"
   ]
  },
  {
   "cell_type": "code",
   "execution_count": 21,
   "id": "f3422240-926c-4ddc-901b-26d60ef9d867",
   "metadata": {},
   "outputs": [
    {
     "data": {
      "text/html": [
       "<style type=\"text/css\">\n",
       "#T_813f5 th {\n",
       "  font-size: 120%;\n",
       "  text-align: center;\n",
       "}\n",
       "#T_813f5 .row_heading {\n",
       "  display: none;;\n",
       "}\n",
       "#T_813f5  .blank {\n",
       "  display: none;;\n",
       "}\n",
       "#T_813f5_row0_col0, #T_813f5_row1_col0, #T_813f5_row2_col0, #T_813f5_row3_col0, #T_813f5_row4_col0 {\n",
       "  text-align: left;\n",
       "  font-weight: bold;\n",
       "  font-size: 120%;\n",
       "}\n",
       "#T_813f5_row0_col1, #T_813f5_row1_col1, #T_813f5_row2_col1, #T_813f5_row3_col1, #T_813f5_row4_col1 {\n",
       "  text-align: left;\n",
       "}\n",
       "</style>\n",
       "<table id=\"T_813f5\">\n",
       "  <thead>\n",
       "    <tr>\n",
       "      <th class=\"blank level0\" >&nbsp;</th>\n",
       "      <th id=\"T_813f5_level0_col0\" class=\"col_heading level0 col0\" >name</th>\n",
       "      <th id=\"T_813f5_level0_col1\" class=\"col_heading level0 col1\" >value</th>\n",
       "    </tr>\n",
       "  </thead>\n",
       "  <tbody>\n",
       "    <tr>\n",
       "      <th id=\"T_813f5_level0_row0\" class=\"row_heading level0 row0\" >0</th>\n",
       "      <td id=\"T_813f5_row0_col0\" class=\"data row0 col0\" >contract</td>\n",
       "      <td id=\"T_813f5_row0_col1\" class=\"data row0 col1\" >knowledge</td>\n",
       "    </tr>\n",
       "    <tr>\n",
       "      <th id=\"T_813f5_level0_row1\" class=\"row_heading level0 row1\" >1</th>\n",
       "      <td id=\"T_813f5_row1_col0\" class=\"data row1 col0\" >task</td>\n",
       "      <td id=\"T_813f5_row1_col1\" class=\"data row1 col1\" >demo</td>\n",
       "    </tr>\n",
       "    <tr>\n",
       "      <th id=\"T_813f5_level0_row2\" class=\"row_heading level0 row2\" >2</th>\n",
       "      <td id=\"T_813f5_row2_col0\" class=\"data row2 col0\" >description</td>\n",
       "      <td id=\"T_813f5_row2_col1\" class=\"data row2 col1\" >a reusable component to embed documentation to build an AI knowledge base for a RAG</td>\n",
       "    </tr>\n",
       "    <tr>\n",
       "      <th id=\"T_813f5_level0_row3\" class=\"row_heading level0 row3\" >3</th>\n",
       "      <td id=\"T_813f5_row3_col0\" class=\"data row3 col0\" >status</td>\n",
       "      <td id=\"T_813f5_row3_col1\" class=\"data row3 col1\" >discovery</td>\n",
       "    </tr>\n",
       "    <tr>\n",
       "      <th id=\"T_813f5_level0_row4\" class=\"row_heading level0 row4\" >4</th>\n",
       "      <td id=\"T_813f5_row4_col0\" class=\"data row4 col0\" >version</td>\n",
       "      <td id=\"T_813f5_row4_col1\" class=\"data row4 col1\" >0.0.1</td>\n",
       "    </tr>\n",
       "  </tbody>\n",
       "</table>\n"
      ],
      "text/plain": [
       "<pandas.io.formats.style.Styler at 0x7fac7f5afc10>"
      ]
     },
     "execution_count": 21,
     "metadata": {},
     "output_type": "execute_result"
    }
   ],
   "source": [
    "kn.report_task()"
   ]
  },
  {
   "cell_type": "code",
   "execution_count": 22,
   "id": "5a1a2b05-400b-43a9-8efa-3b79f10bc3ba",
   "metadata": {},
   "outputs": [
    {
     "data": {
      "text/html": [
       "<style type=\"text/css\">\n",
       "#T_38baa th {\n",
       "  font-size: 120%;\n",
       "  text-align: center;\n",
       "}\n",
       "#T_38baa .row_heading {\n",
       "  display: none;;\n",
       "}\n",
       "#T_38baa  .blank {\n",
       "  display: none;;\n",
       "}\n",
       "#T_38baa_row0_col0, #T_38baa_row1_col0, #T_38baa_row2_col0, #T_38baa_row3_col0, #T_38baa_row4_col0 {\n",
       "  text-align: left;\n",
       "  font-weight: bold;\n",
       "  font-size: 120%;\n",
       "}\n",
       "#T_38baa_row0_col1, #T_38baa_row0_col2, #T_38baa_row0_col3, #T_38baa_row0_col4, #T_38baa_row1_col1, #T_38baa_row1_col2, #T_38baa_row1_col3, #T_38baa_row1_col4, #T_38baa_row2_col1, #T_38baa_row2_col2, #T_38baa_row2_col3, #T_38baa_row2_col4, #T_38baa_row3_col1, #T_38baa_row3_col2, #T_38baa_row3_col3, #T_38baa_row3_col4, #T_38baa_row4_col1, #T_38baa_row4_col2, #T_38baa_row4_col3, #T_38baa_row4_col4 {\n",
       "  text-align: left;\n",
       "}\n",
       "</style>\n",
       "<table id=\"T_38baa\">\n",
       "  <thead>\n",
       "    <tr>\n",
       "      <th class=\"blank level0\" >&nbsp;</th>\n",
       "      <th id=\"T_38baa_level0_col0\" class=\"col_heading level0 col0\" >level</th>\n",
       "      <th id=\"T_38baa_level0_col1\" class=\"col_heading level0 col1\" >order</th>\n",
       "      <th id=\"T_38baa_level0_col2\" class=\"col_heading level0 col2\" >intent</th>\n",
       "      <th id=\"T_38baa_level0_col3\" class=\"col_heading level0 col3\" >parameters</th>\n",
       "      <th id=\"T_38baa_level0_col4\" class=\"col_heading level0 col4\" >creator</th>\n",
       "    </tr>\n",
       "  </thead>\n",
       "  <tbody>\n",
       "    <tr>\n",
       "      <th id=\"T_38baa_level0_row0\" class=\"row_heading level0 row0\" >0</th>\n",
       "      <td id=\"T_38baa_row0_col0\" class=\"data row0 col0\" >primary</td>\n",
       "      <td id=\"T_38baa_row0_col1\" class=\"data row0 col1\" >0</td>\n",
       "      <td id=\"T_38baa_row0_col2\" class=\"data row0 col2\" >pattern_replace</td>\n",
       "      <td id=\"T_38baa_row0_col3\" class=\"data row0 col3\" >[\"header='text'\", \"pattern='\\n'\", \"replacement=' '\", 'save_intent=False']</td>\n",
       "      <td id=\"T_38baa_row0_col4\" class=\"data row0 col4\" >default</td>\n",
       "    </tr>\n",
       "    <tr>\n",
       "      <th id=\"T_38baa_level0_row1\" class=\"row_heading level0 row1\" >1</th>\n",
       "      <td id=\"T_38baa_row1_col0\" class=\"data row1 col0\" ></td>\n",
       "      <td id=\"T_38baa_row1_col1\" class=\"data row1 col1\" >1</td>\n",
       "      <td id=\"T_38baa_row1_col2\" class=\"data row1 col2\" >pattern_replace</td>\n",
       "      <td id=\"T_38baa_row1_col3\" class=\"data row1 col3\" >[\"header='text'\", \"pattern='  '\", \"replacement=' '\", 'save_intent=False']</td>\n",
       "      <td id=\"T_38baa_row1_col4\" class=\"data row1 col4\" >default</td>\n",
       "    </tr>\n",
       "    <tr>\n",
       "      <th id=\"T_38baa_level0_row2\" class=\"row_heading level0 row2\" >2</th>\n",
       "      <td id=\"T_38baa_row2_col0\" class=\"data row2 col0\" ></td>\n",
       "      <td id=\"T_38baa_row2_col1\" class=\"data row2 col1\" >2</td>\n",
       "      <td id=\"T_38baa_row2_col2\" class=\"data row2 col2\" >text_profiler</td>\n",
       "      <td id=\"T_38baa_row2_col3\" class=\"data row2 col3\" >['save_intent=False']</td>\n",
       "      <td id=\"T_38baa_row2_col4\" class=\"data row2 col4\" >default</td>\n",
       "    </tr>\n",
       "    <tr>\n",
       "      <th id=\"T_38baa_level0_row3\" class=\"row_heading level0 row3\" >3</th>\n",
       "      <td id=\"T_38baa_row3_col0\" class=\"data row3 col0\" ></td>\n",
       "      <td id=\"T_38baa_row3_col1\" class=\"data row3 col1\" >3</td>\n",
       "      <td id=\"T_38baa_row3_col2\" class=\"data row3 col2\" >sentence_chunks</td>\n",
       "      <td id=\"T_38baa_row3_col3\" class=\"data row3 col3\" >['num_sentence_chunk_size=10', 'save_intent=False']</td>\n",
       "      <td id=\"T_38baa_row3_col4\" class=\"data row3 col4\" >default</td>\n",
       "    </tr>\n",
       "    <tr>\n",
       "      <th id=\"T_38baa_level0_row4\" class=\"row_heading level0 row4\" >4</th>\n",
       "      <td id=\"T_38baa_row4_col0\" class=\"data row4 col0\" ></td>\n",
       "      <td id=\"T_38baa_row4_col1\" class=\"data row4 col1\" >4</td>\n",
       "      <td id=\"T_38baa_row4_col2\" class=\"data row4 col2\" >chunk_embedding</td>\n",
       "      <td id=\"T_38baa_row4_col3\" class=\"data row4 col3\" >[\"batch_size='${HADRON_EMBEDDING_BATCH_SIZE}'\", \"embedding_name='${HADRON_EMBEDDING_MODEL_NAME}'\", \"device='${HADRON_EMBEDDING_DEVICE}'\", 'save_intent=False']</td>\n",
       "      <td id=\"T_38baa_row4_col4\" class=\"data row4 col4\" >default</td>\n",
       "    </tr>\n",
       "  </tbody>\n",
       "</table>\n"
      ],
      "text/plain": [
       "<pandas.io.formats.style.Styler at 0x7facb59b2da0>"
      ]
     },
     "execution_count": 22,
     "metadata": {},
     "output_type": "execute_result"
    }
   ],
   "source": [
    "kn.report_intent()"
   ]
  },
  {
   "cell_type": "code",
   "execution_count": 23,
   "id": "cf126ddc-7270-4028-b945-538fe09ab41d",
   "metadata": {},
   "outputs": [
    {
     "data": {
      "text/html": [
       "<style type=\"text/css\">\n",
       "#T_4ffcd th {\n",
       "  font-size: 120%;\n",
       "  text-align: center;\n",
       "}\n",
       "#T_4ffcd .row_heading {\n",
       "  display: none;;\n",
       "}\n",
       "#T_4ffcd  .blank {\n",
       "  display: none;;\n",
       "}\n",
       "#T_4ffcd_row0_col0, #T_4ffcd_row1_col0, #T_4ffcd_row2_col0 {\n",
       "  text-align: left;\n",
       "  font-weight: bold;\n",
       "  font-size: 120%;\n",
       "}\n",
       "#T_4ffcd_row0_col1, #T_4ffcd_row0_col2, #T_4ffcd_row0_col3, #T_4ffcd_row0_col4, #T_4ffcd_row0_col5, #T_4ffcd_row0_col6, #T_4ffcd_row0_col7, #T_4ffcd_row1_col1, #T_4ffcd_row1_col2, #T_4ffcd_row1_col3, #T_4ffcd_row1_col4, #T_4ffcd_row1_col5, #T_4ffcd_row1_col6, #T_4ffcd_row1_col7, #T_4ffcd_row2_col1, #T_4ffcd_row2_col2, #T_4ffcd_row2_col3, #T_4ffcd_row2_col4, #T_4ffcd_row2_col5, #T_4ffcd_row2_col6, #T_4ffcd_row2_col7 {\n",
       "  text-align: left;\n",
       "}\n",
       "</style>\n",
       "<table id=\"T_4ffcd\">\n",
       "  <thead>\n",
       "    <tr>\n",
       "      <th class=\"blank level0\" >&nbsp;</th>\n",
       "      <th id=\"T_4ffcd_level0_col0\" class=\"col_heading level0 col0\" >connector_name</th>\n",
       "      <th id=\"T_4ffcd_level0_col1\" class=\"col_heading level0 col1\" >uri</th>\n",
       "      <th id=\"T_4ffcd_level0_col2\" class=\"col_heading level0 col2\" >module_name</th>\n",
       "      <th id=\"T_4ffcd_level0_col3\" class=\"col_heading level0 col3\" >handler</th>\n",
       "      <th id=\"T_4ffcd_level0_col4\" class=\"col_heading level0 col4\" >version</th>\n",
       "      <th id=\"T_4ffcd_level0_col5\" class=\"col_heading level0 col5\" >kwargs</th>\n",
       "      <th id=\"T_4ffcd_level0_col6\" class=\"col_heading level0 col6\" >query</th>\n",
       "      <th id=\"T_4ffcd_level0_col7\" class=\"col_heading level0 col7\" >aligned</th>\n",
       "    </tr>\n",
       "  </thead>\n",
       "  <tbody>\n",
       "    <tr>\n",
       "      <th id=\"T_4ffcd_level0_row0\" class=\"row_heading level0 row0\" >0</th>\n",
       "      <td id=\"T_4ffcd_row0_col0\" class=\"data row0 col0\" >primary_source</td>\n",
       "      <td id=\"T_4ffcd_row0_col1\" class=\"data row0 col1\" >{HADRON_KNOWLEDGE_SOURCE_URI}</td>\n",
       "      <td id=\"T_4ffcd_row0_col2\" class=\"data row0 col2\" >nn_rag.handlers.knowledge_handlers</td>\n",
       "      <td id=\"T_4ffcd_row0_col3\" class=\"data row0 col3\" >KnowledgePersistHandler</td>\n",
       "      <td id=\"T_4ffcd_row0_col4\" class=\"data row0 col4\" >0.0.1</td>\n",
       "      <td id=\"T_4ffcd_row0_col5\" class=\"data row0 col5\" ></td>\n",
       "      <td id=\"T_4ffcd_row0_col6\" class=\"data row0 col6\" ></td>\n",
       "      <td id=\"T_4ffcd_row0_col7\" class=\"data row0 col7\" >False</td>\n",
       "    </tr>\n",
       "    <tr>\n",
       "      <th id=\"T_4ffcd_level0_row1\" class=\"row_heading level0 row1\" >1</th>\n",
       "      <td id=\"T_4ffcd_row1_col0\" class=\"data row1 col0\" >primary_persist</td>\n",
       "      <td id=\"T_4ffcd_row1_col1\" class=\"data row1 col1\" >{HADRON_KNOWLEDGE_EMBED_URI}</td>\n",
       "      <td id=\"T_4ffcd_row1_col2\" class=\"data row1 col2\" >nn_rag.handlers.knowledge_handlers</td>\n",
       "      <td id=\"T_4ffcd_row1_col3\" class=\"data row1 col3\" >KnowledgePersistHandler</td>\n",
       "      <td id=\"T_4ffcd_row1_col4\" class=\"data row1 col4\" >0.0.1</td>\n",
       "      <td id=\"T_4ffcd_row1_col5\" class=\"data row1 col5\" ></td>\n",
       "      <td id=\"T_4ffcd_row1_col6\" class=\"data row1 col6\" ></td>\n",
       "      <td id=\"T_4ffcd_row1_col7\" class=\"data row1 col7\" >False</td>\n",
       "    </tr>\n",
       "    <tr>\n",
       "      <th id=\"T_4ffcd_level0_row2\" class=\"row_heading level0 row2\" >2</th>\n",
       "      <td id=\"T_4ffcd_row2_col0\" class=\"data row2 col0\" >chunks</td>\n",
       "      <td id=\"T_4ffcd_row2_col1\" class=\"data row2 col1\" >{HADRON_KNOWLEDGE_CHUNK_URI}</td>\n",
       "      <td id=\"T_4ffcd_row2_col2\" class=\"data row2 col2\" >nn_rag.handlers.knowledge_handlers</td>\n",
       "      <td id=\"T_4ffcd_row2_col3\" class=\"data row2 col3\" >KnowledgePersistHandler</td>\n",
       "      <td id=\"T_4ffcd_row2_col4\" class=\"data row2 col4\" >0.0.1</td>\n",
       "      <td id=\"T_4ffcd_row2_col5\" class=\"data row2 col5\" ></td>\n",
       "      <td id=\"T_4ffcd_row2_col6\" class=\"data row2 col6\" ></td>\n",
       "      <td id=\"T_4ffcd_row2_col7\" class=\"data row2 col7\" >False</td>\n",
       "    </tr>\n",
       "  </tbody>\n",
       "</table>\n"
      ],
      "text/plain": [
       "<pandas.io.formats.style.Styler at 0x7fac7f5af5e0>"
      ]
     },
     "execution_count": 23,
     "metadata": {},
     "output_type": "execute_result"
    }
   ],
   "source": [
    "kn.report_connectors()"
   ]
  },
  {
   "cell_type": "code",
   "execution_count": null,
   "id": "ee7da657-4642-4323-98e3-aa34cbce30bd",
   "metadata": {},
   "outputs": [],
   "source": []
  },
  {
   "cell_type": "code",
   "execution_count": null,
   "id": "a6b25025-7706-4622-b42d-ccea534b020f",
   "metadata": {},
   "outputs": [],
   "source": []
  }
 ],
 "metadata": {
  "kernelspec": {
   "display_name": "Python 3 (ipykernel)",
   "language": "python",
   "name": "python3"
  },
  "language_info": {
   "codemirror_mode": {
    "name": "ipython",
    "version": 3
   },
   "file_extension": ".py",
   "mimetype": "text/x-python",
   "name": "python",
   "nbconvert_exporter": "python",
   "pygments_lexer": "ipython3",
   "version": "3.10.14"
  }
 },
 "nbformat": 4,
 "nbformat_minor": 5
}
