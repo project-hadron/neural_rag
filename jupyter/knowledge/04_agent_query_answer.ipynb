{
 "cells": [
  {
   "cell_type": "code",
   "execution_count": 1,
   "id": "962e2eab-fef2-4393-8e03-836e7921a99d",
   "metadata": {
    "is_executing": true
   },
   "outputs": [],
   "source": [
    "# saves you having to use print as all exposed variables are printed in the cell\n",
    "from IPython.core.interactiveshell import InteractiveShell\n",
    "InteractiveShell.ast_node_interactivity = \"all\""
   ]
  },
  {
   "cell_type": "code",
   "execution_count": 2,
   "id": "116bbfb0-cf0d-4946-a9ab-0430479d0e94",
   "metadata": {},
   "outputs": [],
   "source": [
    "# suppress warning message\n",
    "import warnings\n",
    "warnings.filterwarnings('ignore')"
   ]
  },
  {
   "cell_type": "code",
   "execution_count": 3,
   "id": "68bdaf3a-78fb-438b-9590-d4feb46ad151",
   "metadata": {
    "is_executing": true
   },
   "outputs": [],
   "source": [
    "import os\n",
    "import pyarrow as pa\n",
    "import pyarrow.compute as pc\n",
    "from nn_rag import Knowledge, Controller"
   ]
  },
  {
   "cell_type": "markdown",
   "id": "46761902-7106-4628-9b12-0ff133fe2041",
   "metadata": {},
   "source": [
    "### Set parameters as environment variables"
   ]
  },
  {
   "cell_type": "code",
   "execution_count": 4,
   "id": "52a63c1a-db81-4b74-83dc-0e84b9e5bb48",
   "metadata": {
    "is_executing": true
   },
   "outputs": [],
   "source": [
    "# Data\n",
    "os.environ['HADRON_KNOWLEDGE_SOURCE_URI'] = './hadron/source/Gen AI Best Practices.pdf'\n",
    "os.environ['HADRON_KNOWLEDGE_EMBED_URI'] = 'chroma:///'\n"
   ]
  },
  {
   "cell_type": "markdown",
   "id": "0cb5c8ff-3497-4213-a0fc-db712cb4a8a8",
   "metadata": {},
   "source": [
    "### Instantiate capability"
   ]
  },
  {
   "cell_type": "code",
   "execution_count": 5,
   "id": "b85ae8c1-598a-4764-97b0-7b882e3fadc8",
   "metadata": {
    "is_executing": true
   },
   "outputs": [],
   "source": [
    "kn = Knowledge.from_memory()"
   ]
  },
  {
   "cell_type": "code",
   "execution_count": 6,
   "id": "361cb284-9dbd-461b-9fbe-6abf87fed6c1",
   "metadata": {
    "is_executing": true
   },
   "outputs": [],
   "source": [
    "tbl = kn.set_source_uri(\"${HADRON_KNOWLEDGE_SOURCE_URI}\").load_source_canonical()\n",
    "kn.set_persist_uri('${HADRON_KNOWLEDGE_EMBED_URI}')"
   ]
  },
  {
   "cell_type": "markdown",
   "id": "cdc42785-2053-4337-adbe-706db65e5844",
   "metadata": {},
   "source": [
    "### Remove end of line from the document"
   ]
  },
  {
   "cell_type": "code",
   "execution_count": 7,
   "id": "f38a2092-ddc1-45cc-8c94-c2ae48f454d9",
   "metadata": {},
   "outputs": [],
   "source": [
    "doc = kn.tools.filter_replace_str(tbl, pattern='\\n', replacement='')"
   ]
  },
  {
   "cell_type": "markdown",
   "id": "cc4e6ec1-77eb-4a29-9931-357966936ca4",
   "metadata": {},
   "source": [
    "### Break the text_doc into sentences with scores"
   ]
  },
  {
   "cell_type": "code",
   "execution_count": 8,
   "id": "eb75f742-54ea-46ad-b24d-55157a285d75",
   "metadata": {},
   "outputs": [
    {
     "data": {
      "application/vnd.jupyter.widget-view+json": {
       "model_id": "02957e4dacc84868913e835447e35559",
       "version_major": 2,
       "version_minor": 0
      },
      "text/plain": [
       "building sentences:   0%|          | 0/11099 [00:00<?, ?it/s]"
      ]
     },
     "metadata": {},
     "output_type": "display_data"
    },
    {
     "data": {
      "application/vnd.jupyter.widget-view+json": {
       "model_id": "1c1cd629fc99477b889db6633960a451",
       "version_major": 2,
       "version_minor": 0
      },
      "text/plain": [
       "sentence stats:   0%|          | 0/332 [00:00<?, ?it/s]"
      ]
     },
     "metadata": {},
     "output_type": "display_data"
    },
    {
     "data": {
      "application/vnd.jupyter.widget-view+json": {
       "model_id": "a1e70142d6814c3aa20eafbed428d642",
       "version_major": 2,
       "version_minor": 0
      },
      "text/plain": [
       "sentence scores:   0%|          | 0/331 [00:00<?, ?it/s]"
      ]
     },
     "metadata": {},
     "output_type": "display_data"
    }
   ],
   "source": [
    "sentences = kn.tools.text_to_sentences(doc, include_score=True, words_max=3)"
   ]
  },
  {
   "cell_type": "code",
   "execution_count": 9,
   "id": "b9f52b0c-a6e0-447d-b567-fdf6c04e513d",
   "metadata": {},
   "outputs": [
    {
     "data": {
      "text/plain": [
       "1"
      ]
     },
     "execution_count": 9,
     "metadata": {},
     "output_type": "execute_result"
    },
    {
     "data": {
      "text/plain": [
       "206.0512048192771"
      ]
     },
     "execution_count": 9,
     "metadata": {},
     "output_type": "execute_result"
    },
    {
     "data": {
      "text/plain": [
       "993"
      ]
     },
     "execution_count": 9,
     "metadata": {},
     "output_type": "execute_result"
    }
   ],
   "source": [
    "pc.min(sentences['char_count']).as_py()\n",
    "pc.mean(sentences['char_count']).as_py()\n",
    "pc.max(sentences['char_count']).as_py()"
   ]
  },
  {
   "cell_type": "markdown",
   "id": "8eb2584a-7540-4bdd-be6c-1cb41f9af64e",
   "metadata": {},
   "source": [
    "### Remove short sentences"
   ]
  },
  {
   "cell_type": "code",
   "execution_count": 10,
   "id": "0dec4c29-0f62-4872-926e-c939d8f1456b",
   "metadata": {},
   "outputs": [
    {
     "name": "stdout",
     "output_type": "stream",
     "text": [
      "Short sentences for [201, 228, 232, 260, 271, 275]\n"
     ]
    }
   ],
   "source": [
    "small_sentences = pc.filter(sentences, pc.less(sentences['word_count'], 3)).column('index').to_pylist()\n",
    "print(f\"Short sentences for {small_sentences}\")"
   ]
  },
  {
   "cell_type": "code",
   "execution_count": 11,
   "id": "d7554012-37f0-41d8-b5b4-dce7cda4893c",
   "metadata": {},
   "outputs": [
    {
     "data": {
      "text/plain": [
       "3"
      ]
     },
     "execution_count": 11,
     "metadata": {},
     "output_type": "execute_result"
    }
   ],
   "source": [
    "sentences = kn.tools.filter_on_mask(sentences, indices=small_sentences)\n",
    "pc.min(sentences['word_count']).as_py()"
   ]
  },
  {
   "cell_type": "markdown",
   "id": "7620d222-7bf0-4f16-b39c-79dea37d5cf3",
   "metadata": {},
   "source": [
    "### Use pyarrow to get the thrashold similarity scores"
   ]
  },
  {
   "cell_type": "code",
   "execution_count": 12,
   "id": "a3f3e65d-35ea-4ed7-9669-ae7bbdc15b30",
   "metadata": {},
   "outputs": [
    {
     "name": "stdout",
     "output_type": "stream",
     "text": [
      "Threshold silimarity for []\n"
     ]
    }
   ],
   "source": [
    "high_similarity = pc.filter(sentences, pc.greater(sentences['score'], 0.9)).column('index').to_pylist()\n",
    "print(f\"Threshold silimarity for {high_similarity}\")"
   ]
  },
  {
   "cell_type": "markdown",
   "id": "486ee28b-e669-492b-8fd2-037e528b671a",
   "metadata": {},
   "source": [
    "### join the similar sentences"
   ]
  },
  {
   "cell_type": "code",
   "execution_count": 13,
   "id": "d16e3dd1-11e6-4d54-81e7-3a7b30f1da1f",
   "metadata": {},
   "outputs": [],
   "source": [
    "similar = kn.tools.filter_on_join(sentences, indices=high_similarity)"
   ]
  },
  {
   "cell_type": "code",
   "execution_count": 14,
   "id": "600e244e-e010-47e4-9d3b-f7119c3e1678",
   "metadata": {},
   "outputs": [
    {
     "data": {
      "text/plain": [
       "31"
      ]
     },
     "execution_count": 14,
     "metadata": {},
     "output_type": "execute_result"
    },
    {
     "data": {
      "text/plain": [
       "209.7085889570552"
      ]
     },
     "execution_count": 14,
     "metadata": {},
     "output_type": "execute_result"
    },
    {
     "data": {
      "text/plain": [
       "993"
      ]
     },
     "execution_count": 14,
     "metadata": {},
     "output_type": "execute_result"
    }
   ],
   "source": [
    "pc.min(sentences['char_count']).as_py()\n",
    "pc.mean(sentences['char_count']).as_py()\n",
    "pc.max(sentences['char_count']).as_py()"
   ]
  },
  {
   "cell_type": "markdown",
   "id": "777ba9b0-91da-4021-bacf-159a944d6a33",
   "metadata": {},
   "source": [
    "### chunk the sentences"
   ]
  },
  {
   "cell_type": "code",
   "execution_count": 15,
   "id": "65686556-93c9-47c4-a09e-debe62ec362c",
   "metadata": {},
   "outputs": [
    {
     "data": {
      "text/plain": [
       "(326, 7)"
      ]
     },
     "execution_count": 15,
     "metadata": {},
     "output_type": "execute_result"
    },
    {
     "data": {
      "text/plain": [
       "(67, 7)"
      ]
     },
     "execution_count": 15,
     "metadata": {},
     "output_type": "execute_result"
    }
   ],
   "source": [
    "chunks = kn.tools.filter_on_join(similar, chunk_size=1000)\n",
    "sentences.shape\n",
    "chunks.shape"
   ]
  },
  {
   "cell_type": "markdown",
   "id": "0bd618dc-bbad-4108-b8e8-91662292a729",
   "metadata": {},
   "source": [
    "### Save embedding"
   ]
  },
  {
   "cell_type": "code",
   "execution_count": 16,
   "id": "2ebb0eb6-8b8c-432a-a33a-109eeefed64c",
   "metadata": {
    "is_executing": true
   },
   "outputs": [],
   "source": [
    "kn.save_persist_canonical(chunks)"
   ]
  },
  {
   "cell_type": "markdown",
   "id": "ea8e792c-5d0a-4d9c-bad0-59e409c18097",
   "metadata": {},
   "source": [
    "### Query"
   ]
  },
  {
   "cell_type": "code",
   "execution_count": 17,
   "id": "fce53daf-dc7c-4632-acd9-44565f1ca542",
   "metadata": {},
   "outputs": [],
   "source": [
    "import textwrap\n",
    "\n",
    "def print_wrapped(text, wrap_length=80):\n",
    "    wrapped_text = textwrap.fill(text, wrap_length)\n",
    "    print(wrapped_text)"
   ]
  },
  {
   "cell_type": "code",
   "execution_count": 18,
   "id": "b5299de0-8f42-4084-a359-fa3d377206d0",
   "metadata": {},
   "outputs": [],
   "source": [
    "import random\n",
    "\n",
    "questions = [\n",
    "    \"What are the main risks associated with generative AI?\",\n",
    "    \"How can businesses mitigate the risks of using generative AI?\",\n",
    "    \"What is the role of a cross-functional team in GenAI strategy?\",\n",
    "    \"What are the legal considerations for implementing generative AI?\",\n",
    "    \"How should organizations ensure data quality in GenAI models?\",\n",
    "    \"What is the importance of ongoing enhancement and monitoring in GenAI practices?\"\n",
    "]\n",
    "\n",
    "query = random.choice(questions)"
   ]
  },
  {
   "cell_type": "markdown",
   "id": "0d7ee4b5-b845-4240-8ce4-6f3ed54c4c55",
   "metadata": {},
   "source": [
    "### Model Answers\n",
    "#### What are the main risks associated with generative AI?\n",
    "Generative AI poses several risks including the creation of misleading content such as deepfakes, biased outputs due to biased training data, factually inaccurate outputs (hallucinations), security vulnerabilities (data breaches, model theft), and a lack of transparency in decision-making processes. These risks can lead to significant harm including privacy violations, intellectual property concerns, and increased carbon footprints.\n",
    "\n",
    "#### How can businesses mitigate the risks of using generative AI?\n",
    "Businesses can mitigate these risks by implementing Responsible AI (RAI) frameworks, which include gathering cross-functional teams, tracking legal requirements, ensuring high-quality and diverse training data, maintaining transparency, and engaging in continuous monitoring and enhancement of AI systems. Establishing governance structures and upholding legal and ethical standards are also crucial.\n",
    "\n",
    "#### What is the role of a cross-functional team in GenAI strategy?\n",
    "A cross-functional team centralizes AI expertise and capabilities across different departments, facilitating knowledge sharing, collaboration, and standardization. This team should oversee AI governance, resource pooling, and upskilling initiatives. They also play a key role in developing a long-term AI roadmap, promoting innovation, and ensuring alignment with company objectives and Responsible AI standards.\n",
    "\n",
    "#### What are the legal considerations for implementing generative AI?\n",
    "Legal considerations for implementing generative AI include ensuring compliance with intellectual property laws, privacy regulations, and monitoring the evolving legal landscape for new AI-specific rulings. Organizations must document and manage legal requirements, maintain robust data privacy controls, and continuously review contracts and licensing agreements related to AI models and their outputs.\n",
    "\n",
    "#### How should organizations ensure data quality in GenAI models?\n",
    "Organizations should ensure data quality by implementing stringent data acquisition, selection, and management processes. This includes verifying the provenance of training data, ensuring it is relevant to defined use cases, and maintaining high standards for data quality and diversity. Tracking metrics related to fairness, bias, and interpretability throughout the data lifecycle is also essential.\n",
    "\n",
    "#### What is the importance of ongoing enhancement and monitoring in GenAI practices?\n",
    "Ongoing enhancement and monitoring are crucial for adapting to the rapid evolution of GenAI technology. Continuous improvement ensures that AI systems remain effective, secure, and aligned with Responsible AI principles. Regular monitoring helps identify and mitigate new risks, maintain compliance with regulations, and uphold the quality and reliability of AI outputs.\n"
   ]
  },
  {
   "cell_type": "code",
   "execution_count": 19,
   "id": "6d1aaaab-ab57-47a2-884a-b382347bb41b",
   "metadata": {},
   "outputs": [
    {
     "name": "stdout",
     "output_type": "stream",
     "text": [
      "Query: How can businesses mitigate the risks of using generative AI?\n",
      "\n",
      "Id: general_24.as_py()\n",
      "Distance: 1.3120352029800415\n",
      "Regularly communicating with stakeholders regarding AIconsiderations and\n",
      "incorporating feedback from employees, users, and experts is crucial toreﬁne\n",
      "upskilling plans, keeping efforts in sync with rapid technological progress and\n",
      "evolvingstandards of responsible AI. Bolster role-relevant and application-\n",
      "specific trainingOrganization should develop or procure responsible AI training\n",
      "resources for speciﬁc roles anddetermine what kinds of training should be\n",
      "mandatory or encouraged.●Training programs should include risk, compliance, and\n",
      "RAI training across variousfunctions. Training materials should include case\n",
      "studies and should be engaging,accessible, and effective.●For example, HR\n",
      "training should cover appropriate uses, risks, and requirements speciﬁcto\n",
      "relevant use cases. Technical users should be trained in model\n",
      "assessmentframeworks, research reviews, and analytical techniques on a mandatory\n",
      "basis. Compliance professionals should be trained in regulatory requirements\n",
      "related to AI. Application users should have current knowledge in their ﬁelds.\n",
      "Executives should betrained on the potential risks of AI, the regulatory\n",
      "environment, responsible AI KPIs,dashboards, and scoresheets.\n",
      "Answer: None\n",
      "\n",
      "Id: general_40.as_py()\n",
      "Distance: 1.3232474327087402\n",
      "To fully harness the beneﬁts of this technology, it’s crucial to mitigate these\n",
      "risks and avoid thecosts of lost revenue, lost customers, and legal fees.\n",
      "Research shows the beneﬁts ofoperationalizing this risk management approach in\n",
      "an enterprise-wide framework. To set yourbusiness up for success with generative\n",
      "AI, you will need a strategy for internal generative AIuse and generative AI\n",
      "sales to protect your business and build trust with your consumers. But ﬁguring\n",
      "out how to do this in practice is easier said than done. The Responsible AI\n",
      "Instituteoffers the support you need from AI experts - a Generative AI Policy\n",
      "customized for yourbusiness needs and objectives. Based on our industry-leading\n",
      "Responsible AI ImplementationFramework, we offer our members smart Generative AI\n",
      "guidelines related to corporate bestpractices, principles, staff training,\n",
      "privacy, liability, all based on cutting-edge best practices,standards, and\n",
      "regulations.\n",
      "Answer: None\n",
      "\n",
      "Id: general_54.as_py()\n",
      "Distance: 1.3257344961166382\n",
      "Risk: Deﬁned in ISO standards, for example, as the “combination of the\n",
      "probability of occurrenceof harm and the severity of that harm” (ISO IEC Guide\n",
      "51, ISO 12100, ISO 14971), the RAIInstitute evaluates risks in terms of risk,\n",
      "harm, threats, and impacts, identifying if a risk ismitigable or unmitigable,\n",
      "caused by intentional or unintentional action or systemic forces,\n",
      "andcategorizing appropriate ﬁt between severity and mitigation action in\n",
      "alignment with bestpractices. Clarifying the concept of risk in AI involves\n",
      "illustrating potential harms, such asprivacy violations, discrimination, or\n",
      "unintended consequences of AI deployment. Providingexamples helps stakeholders\n",
      "understand the importance of identifying, evaluating, andmitigating risks to\n",
      "prevent adverse impacts on individuals and societyRisk management: A governance\n",
      "approach that articulates, documents, formalizes, and trainsteams on risk-\n",
      "related guidelines, principles, frameworks, and mitigation processes (ISO\n",
      "31000). Sustainability: A principle that focuses on the development and\n",
      "deployment of AI in ways thatconsider their long-term environmental, social, and\n",
      "economic impacts.\n",
      "Answer: None\n",
      "\n",
      "Id: general_23.as_py()\n",
      "Distance: 1.3296802043914795\n",
      "By empowering the risk management function within an organization, it is\n",
      "possible to enable oversight over the evolving landscape of AI technologies,\n",
      "thereby safeguarding intellectual property, data, and the integrity of AI\n",
      "models.●Empower the risk management function to regularly develop and\n",
      "conductcomprehensive risk assessments, prioritizing risks based on severity and\n",
      "potentialorganizational impact.●Formulate clear, actionable risk mitigation\n",
      "strategies and collaborate with developmentteams for rigorous testing and\n",
      "validation of models in every iteration.●Carry out periodic audits of AI systems\n",
      "and implement robust security measures toprotect AI models, intellectual\n",
      "property, and data.●Set up continuous monitoring of AI systems in real-world\n",
      "settings to quickly identify andmitigate emerging risks.●Establish an AI\n",
      "governance framework to oversee risk assessment and managementprocesses,\n",
      "ensuring senior management is informed about training needs to betterunderstand\n",
      "GenAI risks.© Responsible AI Institute 2024| All Rights Reserved | Do Not Use\n",
      "Without Permission12 Responsible Generative AI Workforce:Training, Education,\n",
      "and UpskillingTo foster a responsible AI workforce, organizations must offer\n",
      "clear, all-encompassing upskillingresources that span legal, privacy,\n",
      "cybersecurity, and responsible AI practices. Organizations should develop a\n",
      "multifaceted approach to this effort, including providing GenAIand RAI guidance,\n",
      "introducing RAI training at all levels, and supporting relevant\n",
      "professionaldevelopment, repositories, forums, and collaboration avenues.\n",
      "Programs should seek toempower employees to use and develop GenAI as a tool for\n",
      "good by clarifying what “good”looks like in their speciﬁc roles.\n",
      "Answer: None\n",
      "\n",
      "Id: general_11.as_py()\n",
      "Distance: 1.3309929370880127\n",
      "They've developed comprehensive procedures for tracking and researching leading\n",
      "AI technologies, alongside relevant regulations and mitigation strategies. This\n",
      "includes creating AI-speciﬁc procurement and vendor evaluation processes to\n",
      "responsibly acquire third-party AI systems. Employees are encouraged to engage\n",
      "in professional development opportunities related to AI, including training,\n",
      "pilot projects, and contributions to standards and open-source technology\n",
      "research. Moreover, pursuing Responsible AI certiﬁcation for their systems, in\n",
      "line with national accreditation standards and leading practices, underscores\n",
      "their dedication to responsible AI deployment.© Responsible AI Institute 2024|\n",
      "All Rights Reserved | Do Not Use Without Permission6 Best PracticesThis RAI\n",
      "Institute guide serves as a resource for organizations aiming to foster\n",
      "responsible useof generative AI. It outlines a non-exhaustive list of best\n",
      "practices in GenAI use, procurement,and development.\n",
      "Answer: None\n",
      "\n",
      "Id: general_22.as_py()\n",
      "Distance: 1.3310353755950928\n",
      "Incorporate mandatory governance gates for AIsystem implementation to maintain\n",
      "their suitability, adequacy, effectiveness, andresponsibility throughout all\n",
      "lifecycle stages.●Align GenAI policy with existing organizational RAI, AI, and\n",
      "non-AI policies for coherenceand comprehensive governance.●Periodically review\n",
      "and adjust the policy and framework to ensure its ongoing relevance,adequacy,\n",
      "and effectiveness, adapting to the pace of GenAI development.© Responsible AI\n",
      "Institute 2024| All Rights Reserved | Do Not Use Without Permission11 ●Enhance\n",
      "transparency and accountability by communicating externally about\n",
      "theorganization's responsible GenAI approach through reporting and publications.\n",
      "Provideaccessible information to stakeholders, both external and internal, about\n",
      "AI systemsincluding risk levels, incidents, and other relevant details.●As an\n",
      "example of foundational RAI frameworks for a policy, the RAI Institute aligns\n",
      "withthe NIST AI Risk Management Framework in its Model Corporate AI Policy.\n",
      "Prioritize a proactive and robust GenAI risk management approachA comprehensive\n",
      "approach to GenAI risk and harm allows for the early identiﬁcation and\n",
      "mitigation of potential risks speciﬁc to GenAI, ensuring that AI systems are\n",
      "developed, used, and operated securely and effectively.\n",
      "Answer: None\n",
      "\n",
      "Id: general_25.as_py()\n",
      "Distance: 1.333800196647644\n",
      "New hires in AI-related roles and people interested in AIshould be able to\n",
      "attend general AI training, access cheat sheets, attendlunch-and-learns, and\n",
      "connect with internal and external experts via online resources.●Staff in many\n",
      "other roles should be trained to act as translators between the\n",
      "business,analytics, and compliance worlds. Train senior leadership in compliance\n",
      "mattersOrganizational leadership should complete executive-level training on\n",
      "responsible AI compliance.\n",
      "Answer: None\n",
      "\n",
      "Id: general_1.as_py()\n",
      "Distance: 1.3352316617965698\n",
      "To position themselves to responsibly capitalize on this potential,\n",
      "organizations mustimplement governance to pave the way for trustworthy AI\n",
      "deployment, procurement, sale, anduse, as applicable. Applying Responsible AI\n",
      "(RAI) frameworks to generative and other forms ofAI across the organization can\n",
      "mitigate pressing risks and threats, allowing the technology’spotential to be\n",
      "maximized. The RAI Institute offers the following set of best practices for\n",
      "responsible generative AI use toguide AI practitioners, executive, and other\n",
      "professionals. These guidelines includerecommendations related to gathering the\n",
      "right teams and tools, tracking legal requirements,evolving the workforce, and\n",
      "implementing clear objectives and requirements for generative AI. These best\n",
      "practices are grouped into ﬁve categories of Responsible Generative AI:1.\n",
      "Strategy: Planning, Policies, and Governance2. Workforce: Training, Education,\n",
      "and Upskilling3. Capacity:\n",
      "Answer: None\n",
      "\n"
     ]
    }
   ],
   "source": [
    "print(f\"Query: {query}\\n\")\n",
    "\n",
    "answer = kn.load_persist_canonical(query=query)\n",
    "\n",
    "for i in range(answer.num_rows):\n",
    "    s = answer.slice(i,1)\n",
    "    print(f\"Id: {s.column('id')[0]}.as_py()\")\n",
    "    print(f\"Distance: {s.column('distance')[0].as_py()}\")\n",
    "    print(f\"Answer: {print_wrapped(s.column('source')[0].as_py())}\\n\")\n",
    "\n"
   ]
  },
  {
   "cell_type": "code",
   "execution_count": null,
   "id": "5b729587-a26a-42f4-8c40-e68f60053968",
   "metadata": {},
   "outputs": [],
   "source": []
  }
 ],
 "metadata": {
  "kernelspec": {
   "display_name": "Python 3 (ipykernel)",
   "language": "python",
   "name": "python3"
  },
  "language_info": {
   "codemirror_mode": {
    "name": "ipython",
    "version": 3
   },
   "file_extension": ".py",
   "mimetype": "text/x-python",
   "name": "python",
   "nbconvert_exporter": "python",
   "pygments_lexer": "ipython3",
   "version": "3.10.14"
  }
 },
 "nbformat": 4,
 "nbformat_minor": 5
}
