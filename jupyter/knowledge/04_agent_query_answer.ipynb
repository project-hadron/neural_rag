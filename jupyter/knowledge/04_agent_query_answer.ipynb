{
 "cells": [
  {
   "cell_type": "code",
   "execution_count": 1,
   "id": "962e2eab-fef2-4393-8e03-836e7921a99d",
   "metadata": {
    "is_executing": true
   },
   "outputs": [],
   "source": [
    "# saves you having to use print as all exposed variables are printed in the cell\n",
    "from IPython.core.interactiveshell import InteractiveShell\n",
    "InteractiveShell.ast_node_interactivity = \"all\""
   ]
  },
  {
   "cell_type": "code",
   "execution_count": 2,
   "id": "116bbfb0-cf0d-4946-a9ab-0430479d0e94",
   "metadata": {},
   "outputs": [],
   "source": [
    "# suppress warning message\n",
    "import warnings\n",
    "warnings.filterwarnings('ignore')"
   ]
  },
  {
   "cell_type": "code",
   "execution_count": 3,
   "id": "68bdaf3a-78fb-438b-9590-d4feb46ad151",
   "metadata": {
    "is_executing": true
   },
   "outputs": [],
   "source": [
    "import os\n",
    "import pyarrow as pa\n",
    "import pyarrow.compute as pc\n",
    "from nn_rag import Knowledge, Controller"
   ]
  },
  {
   "cell_type": "markdown",
   "id": "46761902-7106-4628-9b12-0ff133fe2041",
   "metadata": {},
   "source": [
    "### Set parameters as environment variables"
   ]
  },
  {
   "cell_type": "code",
   "execution_count": 4,
   "id": "52a63c1a-db81-4b74-83dc-0e84b9e5bb48",
   "metadata": {
    "is_executing": true
   },
   "outputs": [],
   "source": [
    "# Data\n",
    "# os.environ['HADRON_KNOWLEDGE_SOURCE_URI'] = './hadron/source/Gen AI Best Practices.pdf'\n",
    "os.environ['HADRON_KNOWLEDGE_SOURCE_URI'] = \"./hadron/source/Human-Nutrition-2020-Edition.pdf\"\n",
    "os.environ['HADRON_KNOWLEDGE_EMBED_URI'] = 'chroma:///'\n"
   ]
  },
  {
   "cell_type": "markdown",
   "id": "0cb5c8ff-3497-4213-a0fc-db712cb4a8a8",
   "metadata": {},
   "source": [
    "### Instantiate capability"
   ]
  },
  {
   "cell_type": "code",
   "execution_count": 5,
   "id": "b85ae8c1-598a-4764-97b0-7b882e3fadc8",
   "metadata": {
    "is_executing": true
   },
   "outputs": [],
   "source": [
    "kn = Knowledge.from_memory()"
   ]
  },
  {
   "cell_type": "code",
   "execution_count": 6,
   "id": "361cb284-9dbd-461b-9fbe-6abf87fed6c1",
   "metadata": {
    "is_executing": true
   },
   "outputs": [],
   "source": [
    "tbl = kn.set_source_uri(\"${HADRON_KNOWLEDGE_SOURCE_URI}\").load_source_canonical()\n",
    "kn.set_persist_uri('${HADRON_KNOWLEDGE_EMBED_URI}')"
   ]
  },
  {
   "cell_type": "markdown",
   "id": "cdc42785-2053-4337-adbe-706db65e5844",
   "metadata": {},
   "source": [
    "### Remove end of line from the document"
   ]
  },
  {
   "cell_type": "code",
   "execution_count": 7,
   "id": "f38a2092-ddc1-45cc-8c94-c2ae48f454d9",
   "metadata": {},
   "outputs": [],
   "source": [
    "doc = kn.tools.filter_replace_str(tbl, pattern='\\n', replacement='')"
   ]
  },
  {
   "cell_type": "markdown",
   "id": "cc4e6ec1-77eb-4a29-9931-357966936ca4",
   "metadata": {},
   "source": [
    "### Break the text_doc into sentences with scores"
   ]
  },
  {
   "cell_type": "code",
   "execution_count": 8,
   "id": "eb75f742-54ea-46ad-b24d-55157a285d75",
   "metadata": {},
   "outputs": [
    {
     "data": {
      "application/vnd.jupyter.widget-view+json": {
       "model_id": "64b7a9d1f6d44af78332c14a19da2634",
       "version_major": 2,
       "version_minor": 0
      },
      "text/plain": [
       "building sentences:   0%|          | 0/164508 [00:00<?, ?it/s]"
      ]
     },
     "metadata": {},
     "output_type": "display_data"
    },
    {
     "data": {
      "application/vnd.jupyter.widget-view+json": {
       "model_id": "0f5d15ad06f84b8b92704a6aab8155fa",
       "version_major": 2,
       "version_minor": 0
      },
      "text/plain": [
       "sentence stats:   0%|          | 0/7503 [00:00<?, ?it/s]"
      ]
     },
     "metadata": {},
     "output_type": "display_data"
    },
    {
     "data": {
      "application/vnd.jupyter.widget-view+json": {
       "model_id": "0badcf0f99ea4dd58a5435cd84fb5b7b",
       "version_major": 2,
       "version_minor": 0
      },
      "text/plain": [
       "building sentences:   0%|          | 0/83372 [00:00<?, ?it/s]"
      ]
     },
     "metadata": {},
     "output_type": "display_data"
    },
    {
     "data": {
      "application/vnd.jupyter.widget-view+json": {
       "model_id": "b94244040f264ccd9d41e777670b2675",
       "version_major": 2,
       "version_minor": 0
      },
      "text/plain": [
       "sentence stats:   0%|          | 0/4096 [00:00<?, ?it/s]"
      ]
     },
     "metadata": {},
     "output_type": "display_data"
    },
    {
     "data": {
      "text/html": [
       "<style type=\"text/css\">\n",
       "#T_401f4 th {\n",
       "  font-size: 120%;\n",
       "  text-align: center;\n",
       "}\n",
       "#T_401f4 .row_heading {\n",
       "  display: none;;\n",
       "}\n",
       "#T_401f4  .blank {\n",
       "  display: none;;\n",
       "}\n",
       "#T_401f4_row0_col0, #T_401f4_row0_col1, #T_401f4_row0_col2, #T_401f4_row0_col3, #T_401f4_row0_col4, #T_401f4_row0_col5, #T_401f4_row0_col6, #T_401f4_row1_col0, #T_401f4_row1_col1, #T_401f4_row1_col2, #T_401f4_row1_col3, #T_401f4_row1_col4, #T_401f4_row1_col5, #T_401f4_row1_col6, #T_401f4_row2_col0, #T_401f4_row2_col1, #T_401f4_row2_col2, #T_401f4_row2_col3, #T_401f4_row2_col4, #T_401f4_row2_col5, #T_401f4_row2_col6, #T_401f4_row3_col0, #T_401f4_row3_col1, #T_401f4_row3_col2, #T_401f4_row3_col3, #T_401f4_row3_col4, #T_401f4_row3_col5, #T_401f4_row3_col6, #T_401f4_row4_col0, #T_401f4_row4_col1, #T_401f4_row4_col2, #T_401f4_row4_col3, #T_401f4_row4_col4, #T_401f4_row4_col5, #T_401f4_row4_col6, #T_401f4_row5_col0, #T_401f4_row5_col1, #T_401f4_row5_col2, #T_401f4_row5_col3, #T_401f4_row5_col4, #T_401f4_row5_col5, #T_401f4_row5_col6, #T_401f4_row6_col0, #T_401f4_row6_col1, #T_401f4_row6_col2, #T_401f4_row6_col3, #T_401f4_row6_col4, #T_401f4_row6_col5, #T_401f4_row6_col6, #T_401f4_row7_col0, #T_401f4_row7_col1, #T_401f4_row7_col2, #T_401f4_row7_col3, #T_401f4_row7_col4, #T_401f4_row7_col5, #T_401f4_row7_col6, #T_401f4_row8_col0, #T_401f4_row8_col1, #T_401f4_row8_col2, #T_401f4_row8_col3, #T_401f4_row8_col4, #T_401f4_row8_col5, #T_401f4_row8_col6, #T_401f4_row9_col0, #T_401f4_row9_col1, #T_401f4_row9_col2, #T_401f4_row9_col3, #T_401f4_row9_col4, #T_401f4_row9_col5, #T_401f4_row9_col6 {\n",
       "  text-align: left;\n",
       "}\n",
       "</style>\n",
       "<table id=\"T_401f4\">\n",
       "  <thead>\n",
       "    <tr>\n",
       "      <th class=\"blank level0\" >&nbsp;</th>\n",
       "      <th id=\"T_401f4_level0_col0\" class=\"col_heading level0 col0\" >index</th>\n",
       "      <th id=\"T_401f4_level0_col1\" class=\"col_heading level0 col1\" >char_count</th>\n",
       "      <th id=\"T_401f4_level0_col2\" class=\"col_heading level0 col2\" >word_count</th>\n",
       "      <th id=\"T_401f4_level0_col3\" class=\"col_heading level0 col3\" >token_count</th>\n",
       "      <th id=\"T_401f4_level0_col4\" class=\"col_heading level0 col4\" >score</th>\n",
       "      <th id=\"T_401f4_level0_col5\" class=\"col_heading level0 col5\" >words</th>\n",
       "      <th id=\"T_401f4_level0_col6\" class=\"col_heading level0 col6\" >text</th>\n",
       "    </tr>\n",
       "  </thead>\n",
       "  <tbody>\n",
       "    <tr>\n",
       "      <th id=\"T_401f4_level0_row0\" class=\"row_heading level0 row0\" >0</th>\n",
       "      <td id=\"T_401f4_row0_col0\" class=\"data row0 col0\" >0</td>\n",
       "      <td id=\"T_401f4_row0_col1\" class=\"data row0 col1\" >554</td>\n",
       "      <td id=\"T_401f4_row0_col2\" class=\"data row0 col2\" >77</td>\n",
       "      <td id=\"T_401f4_row0_col3\" class=\"data row0 col3\" >138</td>\n",
       "      <td id=\"T_401f4_row0_col4\" class=\"data row0 col4\" >0</td>\n",
       "      <td id=\"T_401f4_row0_col5\" class=\"data row0 col5\" >['human' 'nutrition' 'edition']</td>\n",
       "      <td id=\"T_401f4_row0_col6\" class=\"data row0 col6\" >Human Nutrition: 2020 Edition \f",
       "\f",
       "Human Nutrition: 2020 Edition UNIVERSITY OF HAWAI‘I AT MĀNOA FOOD SCIENCE AND HUMAN NUTRITION PROGRAM ALAN TITCHENAL, SKYLAR HARA, NOEMI ARCEO CAACBAY, WILLIAM MEINKE-LAU, YA-YUN YANG, MARIE KAINOA FIALKOWSKI REVILLA, JENNIFER DRAPER, GEMADY LANGFELDER, CHERYL GIBBY, CHYNA NICOLE CHUN, AND ALLISON CALABRESE \f",
       "Human Nutrition: 2020 Edition by University of Hawai‘i at Mānoa Food Science and Human Nutrition Program is licensed under a Creative Commons Attribution 4.0 International License, except where otherwise noted. \f",
       "</td>\n",
       "    </tr>\n",
       "    <tr>\n",
       "      <th id=\"T_401f4_level0_row1\" class=\"row_heading level0 row1\" >1</th>\n",
       "      <td id=\"T_401f4_row1_col0\" class=\"data row1 col0\" >1</td>\n",
       "      <td id=\"T_401f4_row1_col1\" class=\"data row1 col1\" >368</td>\n",
       "      <td id=\"T_401f4_row1_col2\" class=\"data row1 col2\" >54</td>\n",
       "      <td id=\"T_401f4_row1_col3\" class=\"data row1 col3\" >92</td>\n",
       "      <td id=\"T_401f4_row1_col4\" class=\"data row1 col4\" >0</td>\n",
       "      <td id=\"T_401f4_row1_col5\" class=\"data row1 col5\" >['human' 'nutrition' 'program']</td>\n",
       "      <td id=\"T_401f4_row1_col6\" class=\"data row1 col6\" >Contents Preface University of Hawai‘i at Mānoa Food Science and Human Nutrition Program and Human Nutrition Program xxv About the Contributors University of Hawai‘i at Mānoa Food Science and Human Nutrition Program and Human Nutrition Program xxvi Acknowledgements University of Hawai‘i at Mānoa Food Science and Human Nutrition Program and Human Nutrition Program xl</td>\n",
       "    </tr>\n",
       "    <tr>\n",
       "      <th id=\"T_401f4_level0_row2\" class=\"row_heading level0 row2\" >2</th>\n",
       "      <td id=\"T_401f4_row2_col0\" class=\"data row2 col0\" >2</td>\n",
       "      <td id=\"T_401f4_row2_col1\" class=\"data row2 col1\" >18</td>\n",
       "      <td id=\"T_401f4_row2_col2\" class=\"data row2 col2\" >2</td>\n",
       "      <td id=\"T_401f4_row2_col3\" class=\"data row2 col3\" >4</td>\n",
       "      <td id=\"T_401f4_row2_col4\" class=\"data row2 col4\" >0</td>\n",
       "      <td id=\"T_401f4_row2_col5\" class=\"data row2 col5\" >['part' 'i.' 'chapter']</td>\n",
       "      <td id=\"T_401f4_row2_col6\" class=\"data row2 col6\" >Part I. Chapter 1.</td>\n",
       "    </tr>\n",
       "    <tr>\n",
       "      <th id=\"T_401f4_level0_row3\" class=\"row_heading level0 row3\" >3</th>\n",
       "      <td id=\"T_401f4_row3_col0\" class=\"data row3 col0\" >3</td>\n",
       "      <td id=\"T_401f4_row3_col1\" class=\"data row3 col1\" >914</td>\n",
       "      <td id=\"T_401f4_row3_col2\" class=\"data row3 col2\" >139</td>\n",
       "      <td id=\"T_401f4_row3_col3\" class=\"data row3 col3\" >228</td>\n",
       "      <td id=\"T_401f4_row3_col4\" class=\"data row3 col4\" >0</td>\n",
       "      <td id=\"T_401f4_row3_col5\" class=\"data row3 col5\" >['nutrition' 'human' 'program']</td>\n",
       "      <td id=\"T_401f4_row3_col6\" class=\"data row3 col6\" >Basic Concepts in Nutrition Introduction University of Hawai‘i at Mānoa Food Science and Human Nutrition Program and Human Nutrition Program 3 Food Quality University of Hawai‘i at Mānoa Food Science and Human Nutrition Program and Human Nutrition Program 14 Units of Measure University of Hawai‘i at Mānoa Food Science and Human Nutrition Program and Human Nutrition Program 18 \f",
       "Lifestyles and Nutrition University of Hawai‘i at Mānoa Food Science and Human Nutrition Program and Human Nutrition Program 21 Achieving a Healthy Diet University of Hawai‘i at Mānoa Food Science and Human Nutrition Program and Human Nutrition Program 30 Research and the Scientific Method University of Hawai‘i at Mānoa Food Science and Human Nutrition Program and Human Nutrition Program 34 Types of Scientific Studies University of Hawai‘i at Mānoa Food Science and Human Nutrition Program and Human Nutrition Program 41 Part II. </td>\n",
       "    </tr>\n",
       "    <tr>\n",
       "      <th id=\"T_401f4_level0_row4\" class=\"row_heading level0 row4\" >4</th>\n",
       "      <td id=\"T_401f4_row4_col0\" class=\"data row4 col0\" >4</td>\n",
       "      <td id=\"T_401f4_row4_col1\" class=\"data row4 col1\" >10</td>\n",
       "      <td id=\"T_401f4_row4_col2\" class=\"data row4 col2\" >2</td>\n",
       "      <td id=\"T_401f4_row4_col3\" class=\"data row4 col3\" >2</td>\n",
       "      <td id=\"T_401f4_row4_col4\" class=\"data row4 col4\" >0</td>\n",
       "      <td id=\"T_401f4_row4_col5\" class=\"data row4 col5\" >['chapter']</td>\n",
       "      <td id=\"T_401f4_row4_col6\" class=\"data row4 col6\" >Chapter 2.</td>\n",
       "    </tr>\n",
       "    <tr>\n",
       "      <th id=\"T_401f4_level0_row5\" class=\"row_heading level0 row5\" >5</th>\n",
       "      <td id=\"T_401f4_row5_col0\" class=\"data row5 col0\" >5</td>\n",
       "      <td id=\"T_401f4_row5_col1\" class=\"data row5 col1\" >652</td>\n",
       "      <td id=\"T_401f4_row5_col2\" class=\"data row5 col2\" >98</td>\n",
       "      <td id=\"T_401f4_row5_col3\" class=\"data row5 col3\" >163</td>\n",
       "      <td id=\"T_401f4_row5_col4\" class=\"data row5 col4\" >0</td>\n",
       "      <td id=\"T_401f4_row5_col5\" class=\"data row5 col5\" >['human' 'nutrition' 'program']</td>\n",
       "      <td id=\"T_401f4_row5_col6\" class=\"data row5 col6\" >The Human Body Introduction University of Hawai‘i at Mānoa Food Science and Human Nutrition Program and Human Nutrition Program 55 Basic Biology, Anatomy, and Physiology University of Hawai‘i at Mānoa Food Science and Human Nutrition Program and Human Nutrition Program 62 The Digestive System University of Hawai‘i at Mānoa Food Science and Human Nutrition Program and Human Nutrition Program 68 \f",
       "The Cardiovascular System University of Hawai‘i at Mānoa Food Science and Human Nutrition Program and Human Nutrition Program 82 Central Nervous System University of Hawai‘i at Mānoa Food Science and Human Nutrition Program and Human Nutrition Program 94</td>\n",
       "    </tr>\n",
       "    <tr>\n",
       "      <th id=\"T_401f4_level0_row6\" class=\"row_heading level0 row6\" >6</th>\n",
       "      <td id=\"T_401f4_row6_col0\" class=\"data row6 col0\" >6</td>\n",
       "      <td id=\"T_401f4_row6_col1\" class=\"data row6 col1\" >250</td>\n",
       "      <td id=\"T_401f4_row6_col2\" class=\"data row6 col2\" >38</td>\n",
       "      <td id=\"T_401f4_row6_col3\" class=\"data row6 col3\" >62</td>\n",
       "      <td id=\"T_401f4_row6_col4\" class=\"data row6 col4\" >0</td>\n",
       "      <td id=\"T_401f4_row6_col5\" class=\"data row6 col5\" >['human' 'nutrition' 'program']</td>\n",
       "      <td id=\"T_401f4_row6_col6\" class=\"data row6 col6\" >The Respiratory System University of Hawai‘i at Mānoa Food Science and Human Nutrition Program and Human Nutrition Program 99 The Endocrine System University of Hawai‘i at Mānoa Food Science and Human Nutrition Program and Human Nutrition Program 106</td>\n",
       "    </tr>\n",
       "    <tr>\n",
       "      <th id=\"T_401f4_level0_row7\" class=\"row_heading level0 row7\" >7</th>\n",
       "      <td id=\"T_401f4_row7_col0\" class=\"data row7 col0\" >7</td>\n",
       "      <td id=\"T_401f4_row7_col1\" class=\"data row7 col1\" >246</td>\n",
       "      <td id=\"T_401f4_row7_col2\" class=\"data row7 col2\" >38</td>\n",
       "      <td id=\"T_401f4_row7_col3\" class=\"data row7 col3\" >62</td>\n",
       "      <td id=\"T_401f4_row7_col4\" class=\"data row7 col4\" >0</td>\n",
       "      <td id=\"T_401f4_row7_col5\" class=\"data row7 col5\" >['human' 'nutrition' 'program']</td>\n",
       "      <td id=\"T_401f4_row7_col6\" class=\"data row7 col6\" >The Urinary System University of Hawai‘i at Mānoa Food Science and Human Nutrition Program and Human Nutrition Program 110 The Muscular System University of Hawai‘i at Mānoa Food Science and Human Nutrition Program and Human Nutrition Program 117</td>\n",
       "    </tr>\n",
       "    <tr>\n",
       "      <th id=\"T_401f4_level0_row8\" class=\"row_heading level0 row8\" >8</th>\n",
       "      <td id=\"T_401f4_row8_col0\" class=\"data row8 col0\" >8</td>\n",
       "      <td id=\"T_401f4_row8_col1\" class=\"data row8 col1\" >123</td>\n",
       "      <td id=\"T_401f4_row8_col2\" class=\"data row8 col2\" >19</td>\n",
       "      <td id=\"T_401f4_row8_col3\" class=\"data row8 col3\" >31</td>\n",
       "      <td id=\"T_401f4_row8_col4\" class=\"data row8 col4\" >0</td>\n",
       "      <td id=\"T_401f4_row8_col5\" class=\"data row8 col5\" >['human' 'nutrition' 'program']</td>\n",
       "      <td id=\"T_401f4_row8_col6\" class=\"data row8 col6\" >The Skeletal System University of Hawai‘i at Mānoa Food Science and Human Nutrition Program and Human Nutrition Program 120</td>\n",
       "    </tr>\n",
       "    <tr>\n",
       "      <th id=\"T_401f4_level0_row9\" class=\"row_heading level0 row9\" >9</th>\n",
       "      <td id=\"T_401f4_row9_col0\" class=\"data row9 col0\" >9</td>\n",
       "      <td id=\"T_401f4_row9_col1\" class=\"data row9 col1\" >315</td>\n",
       "      <td id=\"T_401f4_row9_col2\" class=\"data row9 col2\" >48</td>\n",
       "      <td id=\"T_401f4_row9_col3\" class=\"data row9 col3\" >79</td>\n",
       "      <td id=\"T_401f4_row9_col4\" class=\"data row9 col4\" >0</td>\n",
       "      <td id=\"T_401f4_row9_col5\" class=\"data row9 col5\" >['human' 'nutrition' 'program']</td>\n",
       "      <td id=\"T_401f4_row9_col6\" class=\"data row9 col6\" >The Immune System University of Hawai‘i at Mānoa Food Science and Human Nutrition Program and Human Nutrition Program 129 \f",
       "Indicators of Health: Body Mass Index, Body Fat Content, and Fat Distribution University of Hawai‘i at Mānoa Food Science and Human Nutrition Program and Human Nutrition Program 133 Part III. </td>\n",
       "    </tr>\n",
       "  </tbody>\n",
       "</table>\n"
      ],
      "text/plain": [
       "<pandas.io.formats.style.Styler at 0x7f8be64d47f0>"
      ]
     },
     "execution_count": 8,
     "metadata": {},
     "output_type": "execute_result"
    }
   ],
   "source": [
    "sentences = kn.tools.text_to_sentences(doc, include_score=False, words_max=3)"
   ]
  },
  {
   "cell_type": "code",
   "execution_count": 9,
   "id": "b9f52b0c-a6e0-447d-b567-fdf6c04e513d",
   "metadata": {},
   "outputs": [
    {
     "data": {
      "text/plain": [
       "1"
      ]
     },
     "execution_count": 9,
     "metadata": {},
     "output_type": "execute_result"
    },
    {
     "data": {
      "text/plain": [
       "116.02060522458832"
      ]
     },
     "execution_count": 9,
     "metadata": {},
     "output_type": "execute_result"
    },
    {
     "data": {
      "text/plain": [
       "2390"
      ]
     },
     "execution_count": 9,
     "metadata": {},
     "output_type": "execute_result"
    }
   ],
   "source": [
    "pc.min(sentences['char_count']).as_py()\n",
    "pc.mean(sentences['char_count']).as_py()\n",
    "pc.max(sentences['char_count']).as_py()"
   ]
  },
  {
   "cell_type": "markdown",
   "id": "7620d222-7bf0-4f16-b39c-79dea37d5cf3",
   "metadata": {},
   "source": [
    "### Use pyarrow to get the thrashold similarity scores"
   ]
  },
  {
   "cell_type": "code",
   "execution_count": 10,
   "id": "a3f3e65d-35ea-4ed7-9669-ae7bbdc15b30",
   "metadata": {},
   "outputs": [
    {
     "name": "stdout",
     "output_type": "stream",
     "text": [
      "Threshold silimarity for []\n"
     ]
    }
   ],
   "source": [
    "high_similarity = pc.filter(sentences, pc.greater(sentences['score'], 0.9)).column('index').to_pylist()\n",
    "print(f\"Threshold silimarity for {high_similarity}\")"
   ]
  },
  {
   "cell_type": "markdown",
   "id": "486ee28b-e669-492b-8fd2-037e528b671a",
   "metadata": {},
   "source": [
    "### join the similar sentences"
   ]
  },
  {
   "cell_type": "code",
   "execution_count": 11,
   "id": "d16e3dd1-11e6-4d54-81e7-3a7b30f1da1f",
   "metadata": {},
   "outputs": [],
   "source": [
    "joined = kn.tools.filter_on_join(sentences, indices=high_similarity)"
   ]
  },
  {
   "cell_type": "code",
   "execution_count": 12,
   "id": "600e244e-e010-47e4-9d3b-f7119c3e1678",
   "metadata": {},
   "outputs": [
    {
     "data": {
      "text/plain": [
       "1"
      ]
     },
     "execution_count": 12,
     "metadata": {},
     "output_type": "execute_result"
    },
    {
     "data": {
      "text/plain": [
       "116.02060522458832"
      ]
     },
     "execution_count": 12,
     "metadata": {},
     "output_type": "execute_result"
    },
    {
     "data": {
      "text/plain": [
       "2390"
      ]
     },
     "execution_count": 12,
     "metadata": {},
     "output_type": "execute_result"
    }
   ],
   "source": [
    "pc.min(sentences['char_count']).as_py()\n",
    "pc.mean(sentences['char_count']).as_py()\n",
    "pc.max(sentences['char_count']).as_py()"
   ]
  },
  {
   "cell_type": "code",
   "execution_count": 13,
   "id": "2ebb0eb6-8b8c-432a-a33a-109eeefed64c",
   "metadata": {
    "is_executing": true
   },
   "outputs": [
    {
     "ename": "ValueError",
     "evalue": "Expected collection name that (1) contains 3-63 characters, (2) starts and ends with an alphanumeric character, (3) otherwise contains only alphanumeric characters, underscores or hyphens (-), (4) contains no two consecutive periods (..) and (5) is not a valid IPv4 address, got ",
     "output_type": "error",
     "traceback": [
      "\u001b[0;31m---------------------------------------------------------------------------\u001b[0m",
      "\u001b[0;31mValueError\u001b[0m                                Traceback (most recent call last)",
      "Cell \u001b[0;32mIn[13], line 1\u001b[0m\n\u001b[0;32m----> 1\u001b[0m \u001b[43mkn\u001b[49m\u001b[38;5;241;43m.\u001b[39;49m\u001b[43msave_persist_canonical\u001b[49m\u001b[43m(\u001b[49m\u001b[43mjoined\u001b[49m\u001b[43m)\u001b[49m\n",
      "File \u001b[0;32m/opt/anaconda3/envs/neural/lib/python3.10/site-packages/nn_rag/components/abstract_common_component.py:123\u001b[0m, in \u001b[0;36mAbstractCommonComponent.save_persist_canonical\u001b[0;34m(self, canonical, auto_connectors, **kwargs)\u001b[0m\n\u001b[1;32m    121\u001b[0m     \u001b[38;5;28;01mif\u001b[39;00m \u001b[38;5;129;01mnot\u001b[39;00m \u001b[38;5;28mself\u001b[39m\u001b[38;5;241m.\u001b[39mpm\u001b[38;5;241m.\u001b[39mhas_connector(\u001b[38;5;28mself\u001b[39m\u001b[38;5;241m.\u001b[39mCONNECTOR_PERSIST):\n\u001b[1;32m    122\u001b[0m         \u001b[38;5;28mself\u001b[39m\u001b[38;5;241m.\u001b[39mset_persist()\n\u001b[0;32m--> 123\u001b[0m \u001b[38;5;28;43mself\u001b[39;49m\u001b[38;5;241;43m.\u001b[39;49m\u001b[43mpersist_canonical\u001b[49m\u001b[43m(\u001b[49m\u001b[43mconnector_name\u001b[49m\u001b[38;5;241;43m=\u001b[39;49m\u001b[38;5;28;43mself\u001b[39;49m\u001b[38;5;241;43m.\u001b[39;49m\u001b[43mCONNECTOR_PERSIST\u001b[49m\u001b[43m,\u001b[49m\u001b[43m \u001b[49m\u001b[43mcanonical\u001b[49m\u001b[38;5;241;43m=\u001b[39;49m\u001b[43mcanonical\u001b[49m\u001b[43m,\u001b[49m\u001b[43m \u001b[49m\u001b[38;5;241;43m*\u001b[39;49m\u001b[38;5;241;43m*\u001b[39;49m\u001b[43mkwargs\u001b[49m\u001b[43m)\u001b[49m\n\u001b[1;32m    124\u001b[0m \u001b[38;5;28;01mreturn\u001b[39;00m\n",
      "File \u001b[0;32m/opt/anaconda3/envs/neural/lib/python3.10/site-packages/ds_core/components/abstract_component.py:872\u001b[0m, in \u001b[0;36mAbstractComponent.persist_canonical\u001b[0;34m(self, connector_name, canonical, **kwargs)\u001b[0m\n\u001b[1;32m    865\u001b[0m \u001b[38;5;250m\u001b[39m\u001b[38;5;124;03m\"\"\"persists the canonical to the referenced connector. same as save_canonical\u001b[39;00m\n\u001b[1;32m    866\u001b[0m \n\u001b[1;32m    867\u001b[0m \u001b[38;5;124;03m:param connector_name: the name or label to identify and reference the connector\u001b[39;00m\n\u001b[1;32m    868\u001b[0m \u001b[38;5;124;03m:param canonical: the canonical data to persist\u001b[39;00m\n\u001b[1;32m    869\u001b[0m \u001b[38;5;124;03m:param kwargs: arguments to be passed to the handler on persist\u001b[39;00m\n\u001b[1;32m    870\u001b[0m \u001b[38;5;124;03m\"\"\"\u001b[39;00m\n\u001b[1;32m    871\u001b[0m \u001b[38;5;28;01mif\u001b[39;00m \u001b[38;5;28mself\u001b[39m\u001b[38;5;241m.\u001b[39mpm\u001b[38;5;241m.\u001b[39mhas_connector(connector_name):\n\u001b[0;32m--> 872\u001b[0m     handler \u001b[38;5;241m=\u001b[39m \u001b[38;5;28;43mself\u001b[39;49m\u001b[38;5;241;43m.\u001b[39;49m\u001b[43mpm\u001b[49m\u001b[38;5;241;43m.\u001b[39;49m\u001b[43mget_connector_handler\u001b[49m\u001b[43m(\u001b[49m\u001b[43mconnector_name\u001b[49m\u001b[43m)\u001b[49m\n\u001b[1;32m    873\u001b[0m     handler\u001b[38;5;241m.\u001b[39mpersist_canonical(canonical, \u001b[38;5;241m*\u001b[39m\u001b[38;5;241m*\u001b[39mkwargs)\n\u001b[1;32m    874\u001b[0m     \u001b[38;5;28;01mreturn\u001b[39;00m\n",
      "File \u001b[0;32m/opt/anaconda3/envs/neural/lib/python3.10/site-packages/ds_core/properties/abstract_properties.py:871\u001b[0m, in \u001b[0;36mAbstractPropertyManager.get_connector_handler\u001b[0;34m(self, connector_name)\u001b[0m\n\u001b[1;32m    869\u001b[0m         \u001b[38;5;28mself\u001b[39m\u001b[38;5;241m.\u001b[39m_connection_handler[connector_name] \u001b[38;5;241m=\u001b[39m EventPersistHandler(connector_contract)\n\u001b[1;32m    870\u001b[0m     \u001b[38;5;28;01melse\u001b[39;00m:\n\u001b[0;32m--> 871\u001b[0m         \u001b[38;5;28mself\u001b[39m\u001b[38;5;241m.\u001b[39m_connection_handler[connector_name] \u001b[38;5;241m=\u001b[39m \u001b[43mHandlerFactory\u001b[49m\u001b[38;5;241;43m.\u001b[39;49m\u001b[43minstantiate\u001b[49m\u001b[43m(\u001b[49m\u001b[43mconnector_contract\u001b[49m\u001b[43m)\u001b[49m\n\u001b[1;32m    872\u001b[0m \u001b[38;5;28;01mreturn\u001b[39;00m \u001b[38;5;28mself\u001b[39m\u001b[38;5;241m.\u001b[39m_connection_handler\u001b[38;5;241m.\u001b[39mget(connector_name)\n",
      "File \u001b[0;32m/opt/anaconda3/envs/neural/lib/python3.10/site-packages/ds_core/handlers/abstract_handlers.py:418\u001b[0m, in \u001b[0;36mHandlerFactory.instantiate\u001b[0;34m(connector_contract)\u001b[0m\n\u001b[1;32m    416\u001b[0m local_kwargs[\u001b[38;5;124m'\u001b[39m\u001b[38;5;124mmodule\u001b[39m\u001b[38;5;124m'\u001b[39m] \u001b[38;5;241m=\u001b[39m module\n\u001b[1;32m    417\u001b[0m local_kwargs[\u001b[38;5;124m'\u001b[39m\u001b[38;5;124mconnector_contract\u001b[39m\u001b[38;5;124m'\u001b[39m] \u001b[38;5;241m=\u001b[39m connector_contract\n\u001b[0;32m--> 418\u001b[0m instance \u001b[38;5;241m=\u001b[39m \u001b[38;5;28;43meval\u001b[39;49m\u001b[43m(\u001b[49m\u001b[38;5;124;43mf\u001b[39;49m\u001b[38;5;124;43m'\u001b[39;49m\u001b[38;5;124;43mmodule.\u001b[39;49m\u001b[38;5;132;43;01m{\u001b[39;49;00m\u001b[43mhandler\u001b[49m\u001b[38;5;132;43;01m}\u001b[39;49;00m\u001b[38;5;124;43m(connector_contract)\u001b[39;49m\u001b[38;5;124;43m'\u001b[39;49m\u001b[43m,\u001b[49m\u001b[43m \u001b[49m\u001b[38;5;28;43mglobals\u001b[39;49m\u001b[43m(\u001b[49m\u001b[43m)\u001b[49m\u001b[43m,\u001b[49m\u001b[43m \u001b[49m\u001b[43mlocal_kwargs\u001b[49m\u001b[43m)\u001b[49m\n\u001b[1;32m    419\u001b[0m \u001b[38;5;28;01mif\u001b[39;00m \u001b[38;5;129;01mnot\u001b[39;00m \u001b[38;5;28misinstance\u001b[39m(instance, (AbstractSourceHandler, AbstractPersistHandler)):\n\u001b[1;32m    420\u001b[0m     \u001b[38;5;28;01mraise\u001b[39;00m \u001b[38;5;167;01mTypeError\u001b[39;00m(\u001b[38;5;124mf\u001b[39m\u001b[38;5;124m\"\u001b[39m\u001b[38;5;124mThe handler \u001b[39m\u001b[38;5;124m'\u001b[39m\u001b[38;5;132;01m{\u001b[39;00mhandler\u001b[38;5;132;01m}\u001b[39;00m\u001b[38;5;124m'\u001b[39m\u001b[38;5;124m in package \u001b[39m\u001b[38;5;132;01m{\u001b[39;00mmodule_name\u001b[38;5;132;01m}\u001b[39;00m\u001b[38;5;124m could not be instanciated as a handler\u001b[39m\u001b[38;5;124m\"\u001b[39m)\n",
      "File \u001b[0;32m<string>:1\u001b[0m\n",
      "File \u001b[0;32m/opt/anaconda3/envs/neural/lib/python3.10/site-packages/nn_rag/handlers/chroma_handlers.py:86\u001b[0m, in \u001b[0;36mChromaSourceHandler.__init__\u001b[0;34m(self, connector_contract)\u001b[0m\n\u001b[1;32m     84\u001b[0m \u001b[38;5;28;01melse\u001b[39;00m:\n\u001b[1;32m     85\u001b[0m     \u001b[38;5;28mself\u001b[39m\u001b[38;5;241m.\u001b[39m_client \u001b[38;5;241m=\u001b[39m \u001b[38;5;28mself\u001b[39m\u001b[38;5;241m.\u001b[39mchroma\u001b[38;5;241m.\u001b[39mClient()\n\u001b[0;32m---> 86\u001b[0m \u001b[38;5;28mself\u001b[39m\u001b[38;5;241m.\u001b[39m_collection \u001b[38;5;241m=\u001b[39m \u001b[38;5;28;43mself\u001b[39;49m\u001b[38;5;241;43m.\u001b[39;49m\u001b[43m_client\u001b[49m\u001b[38;5;241;43m.\u001b[39;49m\u001b[43mget_or_create_collection\u001b[49m\u001b[43m(\u001b[49m\u001b[43mname\u001b[49m\u001b[38;5;241;43m=\u001b[39;49m\u001b[38;5;28;43mself\u001b[39;49m\u001b[38;5;241;43m.\u001b[39;49m\u001b[43m_collection_name\u001b[49m\u001b[43m)\u001b[49m\n",
      "File \u001b[0;32m/opt/anaconda3/envs/neural/lib/python3.10/site-packages/chromadb/api/client.py:166\u001b[0m, in \u001b[0;36mClient.get_or_create_collection\u001b[0;34m(self, name, configuration, metadata, embedding_function, data_loader)\u001b[0m\n\u001b[1;32m    155\u001b[0m \u001b[38;5;129m@override\u001b[39m\n\u001b[1;32m    156\u001b[0m \u001b[38;5;28;01mdef\u001b[39;00m \u001b[38;5;21mget_or_create_collection\u001b[39m(\n\u001b[1;32m    157\u001b[0m     \u001b[38;5;28mself\u001b[39m,\n\u001b[0;32m   (...)\u001b[0m\n\u001b[1;32m    164\u001b[0m     data_loader: Optional[DataLoader[Loadable]] \u001b[38;5;241m=\u001b[39m \u001b[38;5;28;01mNone\u001b[39;00m,\n\u001b[1;32m    165\u001b[0m ) \u001b[38;5;241m-\u001b[39m\u001b[38;5;241m>\u001b[39m Collection:\n\u001b[0;32m--> 166\u001b[0m     model \u001b[38;5;241m=\u001b[39m \u001b[38;5;28;43mself\u001b[39;49m\u001b[38;5;241;43m.\u001b[39;49m\u001b[43m_server\u001b[49m\u001b[38;5;241;43m.\u001b[39;49m\u001b[43mget_or_create_collection\u001b[49m\u001b[43m(\u001b[49m\n\u001b[1;32m    167\u001b[0m \u001b[43m        \u001b[49m\u001b[43mname\u001b[49m\u001b[38;5;241;43m=\u001b[39;49m\u001b[43mname\u001b[49m\u001b[43m,\u001b[49m\n\u001b[1;32m    168\u001b[0m \u001b[43m        \u001b[49m\u001b[43mmetadata\u001b[49m\u001b[38;5;241;43m=\u001b[39;49m\u001b[43mmetadata\u001b[49m\u001b[43m,\u001b[49m\n\u001b[1;32m    169\u001b[0m \u001b[43m        \u001b[49m\u001b[43mtenant\u001b[49m\u001b[38;5;241;43m=\u001b[39;49m\u001b[38;5;28;43mself\u001b[39;49m\u001b[38;5;241;43m.\u001b[39;49m\u001b[43mtenant\u001b[49m\u001b[43m,\u001b[49m\n\u001b[1;32m    170\u001b[0m \u001b[43m        \u001b[49m\u001b[43mdatabase\u001b[49m\u001b[38;5;241;43m=\u001b[39;49m\u001b[38;5;28;43mself\u001b[39;49m\u001b[38;5;241;43m.\u001b[39;49m\u001b[43mdatabase\u001b[49m\u001b[43m,\u001b[49m\n\u001b[1;32m    171\u001b[0m \u001b[43m        \u001b[49m\u001b[43mconfiguration\u001b[49m\u001b[38;5;241;43m=\u001b[39;49m\u001b[43mconfiguration\u001b[49m\u001b[43m,\u001b[49m\n\u001b[1;32m    172\u001b[0m \u001b[43m    \u001b[49m\u001b[43m)\u001b[49m\n\u001b[1;32m    173\u001b[0m     \u001b[38;5;28;01mreturn\u001b[39;00m Collection(\n\u001b[1;32m    174\u001b[0m         client\u001b[38;5;241m=\u001b[39m\u001b[38;5;28mself\u001b[39m\u001b[38;5;241m.\u001b[39m_server,\n\u001b[1;32m    175\u001b[0m         model\u001b[38;5;241m=\u001b[39mmodel,\n\u001b[1;32m    176\u001b[0m         embedding_function\u001b[38;5;241m=\u001b[39membedding_function,\n\u001b[1;32m    177\u001b[0m         data_loader\u001b[38;5;241m=\u001b[39mdata_loader,\n\u001b[1;32m    178\u001b[0m     )\n",
      "File \u001b[0;32m/opt/anaconda3/envs/neural/lib/python3.10/site-packages/chromadb/telemetry/opentelemetry/__init__.py:146\u001b[0m, in \u001b[0;36mtrace_method.<locals>.decorator.<locals>.wrapper\u001b[0;34m(*args, **kwargs)\u001b[0m\n\u001b[1;32m    144\u001b[0m \u001b[38;5;28;01mglobal\u001b[39;00m tracer, granularity\n\u001b[1;32m    145\u001b[0m \u001b[38;5;28;01mif\u001b[39;00m trace_granularity \u001b[38;5;241m<\u001b[39m granularity:\n\u001b[0;32m--> 146\u001b[0m     \u001b[38;5;28;01mreturn\u001b[39;00m \u001b[43mf\u001b[49m\u001b[43m(\u001b[49m\u001b[38;5;241;43m*\u001b[39;49m\u001b[43margs\u001b[49m\u001b[43m,\u001b[49m\u001b[43m \u001b[49m\u001b[38;5;241;43m*\u001b[39;49m\u001b[38;5;241;43m*\u001b[39;49m\u001b[43mkwargs\u001b[49m\u001b[43m)\u001b[49m\n\u001b[1;32m    147\u001b[0m \u001b[38;5;28;01mif\u001b[39;00m \u001b[38;5;129;01mnot\u001b[39;00m tracer:\n\u001b[1;32m    148\u001b[0m     \u001b[38;5;28;01mreturn\u001b[39;00m f(\u001b[38;5;241m*\u001b[39margs, \u001b[38;5;241m*\u001b[39m\u001b[38;5;241m*\u001b[39mkwargs)\n",
      "File \u001b[0;32m/opt/anaconda3/envs/neural/lib/python3.10/site-packages/chromadb/api/segment.py:221\u001b[0m, in \u001b[0;36mSegmentAPI.get_or_create_collection\u001b[0;34m(self, name, configuration, metadata, tenant, database)\u001b[0m\n\u001b[1;32m    209\u001b[0m \u001b[38;5;129m@trace_method\u001b[39m(\n\u001b[1;32m    210\u001b[0m     \u001b[38;5;124m\"\u001b[39m\u001b[38;5;124mSegmentAPI.get_or_create_collection\u001b[39m\u001b[38;5;124m\"\u001b[39m, OpenTelemetryGranularity\u001b[38;5;241m.\u001b[39mOPERATION\n\u001b[1;32m    211\u001b[0m )\n\u001b[0;32m   (...)\u001b[0m\n\u001b[1;32m    219\u001b[0m     database: \u001b[38;5;28mstr\u001b[39m \u001b[38;5;241m=\u001b[39m DEFAULT_DATABASE,\n\u001b[1;32m    220\u001b[0m ) \u001b[38;5;241m-\u001b[39m\u001b[38;5;241m>\u001b[39m CollectionModel:\n\u001b[0;32m--> 221\u001b[0m     \u001b[38;5;28;01mreturn\u001b[39;00m \u001b[38;5;28;43mself\u001b[39;49m\u001b[38;5;241;43m.\u001b[39;49m\u001b[43mcreate_collection\u001b[49m\u001b[43m(\u001b[49m\n\u001b[1;32m    222\u001b[0m \u001b[43m        \u001b[49m\u001b[43mname\u001b[49m\u001b[38;5;241;43m=\u001b[39;49m\u001b[43mname\u001b[49m\u001b[43m,\u001b[49m\n\u001b[1;32m    223\u001b[0m \u001b[43m        \u001b[49m\u001b[43mmetadata\u001b[49m\u001b[38;5;241;43m=\u001b[39;49m\u001b[43mmetadata\u001b[49m\u001b[43m,\u001b[49m\n\u001b[1;32m    224\u001b[0m \u001b[43m        \u001b[49m\u001b[43mconfiguration\u001b[49m\u001b[38;5;241;43m=\u001b[39;49m\u001b[43mconfiguration\u001b[49m\u001b[43m,\u001b[49m\n\u001b[1;32m    225\u001b[0m \u001b[43m        \u001b[49m\u001b[43mget_or_create\u001b[49m\u001b[38;5;241;43m=\u001b[39;49m\u001b[38;5;28;43;01mTrue\u001b[39;49;00m\u001b[43m,\u001b[49m\n\u001b[1;32m    226\u001b[0m \u001b[43m        \u001b[49m\u001b[43mtenant\u001b[49m\u001b[38;5;241;43m=\u001b[39;49m\u001b[43mtenant\u001b[49m\u001b[43m,\u001b[49m\n\u001b[1;32m    227\u001b[0m \u001b[43m        \u001b[49m\u001b[43mdatabase\u001b[49m\u001b[38;5;241;43m=\u001b[39;49m\u001b[43mdatabase\u001b[49m\u001b[43m,\u001b[49m\n\u001b[1;32m    228\u001b[0m \u001b[43m    \u001b[49m\u001b[43m)\u001b[49m\n",
      "File \u001b[0;32m/opt/anaconda3/envs/neural/lib/python3.10/site-packages/chromadb/telemetry/opentelemetry/__init__.py:146\u001b[0m, in \u001b[0;36mtrace_method.<locals>.decorator.<locals>.wrapper\u001b[0;34m(*args, **kwargs)\u001b[0m\n\u001b[1;32m    144\u001b[0m \u001b[38;5;28;01mglobal\u001b[39;00m tracer, granularity\n\u001b[1;32m    145\u001b[0m \u001b[38;5;28;01mif\u001b[39;00m trace_granularity \u001b[38;5;241m<\u001b[39m granularity:\n\u001b[0;32m--> 146\u001b[0m     \u001b[38;5;28;01mreturn\u001b[39;00m \u001b[43mf\u001b[49m\u001b[43m(\u001b[49m\u001b[38;5;241;43m*\u001b[39;49m\u001b[43margs\u001b[49m\u001b[43m,\u001b[49m\u001b[43m \u001b[49m\u001b[38;5;241;43m*\u001b[39;49m\u001b[38;5;241;43m*\u001b[39;49m\u001b[43mkwargs\u001b[49m\u001b[43m)\u001b[49m\n\u001b[1;32m    147\u001b[0m \u001b[38;5;28;01mif\u001b[39;00m \u001b[38;5;129;01mnot\u001b[39;00m tracer:\n\u001b[1;32m    148\u001b[0m     \u001b[38;5;28;01mreturn\u001b[39;00m f(\u001b[38;5;241m*\u001b[39margs, \u001b[38;5;241m*\u001b[39m\u001b[38;5;241m*\u001b[39mkwargs)\n",
      "File \u001b[0;32m/opt/anaconda3/envs/neural/lib/python3.10/site-packages/chromadb/api/segment.py:160\u001b[0m, in \u001b[0;36mSegmentAPI.create_collection\u001b[0;34m(self, name, configuration, metadata, get_or_create, tenant, database)\u001b[0m\n\u001b[1;32m    157\u001b[0m     validate_metadata(metadata)\n\u001b[1;32m    159\u001b[0m \u001b[38;5;66;03m# TODO: remove backwards compatibility in naming requirements\u001b[39;00m\n\u001b[0;32m--> 160\u001b[0m \u001b[43mcheck_index_name\u001b[49m\u001b[43m(\u001b[49m\u001b[43mname\u001b[49m\u001b[43m)\u001b[49m\n\u001b[1;32m    162\u001b[0m \u001b[38;5;28mid\u001b[39m \u001b[38;5;241m=\u001b[39m uuid4()\n\u001b[1;32m    164\u001b[0m model \u001b[38;5;241m=\u001b[39m CollectionModel(\n\u001b[1;32m    165\u001b[0m     \u001b[38;5;28mid\u001b[39m\u001b[38;5;241m=\u001b[39m\u001b[38;5;28mid\u001b[39m,\n\u001b[1;32m    166\u001b[0m     name\u001b[38;5;241m=\u001b[39mname,\n\u001b[0;32m   (...)\u001b[0m\n\u001b[1;32m    173\u001b[0m     dimension\u001b[38;5;241m=\u001b[39m\u001b[38;5;28;01mNone\u001b[39;00m,\n\u001b[1;32m    174\u001b[0m )\n",
      "File \u001b[0;32m/opt/anaconda3/envs/neural/lib/python3.10/site-packages/chromadb/api/segment.py:73\u001b[0m, in \u001b[0;36mcheck_index_name\u001b[0;34m(index_name)\u001b[0m\n\u001b[1;32m     63\u001b[0m msg \u001b[38;5;241m=\u001b[39m (\n\u001b[1;32m     64\u001b[0m     \u001b[38;5;124m\"\u001b[39m\u001b[38;5;124mExpected collection name that \u001b[39m\u001b[38;5;124m\"\u001b[39m\n\u001b[1;32m     65\u001b[0m     \u001b[38;5;124m\"\u001b[39m\u001b[38;5;124m(1) contains 3-63 characters, \u001b[39m\u001b[38;5;124m\"\u001b[39m\n\u001b[0;32m   (...)\u001b[0m\n\u001b[1;32m     70\u001b[0m     \u001b[38;5;124mf\u001b[39m\u001b[38;5;124m\"\u001b[39m\u001b[38;5;124mgot \u001b[39m\u001b[38;5;132;01m{\u001b[39;00mindex_name\u001b[38;5;132;01m}\u001b[39;00m\u001b[38;5;124m\"\u001b[39m\n\u001b[1;32m     71\u001b[0m )\n\u001b[1;32m     72\u001b[0m \u001b[38;5;28;01mif\u001b[39;00m \u001b[38;5;28mlen\u001b[39m(index_name) \u001b[38;5;241m<\u001b[39m \u001b[38;5;241m3\u001b[39m \u001b[38;5;129;01mor\u001b[39;00m \u001b[38;5;28mlen\u001b[39m(index_name) \u001b[38;5;241m>\u001b[39m \u001b[38;5;241m63\u001b[39m:\n\u001b[0;32m---> 73\u001b[0m     \u001b[38;5;28;01mraise\u001b[39;00m \u001b[38;5;167;01mValueError\u001b[39;00m(msg)\n\u001b[1;32m     74\u001b[0m \u001b[38;5;28;01mif\u001b[39;00m \u001b[38;5;129;01mnot\u001b[39;00m re\u001b[38;5;241m.\u001b[39mmatch(\u001b[38;5;124m\"\u001b[39m\u001b[38;5;124m^[a-zA-Z0-9][a-zA-Z0-9._-]*[a-zA-Z0-9]$\u001b[39m\u001b[38;5;124m\"\u001b[39m, index_name):\n\u001b[1;32m     75\u001b[0m     \u001b[38;5;28;01mraise\u001b[39;00m \u001b[38;5;167;01mValueError\u001b[39;00m(msg)\n",
      "\u001b[0;31mValueError\u001b[0m: Expected collection name that (1) contains 3-63 characters, (2) starts and ends with an alphanumeric character, (3) otherwise contains only alphanumeric characters, underscores or hyphens (-), (4) contains no two consecutive periods (..) and (5) is not a valid IPv4 address, got "
     ]
    }
   ],
   "source": [
    "kn.save_persist_canonical(joined)"
   ]
  },
  {
   "cell_type": "markdown",
   "id": "ea8e792c-5d0a-4d9c-bad0-59e409c18097",
   "metadata": {},
   "source": [
    "### Query"
   ]
  },
  {
   "cell_type": "code",
   "execution_count": null,
   "id": "fce53daf-dc7c-4632-acd9-44565f1ca542",
   "metadata": {},
   "outputs": [],
   "source": [
    "import textwrap\n",
    "\n",
    "def print_wrapped(text, wrap_length=80):\n",
    "    wrapped_text = textwrap.fill(text, wrap_length)\n",
    "    print(wrapped_text)"
   ]
  },
  {
   "cell_type": "code",
   "execution_count": null,
   "id": "b5299de0-8f42-4084-a359-fa3d377206d0",
   "metadata": {},
   "outputs": [],
   "source": [
    "import random\n",
    "\n",
    "# Nutrition-style questions generated with GPT4\n",
    "gpt4_questions = [\n",
    "    \"What are the main risks associated with generative AI?\",\n",
    "    \"How can businesses mitigate the risks of using generative AI?\",\n",
    "    \"What is the role of a cross-functional team in GenAI strategy?\",\n",
    "    \"What are the legal considerations for implementing generative AI?\",\n",
    "    \"How should organizations ensure data quality in GenAI models?\",\n",
    "    \"What is the importance of ongoing enhancement and monitoring in GenAI practices?\"\n",
    "]\n",
    "\n",
    "# Manually created question list\n",
    "manual_questions = []\n",
    "\n",
    "query = random.choice(gpt4_questions + manual_questions)"
   ]
  },
  {
   "cell_type": "markdown",
   "id": "0d7ee4b5-b845-4240-8ce4-6f3ed54c4c55",
   "metadata": {},
   "source": [
    "### Model Answers\n",
    "#### What are the main risks associated with generative AI?\n",
    "Generative AI poses several risks including the creation of misleading content such as deepfakes, biased outputs due to biased training data, factually inaccurate outputs (hallucinations), security vulnerabilities (data breaches, model theft), and a lack of transparency in decision-making processes. These risks can lead to significant harm including privacy violations, intellectual property concerns, and increased carbon footprints.\n",
    "\n",
    "#### How can businesses mitigate the risks of using generative AI?\n",
    "Businesses can mitigate these risks by implementing Responsible AI (RAI) frameworks, which include gathering cross-functional teams, tracking legal requirements, ensuring high-quality and diverse training data, maintaining transparency, and engaging in continuous monitoring and enhancement of AI systems. Establishing governance structures and upholding legal and ethical standards are also crucial.\n",
    "\n",
    "#### What is the role of a cross-functional team in GenAI strategy?\n",
    "A cross-functional team centralizes AI expertise and capabilities across different departments, facilitating knowledge sharing, collaboration, and standardization. This team should oversee AI governance, resource pooling, and upskilling initiatives. They also play a key role in developing a long-term AI roadmap, promoting innovation, and ensuring alignment with company objectives and Responsible AI standards.\n",
    "\n",
    "#### What are the legal considerations for implementing generative AI?\n",
    "Legal considerations for implementing generative AI include ensuring compliance with intellectual property laws, privacy regulations, and monitoring the evolving legal landscape for new AI-specific rulings. Organizations must document and manage legal requirements, maintain robust data privacy controls, and continuously review contracts and licensing agreements related to AI models and their outputs.\n",
    "\n",
    "#### How should organizations ensure data quality in GenAI models?\n",
    "Organizations should ensure data quality by implementing stringent data acquisition, selection, and management processes. This includes verifying the provenance of training data, ensuring it is relevant to defined use cases, and maintaining high standards for data quality and diversity. Tracking metrics related to fairness, bias, and interpretability throughout the data lifecycle is also essential.\n",
    "\n",
    "#### What is the importance of ongoing enhancement and monitoring in GenAI practices?\n",
    "Ongoing enhancement and monitoring are crucial for adapting to the rapid evolution of GenAI technology. Continuous improvement ensures that AI systems remain effective, secure, and aligned with Responsible AI principles. Regular monitoring helps identify and mitigate new risks, maintain compliance with regulations, and uphold the quality and reliability of AI outputs.\n"
   ]
  },
  {
   "cell_type": "code",
   "execution_count": null,
   "id": "6d1aaaab-ab57-47a2-884a-b382347bb41b",
   "metadata": {},
   "outputs": [],
   "source": [
    "print(f\"Query: {query}\\n\")\n",
    "\n",
    "answer = kn.load_canonical('query', query=query)\n",
    "\n",
    "for i in range(answer.num_rows):\n",
    "    s = answer.slice(i,1)\n",
    "    print(f\"Id: {s.column('id')[0]}.as_py()\")\n",
    "    print(f\"Distance: {s.column('distance')[0].as_py()}\")\n",
    "    print(f\"Answer: {print_wrapped(s.column('source')[0].as_py())}\\n\")\n",
    "\n"
   ]
  }
 ],
 "metadata": {
  "kernelspec": {
   "display_name": "Python 3 (ipykernel)",
   "language": "python",
   "name": "python3"
  },
  "language_info": {
   "codemirror_mode": {
    "name": "ipython",
    "version": 3
   },
   "file_extension": ".py",
   "mimetype": "text/x-python",
   "name": "python",
   "nbconvert_exporter": "python",
   "pygments_lexer": "ipython3",
   "version": "3.10.14"
  }
 },
 "nbformat": 4,
 "nbformat_minor": 5
}
