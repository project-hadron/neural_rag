{
 "cells": [
  {
   "cell_type": "code",
   "execution_count": 1,
   "id": "962e2eab-fef2-4393-8e03-836e7921a99d",
   "metadata": {
    "is_executing": true
   },
   "outputs": [],
   "source": [
    "# saves you having to use print as all exposed variables are printed in the cell\n",
    "from IPython.core.interactiveshell import InteractiveShell\n",
    "InteractiveShell.ast_node_interactivity = \"all\""
   ]
  },
  {
   "cell_type": "code",
   "execution_count": 2,
   "id": "116bbfb0-cf0d-4946-a9ab-0430479d0e94",
   "metadata": {},
   "outputs": [],
   "source": [
    "# suppress warning message\n",
    "import warnings\n",
    "warnings.filterwarnings('ignore')"
   ]
  },
  {
   "cell_type": "code",
   "execution_count": 3,
   "id": "68bdaf3a-78fb-438b-9590-d4feb46ad151",
   "metadata": {
    "is_executing": true
   },
   "outputs": [],
   "source": [
    "import os\n",
    "import pyarrow as pa\n",
    "import pyarrow.compute as pc\n",
    "from nn_rag import Knowledge, Controller"
   ]
  },
  {
   "cell_type": "markdown",
   "id": "46761902-7106-4628-9b12-0ff133fe2041",
   "metadata": {},
   "source": [
    "### Set parameters as environment variables"
   ]
  },
  {
   "cell_type": "code",
   "execution_count": 4,
   "id": "52a63c1a-db81-4b74-83dc-0e84b9e5bb48",
   "metadata": {
    "is_executing": true
   },
   "outputs": [],
   "source": [
    "# Data\n",
    "os.environ['HADRON_KNOWLEDGE_SOURCE_URI'] = './hadron/source/Gen AI Best Practices.pdf'\n",
    "os.environ['HADRON_KNOWLEDGE_EMBED_URI'] = 'chroma:///'\n"
   ]
  },
  {
   "cell_type": "markdown",
   "id": "0cb5c8ff-3497-4213-a0fc-db712cb4a8a8",
   "metadata": {},
   "source": [
    "### Instantiate capability"
   ]
  },
  {
   "cell_type": "code",
   "execution_count": 5,
   "id": "b85ae8c1-598a-4764-97b0-7b882e3fadc8",
   "metadata": {
    "is_executing": true
   },
   "outputs": [],
   "source": [
    "kn = Knowledge.from_memory()"
   ]
  },
  {
   "cell_type": "code",
   "execution_count": 6,
   "id": "361cb284-9dbd-461b-9fbe-6abf87fed6c1",
   "metadata": {
    "is_executing": true
   },
   "outputs": [],
   "source": [
    "tbl = kn.set_source_uri(\"${HADRON_KNOWLEDGE_SOURCE_URI}\").load_source_canonical()\n",
    "kn.set_persist_uri('${HADRON_KNOWLEDGE_EMBED_URI}')"
   ]
  },
  {
   "cell_type": "markdown",
   "id": "cdc42785-2053-4337-adbe-706db65e5844",
   "metadata": {},
   "source": [
    "### Remove end of line from the document"
   ]
  },
  {
   "cell_type": "code",
   "execution_count": 7,
   "id": "f38a2092-ddc1-45cc-8c94-c2ae48f454d9",
   "metadata": {},
   "outputs": [],
   "source": [
    "doc = kn.tools.filter_replace_str(tbl, pattern='\\n', replacement='')"
   ]
  },
  {
   "cell_type": "markdown",
   "id": "cc4e6ec1-77eb-4a29-9931-357966936ca4",
   "metadata": {},
   "source": [
    "### Break the text_doc into sentences with scores"
   ]
  },
  {
   "cell_type": "code",
   "execution_count": 8,
   "id": "eb75f742-54ea-46ad-b24d-55157a285d75",
   "metadata": {},
   "outputs": [
    {
     "data": {
      "application/vnd.jupyter.widget-view+json": {
       "model_id": "4d2ed98b3e974eecbf0857d0e7aa609f",
       "version_major": 2,
       "version_minor": 0
      },
      "text/plain": [
       "building sentences:   0%|          | 0/11099 [00:00<?, ?it/s]"
      ]
     },
     "metadata": {},
     "output_type": "display_data"
    },
    {
     "data": {
      "application/vnd.jupyter.widget-view+json": {
       "model_id": "0143d8f848e740b0ba173eb42490ab11",
       "version_major": 2,
       "version_minor": 0
      },
      "text/plain": [
       "sentence stats:   0%|          | 0/332 [00:00<?, ?it/s]"
      ]
     },
     "metadata": {},
     "output_type": "display_data"
    }
   ],
   "source": [
    "sentences = kn.tools.text_to_sentences(doc, include_score=False, words_max=3)"
   ]
  },
  {
   "cell_type": "code",
   "execution_count": 9,
   "id": "b9f52b0c-a6e0-447d-b567-fdf6c04e513d",
   "metadata": {},
   "outputs": [
    {
     "data": {
      "text/plain": [
       "1"
      ]
     },
     "execution_count": 9,
     "metadata": {},
     "output_type": "execute_result"
    },
    {
     "data": {
      "text/plain": [
       "206.0512048192771"
      ]
     },
     "execution_count": 9,
     "metadata": {},
     "output_type": "execute_result"
    },
    {
     "data": {
      "text/plain": [
       "993"
      ]
     },
     "execution_count": 9,
     "metadata": {},
     "output_type": "execute_result"
    }
   ],
   "source": [
    "pc.min(sentences['char_count']).as_py()\n",
    "pc.mean(sentences['char_count']).as_py()\n",
    "pc.max(sentences['char_count']).as_py()"
   ]
  },
  {
   "cell_type": "markdown",
   "id": "8eb2584a-7540-4bdd-be6c-1cb41f9af64e",
   "metadata": {},
   "source": [
    "### Remove short sentences"
   ]
  },
  {
   "cell_type": "code",
   "execution_count": 10,
   "id": "0dec4c29-0f62-4872-926e-c939d8f1456b",
   "metadata": {},
   "outputs": [
    {
     "name": "stdout",
     "output_type": "stream",
     "text": [
      "Short sentences for [201, 228, 232, 260, 271, 275]\n"
     ]
    }
   ],
   "source": [
    "small_sentences = pc.filter(sentences, pc.less(sentences['word_count'], 3)).column('index').to_pylist()\n",
    "print(f\"Short sentences for {small_sentences}\")"
   ]
  },
  {
   "cell_type": "code",
   "execution_count": 11,
   "id": "d7554012-37f0-41d8-b5b4-dce7cda4893c",
   "metadata": {},
   "outputs": [
    {
     "data": {
      "text/plain": [
       "3"
      ]
     },
     "execution_count": 11,
     "metadata": {},
     "output_type": "execute_result"
    }
   ],
   "source": [
    "sentences = kn.tools.filter_on_mask(sentences, indices=small_sentences)\n",
    "pc.min(sentences['word_count']).as_py()"
   ]
  },
  {
   "cell_type": "markdown",
   "id": "7620d222-7bf0-4f16-b39c-79dea37d5cf3",
   "metadata": {},
   "source": [
    "### Use pyarrow to get the thrashold similarity scores"
   ]
  },
  {
   "cell_type": "code",
   "execution_count": 12,
   "id": "a3f3e65d-35ea-4ed7-9669-ae7bbdc15b30",
   "metadata": {},
   "outputs": [
    {
     "name": "stdout",
     "output_type": "stream",
     "text": [
      "Threshold silimarity for []\n"
     ]
    }
   ],
   "source": [
    "high_similarity = pc.filter(sentences, pc.greater(sentences['score'], 0.9)).column('index').to_pylist()\n",
    "print(f\"Threshold silimarity for {high_similarity}\")"
   ]
  },
  {
   "cell_type": "markdown",
   "id": "486ee28b-e669-492b-8fd2-037e528b671a",
   "metadata": {},
   "source": [
    "### join the similar sentences"
   ]
  },
  {
   "cell_type": "code",
   "execution_count": 13,
   "id": "d16e3dd1-11e6-4d54-81e7-3a7b30f1da1f",
   "metadata": {},
   "outputs": [],
   "source": [
    "joined = kn.tools.filter_on_join(sentences, indices=high_similarity)"
   ]
  },
  {
   "cell_type": "code",
   "execution_count": 14,
   "id": "600e244e-e010-47e4-9d3b-f7119c3e1678",
   "metadata": {},
   "outputs": [
    {
     "data": {
      "text/plain": [
       "31"
      ]
     },
     "execution_count": 14,
     "metadata": {},
     "output_type": "execute_result"
    },
    {
     "data": {
      "text/plain": [
       "209.7085889570552"
      ]
     },
     "execution_count": 14,
     "metadata": {},
     "output_type": "execute_result"
    },
    {
     "data": {
      "text/plain": [
       "993"
      ]
     },
     "execution_count": 14,
     "metadata": {},
     "output_type": "execute_result"
    }
   ],
   "source": [
    "pc.min(sentences['char_count']).as_py()\n",
    "pc.mean(sentences['char_count']).as_py()\n",
    "pc.max(sentences['char_count']).as_py()"
   ]
  },
  {
   "cell_type": "markdown",
   "id": "777ba9b0-91da-4021-bacf-159a944d6a33",
   "metadata": {},
   "source": [
    "### chunk the sentences"
   ]
  },
  {
   "cell_type": "code",
   "execution_count": 15,
   "id": "65686556-93c9-47c4-a09e-debe62ec362c",
   "metadata": {},
   "outputs": [
    {
     "data": {
      "application/vnd.jupyter.widget-view+json": {
       "model_id": "140d7dce2f2f47ad96e7ead280c97300",
       "version_major": 2,
       "version_minor": 0
      },
      "text/plain": [
       "chunks stats:   0%|          | 0/326 [00:00<?, ?it/s]"
      ]
     },
     "metadata": {},
     "output_type": "display_data"
    }
   ],
   "source": [
    "chunks = kn.tools.filter_on_join(joined, chunk_size=1000)"
   ]
  },
  {
   "cell_type": "markdown",
   "id": "0bd618dc-bbad-4108-b8e8-91662292a729",
   "metadata": {},
   "source": [
    "### Save embedding"
   ]
  },
  {
   "cell_type": "code",
   "execution_count": 16,
   "id": "2ebb0eb6-8b8c-432a-a33a-109eeefed64c",
   "metadata": {
    "is_executing": true
   },
   "outputs": [],
   "source": [
    "kn.save_persist_canonical(chunks)"
   ]
  },
  {
   "cell_type": "markdown",
   "id": "ea8e792c-5d0a-4d9c-bad0-59e409c18097",
   "metadata": {},
   "source": [
    "### Query"
   ]
  },
  {
   "cell_type": "code",
   "execution_count": 17,
   "id": "fce53daf-dc7c-4632-acd9-44565f1ca542",
   "metadata": {},
   "outputs": [],
   "source": [
    "import textwrap\n",
    "\n",
    "def print_wrapped(text, wrap_length=80):\n",
    "    wrapped_text = textwrap.fill(text, wrap_length)\n",
    "    print(wrapped_text)"
   ]
  },
  {
   "cell_type": "code",
   "execution_count": 18,
   "id": "b5299de0-8f42-4084-a359-fa3d377206d0",
   "metadata": {},
   "outputs": [],
   "source": [
    "import random\n",
    "\n",
    "questions = [\n",
    "    \"What are the main risks associated with generative AI?\",\n",
    "    \"How can businesses mitigate the risks of using generative AI?\",\n",
    "    \"What is the role of a cross-functional team in GenAI strategy?\",\n",
    "    \"What are the legal considerations for implementing generative AI?\",\n",
    "    \"How should organizations ensure data quality in GenAI models?\",\n",
    "    \"What is the importance of ongoing enhancement and monitoring in GenAI practices?\"\n",
    "]\n",
    "\n",
    "query = random.choice(questions)"
   ]
  },
  {
   "cell_type": "markdown",
   "id": "0d7ee4b5-b845-4240-8ce4-6f3ed54c4c55",
   "metadata": {},
   "source": [
    "### Model Answers\n",
    "#### What are the main risks associated with generative AI?\n",
    "Generative AI poses several risks including the creation of misleading content such as deepfakes, biased outputs due to biased training data, factually inaccurate outputs (hallucinations), security vulnerabilities (data breaches, model theft), and a lack of transparency in decision-making processes. These risks can lead to significant harm including privacy violations, intellectual property concerns, and increased carbon footprints.\n",
    "\n",
    "#### How can businesses mitigate the risks of using generative AI?\n",
    "Businesses can mitigate these risks by implementing Responsible AI (RAI) frameworks, which include gathering cross-functional teams, tracking legal requirements, ensuring high-quality and diverse training data, maintaining transparency, and engaging in continuous monitoring and enhancement of AI systems. Establishing governance structures and upholding legal and ethical standards are also crucial.\n",
    "\n",
    "#### What is the role of a cross-functional team in GenAI strategy?\n",
    "A cross-functional team centralizes AI expertise and capabilities across different departments, facilitating knowledge sharing, collaboration, and standardization. This team should oversee AI governance, resource pooling, and upskilling initiatives. They also play a key role in developing a long-term AI roadmap, promoting innovation, and ensuring alignment with company objectives and Responsible AI standards.\n",
    "\n",
    "#### What are the legal considerations for implementing generative AI?\n",
    "Legal considerations for implementing generative AI include ensuring compliance with intellectual property laws, privacy regulations, and monitoring the evolving legal landscape for new AI-specific rulings. Organizations must document and manage legal requirements, maintain robust data privacy controls, and continuously review contracts and licensing agreements related to AI models and their outputs.\n",
    "\n",
    "#### How should organizations ensure data quality in GenAI models?\n",
    "Organizations should ensure data quality by implementing stringent data acquisition, selection, and management processes. This includes verifying the provenance of training data, ensuring it is relevant to defined use cases, and maintaining high standards for data quality and diversity. Tracking metrics related to fairness, bias, and interpretability throughout the data lifecycle is also essential.\n",
    "\n",
    "#### What is the importance of ongoing enhancement and monitoring in GenAI practices?\n",
    "Ongoing enhancement and monitoring are crucial for adapting to the rapid evolution of GenAI technology. Continuous improvement ensures that AI systems remain effective, secure, and aligned with Responsible AI principles. Regular monitoring helps identify and mitigate new risks, maintain compliance with regulations, and uphold the quality and reliability of AI outputs.\n"
   ]
  },
  {
   "cell_type": "code",
   "execution_count": 19,
   "id": "6d1aaaab-ab57-47a2-884a-b382347bb41b",
   "metadata": {},
   "outputs": [
    {
     "name": "stdout",
     "output_type": "stream",
     "text": [
      "Query: What are the legal considerations for implementing generative AI?\n",
      "\n",
      "Id: general_117.as_py()\n",
      "Distance: 1.2883541584014893\n",
      "Prioritize a proactive and robust GenAI risk management approachA comprehensive\n",
      "approach to GenAI risk and harm allows for the early identiﬁcation and\n",
      "mitigation of potential risks speciﬁc to GenAI, ensuring that AI systems are\n",
      "developed, used, and operated securely and effectively.\n",
      "Answer: None\n",
      "\n",
      "Id: general_224.as_py()\n",
      "Distance: 1.2940341234207153\n",
      "AI risk management process: A structured, measurable process that concerns\n",
      "itself with themanagement (detection, evaluation, mitigation) of risks\n",
      "(enterprise, user, societal) associatedwith the development, deployment, and use\n",
      "of AI systems.\n",
      "Answer: None\n",
      "\n",
      "Id: general_143.as_py()\n",
      "Distance: 1.3193680047988892\n",
      "Organizations must therefore develop a detailed resource plan that encompasses\n",
      "data, tools, system computing, and human resources, ensuring future readiness\n",
      "and upfront investment in risk management.\n",
      "Answer: None\n",
      "\n",
      "Id: general_227.as_py()\n",
      "Distance: 1.3200095891952515\n",
      "An oﬃcial inspection of an individual's or organization's AI systems, typically\n",
      "by anindependent body.\n",
      "Answer: None\n",
      "\n",
      "Id: general_55.as_py()\n",
      "Distance: 1.3204612731933594\n",
      "The opacity of AI systems and concerns over reproducibility, coupled with\n",
      "underdeveloped standards for software testing and documentation, highlight the\n",
      "need for AI-speciﬁc risk management and strategic planning.\n",
      "Answer: None\n",
      "\n",
      "Id: general_275.as_py()\n",
      "Distance: 1.3260765075683594\n",
      "The RAIInstitute is also a proud member of the NIST AI Safety Institute\n",
      "Consortium.\n",
      "Answer: None\n",
      "\n",
      "Id: general_263.as_py()\n",
      "Distance: 1.3278234004974365\n",
      "Risk: Deﬁned in ISO standards, for example, as the “combination of the\n",
      "probability of occurrenceof harm and the severity of that harm” (ISO IEC Guide\n",
      "51, ISO 12100, ISO 14971), the RAIInstitute evaluates risks in terms of risk,\n",
      "harm, threats, and impacts, identifying if a risk ismitigable or unmitigable,\n",
      "caused by intentional or unintentional action or systemic forces,\n",
      "andcategorizing appropriate ﬁt between severity and mitigation action in\n",
      "alignment with bestpractices.\n",
      "Answer: None\n",
      "\n",
      "Id: general_52.as_py()\n",
      "Distance: 1.3360382318496704\n",
      "The reliance on extensive, complex data for training, alongside the potential\n",
      "for signiﬁcant changes during this process, underscores the uniqueness of AI-\n",
      "speciﬁc risks.\n",
      "Answer: None\n",
      "\n"
     ]
    }
   ],
   "source": [
    "print(f\"Query: {query}\\n\")\n",
    "\n",
    "answer = kn.load_persist_canonical(query=query)\n",
    "\n",
    "for i in range(answer.num_rows):\n",
    "    s = answer.slice(i,1)\n",
    "    print(f\"Id: {s.column('id')[0]}.as_py()\")\n",
    "    print(f\"Distance: {s.column('distance')[0].as_py()}\")\n",
    "    print(f\"Answer: {print_wrapped(s.column('source')[0].as_py())}\\n\")\n",
    "\n"
   ]
  },
  {
   "cell_type": "code",
   "execution_count": null,
   "id": "5b729587-a26a-42f4-8c40-e68f60053968",
   "metadata": {},
   "outputs": [],
   "source": []
  }
 ],
 "metadata": {
  "kernelspec": {
   "display_name": "Python 3 (ipykernel)",
   "language": "python",
   "name": "python3"
  },
  "language_info": {
   "codemirror_mode": {
    "name": "ipython",
    "version": 3
   },
   "file_extension": ".py",
   "mimetype": "text/x-python",
   "name": "python",
   "nbconvert_exporter": "python",
   "pygments_lexer": "ipython3",
   "version": "3.10.14"
  }
 },
 "nbformat": 4,
 "nbformat_minor": 5
}
