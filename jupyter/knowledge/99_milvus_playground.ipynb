{
 "cells": [
  {
   "cell_type": "code",
   "execution_count": 1,
   "id": "3d448bfe-19b5-4fdb-86ce-658e94d2049d",
   "metadata": {},
   "outputs": [],
   "source": [
    "# saves you having to use print as all exposed variables are printed in the cell\n",
    "from IPython.core.interactiveshell import InteractiveShell\n",
    "InteractiveShell.ast_node_interactivity = \"all\""
   ]
  },
  {
   "cell_type": "code",
   "execution_count": 2,
   "id": "23954339-a56c-4067-9def-550397dbf8c9",
   "metadata": {},
   "outputs": [],
   "source": [
    "import re\n",
    "import pandas as pd\n",
    "import numpy as np\n",
    "import torch\n",
    "import pyarrow as pa\n",
    "import pyarrow.compute as pc\n",
    "from nn_rag import Knowledge\n",
    "from ds_core.handlers.abstract_handlers import ConnectorContract\n",
    "from tqdm.auto import tqdm\n",
    "from sentence_transformers import SentenceTransformer, util\n"
   ]
  },
  {
   "cell_type": "code",
   "execution_count": 3,
   "id": "9650833d-ddee-4f28-a46e-fc4481669a97",
   "metadata": {},
   "outputs": [],
   "source": [
    "kn = Knowledge.from_memory()"
   ]
  },
  {
   "cell_type": "code",
   "execution_count": 4,
   "id": "d1ea077e-8664-4142-ac4e-8a0a512d4244",
   "metadata": {},
   "outputs": [],
   "source": [
    "text = ('You took too long. You are not easy to deal with. Payment Failure/Incorrect Payment. You provided '\n",
    "        'me with incorrect information. Unhappy with delay. Unsuitable advice. You never answered my question. '\n",
    "        'You did not understand my needs. I have been mis-sold. My details are not accurate. You have asked '\n",
    "        'for too much information. You were not helpful. Payment not generated/received by customer. You did '\n",
    "        'not keep me updated. Incorrect information given. The performance of my product was poor. No reply '\n",
    "        'to customer contact. Requested documentation not issued. You did not explain the terms & conditions. '\n",
    "        'Policy amendments not carried out. You did not explain the next steps/process to me. I cannot '\n",
    "        'understand your letter/comms. Standard letter inappropriate. Customer payment processed incorrectly. '\n",
    "        'All points not addressed. Could not understand the agent. Issue with terms and conditions. Misleading '\n",
    "        'information. I can not use the customer portal. your customer portal is unhelpful')"
   ]
  },
  {
   "cell_type": "markdown",
   "id": "d9df0698-19a7-450b-88af-f59498480619",
   "metadata": {},
   "source": [
    "## Milvus"
   ]
  },
  {
   "cell_type": "code",
   "execution_count": 5,
   "id": "d5e712fd-fcf7-45ff-976a-07ac292ed49d",
   "metadata": {},
   "outputs": [],
   "source": [
    "from pymilvus import connections, db\n",
    "from pymilvus import CollectionSchema, FieldSchema, DataType\n",
    "from pymilvus import Collection, utility\n"
   ]
  },
  {
   "cell_type": "code",
   "execution_count": 6,
   "id": "ff575822-7b7e-4878-9d25-381e75281b39",
   "metadata": {},
   "outputs": [
    {
     "name": "stdout",
     "output_type": "stream",
     "text": [
      "database list ['rai', 'scratchpad', 'default']\n"
     ]
    }
   ],
   "source": [
    "conn = connections.connect(host=\"127.0.0.1\", port=19530)\n",
    "print(f\"database list {db.list_database()}\")"
   ]
  },
  {
   "cell_type": "code",
   "execution_count": 7,
   "id": "e649d891-2ddf-4dab-b921-e59cc4e8ae79",
   "metadata": {},
   "outputs": [],
   "source": [
    "if \"scratchpad\" in db.list_database():\n",
    "    db.drop_database(\"scratchpad\")\n",
    "database = db.create_database(\"scratchpad\")"
   ]
  },
  {
   "cell_type": "markdown",
   "id": "838df6b2-ec52-4fb1-9858-4a7b319e3ccd",
   "metadata": {},
   "source": [
    "### Collections"
   ]
  },
  {
   "cell_type": "code",
   "execution_count": 8,
   "id": "ba0d7b02-b6ce-4197-ba7d-b26e244b4eb9",
   "metadata": {},
   "outputs": [],
   "source": [
    "collection_name = 'shorts'\n",
    "\n",
    "if utility.has_collection(collection_name):\n",
    "    utility.drop_collection(collection_name)"
   ]
  },
  {
   "cell_type": "markdown",
   "id": "49b38b07-41e3-4db3-98a3-a17af795d7ff",
   "metadata": {},
   "source": [
    "### Schema"
   ]
  },
  {
   "cell_type": "code",
   "execution_count": 9,
   "id": "4d665963-1b81-4773-8d7e-9bb72e6815c6",
   "metadata": {},
   "outputs": [
    {
     "data": {
      "text/plain": [
       "Status(code=0, message=)"
      ]
     },
     "execution_count": 9,
     "metadata": {},
     "output_type": "execute_result"
    }
   ],
   "source": [
    "fields = [\n",
    "    FieldSchema(name=\"id\", dtype=DataType.VARCHAR, auto_id=False, is_primary=True, max_length=64),\n",
    "    FieldSchema(name=\"source\", dtype=DataType.VARCHAR, max_length=128),\n",
    "    FieldSchema(name=\"embeddings\", dtype=DataType.FLOAT_VECTOR, dim=768)\n",
    "]\n",
    "# schema\n",
    "schema = CollectionSchema(fields=fields)\n",
    "# collection\n",
    "collection = Collection(collection_name, schema)\n",
    "# index\n",
    "index_params = {\n",
    "    \"metric_type\": \"L2\",\n",
    "    \"index_type\": \"IVF_FLAT\",\n",
    "    \"params\": {\"nlist\": 128}\n",
    "}\n",
    "collection.create_index(\"embeddings\", index_params)"
   ]
  },
  {
   "cell_type": "markdown",
   "id": "ca2a325c-8840-4b87-afe8-779d51f7f142",
   "metadata": {},
   "source": [
    "### Partition"
   ]
  },
  {
   "cell_type": "code",
   "execution_count": 10,
   "id": "b4801c59-e2cd-42eb-b5b5-c6ee3f07609c",
   "metadata": {},
   "outputs": [
    {
     "data": {
      "text/plain": [
       "{\"name\":\"docs\",\"collection_name\":\"shorts\",\"description\":\"\"}"
      ]
     },
     "execution_count": 10,
     "metadata": {},
     "output_type": "execute_result"
    }
   ],
   "source": [
    "partition_name = 'docs'\n",
    "\n",
    "if not collection.has_partition('docs'):\n",
    "    collection.create_partition(partition_name=partition_name, description='')"
   ]
  },
  {
   "cell_type": "code",
   "execution_count": null,
   "id": "4024c244-acd7-4353-93ae-648e3173f778",
   "metadata": {},
   "outputs": [],
   "source": []
  },
  {
   "cell_type": "code",
   "execution_count": null,
   "id": "166dcb25-75f7-4adc-bb9c-d939e5b4fc9c",
   "metadata": {},
   "outputs": [],
   "source": []
  }
 ],
 "metadata": {
  "kernelspec": {
   "display_name": "Python 3 (ipykernel)",
   "language": "python",
   "name": "python3"
  },
  "language_info": {
   "codemirror_mode": {
    "name": "ipython",
    "version": 3
   },
   "file_extension": ".py",
   "mimetype": "text/x-python",
   "name": "python",
   "nbconvert_exporter": "python",
   "pygments_lexer": "ipython3",
   "version": "3.10.14"
  }
 },
 "nbformat": 4,
 "nbformat_minor": 5
}
