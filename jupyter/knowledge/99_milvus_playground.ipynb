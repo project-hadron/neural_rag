{
 "cells": [
  {
   "cell_type": "code",
   "execution_count": 1,
   "id": "3d448bfe-19b5-4fdb-86ce-658e94d2049d",
   "metadata": {},
   "outputs": [],
   "source": [
    "# saves you having to use print as all exposed variables are printed in the cell\n",
    "from IPython.core.interactiveshell import InteractiveShell\n",
    "InteractiveShell.ast_node_interactivity = \"all\""
   ]
  },
  {
   "cell_type": "code",
   "execution_count": 2,
   "id": "23954339-a56c-4067-9def-550397dbf8c9",
   "metadata": {},
   "outputs": [],
   "source": [
    "import re\n",
    "import pandas as pd\n",
    "import numpy as np\n",
    "import torch\n",
    "import pyarrow as pa\n",
    "import pyarrow.compute as pc\n",
    "from nn_rag import Knowledge\n",
    "from ds_core.handlers.abstract_handlers import ConnectorContract\n",
    "from tqdm.autonotebook import tqdm, trange\n",
    "from sentence_transformers import SentenceTransformer, util\n"
   ]
  },
  {
   "cell_type": "code",
   "execution_count": 3,
   "id": "9650833d-ddee-4f28-a46e-fc4481669a97",
   "metadata": {},
   "outputs": [],
   "source": [
    "kn = Knowledge.from_memory()"
   ]
  },
  {
   "cell_type": "code",
   "execution_count": 4,
   "id": "d1ea077e-8664-4142-ac4e-8a0a512d4244",
   "metadata": {},
   "outputs": [],
   "source": [
    "text = ('You took too long. You are not easy to deal with. Payment Failure/Incorrect Payment. You provided '\n",
    "        'me with incorrect information. Unhappy with delay. Unsuitable advice. You never answered my question. '\n",
    "        'You did not understand my needs. I have been mis-sold. My details are not accurate. You have asked '\n",
    "        'for too much information. You were not helpful. Payment not generated/received by customer. You did '\n",
    "        'not keep me updated. Incorrect information given. The performance of my product was poor. No reply '\n",
    "        'to customer contact. Requested documentation not issued. You did not explain the terms & conditions. '\n",
    "        'Policy amendments not carried out. You did not explain the next steps/process to me. I cannot '\n",
    "        'understand your letter/comms. Standard letter inappropriate. Customer payment processed incorrectly. '\n",
    "        'All points not addressed. Could not understand the agent. Issue with terms and conditions. Misleading '\n",
    "        'information. I can not use the customer portal. your customer portal is unhelpful')"
   ]
  },
  {
   "cell_type": "markdown",
   "id": "d9df0698-19a7-450b-88af-f59498480619",
   "metadata": {},
   "source": [
    "## Milvus"
   ]
  },
  {
   "cell_type": "code",
   "execution_count": 5,
   "id": "d5e712fd-fcf7-45ff-976a-07ac292ed49d",
   "metadata": {},
   "outputs": [],
   "source": [
    "from pymilvus import connections, db\n",
    "from pymilvus import CollectionSchema, FieldSchema, DataType\n",
    "from pymilvus import Collection, utility\n"
   ]
  },
  {
   "cell_type": "code",
   "execution_count": 6,
   "id": "a5e33b55-2b82-4589-ab1a-1d566e3dabbb",
   "metadata": {},
   "outputs": [],
   "source": [
    "database = 'rai'"
   ]
  },
  {
   "cell_type": "code",
   "execution_count": 7,
   "id": "ff575822-7b7e-4878-9d25-381e75281b39",
   "metadata": {},
   "outputs": [
    {
     "name": "stdout",
     "output_type": "stream",
     "text": [
      "database list ['default']\n"
     ]
    }
   ],
   "source": [
    "conn = connections.connect(host=\"127.0.0.1\", port=19530)\n",
    "print(f\"database list {db.list_database()}\")"
   ]
  },
  {
   "cell_type": "code",
   "execution_count": 8,
   "id": "c1019915-182d-41c6-9726-dafeea9fa540",
   "metadata": {},
   "outputs": [],
   "source": [
    "# if database in db.list_database():\n",
    "#     db.drop_database(database)"
   ]
  },
  {
   "cell_type": "code",
   "execution_count": 9,
   "id": "e63dbe65-53aa-48a0-a53c-8a78b3f01018",
   "metadata": {},
   "outputs": [],
   "source": [
    "if database not in db.list_database():\n",
    "    db.create_database(database)"
   ]
  },
  {
   "cell_type": "markdown",
   "id": "838df6b2-ec52-4fb1-9858-4a7b319e3ccd",
   "metadata": {},
   "source": [
    "### Collections"
   ]
  },
  {
   "cell_type": "code",
   "execution_count": 10,
   "id": "a8ed4e75-c12f-4164-869f-61442c8fb9e2",
   "metadata": {},
   "outputs": [
    {
     "name": "stdout",
     "output_type": "stream",
     "text": [
      "collection list []\n"
     ]
    }
   ],
   "source": [
    "print(f\"collection list {utility.list_collections()}\")"
   ]
  },
  {
   "cell_type": "code",
   "execution_count": 11,
   "id": "61ba350e-7948-4298-a6ad-8253f9b21cb8",
   "metadata": {},
   "outputs": [],
   "source": [
    "collection_name = 'demo'"
   ]
  },
  {
   "cell_type": "code",
   "execution_count": 15,
   "id": "07ca3a4c-bc20-4f95-8141-bf234563c939",
   "metadata": {},
   "outputs": [],
   "source": [
    "if utility.has_collection(collection_name):\n",
    "    collection = Collection(collection_name)\n",
    "else:\n",
    "    fields = [\n",
    "        FieldSchema(name=\"id\", dtype=DataType.VARCHAR, auto_id=False, is_primary=True, max_length=64),\n",
    "        FieldSchema(name=\"metadata\", dtype=DataType.VARCHAR, max_length=256),\n",
    "        FieldSchema(name=\"source\", dtype=DataType.VARCHAR, max_length=1024),\n",
    "        FieldSchema(name=\"embeddings\", dtype=DataType.FLOAT_VECTOR, dim=768)\n",
    "    ]\n",
    "    # schema\n",
    "    schema = CollectionSchema(fields=fields)\n",
    "    # collection\n",
    "    collection = Collection(\n",
    "        name=collection_name,\n",
    "        schema=schema,\n",
    "        num_shards=2,\n",
    "        consistency_level='Strong')\n",
    "    # index\n",
    "    index_params = {\n",
    "        \"metric_type\": 'l2',\n",
    "        \"index_type\": \"IVF_FLAT\",\n",
    "        \"params\": {}\n",
    "    }\n",
    "    collection.create_index(\"embeddings\", index_params)\n"
   ]
  },
  {
   "cell_type": "code",
   "execution_count": 17,
   "id": "54705c44-b614-4ccb-8cf2-51b029416d9e",
   "metadata": {},
   "outputs": [
    {
     "data": {
      "text/plain": [
       "{'collection_name': 'demo',\n",
       " 'auto_id': False,\n",
       " 'num_shards': 2,\n",
       " 'description': '',\n",
       " 'fields': [{'field_id': 100,\n",
       "   'name': 'id',\n",
       "   'description': '',\n",
       "   'type': <DataType.VARCHAR: 21>,\n",
       "   'params': {'max_length': 64},\n",
       "   'is_primary': True},\n",
       "  {'field_id': 101,\n",
       "   'name': 'metadata',\n",
       "   'description': '',\n",
       "   'type': <DataType.VARCHAR: 21>,\n",
       "   'params': {'max_length': 256}},\n",
       "  {'field_id': 102,\n",
       "   'name': 'source',\n",
       "   'description': '',\n",
       "   'type': <DataType.VARCHAR: 21>,\n",
       "   'params': {'max_length': 1024}},\n",
       "  {'field_id': 103,\n",
       "   'name': 'embeddings',\n",
       "   'description': '',\n",
       "   'type': <DataType.FLOAT_VECTOR: 101>,\n",
       "   'params': {'dim': 768}}],\n",
       " 'aliases': [],\n",
       " 'collection_id': 451058623362635325,\n",
       " 'consistency_level': 0,\n",
       " 'properties': {},\n",
       " 'num_partitions': 1,\n",
       " 'enable_dynamic_field': False}"
      ]
     },
     "execution_count": 17,
     "metadata": {},
     "output_type": "execute_result"
    }
   ],
   "source": [
    "collection.describe()"
   ]
  },
  {
   "cell_type": "code",
   "execution_count": null,
   "id": "4024c244-acd7-4353-93ae-648e3173f778",
   "metadata": {},
   "outputs": [],
   "source": []
  },
  {
   "cell_type": "code",
   "execution_count": null,
   "id": "166dcb25-75f7-4adc-bb9c-d939e5b4fc9c",
   "metadata": {},
   "outputs": [],
   "source": []
  }
 ],
 "metadata": {
  "kernelspec": {
   "display_name": "Python 3 (ipykernel)",
   "language": "python",
   "name": "python3"
  },
  "language_info": {
   "codemirror_mode": {
    "name": "ipython",
    "version": 3
   },
   "file_extension": ".py",
   "mimetype": "text/x-python",
   "name": "python",
   "nbconvert_exporter": "python",
   "pygments_lexer": "ipython3",
   "version": "3.10.14"
  }
 },
 "nbformat": 4,
 "nbformat_minor": 5
}
