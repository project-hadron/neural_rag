{
 "cells": [
  {
   "cell_type": "code",
   "execution_count": 1,
   "id": "e7006e2d-4299-41a9-9f63-5b11f1815a41",
   "metadata": {},
   "outputs": [],
   "source": [
    "# saves you having to use print as all exposed variables are printed in the cell\n",
    "from IPython.core.interactiveshell import InteractiveShell\n",
    "InteractiveShell.ast_node_interactivity = \"all\""
   ]
  },
  {
   "cell_type": "code",
   "execution_count": 2,
   "id": "87d40344-d911-4f66-a707-fc9ade42a613",
   "metadata": {},
   "outputs": [],
   "source": [
    "# suppress warning message\n",
    "import warnings\n",
    "warnings.filterwarnings('ignore')"
   ]
  },
  {
   "cell_type": "code",
   "execution_count": 3,
   "id": "baa146a0-2fd2-4611-9f4d-5773b055e9b1",
   "metadata": {},
   "outputs": [],
   "source": [
    "import pyarrow as pa\n",
    "import pyarrow.compute as pc\n",
    "from nn_rag import Knowledge\n",
    "from tqdm import tqdm"
   ]
  },
  {
   "cell_type": "markdown",
   "id": "0c6752f7-54ac-49c7-b45c-2f21d9473310",
   "metadata": {},
   "source": [
    "## Discovery\n",
    "### Instantiate the capability"
   ]
  },
  {
   "cell_type": "code",
   "execution_count": 4,
   "id": "d2949331-b2f9-416e-923e-580ea37f334d",
   "metadata": {},
   "outputs": [],
   "source": [
    "kn = Knowledge.from_memory()"
   ]
  },
  {
   "cell_type": "markdown",
   "id": "e4e49f2c-226b-4044-a06f-0d6aac86e79a",
   "metadata": {},
   "source": [
    "### Build the table"
   ]
  },
  {
   "cell_type": "code",
   "execution_count": 5,
   "id": "bec4569a-e75e-461e-b367-5c1be8670107",
   "metadata": {},
   "outputs": [],
   "source": [
    "text = ('Human Nutrition: 2020 Edition by University of Hawai‘i at Mānoa Food Science and Human Nutrition Program '\n",
    "        'is licensed under a Creative Commons Attribution 4.0 International License, except where otherwise noted.\\n\\n'\n",
    "        'This work was carried out with the aid of a grant from the International Development Research Centre, '\n",
    "        'Ottawa, Canada, funded in part by the Government of Canada, and an additional grant from USAID.\\n\\n'\n",
    "        'You took too long. You are not easy to deal with. Payment Failure/Incorrect Payment. You provided '\n",
    "        'me with incorrect information. Unhappy with delay. Unsuitable advice. You never answered my question.\\n\\n'\n",
    "        'You did not understand my needs. (1) I have been mis-sold. (2) My details are not accurate. You have asked '\n",
    "        'for too much information. (3) You were not helpful. Payment not generated/received by customer. You did '\n",
    "        'not keep me updated. Incorrect information given. (4) The performance of my product was poor.\\n\\n No reply '\n",
    "        'to customer contact. Requested documentation not issued. You did not explain the terms & conditions.\\n\\n'\n",
    "        'Policy amendments not carried out. You did not explain the next steps/process to me. I cannot '\n",
    "        'understand your letter/comms. Standard letter inappropriate. Customer payment processed incorrectly.\\n\\n'\n",
    "        'All points not addressed. Could not understand the agent. Issue with terms and conditions. Misleading '\n",
    "        'information. I can not use the customer portal. your customer portal is unhelpful.')\n",
    "full_text = [\n",
    "    {\"index\": 1,\n",
    "     \"text_char_count\": len(text),\n",
    "     \"text_token_count\": round(len(text) / 4),\n",
    "     \"text\": text}\n",
    "]\n",
    "tbl =  pa.Table.from_pylist(full_text)"
   ]
  },
  {
   "cell_type": "markdown",
   "id": "9b1e0d3d-05a8-426f-adc9-4421c63bd555",
   "metadata": {},
   "source": [
    "### Discover the text"
   ]
  },
  {
   "cell_type": "code",
   "execution_count": 6,
   "id": "d3181975-4061-47ba-98e0-756c3bb97b95",
   "metadata": {},
   "outputs": [
    {
     "data": {
      "text/html": [
       "<style type=\"text/css\">\n",
       "#T_f173c th {\n",
       "  font-size: 120%;\n",
       "  text-align: center;\n",
       "}\n",
       "#T_f173c .row_heading {\n",
       "  display: none;;\n",
       "}\n",
       "#T_f173c  .blank {\n",
       "  display: none;;\n",
       "}\n",
       "#T_f173c_row0_col0, #T_f173c_row0_col1, #T_f173c_row0_col2, #T_f173c_row0_col3 {\n",
       "  text-align: left;\n",
       "}\n",
       "</style>\n",
       "<table id=\"T_f173c\">\n",
       "  <thead>\n",
       "    <tr>\n",
       "      <th class=\"blank level0\" >&nbsp;</th>\n",
       "      <th id=\"T_f173c_level0_col0\" class=\"col_heading level0 col0\" >index</th>\n",
       "      <th id=\"T_f173c_level0_col1\" class=\"col_heading level0 col1\" >text_char_count</th>\n",
       "      <th id=\"T_f173c_level0_col2\" class=\"col_heading level0 col2\" >text_token_count</th>\n",
       "      <th id=\"T_f173c_level0_col3\" class=\"col_heading level0 col3\" >text</th>\n",
       "    </tr>\n",
       "  </thead>\n",
       "  <tbody>\n",
       "    <tr>\n",
       "      <th id=\"T_f173c_level0_row0\" class=\"row_heading level0 row0\" >0</th>\n",
       "      <td id=\"T_f173c_row0_col0\" class=\"data row0 col0\" >1</td>\n",
       "      <td id=\"T_f173c_row0_col1\" class=\"data row0 col1\" >1410</td>\n",
       "      <td id=\"T_f173c_row0_col2\" class=\"data row0 col2\" >352</td>\n",
       "      <td id=\"T_f173c_row0_col3\" class=\"data row0 col3\" >Human Nutrition: 2020 Edition by University of Hawai‘i at Mānoa Food Science and Human Nutrition Program is licensed under a Creative Commons Attribution 4.0 International License, except where otherwise noted.\n",
       "\n",
       "This work was carried out with the aid of a grant from the International Development Research Centre, Ottawa, Canada, funded in part by the Government of Canada, and an additional grant from USAID.\n",
       "\n",
       "You took too long. You are not easy to deal with. Payment Failure/Incorrect Payment. You provided me with incorrect information. Unhappy with delay. Unsuitable advice. You never answered my question.\n",
       "\n",
       "You did not understand my needs. (1) I have been mis-sold. (2) My details are not accurate. You have asked for too much information. (3) You were not helpful. Payment not generated/received by customer. You did not keep me updated. Incorrect information given. (4) The performance of my product was poor.\n",
       "\n",
       " No reply to customer contact. Requested documentation not issued. You did not explain the terms & conditions.\n",
       "\n",
       "Policy amendments not carried out. You did not explain the next steps/process to me. I cannot understand your letter/comms. Standard letter inappropriate. Customer payment processed incorrectly.\n",
       "\n",
       "All points not addressed. Could not understand the agent. Issue with terms and conditions. Misleading information. I can not use the customer portal. your customer portal is unhelpful.</td>\n",
       "    </tr>\n",
       "  </tbody>\n",
       "</table>\n"
      ],
      "text/plain": [
       "<pandas.io.formats.style.Styler at 0x7f8938b039d0>"
      ]
     },
     "execution_count": 6,
     "metadata": {},
     "output_type": "execute_result"
    }
   ],
   "source": [
    "kn.table_report(tbl)"
   ]
  },
  {
   "cell_type": "markdown",
   "id": "dfed53c5-79de-43b2-824e-3ed8cc61a413",
   "metadata": {},
   "source": [
    "### Break the text into paragraphs"
   ]
  },
  {
   "cell_type": "code",
   "execution_count": 7,
   "id": "9c5f81f3-af8f-4946-841a-d73f6d36fba5",
   "metadata": {},
   "outputs": [
    {
     "data": {
      "application/vnd.jupyter.widget-view+json": {
       "model_id": "9c987b5218c84e5ebb52b86461cfecea",
       "version_major": 2,
       "version_minor": 0
      },
      "text/plain": [
       "building paragraphs:   0%|          | 0/277 [00:00<?, ?it/s]"
      ]
     },
     "metadata": {},
     "output_type": "display_data"
    },
    {
     "data": {
      "text/html": [
       "<style type=\"text/css\">\n",
       "#T_72da8 th {\n",
       "  font-size: 120%;\n",
       "  text-align: center;\n",
       "}\n",
       "#T_72da8 .row_heading {\n",
       "  display: none;;\n",
       "}\n",
       "#T_72da8  .blank {\n",
       "  display: none;;\n",
       "}\n",
       "#T_72da8_row0_col0, #T_72da8_row0_col1, #T_72da8_row0_col2, #T_72da8_row0_col3, #T_72da8_row0_col4, #T_72da8_row0_col5, #T_72da8_row0_col6, #T_72da8_row1_col0, #T_72da8_row1_col1, #T_72da8_row1_col2, #T_72da8_row1_col3, #T_72da8_row1_col4, #T_72da8_row1_col5, #T_72da8_row1_col6, #T_72da8_row2_col0, #T_72da8_row2_col1, #T_72da8_row2_col2, #T_72da8_row2_col3, #T_72da8_row2_col4, #T_72da8_row2_col5, #T_72da8_row2_col6, #T_72da8_row3_col0, #T_72da8_row3_col1, #T_72da8_row3_col2, #T_72da8_row3_col3, #T_72da8_row3_col4, #T_72da8_row3_col5, #T_72da8_row3_col6, #T_72da8_row4_col0, #T_72da8_row4_col1, #T_72da8_row4_col2, #T_72da8_row4_col3, #T_72da8_row4_col4, #T_72da8_row4_col5, #T_72da8_row4_col6, #T_72da8_row5_col0, #T_72da8_row5_col1, #T_72da8_row5_col2, #T_72da8_row5_col3, #T_72da8_row5_col4, #T_72da8_row5_col5, #T_72da8_row5_col6 {\n",
       "  text-align: left;\n",
       "}\n",
       "</style>\n",
       "<table id=\"T_72da8\">\n",
       "  <thead>\n",
       "    <tr>\n",
       "      <th class=\"blank level0\" >&nbsp;</th>\n",
       "      <th id=\"T_72da8_level0_col0\" class=\"col_heading level0 col0\" >index</th>\n",
       "      <th id=\"T_72da8_level0_col1\" class=\"col_heading level0 col1\" >char_count</th>\n",
       "      <th id=\"T_72da8_level0_col2\" class=\"col_heading level0 col2\" >word_count</th>\n",
       "      <th id=\"T_72da8_level0_col3\" class=\"col_heading level0 col3\" >sentence_count</th>\n",
       "      <th id=\"T_72da8_level0_col4\" class=\"col_heading level0 col4\" >token_count</th>\n",
       "      <th id=\"T_72da8_level0_col5\" class=\"col_heading level0 col5\" >score</th>\n",
       "      <th id=\"T_72da8_level0_col6\" class=\"col_heading level0 col6\" >text</th>\n",
       "    </tr>\n",
       "  </thead>\n",
       "  <tbody>\n",
       "    <tr>\n",
       "      <th id=\"T_72da8_level0_row0\" class=\"row_heading level0 row0\" >0</th>\n",
       "      <td id=\"T_72da8_row0_col0\" class=\"data row0 col0\" >0</td>\n",
       "      <td id=\"T_72da8_row0_col1\" class=\"data row0 col1\" >210</td>\n",
       "      <td id=\"T_72da8_row0_col2\" class=\"data row0 col2\" >30</td>\n",
       "      <td id=\"T_72da8_row0_col3\" class=\"data row0 col3\" >1</td>\n",
       "      <td id=\"T_72da8_row0_col4\" class=\"data row0 col4\" >52</td>\n",
       "      <td id=\"T_72da8_row0_col5\" class=\"data row0 col5\" >0</td>\n",
       "      <td id=\"T_72da8_row0_col6\" class=\"data row0 col6\" >Human Nutrition: 2020 Edition by University of Hawai‘i at Mānoa Food Science and Human Nutrition Program is licensed under a Creative Commons Attribution 4.0 International License, except where otherwise noted.</td>\n",
       "    </tr>\n",
       "    <tr>\n",
       "      <th id=\"T_72da8_level0_row1\" class=\"row_heading level0 row1\" >1</th>\n",
       "      <td id=\"T_72da8_row1_col0\" class=\"data row1 col0\" >1</td>\n",
       "      <td id=\"T_72da8_row1_col1\" class=\"data row1 col1\" >197</td>\n",
       "      <td id=\"T_72da8_row1_col2\" class=\"data row1 col2\" >33</td>\n",
       "      <td id=\"T_72da8_row1_col3\" class=\"data row1 col3\" >1</td>\n",
       "      <td id=\"T_72da8_row1_col4\" class=\"data row1 col4\" >49</td>\n",
       "      <td id=\"T_72da8_row1_col5\" class=\"data row1 col5\" >0</td>\n",
       "      <td id=\"T_72da8_row1_col6\" class=\"data row1 col6\" >This work was carried out with the aid of a grant from the International Development Research Centre, Ottawa, Canada, funded in part by the Government of Canada, and an additional grant from USAID.</td>\n",
       "    </tr>\n",
       "    <tr>\n",
       "      <th id=\"T_72da8_level0_row2\" class=\"row_heading level0 row2\" >2</th>\n",
       "      <td id=\"T_72da8_row2_col0\" class=\"data row2 col0\" >2</td>\n",
       "      <td id=\"T_72da8_row2_col1\" class=\"data row2 col1\" >199</td>\n",
       "      <td id=\"T_72da8_row2_col2\" class=\"data row2 col2\" >30</td>\n",
       "      <td id=\"T_72da8_row2_col3\" class=\"data row2 col3\" >7</td>\n",
       "      <td id=\"T_72da8_row2_col4\" class=\"data row2 col4\" >50</td>\n",
       "      <td id=\"T_72da8_row2_col5\" class=\"data row2 col5\" >0</td>\n",
       "      <td id=\"T_72da8_row2_col6\" class=\"data row2 col6\" >You took too long. You are not easy to deal with. Payment Failure/Incorrect Payment. You provided me with incorrect information. Unhappy with delay. Unsuitable advice. You never answered my question.</td>\n",
       "    </tr>\n",
       "    <tr>\n",
       "      <th id=\"T_72da8_level0_row3\" class=\"row_heading level0 row3\" >3</th>\n",
       "      <td id=\"T_72da8_row3_col0\" class=\"data row3 col0\" >3</td>\n",
       "      <td id=\"T_72da8_row3_col1\" class=\"data row3 col1\" >416</td>\n",
       "      <td id=\"T_72da8_row3_col2\" class=\"data row3 col2\" >70</td>\n",
       "      <td id=\"T_72da8_row3_col3\" class=\"data row3 col3\" >12</td>\n",
       "      <td id=\"T_72da8_row3_col4\" class=\"data row3 col4\" >104</td>\n",
       "      <td id=\"T_72da8_row3_col5\" class=\"data row3 col5\" >0</td>\n",
       "      <td id=\"T_72da8_row3_col6\" class=\"data row3 col6\" >You did not understand my needs. (1) I have been mis-sold. (2) My details are not accurate. You have asked for too much information. (3) You were not helpful. Payment not generated/received by customer. You did not keep me updated. Incorrect information given. (4) The performance of my product was poor.   No reply to customer contact. Requested documentation not issued. You did not explain the terms & conditions.</td>\n",
       "    </tr>\n",
       "    <tr>\n",
       "      <th id=\"T_72da8_level0_row4\" class=\"row_heading level0 row4\" >4</th>\n",
       "      <td id=\"T_72da8_row4_col0\" class=\"data row4 col0\" >4</td>\n",
       "      <td id=\"T_72da8_row4_col1\" class=\"data row4 col1\" >194</td>\n",
       "      <td id=\"T_72da8_row4_col2\" class=\"data row4 col2\" >26</td>\n",
       "      <td id=\"T_72da8_row4_col3\" class=\"data row4 col3\" >5</td>\n",
       "      <td id=\"T_72da8_row4_col4\" class=\"data row4 col4\" >48</td>\n",
       "      <td id=\"T_72da8_row4_col5\" class=\"data row4 col5\" >0</td>\n",
       "      <td id=\"T_72da8_row4_col6\" class=\"data row4 col6\" >Policy amendments not carried out. You did not explain the next steps/process to me. I cannot understand your letter/comms. Standard letter inappropriate. Customer payment processed incorrectly.</td>\n",
       "    </tr>\n",
       "    <tr>\n",
       "      <th id=\"T_72da8_level0_row5\" class=\"row_heading level0 row5\" >5</th>\n",
       "      <td id=\"T_72da8_row5_col0\" class=\"data row5 col0\" >5</td>\n",
       "      <td id=\"T_72da8_row5_col1\" class=\"data row5 col1\" >184</td>\n",
       "      <td id=\"T_72da8_row5_col2\" class=\"data row5 col2\" >28</td>\n",
       "      <td id=\"T_72da8_row5_col3\" class=\"data row5 col3\" >6</td>\n",
       "      <td id=\"T_72da8_row5_col4\" class=\"data row5 col4\" >46</td>\n",
       "      <td id=\"T_72da8_row5_col5\" class=\"data row5 col5\" >0</td>\n",
       "      <td id=\"T_72da8_row5_col6\" class=\"data row5 col6\" >All points not addressed. Could not understand the agent. Issue with terms and conditions. Misleading information. I can not use the customer portal. your customer portal is unhelpful.</td>\n",
       "    </tr>\n",
       "  </tbody>\n",
       "</table>\n"
      ],
      "text/plain": [
       "<pandas.io.formats.style.Styler at 0x7f893b588220>"
      ]
     },
     "execution_count": 7,
     "metadata": {},
     "output_type": "execute_result"
    }
   ],
   "source": [
    "paragraphs = kn.tools.text_to_paragraphs(tbl)\n",
    "kn.table_report(paragraphs)"
   ]
  },
  {
   "cell_type": "markdown",
   "id": "360a6b3e-562a-4e23-b2c0-6ae374ab68a3",
   "metadata": {},
   "source": [
    "### Filter out the first two paragraphs"
   ]
  },
  {
   "cell_type": "code",
   "execution_count": 8,
   "id": "98df112b-2e1c-49e6-8da4-088d2ce6a929",
   "metadata": {},
   "outputs": [
    {
     "data": {
      "text/html": [
       "<style type=\"text/css\">\n",
       "#T_9a56d th {\n",
       "  font-size: 120%;\n",
       "  text-align: center;\n",
       "}\n",
       "#T_9a56d .row_heading {\n",
       "  display: none;;\n",
       "}\n",
       "#T_9a56d  .blank {\n",
       "  display: none;;\n",
       "}\n",
       "#T_9a56d_row0_col0, #T_9a56d_row0_col1, #T_9a56d_row0_col2, #T_9a56d_row0_col3, #T_9a56d_row0_col4, #T_9a56d_row0_col5, #T_9a56d_row0_col6, #T_9a56d_row1_col0, #T_9a56d_row1_col1, #T_9a56d_row1_col2, #T_9a56d_row1_col3, #T_9a56d_row1_col4, #T_9a56d_row1_col5, #T_9a56d_row1_col6, #T_9a56d_row2_col0, #T_9a56d_row2_col1, #T_9a56d_row2_col2, #T_9a56d_row2_col3, #T_9a56d_row2_col4, #T_9a56d_row2_col5, #T_9a56d_row2_col6, #T_9a56d_row3_col0, #T_9a56d_row3_col1, #T_9a56d_row3_col2, #T_9a56d_row3_col3, #T_9a56d_row3_col4, #T_9a56d_row3_col5, #T_9a56d_row3_col6 {\n",
       "  text-align: left;\n",
       "}\n",
       "</style>\n",
       "<table id=\"T_9a56d\">\n",
       "  <thead>\n",
       "    <tr>\n",
       "      <th class=\"blank level0\" >&nbsp;</th>\n",
       "      <th id=\"T_9a56d_level0_col0\" class=\"col_heading level0 col0\" >index</th>\n",
       "      <th id=\"T_9a56d_level0_col1\" class=\"col_heading level0 col1\" >char_count</th>\n",
       "      <th id=\"T_9a56d_level0_col2\" class=\"col_heading level0 col2\" >word_count</th>\n",
       "      <th id=\"T_9a56d_level0_col3\" class=\"col_heading level0 col3\" >sentence_count</th>\n",
       "      <th id=\"T_9a56d_level0_col4\" class=\"col_heading level0 col4\" >token_count</th>\n",
       "      <th id=\"T_9a56d_level0_col5\" class=\"col_heading level0 col5\" >score</th>\n",
       "      <th id=\"T_9a56d_level0_col6\" class=\"col_heading level0 col6\" >text</th>\n",
       "    </tr>\n",
       "  </thead>\n",
       "  <tbody>\n",
       "    <tr>\n",
       "      <th id=\"T_9a56d_level0_row0\" class=\"row_heading level0 row0\" >0</th>\n",
       "      <td id=\"T_9a56d_row0_col0\" class=\"data row0 col0\" >0</td>\n",
       "      <td id=\"T_9a56d_row0_col1\" class=\"data row0 col1\" >199</td>\n",
       "      <td id=\"T_9a56d_row0_col2\" class=\"data row0 col2\" >30</td>\n",
       "      <td id=\"T_9a56d_row0_col3\" class=\"data row0 col3\" >7</td>\n",
       "      <td id=\"T_9a56d_row0_col4\" class=\"data row0 col4\" >50</td>\n",
       "      <td id=\"T_9a56d_row0_col5\" class=\"data row0 col5\" >0</td>\n",
       "      <td id=\"T_9a56d_row0_col6\" class=\"data row0 col6\" >You took too long. You are not easy to deal with. Payment Failure/Incorrect Payment. You provided me with incorrect information. Unhappy with delay. Unsuitable advice. You never answered my question.</td>\n",
       "    </tr>\n",
       "    <tr>\n",
       "      <th id=\"T_9a56d_level0_row1\" class=\"row_heading level0 row1\" >1</th>\n",
       "      <td id=\"T_9a56d_row1_col0\" class=\"data row1 col0\" >1</td>\n",
       "      <td id=\"T_9a56d_row1_col1\" class=\"data row1 col1\" >416</td>\n",
       "      <td id=\"T_9a56d_row1_col2\" class=\"data row1 col2\" >70</td>\n",
       "      <td id=\"T_9a56d_row1_col3\" class=\"data row1 col3\" >12</td>\n",
       "      <td id=\"T_9a56d_row1_col4\" class=\"data row1 col4\" >104</td>\n",
       "      <td id=\"T_9a56d_row1_col5\" class=\"data row1 col5\" >0</td>\n",
       "      <td id=\"T_9a56d_row1_col6\" class=\"data row1 col6\" >You did not understand my needs. (1) I have been mis-sold. (2) My details are not accurate. You have asked for too much information. (3) You were not helpful. Payment not generated/received by customer. You did not keep me updated. Incorrect information given. (4) The performance of my product was poor.   No reply to customer contact. Requested documentation not issued. You did not explain the terms & conditions.</td>\n",
       "    </tr>\n",
       "    <tr>\n",
       "      <th id=\"T_9a56d_level0_row2\" class=\"row_heading level0 row2\" >2</th>\n",
       "      <td id=\"T_9a56d_row2_col0\" class=\"data row2 col0\" >2</td>\n",
       "      <td id=\"T_9a56d_row2_col1\" class=\"data row2 col1\" >194</td>\n",
       "      <td id=\"T_9a56d_row2_col2\" class=\"data row2 col2\" >26</td>\n",
       "      <td id=\"T_9a56d_row2_col3\" class=\"data row2 col3\" >5</td>\n",
       "      <td id=\"T_9a56d_row2_col4\" class=\"data row2 col4\" >48</td>\n",
       "      <td id=\"T_9a56d_row2_col5\" class=\"data row2 col5\" >0</td>\n",
       "      <td id=\"T_9a56d_row2_col6\" class=\"data row2 col6\" >Policy amendments not carried out. You did not explain the next steps/process to me. I cannot understand your letter/comms. Standard letter inappropriate. Customer payment processed incorrectly.</td>\n",
       "    </tr>\n",
       "    <tr>\n",
       "      <th id=\"T_9a56d_level0_row3\" class=\"row_heading level0 row3\" >3</th>\n",
       "      <td id=\"T_9a56d_row3_col0\" class=\"data row3 col0\" >3</td>\n",
       "      <td id=\"T_9a56d_row3_col1\" class=\"data row3 col1\" >184</td>\n",
       "      <td id=\"T_9a56d_row3_col2\" class=\"data row3 col2\" >28</td>\n",
       "      <td id=\"T_9a56d_row3_col3\" class=\"data row3 col3\" >6</td>\n",
       "      <td id=\"T_9a56d_row3_col4\" class=\"data row3 col4\" >46</td>\n",
       "      <td id=\"T_9a56d_row3_col5\" class=\"data row3 col5\" >0</td>\n",
       "      <td id=\"T_9a56d_row3_col6\" class=\"data row3 col6\" >All points not addressed. Could not understand the agent. Issue with terms and conditions. Misleading information. I can not use the customer portal. your customer portal is unhelpful.</td>\n",
       "    </tr>\n",
       "  </tbody>\n",
       "</table>\n"
      ],
      "text/plain": [
       "<pandas.io.formats.style.Styler at 0x7f893b5892a0>"
      ]
     },
     "execution_count": 8,
     "metadata": {},
     "output_type": "execute_result"
    }
   ],
   "source": [
    "paragraphs = kn.tools.filter_on_mask(paragraphs, indices=[0,1])\n",
    "kn.table_report(paragraphs)"
   ]
  },
  {
   "cell_type": "markdown",
   "id": "67700af7-8977-4847-893b-da8c6462e6d8",
   "metadata": {},
   "source": [
    "### Reconstruct back to a document"
   ]
  },
  {
   "cell_type": "code",
   "execution_count": 9,
   "id": "7fd2128f-12a7-4b40-b175-e22ffedd9b92",
   "metadata": {},
   "outputs": [
    {
     "name": "stdout",
     "output_type": "stream",
     "text": [
      "['You took too long. You are not easy to deal with. Payment Failure/Incorrect Payment. You provided me with incorrect information. Unhappy with delay. Unsuitable advice. You never answered my question.\\n\\nYou did not understand my needs. (1) I have been mis-sold. (2) My details are not accurate. You have asked for too much information. (3) You were not helpful. Payment not generated/received by customer. You did not keep me updated. Incorrect information given. (4) The performance of my product was poor.   No reply to customer contact. Requested documentation not issued. You did not explain the terms & conditions.\\n\\nPolicy amendments not carried out. You did not explain the next steps/process to me. I cannot understand your letter/comms. Standard letter inappropriate. Customer payment processed incorrectly.\\n\\nAll points not addressed. Could not understand the agent. Issue with terms and conditions. Misleading information. I can not use the customer portal. your customer portal is unhelpful.']\n"
     ]
    }
   ],
   "source": [
    "doc = kn.tools.text_to_document(paragraphs, sep='\\n\\n')\n",
    "print(doc['text'].to_pylist())"
   ]
  },
  {
   "cell_type": "markdown",
   "id": "8b627eb9-b5e3-490e-ba09-82508d6503c7",
   "metadata": {},
   "source": [
    "### Remove end of line from the document"
   ]
  },
  {
   "cell_type": "code",
   "execution_count": 10,
   "id": "f38a2092-ddc1-45cc-8c94-c2ae48f454d9",
   "metadata": {},
   "outputs": [],
   "source": [
    "text_doc = kn.tools.replace_on_pattern(doc)"
   ]
  },
  {
   "cell_type": "markdown",
   "id": "cc4e8beb-8b78-45a9-98dc-efdc7026be89",
   "metadata": {},
   "source": [
    "### Break the text_doc into sentences with scores"
   ]
  },
  {
   "cell_type": "code",
   "execution_count": 11,
   "id": "eb75f742-54ea-46ad-b24d-55157a285d75",
   "metadata": {},
   "outputs": [
    {
     "data": {
      "application/vnd.jupyter.widget-view+json": {
       "model_id": "51b42db3b929475fa2b3f4919a9663a4",
       "version_major": 2,
       "version_minor": 0
      },
      "text/plain": [
       "building sentences:   0%|          | 0/204 [00:00<?, ?it/s]"
      ]
     },
     "metadata": {},
     "output_type": "display_data"
    },
    {
     "data": {
      "application/vnd.jupyter.widget-view+json": {
       "model_id": "85032ae25f8e4bf3be972afa91975f7c",
       "version_major": 2,
       "version_minor": 0
      },
      "text/plain": [
       "  0%|          | 0/29 [00:00<?, ?it/s]"
      ]
     },
     "metadata": {},
     "output_type": "display_data"
    },
    {
     "data": {
      "text/html": [
       "<style type=\"text/css\">\n",
       "#T_6ebef th {\n",
       "  font-size: 120%;\n",
       "  text-align: center;\n",
       "}\n",
       "#T_6ebef .row_heading {\n",
       "  display: none;;\n",
       "}\n",
       "#T_6ebef  .blank {\n",
       "  display: none;;\n",
       "}\n",
       "#T_6ebef_row0_col0, #T_6ebef_row0_col1, #T_6ebef_row0_col2, #T_6ebef_row0_col3, #T_6ebef_row0_col4, #T_6ebef_row0_col5, #T_6ebef_row0_col6, #T_6ebef_row1_col0, #T_6ebef_row1_col1, #T_6ebef_row1_col2, #T_6ebef_row1_col3, #T_6ebef_row1_col4, #T_6ebef_row1_col5, #T_6ebef_row1_col6, #T_6ebef_row2_col0, #T_6ebef_row2_col1, #T_6ebef_row2_col2, #T_6ebef_row2_col3, #T_6ebef_row2_col4, #T_6ebef_row2_col5, #T_6ebef_row2_col6, #T_6ebef_row3_col0, #T_6ebef_row3_col1, #T_6ebef_row3_col2, #T_6ebef_row3_col3, #T_6ebef_row3_col4, #T_6ebef_row3_col5, #T_6ebef_row3_col6, #T_6ebef_row4_col0, #T_6ebef_row4_col1, #T_6ebef_row4_col2, #T_6ebef_row4_col3, #T_6ebef_row4_col4, #T_6ebef_row4_col5, #T_6ebef_row4_col6, #T_6ebef_row5_col0, #T_6ebef_row5_col1, #T_6ebef_row5_col2, #T_6ebef_row5_col3, #T_6ebef_row5_col4, #T_6ebef_row5_col5, #T_6ebef_row5_col6, #T_6ebef_row6_col0, #T_6ebef_row6_col1, #T_6ebef_row6_col2, #T_6ebef_row6_col3, #T_6ebef_row6_col4, #T_6ebef_row6_col5, #T_6ebef_row6_col6, #T_6ebef_row7_col0, #T_6ebef_row7_col1, #T_6ebef_row7_col2, #T_6ebef_row7_col3, #T_6ebef_row7_col4, #T_6ebef_row7_col5, #T_6ebef_row7_col6, #T_6ebef_row8_col0, #T_6ebef_row8_col1, #T_6ebef_row8_col2, #T_6ebef_row8_col3, #T_6ebef_row8_col4, #T_6ebef_row8_col5, #T_6ebef_row8_col6, #T_6ebef_row9_col0, #T_6ebef_row9_col1, #T_6ebef_row9_col2, #T_6ebef_row9_col3, #T_6ebef_row9_col4, #T_6ebef_row9_col5, #T_6ebef_row9_col6 {\n",
       "  text-align: left;\n",
       "}\n",
       "</style>\n",
       "<table id=\"T_6ebef\">\n",
       "  <thead>\n",
       "    <tr>\n",
       "      <th class=\"blank level0\" >&nbsp;</th>\n",
       "      <th id=\"T_6ebef_level0_col0\" class=\"col_heading level0 col0\" >index</th>\n",
       "      <th id=\"T_6ebef_level0_col1\" class=\"col_heading level0 col1\" >char_count</th>\n",
       "      <th id=\"T_6ebef_level0_col2\" class=\"col_heading level0 col2\" >word_count</th>\n",
       "      <th id=\"T_6ebef_level0_col3\" class=\"col_heading level0 col3\" >sentence_count</th>\n",
       "      <th id=\"T_6ebef_level0_col4\" class=\"col_heading level0 col4\" >token_count</th>\n",
       "      <th id=\"T_6ebef_level0_col5\" class=\"col_heading level0 col5\" >score</th>\n",
       "      <th id=\"T_6ebef_level0_col6\" class=\"col_heading level0 col6\" >text</th>\n",
       "    </tr>\n",
       "  </thead>\n",
       "  <tbody>\n",
       "    <tr>\n",
       "      <th id=\"T_6ebef_level0_row0\" class=\"row_heading level0 row0\" >0</th>\n",
       "      <td id=\"T_6ebef_row0_col0\" class=\"data row0 col0\" >0</td>\n",
       "      <td id=\"T_6ebef_row0_col1\" class=\"data row0 col1\" >18</td>\n",
       "      <td id=\"T_6ebef_row0_col2\" class=\"data row0 col2\" >4</td>\n",
       "      <td id=\"T_6ebef_row0_col3\" class=\"data row0 col3\" >1</td>\n",
       "      <td id=\"T_6ebef_row0_col4\" class=\"data row0 col4\" >4</td>\n",
       "      <td id=\"T_6ebef_row0_col5\" class=\"data row0 col5\" >0.2310</td>\n",
       "      <td id=\"T_6ebef_row0_col6\" class=\"data row0 col6\" >You took too long.</td>\n",
       "    </tr>\n",
       "    <tr>\n",
       "      <th id=\"T_6ebef_level0_row1\" class=\"row_heading level0 row1\" >1</th>\n",
       "      <td id=\"T_6ebef_row1_col0\" class=\"data row1 col0\" >1</td>\n",
       "      <td id=\"T_6ebef_row1_col1\" class=\"data row1 col1\" >30</td>\n",
       "      <td id=\"T_6ebef_row1_col2\" class=\"data row1 col2\" >7</td>\n",
       "      <td id=\"T_6ebef_row1_col3\" class=\"data row1 col3\" >1</td>\n",
       "      <td id=\"T_6ebef_row1_col4\" class=\"data row1 col4\" >8</td>\n",
       "      <td id=\"T_6ebef_row1_col5\" class=\"data row1 col5\" >0.0600</td>\n",
       "      <td id=\"T_6ebef_row1_col6\" class=\"data row1 col6\" >You are not easy to deal with.</td>\n",
       "    </tr>\n",
       "    <tr>\n",
       "      <th id=\"T_6ebef_level0_row2\" class=\"row_heading level0 row2\" >2</th>\n",
       "      <td id=\"T_6ebef_row2_col0\" class=\"data row2 col0\" >2</td>\n",
       "      <td id=\"T_6ebef_row2_col1\" class=\"data row2 col1\" >34</td>\n",
       "      <td id=\"T_6ebef_row2_col2\" class=\"data row2 col2\" >3</td>\n",
       "      <td id=\"T_6ebef_row2_col3\" class=\"data row2 col3\" >1</td>\n",
       "      <td id=\"T_6ebef_row2_col4\" class=\"data row2 col4\" >8</td>\n",
       "      <td id=\"T_6ebef_row2_col5\" class=\"data row2 col5\" >0.2770</td>\n",
       "      <td id=\"T_6ebef_row2_col6\" class=\"data row2 col6\" >Payment Failure/Incorrect Payment.</td>\n",
       "    </tr>\n",
       "    <tr>\n",
       "      <th id=\"T_6ebef_level0_row3\" class=\"row_heading level0 row3\" >3</th>\n",
       "      <td id=\"T_6ebef_row3_col0\" class=\"data row3 col0\" >3</td>\n",
       "      <td id=\"T_6ebef_row3_col1\" class=\"data row3 col1\" >43</td>\n",
       "      <td id=\"T_6ebef_row3_col2\" class=\"data row3 col2\" >6</td>\n",
       "      <td id=\"T_6ebef_row3_col3\" class=\"data row3 col3\" >1</td>\n",
       "      <td id=\"T_6ebef_row3_col4\" class=\"data row3 col4\" >11</td>\n",
       "      <td id=\"T_6ebef_row3_col5\" class=\"data row3 col5\" >0.0230</td>\n",
       "      <td id=\"T_6ebef_row3_col6\" class=\"data row3 col6\" >You provided me with incorrect information.</td>\n",
       "    </tr>\n",
       "    <tr>\n",
       "      <th id=\"T_6ebef_level0_row4\" class=\"row_heading level0 row4\" >4</th>\n",
       "      <td id=\"T_6ebef_row4_col0\" class=\"data row4 col0\" >4</td>\n",
       "      <td id=\"T_6ebef_row4_col1\" class=\"data row4 col1\" >19</td>\n",
       "      <td id=\"T_6ebef_row4_col2\" class=\"data row4 col2\" >3</td>\n",
       "      <td id=\"T_6ebef_row4_col3\" class=\"data row4 col3\" >1</td>\n",
       "      <td id=\"T_6ebef_row4_col4\" class=\"data row4 col4\" >5</td>\n",
       "      <td id=\"T_6ebef_row4_col5\" class=\"data row4 col5\" >0.0790</td>\n",
       "      <td id=\"T_6ebef_row4_col6\" class=\"data row4 col6\" >Unhappy with delay.</td>\n",
       "    </tr>\n",
       "    <tr>\n",
       "      <th id=\"T_6ebef_level0_row5\" class=\"row_heading level0 row5\" >5</th>\n",
       "      <td id=\"T_6ebef_row5_col0\" class=\"data row5 col0\" >5</td>\n",
       "      <td id=\"T_6ebef_row5_col1\" class=\"data row5 col1\" >18</td>\n",
       "      <td id=\"T_6ebef_row5_col2\" class=\"data row5 col2\" >2</td>\n",
       "      <td id=\"T_6ebef_row5_col3\" class=\"data row5 col3\" >1</td>\n",
       "      <td id=\"T_6ebef_row5_col4\" class=\"data row5 col4\" >4</td>\n",
       "      <td id=\"T_6ebef_row5_col5\" class=\"data row5 col5\" >0.0050</td>\n",
       "      <td id=\"T_6ebef_row5_col6\" class=\"data row5 col6\" >Unsuitable advice.</td>\n",
       "    </tr>\n",
       "    <tr>\n",
       "      <th id=\"T_6ebef_level0_row6\" class=\"row_heading level0 row6\" >6</th>\n",
       "      <td id=\"T_6ebef_row6_col0\" class=\"data row6 col0\" >6</td>\n",
       "      <td id=\"T_6ebef_row6_col1\" class=\"data row6 col1\" >33</td>\n",
       "      <td id=\"T_6ebef_row6_col2\" class=\"data row6 col2\" >5</td>\n",
       "      <td id=\"T_6ebef_row6_col3\" class=\"data row6 col3\" >1</td>\n",
       "      <td id=\"T_6ebef_row6_col4\" class=\"data row6 col4\" >8</td>\n",
       "      <td id=\"T_6ebef_row6_col5\" class=\"data row6 col5\" >0.4290</td>\n",
       "      <td id=\"T_6ebef_row6_col6\" class=\"data row6 col6\" >You never answered my question.\n",
       "\n",
       "</td>\n",
       "    </tr>\n",
       "    <tr>\n",
       "      <th id=\"T_6ebef_level0_row7\" class=\"row_heading level0 row7\" >7</th>\n",
       "      <td id=\"T_6ebef_row7_col0\" class=\"data row7 col0\" >7</td>\n",
       "      <td id=\"T_6ebef_row7_col1\" class=\"data row7 col1\" >32</td>\n",
       "      <td id=\"T_6ebef_row7_col2\" class=\"data row7 col2\" >6</td>\n",
       "      <td id=\"T_6ebef_row7_col3\" class=\"data row7 col3\" >1</td>\n",
       "      <td id=\"T_6ebef_row7_col4\" class=\"data row7 col4\" >8</td>\n",
       "      <td id=\"T_6ebef_row7_col5\" class=\"data row7 col5\" >0.1970</td>\n",
       "      <td id=\"T_6ebef_row7_col6\" class=\"data row7 col6\" >You did not understand my needs.</td>\n",
       "    </tr>\n",
       "    <tr>\n",
       "      <th id=\"T_6ebef_level0_row8\" class=\"row_heading level0 row8\" >8</th>\n",
       "      <td id=\"T_6ebef_row8_col0\" class=\"data row8 col0\" >8</td>\n",
       "      <td id=\"T_6ebef_row8_col1\" class=\"data row8 col1\" >25</td>\n",
       "      <td id=\"T_6ebef_row8_col2\" class=\"data row8 col2\" >5</td>\n",
       "      <td id=\"T_6ebef_row8_col3\" class=\"data row8 col3\" >1</td>\n",
       "      <td id=\"T_6ebef_row8_col4\" class=\"data row8 col4\" >6</td>\n",
       "      <td id=\"T_6ebef_row8_col5\" class=\"data row8 col5\" >0.3100</td>\n",
       "      <td id=\"T_6ebef_row8_col6\" class=\"data row8 col6\" >(1) I have been mis-sold.</td>\n",
       "    </tr>\n",
       "    <tr>\n",
       "      <th id=\"T_6ebef_level0_row9\" class=\"row_heading level0 row9\" >9</th>\n",
       "      <td id=\"T_6ebef_row9_col0\" class=\"data row9 col0\" >9</td>\n",
       "      <td id=\"T_6ebef_row9_col1\" class=\"data row9 col1\" >32</td>\n",
       "      <td id=\"T_6ebef_row9_col2\" class=\"data row9 col2\" >6</td>\n",
       "      <td id=\"T_6ebef_row9_col3\" class=\"data row9 col3\" >1</td>\n",
       "      <td id=\"T_6ebef_row9_col4\" class=\"data row9 col4\" >8</td>\n",
       "      <td id=\"T_6ebef_row9_col5\" class=\"data row9 col5\" >0.2380</td>\n",
       "      <td id=\"T_6ebef_row9_col6\" class=\"data row9 col6\" >(2) My details are not accurate.</td>\n",
       "    </tr>\n",
       "  </tbody>\n",
       "</table>\n"
      ],
      "text/plain": [
       "<pandas.io.formats.style.Styler at 0x7f893a468c40>"
      ]
     },
     "execution_count": 11,
     "metadata": {},
     "output_type": "execute_result"
    }
   ],
   "source": [
    "sentences = kn.tools.text_to_sentences(doc, include_score=True)\n",
    "kn.table_report(sentences, head=10)"
   ]
  },
  {
   "cell_type": "markdown",
   "id": "4ae2ece9-71eb-45cb-bb96-dfbfabef5789",
   "metadata": {},
   "source": [
    "### Use pyarrow to get the threshold similarity scores"
   ]
  },
  {
   "cell_type": "code",
   "execution_count": 12,
   "id": "a3f3e65d-35ea-4ed7-9669-ae7bbdc15b30",
   "metadata": {},
   "outputs": [
    {
     "name": "stdout",
     "output_type": "stream",
     "text": [
      "Threshold silimarity for []\n"
     ]
    }
   ],
   "source": [
    "high_similarity = pc.filter(sentences, pc.greater(sentences['score'], 0.9)).column('index').to_pylist()\n",
    "print(f\"Threshold silimarity for {high_similarity}\")"
   ]
  },
  {
   "cell_type": "markdown",
   "id": "d0f8e78e-6a2e-4cf6-9cbf-64c4247f0146",
   "metadata": {},
   "source": [
    "### join the similar sentences"
   ]
  },
  {
   "cell_type": "code",
   "execution_count": 13,
   "id": "d16e3dd1-11e6-4d54-81e7-3a7b30f1da1f",
   "metadata": {},
   "outputs": [
    {
     "name": "stdout",
     "output_type": "stream",
     "text": [
      "Max Sentence size 49\n",
      "Mean Sentence size 32.46666666666667\n"
     ]
    }
   ],
   "source": [
    "sentence_sim = kn.tools.filter_on_join(sentences, indices=high_similarity)\n",
    "print(f\"Max Sentence size {pc.max(sentence_sim['char_count'])}\")\n",
    "print(f\"Mean Sentence size {pc.mean(sentence_sim['char_count'])}\")"
   ]
  },
  {
   "cell_type": "markdown",
   "id": "c078e345-4926-47cb-b63c-965311f03aca",
   "metadata": {},
   "source": [
    "## Join sentences to chunks of sentences"
   ]
  },
  {
   "cell_type": "code",
   "execution_count": 14,
   "id": "8b104733-458c-477e-a221-eef71a5dfa91",
   "metadata": {},
   "outputs": [
    {
     "name": "stdout",
     "output_type": "stream",
     "text": [
      "Max Sentence size 148\n",
      "Mean Sentence size 124.5\n"
     ]
    }
   ],
   "source": [
    "chunks = kn.tools.filter_on_join(sentence_sim, chunk_size=150)\n",
    "print(f\"Max Sentence size {pc.max(chunks['char_count'])}\")\n",
    "print(f\"Mean Sentence size {pc.mean(chunks['char_count'])}\")"
   ]
  },
  {
   "cell_type": "markdown",
   "id": "cd22a9dd-b5d6-4d9f-94a1-bc8db570768c",
   "metadata": {},
   "source": [
    "### Visualize the char sized"
   ]
  },
  {
   "cell_type": "code",
   "execution_count": 15,
   "id": "f1f2e9cc-716d-494e-a7a9-2db82f6a3b74",
   "metadata": {},
   "outputs": [
    {
     "data": {
      "image/png": "[encoded data removed]",
      "text/plain": [
       "<Figure size 500x400 with 1 Axes>"
      ]
     },
     "metadata": {},
     "output_type": "display_data"
    }
   ],
   "source": [
    "import matplotlib.pyplot as plt\n",
    "import seaborn as sns\n",
    "\n",
    "# matpolitlib config\n",
    "%matplotlib inline\n",
    "\n",
    "# Style setup\n",
    "plt.style.use('ggplot')\n",
    "sns.set()\n",
    "\n",
    "_=plt.figure(figsize=(5, 4))\n",
    "_=sns.histplot(data=sentence_sim['char_count'].to_pandas(), bins=15)\n",
    "_=plt.title('Distribution of sentence length')\n",
    "_=plt.xlabel('Character Count')\n",
    "_=plt.ylabel('Frequency')\n",
    "_=plt.grid(True)\n",
    "plt.show()"
   ]
  },
  {
   "cell_type": "markdown",
   "id": "5c1a272b-2ff2-4d57-af85-8d59b09df8f5",
   "metadata": {},
   "source": [
    "### Visualize the new char sized"
   ]
  },
  {
   "cell_type": "code",
   "execution_count": 16,
   "id": "b3994f4e-9b3a-4322-9e98-4d654a7b85fd",
   "metadata": {},
   "outputs": [
    {
     "data": {
      "image/png": "[encoded data removed]",
      "text/plain": [
       "<Figure size 500x400 with 1 Axes>"
      ]
     },
     "metadata": {},
     "output_type": "display_data"
    }
   ],
   "source": [
    "_=plt.figure(figsize=(5, 4))\n",
    "_=sns.histplot(data=chunks['char_count'].to_pandas(), bins=15)\n",
    "_=plt.title('Distribution of sentence length')\n",
    "_=plt.xlabel('Character Count')\n",
    "_=plt.ylabel('Frequency')\n",
    "_=plt.grid(True)\n",
    "plt.show()"
   ]
  },
  {
   "cell_type": "code",
   "execution_count": null,
   "id": "8f01ba2a-effa-4dc8-9e88-ea6bb5b50733",
   "metadata": {},
   "outputs": [],
   "source": []
  }
 ],
 "metadata": {
  "kernelspec": {
   "display_name": "Python 3 (ipykernel)",
   "language": "python",
   "name": "python3"
  },
  "language_info": {
   "codemirror_mode": {
    "name": "ipython",
    "version": 3
   },
   "file_extension": ".py",
   "mimetype": "text/x-python",
   "name": "python",
   "nbconvert_exporter": "python",
   "pygments_lexer": "ipython3",
   "version": "3.10.14"
  }
 },
 "nbformat": 4,
 "nbformat_minor": 5
}
