{
 "cells": [
  {
   "cell_type": "code",
   "execution_count": 1,
   "id": "3d448bfe-19b5-4fdb-86ce-658e94d2049d",
   "metadata": {},
   "outputs": [],
   "source": [
    "# saves you having to use print as all exposed variables are printed in the cell\n",
    "from IPython.core.interactiveshell import InteractiveShell\n",
    "InteractiveShell.ast_node_interactivity = \"all\""
   ]
  },
  {
   "cell_type": "code",
   "execution_count": 2,
   "id": "23954339-a56c-4067-9def-550397dbf8c9",
   "metadata": {},
   "outputs": [],
   "source": [
    "import re\n",
    "import pandas as pd\n",
    "import numpy as np\n",
    "import torch\n",
    "import pyarrow as pa\n",
    "import pyarrow.compute as pc\n",
    "from nn_rag import Knowledge\n",
    "from ds_core.handlers.abstract_handlers import ConnectorContract\n",
    "from tqdm.auto import tqdm\n",
    "from sentence_transformers import SentenceTransformer, util\n"
   ]
  },
  {
   "cell_type": "markdown",
   "id": "3338b3bc-a199-441c-a6be-b2c5585e6a70",
   "metadata": {},
   "source": [
    "---------"
   ]
  },
  {
   "cell_type": "code",
   "execution_count": 3,
   "id": "9650833d-ddee-4f28-a46e-fc4481669a97",
   "metadata": {},
   "outputs": [],
   "source": [
    "kn = Knowledge.from_memory()"
   ]
  },
  {
   "cell_type": "code",
   "execution_count": 13,
   "id": "dbe1b19d-384f-4280-969a-d5581d0cbcdf",
   "metadata": {},
   "outputs": [],
   "source": [
    "text = ['The fox jumps over the lazy dog.','The lazy dog could be ball but anyway']\n",
    "chunk_size = 10\n",
    "text = \" \".join(text)\n",
    "result =[ text[i:i+chunk_size] for i in range(0, len(text), chunk_size) ]"
   ]
  },
  {
   "cell_type": "code",
   "execution_count": 24,
   "id": "a38b2d13-3592-40ca-aba9-eaad5bee24e4",
   "metadata": {},
   "outputs": [
    {
     "data": {
      "text/plain": [
       "[{'text': 'The fox ju'},\n",
       " {'text': 'mps over t'},\n",
       " {'text': 'he lazy do'},\n",
       " {'text': 'g. The laz'},\n",
       " {'text': 'y dog coul'},\n",
       " {'text': 'd be ball '},\n",
       " {'text': 'but anyway'}]"
      ]
     },
     "execution_count": 24,
     "metadata": {},
     "output_type": "execute_result"
    }
   ],
   "source": [
    "[{'text': x} for x in result]\n"
   ]
  },
  {
   "cell_type": "code",
   "execution_count": null,
   "id": "31ccb7af-71d4-4004-ad04-5da7da1658c5",
   "metadata": {},
   "outputs": [],
   "source": []
  }
 ],
 "metadata": {
  "kernelspec": {
   "display_name": "Python 3 (ipykernel)",
   "language": "python",
   "name": "python3"
  },
  "language_info": {
   "codemirror_mode": {
    "name": "ipython",
    "version": 3
   },
   "file_extension": ".py",
   "mimetype": "text/x-python",
   "name": "python",
   "nbconvert_exporter": "python",
   "pygments_lexer": "ipython3",
   "version": "3.10.14"
  }
 },
 "nbformat": 4,
 "nbformat_minor": 5
}
