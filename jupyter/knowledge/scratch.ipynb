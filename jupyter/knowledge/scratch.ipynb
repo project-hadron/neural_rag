{
 "cells": [
  {
   "cell_type": "code",
   "execution_count": 1,
   "id": "3d448bfe-19b5-4fdb-86ce-658e94d2049d",
   "metadata": {},
   "outputs": [],
   "source": [
    "# saves you having to use print as all exposed variables are printed in the cell\n",
    "from IPython.core.interactiveshell import InteractiveShell\n",
    "InteractiveShell.ast_node_interactivity = \"all\""
   ]
  },
  {
   "cell_type": "code",
   "execution_count": 47,
   "id": "23954339-a56c-4067-9def-550397dbf8c9",
   "metadata": {},
   "outputs": [],
   "source": [
    "import re\n",
    "import math\n",
    "import pandas as pd\n",
    "import numpy as np\n",
    "import torch\n",
    "import pyarrow as pa\n",
    "import pyarrow.compute as pc\n",
    "import ast\n",
    "from nn_rag import Knowledge\n",
    "from tqdm.auto import tqdm\n",
    "from sentence_transformers import SentenceTransformer, util\n",
    "from collections import Counter"
   ]
  },
  {
   "cell_type": "code",
   "execution_count": 10,
   "id": "9650833d-ddee-4f28-a46e-fc4481669a97",
   "metadata": {},
   "outputs": [],
   "source": [
    "kn = Knowledge.from_memory()"
   ]
  },
  {
   "cell_type": "code",
   "execution_count": 43,
   "id": "7260193c-468d-4140-8534-9692183a5563",
   "metadata": {},
   "outputs": [],
   "source": [
    "def score(t1, t2):\n",
    "    embedding_model = SentenceTransformer(model_name_or_path='all-mpnet-base-v2')\n",
    "    v1 = embedding_model.encode(t1)\n",
    "    v2 = embedding_model.encode(t2)\n",
    "    return util.dot_score(v1, v2)[0,0].tolist()"
   ]
  },
  {
   "cell_type": "code",
   "execution_count": 44,
   "id": "c7ee6c7a-7c2a-4d33-ba4e-66f0aacf659b",
   "metadata": {},
   "outputs": [
    {
     "data": {
      "text/plain": [
       "0.9069209098815918"
      ]
     },
     "execution_count": 44,
     "metadata": {},
     "output_type": "execute_result"
    }
   ],
   "source": [
    "text1 = \"This is a foo bar sentence .\"\n",
    "text2 = \"This sentence is similar to a foo bar sentence .\"\n",
    "\n",
    "score(text1, text2)"
   ]
  },
  {
   "cell_type": "code",
   "execution_count": 46,
   "id": "6c120df6-f07a-4654-b987-8997829b0963",
   "metadata": {},
   "outputs": [
    {
     "data": {
      "text/plain": [
       "0.4604153633117676"
      ]
     },
     "execution_count": 46,
     "metadata": {},
     "output_type": "execute_result"
    }
   ],
   "source": [
    "text1 = 'You took too long.'\n",
    "text2 = 'You were very slow'\n",
    "\n",
    "score(text1, text2)"
   ]
  },
  {
   "cell_type": "code",
   "execution_count": null,
   "id": "62b6bdba-0c28-4db5-8bec-90c94ceed635",
   "metadata": {},
   "outputs": [],
   "source": []
  }
 ],
 "metadata": {
  "kernelspec": {
   "display_name": "Python 3 (ipykernel)",
   "language": "python",
   "name": "python3"
  },
  "language_info": {
   "codemirror_mode": {
    "name": "ipython",
    "version": 3
   },
   "file_extension": ".py",
   "mimetype": "text/x-python",
   "name": "python",
   "nbconvert_exporter": "python",
   "pygments_lexer": "ipython3",
   "version": "3.10.14"
  }
 },
 "nbformat": 4,
 "nbformat_minor": 5
}
