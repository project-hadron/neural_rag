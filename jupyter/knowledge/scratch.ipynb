{
 "cells": [
  {
   "cell_type": "code",
   "execution_count": null,
   "id": "3d448bfe-19b5-4fdb-86ce-658e94d2049d",
   "metadata": {},
   "outputs": [],
   "source": [
    "# # saves you having to use print as all exposed variables are printed in the cell\n",
    "# from IPython.core.interactiveshell import InteractiveShell\n",
    "# InteractiveShell.ast_node_interactivity = \"all\""
   ]
  },
  {
   "cell_type": "code",
   "execution_count": null,
   "id": "f28fd70e-e671-4615-bce2-3e9fd6fa5958",
   "metadata": {},
   "outputs": [],
   "source": [
    "# suppress warning message\n",
    "# import warnings\n",
    "# warnings.filterwarnings('ignore')"
   ]
  },
  {
   "cell_type": "code",
   "execution_count": 3,
   "id": "23954339-a56c-4067-9def-550397dbf8c9",
   "metadata": {},
   "outputs": [
    {
     "name": "stderr",
     "output_type": "stream",
     "text": [
      "/var/folders/02/938l_81s1b3g_95s09yvbqj00000gq/T/ipykernel_73763/133596935.py:5: TqdmExperimentalWarning: Using `tqdm.autonotebook.tqdm` in notebook mode. Use `tqdm.tqdm` instead to force console mode (e.g. in jupyter console)\n",
      "  from tqdm.autonotebook import tqdm, trange\n"
     ]
    }
   ],
   "source": [
    "import pandas as pd\n",
    "import numpy as np\n",
    "import pyarrow as pa\n",
    "import pyarrow.compute as pc\n",
    "from tqdm.autonotebook import tqdm, trange"
   ]
  },
  {
   "cell_type": "markdown",
   "id": "3338b3bc-a199-441c-a6be-b2c5585e6a70",
   "metadata": {},
   "source": [
    "---------"
   ]
  },
  {
   "cell_type": "code",
   "execution_count": 4,
   "id": "f489c0b2-8b59-41fc-9017-f5bbaf2df4ac",
   "metadata": {},
   "outputs": [
    {
     "name": "stderr",
     "output_type": "stream",
     "text": [
      "2024-07-15 12:25:05.040100: I tensorflow/core/platform/cpu_feature_guard.cc:210] This TensorFlow binary is optimized to use available CPU instructions in performance-critical operations.\n",
      "To enable the following instructions: AVX2 FMA, in other operations, rebuild TensorFlow with the appropriate compiler flags.\n"
     ]
    }
   ],
   "source": [
    "from nn_rag import Knowledge\n",
    "from nn_rag.components.commons import Commons"
   ]
  },
  {
   "cell_type": "code",
   "execution_count": 5,
   "id": "2b5d30a2-176e-4a69-8c07-d4957763326a",
   "metadata": {},
   "outputs": [],
   "source": [
    "# create instance of capability\n",
    "kn = Knowledge.from_memory()"
   ]
  },
  {
   "cell_type": "code",
   "execution_count": 10,
   "id": "b105fd98-94bc-4d99-8646-90c16122ab3a",
   "metadata": {},
   "outputs": [
    {
     "data": {
      "application/vnd.jupyter.widget-view+json": {
       "model_id": "492c8c3e802f43e0a6b9daefdb527256",
       "version_major": 2,
       "version_minor": 0
      },
      "text/plain": [
       "building paragraphs:   0%|          | 0/19 [00:00<?, ?it/s]"
      ]
     },
     "metadata": {},
     "output_type": "display_data"
    },
    {
     "name": "stdout",
     "output_type": "stream",
     "text": [
      "Result ['This is a sentence.', 'This is another sentence!', 'Is this the last?', 'This is another one.']\n"
     ]
    }
   ],
   "source": [
    "from spacy.language import Language\n",
    "import spacy\n",
    "from tqdm.auto import tqdm\n",
    "\n",
    "@Language.component(\"set_custom_boundaries\")\n",
    "def set_custom_boundaries(document):\n",
    "    for token in tqdm(document[:-1], total=len(document)-1, desc='building paragraphs'):\n",
    "        if token in ['.','?','!'] and document[token.i + 1].is_title:\n",
    "            document[token.i + 1].is_sent_start = True\n",
    "        return document\n",
    "\n",
    "nlp = spacy.load(\"en_core_web_sm\")\n",
    "nlp.add_pipe(\"set_custom_boundaries\", before=\"parser\")\n",
    "doc = nlp(\"This is a sentence. This is another sentence! Is this the last? This is another one.\")\n",
    "print(\"Result\", [sent.text for sent in doc.sents])\n"
   ]
  },
  {
   "cell_type": "code",
   "execution_count": null,
   "id": "b735662a-41f4-407a-a8b6-6b2dd73459a3",
   "metadata": {},
   "outputs": [],
   "source": []
  }
 ],
 "metadata": {
  "kernelspec": {
   "display_name": "Python 3 (ipykernel)",
   "language": "python",
   "name": "python3"
  },
  "language_info": {
   "codemirror_mode": {
    "name": "ipython",
    "version": 3
   },
   "file_extension": ".py",
   "mimetype": "text/x-python",
   "name": "python",
   "nbconvert_exporter": "python",
   "pygments_lexer": "ipython3",
   "version": "3.10.14"
  }
 },
 "nbformat": 4,
 "nbformat_minor": 5
}
