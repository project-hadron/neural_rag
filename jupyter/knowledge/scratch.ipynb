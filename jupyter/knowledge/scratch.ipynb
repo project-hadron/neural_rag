{
 "cells": [
  {
   "cell_type": "code",
   "execution_count": 1,
   "id": "3d448bfe-19b5-4fdb-86ce-658e94d2049d",
   "metadata": {},
   "outputs": [],
   "source": [
    "# saves you having to use print as all exposed variables are printed in the cell\n",
    "from IPython.core.interactiveshell import InteractiveShell\n",
    "InteractiveShell.ast_node_interactivity = \"all\""
   ]
  },
  {
   "cell_type": "code",
   "execution_count": 2,
   "id": "f28fd70e-e671-4615-bce2-3e9fd6fa5958",
   "metadata": {},
   "outputs": [],
   "source": [
    "# suppress warning message\n",
    "import warnings\n",
    "warnings.filterwarnings('ignore')"
   ]
  },
  {
   "cell_type": "code",
   "execution_count": 3,
   "id": "23954339-a56c-4067-9def-550397dbf8c9",
   "metadata": {},
   "outputs": [],
   "source": [
    "import pandas as pd\n",
    "import numpy as np\n",
    "import pyarrow as pa\n",
    "import pyarrow.compute as pc"
   ]
  },
  {
   "cell_type": "markdown",
   "id": "3338b3bc-a199-441c-a6be-b2c5585e6a70",
   "metadata": {},
   "source": [
    "---------"
   ]
  },
  {
   "cell_type": "code",
   "execution_count": 4,
   "id": "f489c0b2-8b59-41fc-9017-f5bbaf2df4ac",
   "metadata": {},
   "outputs": [],
   "source": [
    "from nn_rag import Knowledge\n",
    "from nn_rag.components.commons import Commons"
   ]
  },
  {
   "cell_type": "code",
   "execution_count": 12,
   "id": "0852c60b-f235-4c12-94e9-af2aabe50cf8",
   "metadata": {},
   "outputs": [
    {
     "name": "stdout",
     "output_type": "stream",
     "text": [
      "['This is an example', 'of joining strings', 'to a character', 'limit.']\n"
     ]
    }
   ],
   "source": [
    "def join_strings_to_limit(strings, limit):\n",
    "    result = []\n",
    "    current_string = \"\"\n",
    "    \n",
    "    for string in strings:\n",
    "        if len(current_string) + len(string) + (1 if current_string else 0) <= limit:\n",
    "            if current_string:\n",
    "                current_string += \" \"\n",
    "            current_string += string\n",
    "        else:\n",
    "            result.append(current_string)\n",
    "            current_string = string\n",
    "    \n",
    "    if current_string:\n",
    "        result.append(current_string)\n",
    "    \n",
    "    return result\n",
    "\n",
    "# Example usage\n",
    "strings = [\"This\", \"is\", \"an\", \"example\", \"of\", \"joining\", \"strings\", \"to\", \"a\", \"character\", \"limit.\"]\n",
    "limit = 20\n",
    "result = join_strings_to_limit(strings, limit)\n",
    "print(result)"
   ]
  },
  {
   "cell_type": "code",
   "execution_count": 15,
   "id": "76e95c87-828a-4345-ad37-e8b4099c0053",
   "metadata": {},
   "outputs": [
    {
     "name": "stdout",
     "output_type": "stream",
     "text": [
      "['This', 'is an example', 'of joining strings', 'in a', 'list.']\n"
     ]
    }
   ],
   "source": [
    "def join_strings_at_indices(strings, indices):\n",
    "    if not strings or not indices:\n",
    "        return strings\n",
    "    \n",
    "    indices = sorted(indices)\n",
    "    result = []\n",
    "    i = 0\n",
    "    \n",
    "    while i < len(strings):\n",
    "        if i in indices:\n",
    "            joined_string = strings[i]\n",
    "            while i + 1 < len(strings) and i + 1 in indices:\n",
    "                joined_string += \" \" + strings[i + 1]\n",
    "                i += 1\n",
    "            joined_string += \" \" + strings[i + 1] if i + 1 < len(strings) else \"\"\n",
    "            result.append(joined_string)\n",
    "            i += 1\n",
    "        else:\n",
    "            result.append(strings[i])\n",
    "        i += 1\n",
    "    \n",
    "    return result\n",
    "\n",
    "# Example usage\n",
    "strings = [\"This\", \"is\", \"an\", \"example\", \"of\", \"joining\", \"strings\", \"in\", \"a\", \"list.\"]\n",
    "indices = [1, 2, 4, 5, 7]\n",
    "result = join_strings_at_indices(strings, indices)\n",
    "print(result)\n"
   ]
  },
  {
   "cell_type": "code",
   "execution_count": 16,
   "id": "c78b658a-6857-45d8-8092-04227f987d5e",
   "metadata": {},
   "outputs": [
    {
     "name": "stdout",
     "output_type": "stream",
     "text": [
      "Split strings: ['This is a long strin', 'g that needs to be s', 'plit.', 'Short one.', 'Another long string ', 'that will be split.']\n",
      "Original positions: [0, 0, 0, 1, 2, 2]\n",
      "Rejoined strings: ['This is a long string that needs to be split.', 'Short one.', 'Another long string that will be split.']\n"
     ]
    }
   ],
   "source": [
    "def split_elements(strings, limit):\n",
    "    result = []\n",
    "    original_positions = []\n",
    "    \n",
    "    for i, string in enumerate(strings):\n",
    "        if len(string) > limit:\n",
    "            start = 0\n",
    "            while start < len(string):\n",
    "                end = min(start + limit, len(string))\n",
    "                result.append(string[start:end])\n",
    "                original_positions.append(i)\n",
    "                start = end\n",
    "        else:\n",
    "            result.append(string)\n",
    "            original_positions.append(i)\n",
    "    \n",
    "    return result, original_positions\n",
    "\n",
    "def rejoin_elements(split_strings, original_positions):\n",
    "    result = []\n",
    "    current_index = -1\n",
    "    current_string = \"\"\n",
    "    \n",
    "    for i, string in enumerate(split_strings):\n",
    "        if original_positions[i] != current_index:\n",
    "            if current_string:\n",
    "                result.append(current_string)\n",
    "            current_index = original_positions[i]\n",
    "            current_string = string\n",
    "        else:\n",
    "            current_string += string\n",
    "    \n",
    "    if current_string:\n",
    "        result.append(current_string)\n",
    "    \n",
    "    return result\n",
    "\n",
    "# Example usage\n",
    "strings = [\"This is a long string that needs to be split.\", \"Short one.\", \"Another long string that will be split.\"]\n",
    "limit = 20\n",
    "\n",
    "split_strings, original_positions = split_elements(strings, limit)\n",
    "print(\"Split strings:\", split_strings)\n",
    "print(\"Original positions:\", original_positions)\n",
    "\n",
    "# Process the split strings here\n",
    "\n",
    "rejoined_strings = rejoin_elements(split_strings, original_positions)\n",
    "print(\"Rejoined strings:\", rejoined_strings)\n"
   ]
  },
  {
   "cell_type": "code",
   "execution_count": 17,
   "id": "788ddf46-a1d1-412b-9d36-51f3e585e4a9",
   "metadata": {},
   "outputs": [
    {
     "name": "stdout",
     "output_type": "stream",
     "text": [
      "This is a \n",
      "is a long strin\n",
      "string that we \n",
      "t we want to sp\n",
      "to split into c\n",
      "nto chunks of a\n",
      " of a specified\n",
      "ified length.\n",
      "----------------------------------------\n",
      "Another lo\n",
      "er long string \n",
      "ring that needs\n",
      "needs to be spl\n",
      "e split and inc\n",
      "d include overl\n",
      "overlapping cha\n",
      "g characters.\n",
      "----------------------------------------\n"
     ]
    }
   ],
   "source": [
    "def split_with_overlap(long_string, chunk_length, overlap_length):\n",
    "    # Check for invalid input\n",
    "    if chunk_length <= 0 or overlap_length < 0:\n",
    "        raise ValueError(\"Chunk length must be positive and overlap length must be non-negative\")\n",
    "\n",
    "    result = []\n",
    "    start = 0\n",
    "    while start < len(long_string):\n",
    "        end = start + chunk_length\n",
    "        chunk = long_string[max(0, start - overlap_length):end]\n",
    "        result.append(chunk)\n",
    "        start += chunk_length\n",
    "\n",
    "    return result\n",
    "\n",
    "# Example usage\n",
    "long_strings = [\n",
    "    \"This is a long string that we want to split into chunks of a specified length.\",\n",
    "    \"Another long string that needs to be split and include overlapping characters.\"\n",
    "]\n",
    "\n",
    "chunk_length = 10\n",
    "overlap_length = 5\n",
    "\n",
    "for long_string in long_strings:\n",
    "    chunks = split_with_overlap(long_string, chunk_length, overlap_length)\n",
    "    for chunk in chunks:\n",
    "        print(chunk)\n",
    "    print(\"-\" * 40)\n"
   ]
  },
  {
   "cell_type": "code",
   "execution_count": null,
   "id": "abf816ac-7fca-421c-9057-7cb75a7d74b4",
   "metadata": {},
   "outputs": [],
   "source": []
  }
 ],
 "metadata": {
  "kernelspec": {
   "display_name": "Python 3 (ipykernel)",
   "language": "python",
   "name": "python3"
  },
  "language_info": {
   "codemirror_mode": {
    "name": "ipython",
    "version": 3
   },
   "file_extension": ".py",
   "mimetype": "text/x-python",
   "name": "python",
   "nbconvert_exporter": "python",
   "pygments_lexer": "ipython3",
   "version": "3.10.14"
  }
 },
 "nbformat": 4,
 "nbformat_minor": 5
}
