{
 "cells": [
  {
   "cell_type": "code",
   "execution_count": 13,
   "id": "3d448bfe-19b5-4fdb-86ce-658e94d2049d",
   "metadata": {},
   "outputs": [],
   "source": [
    "# saves you having to use print as all exposed variables are printed in the cell\n",
    "from IPython.core.interactiveshell import InteractiveShell\n",
    "InteractiveShell.ast_node_interactivity = \"all\""
   ]
  },
  {
   "cell_type": "code",
   "execution_count": 14,
   "id": "23954339-a56c-4067-9def-550397dbf8c9",
   "metadata": {},
   "outputs": [],
   "source": [
    "import re\n",
    "import pandas as pd\n",
    "import numpy as np\n",
    "import torch\n",
    "import pyarrow as pa\n",
    "import pyarrow.compute as pc\n",
    "from nn_rag import Knowledge\n",
    "from ds_core.handlers.abstract_handlers import ConnectorContract\n",
    "from tqdm.auto import tqdm\n",
    "from sentence_transformers import SentenceTransformer, util\n"
   ]
  },
  {
   "cell_type": "code",
   "execution_count": 15,
   "id": "9650833d-ddee-4f28-a46e-fc4481669a97",
   "metadata": {},
   "outputs": [],
   "source": [
    "kn = Knowledge.from_memory()"
   ]
  },
  {
   "cell_type": "code",
   "execution_count": 5,
   "id": "d1ea077e-8664-4142-ac4e-8a0a512d4244",
   "metadata": {},
   "outputs": [],
   "source": [
    "text = ('You took too long. You are not easy to deal with. Payment Failure/Incorrect Payment. You provided '\n",
    "        'me with incorrect information. Unhappy with delay. Unsuitable advice. You never answered my question. '\n",
    "        'You did not understand my needs. I have been mis-sold. My details are not accurate. You have asked ')"
   ]
  },
  {
   "cell_type": "markdown",
   "id": "d9df0698-19a7-450b-88af-f59498480619",
   "metadata": {},
   "source": [
    "## Milvus"
   ]
  },
  {
   "cell_type": "code",
   "execution_count": null,
   "id": "d5e712fd-fcf7-45ff-976a-07ac292ed49d",
   "metadata": {},
   "outputs": [],
   "source": [
    "from pymilvus import connections, db\n",
    "from pymilvus import CollectionSchema, FieldSchema, DataType"
   ]
  },
  {
   "cell_type": "code",
   "execution_count": 9,
   "id": "ff575822-7b7e-4878-9d25-381e75281b39",
   "metadata": {},
   "outputs": [
    {
     "name": "stdout",
     "output_type": "stream",
     "text": [
      "database list ['default', 'shorts']\n"
     ]
    }
   ],
   "source": [
    "conn = connections.connect(host=\"127.0.0.1\", port=19530)\n",
    "print(f\"database list {db.list_database()}\")\n",
    "if \"scratchpad\" in db.list_database():\n",
    "    db.drop_database(\"scratchpad\")\n",
    "database = db.create_database(\"scratchpad\")"
   ]
  },
  {
   "cell_type": "code",
   "execution_count": null,
   "id": "4d665963-1b81-4773-8d7e-9bb72e6815c6",
   "metadata": {},
   "outputs": [],
   "source": [
    "id = FieldSchema(name=\"id\", dtype=DataType.INT64, is_primary=True,)\n",
    "sentence_chunk = FieldSchema(name=\"sentence\", dtype=DataType.VARCHAR, max_length=200, default_value=\"Unknown\")\n",
    "embedding = FieldSchema(name=\"embedding\", dtype=DataType.FLOAT_VECTOR, dim=768)\n",
    "\n",
    "schema = CollectionSchema(fields=[id, sentence_chunk, embedding], description=\"Test book search\",)\n",
    "collection_name = \"shorts\""
   ]
  }
 ],
 "metadata": {
  "kernelspec": {
   "display_name": "Python 3 (ipykernel)",
   "language": "python",
   "name": "python3"
  },
  "language_info": {
   "codemirror_mode": {
    "name": "ipython",
    "version": 3
   },
   "file_extension": ".py",
   "mimetype": "text/x-python",
   "name": "python",
   "nbconvert_exporter": "python",
   "pygments_lexer": "ipython3",
   "version": "3.10.14"
  }
 },
 "nbformat": 4,
 "nbformat_minor": 5
}
