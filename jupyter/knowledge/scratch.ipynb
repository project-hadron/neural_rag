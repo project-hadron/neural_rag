{
 "cells": [
  {
   "cell_type": "code",
   "execution_count": 1,
   "id": "3d448bfe-19b5-4fdb-86ce-658e94d2049d",
   "metadata": {},
   "outputs": [],
   "source": [
    "# saves you having to use print as all exposed variables are printed in the cell\n",
    "from IPython.core.interactiveshell import InteractiveShell\n",
    "InteractiveShell.ast_node_interactivity = \"all\""
   ]
  },
  {
   "cell_type": "code",
   "execution_count": 2,
   "id": "f28fd70e-e671-4615-bce2-3e9fd6fa5958",
   "metadata": {},
   "outputs": [],
   "source": [
    "# suppress warning message\n",
    "# import warnings\n",
    "# warnings.filterwarnings('ignore')"
   ]
  },
  {
   "cell_type": "code",
   "execution_count": 3,
   "id": "23954339-a56c-4067-9def-550397dbf8c9",
   "metadata": {},
   "outputs": [],
   "source": [
    "import pandas as pd\n",
    "import numpy as np\n",
    "import torch\n",
    "import pyarrow as pa\n",
    "import pyarrow.compute as pc"
   ]
  },
  {
   "cell_type": "markdown",
   "id": "3338b3bc-a199-441c-a6be-b2c5585e6a70",
   "metadata": {},
   "source": [
    "---------"
   ]
  },
  {
   "cell_type": "code",
   "execution_count": 4,
   "id": "f489c0b2-8b59-41fc-9017-f5bbaf2df4ac",
   "metadata": {},
   "outputs": [],
   "source": [
    "from nn_rag import Knowledge\n",
    "from nn_rag.components.commons import Commons"
   ]
  },
  {
   "cell_type": "code",
   "execution_count": 5,
   "id": "2b5d30a2-176e-4a69-8c07-d4957763326a",
   "metadata": {},
   "outputs": [],
   "source": [
    "# create instance of capability\n",
    "kn = Knowledge.from_memory()"
   ]
  },
  {
   "cell_type": "code",
   "execution_count": 6,
   "id": "69da3e9d-c48d-4fc9-ab52-39ac982cdf1a",
   "metadata": {},
   "outputs": [],
   "source": [
    "tbl = kn.set_source_uri('hadron/source/Global-Index-1st-Edition-Report.pdf').load_source_canonical()"
   ]
  },
  {
   "cell_type": "code",
   "execution_count": 27,
   "id": "1aac0434-a9ca-4875-8ef6-cc1d525a5ae3",
   "metadata": {},
   "outputs": [],
   "source": [
    "doc = pymupdf.open('hadron/source/Global-Index-1st-Edition-Report.pdf')"
   ]
  },
  {
   "cell_type": "code",
   "execution_count": 37,
   "id": "594556da-3ef6-4d1c-b228-2ab11ee36bb1",
   "metadata": {},
   "outputs": [
    {
     "name": "stdout",
     "output_type": "stream",
     "text": [
      "[None, 'OUNTRY REG', 'ION', 'INDEX\\nSCORE', 'pillar score', None, None, None, None]\n",
      "[None, (115.40550102377837, 208.0, 207.25309368896484, 251.4), (207.25309368896484, 208.0, 245.03703703703704, 251.4), (245.03703703703704, 208.0, 286.3909090909091, 251.4), (286.3909090909091, 208.0, 412.04464285714283, 227.8041194209346), None, None, None, None]\n"
     ]
    }
   ],
   "source": [
    "for page in doc:\n",
    "    tabs = page.find_tables()\n",
    "    if tabs.tables:\n",
    "        for t in tabs:\n",
    "            print(t.extract())\n",
    "            print(t.header.cells)\n",
    "            \n",
    "        break\n"
   ]
  },
  {
   "cell_type": "code",
   "execution_count": null,
   "id": "4e44a29a-b063-42e3-9286-3dfd1f9c7c3e",
   "metadata": {},
   "outputs": [],
   "source": []
  }
 ],
 "metadata": {
  "kernelspec": {
   "display_name": "Python 3 (ipykernel)",
   "language": "python",
   "name": "python3"
  },
  "language_info": {
   "codemirror_mode": {
    "name": "ipython",
    "version": 3
   },
   "file_extension": ".py",
   "mimetype": "text/x-python",
   "name": "python",
   "nbconvert_exporter": "python",
   "pygments_lexer": "ipython3",
   "version": "3.10.14"
  }
 },
 "nbformat": 4,
 "nbformat_minor": 5
}
