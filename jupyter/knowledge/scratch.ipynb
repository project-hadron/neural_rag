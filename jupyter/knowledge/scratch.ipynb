{
 "cells": [
  {
   "cell_type": "code",
   "execution_count": 1,
   "id": "3d448bfe-19b5-4fdb-86ce-658e94d2049d",
   "metadata": {},
   "outputs": [],
   "source": [
    "# saves you having to use print as all exposed variables are printed in the cell\n",
    "from IPython.core.interactiveshell import InteractiveShell\n",
    "InteractiveShell.ast_node_interactivity = \"all\""
   ]
  },
  {
   "cell_type": "code",
   "execution_count": 2,
   "id": "23954339-a56c-4067-9def-550397dbf8c9",
   "metadata": {},
   "outputs": [],
   "source": [
    "import re\n",
    "import pandas as pd\n",
    "import numpy as np\n",
    "import torch\n",
    "import pyarrow as pa\n",
    "import pyarrow.compute as pc\n",
    "from nn_rag import Knowledge\n",
    "from ds_core.handlers.abstract_handlers import ConnectorContract\n",
    "from tqdm.auto import tqdm\n",
    "from sentence_transformers import SentenceTransformer, util\n"
   ]
  },
  {
   "cell_type": "markdown",
   "id": "3338b3bc-a199-441c-a6be-b2c5585e6a70",
   "metadata": {},
   "source": [
    "---------"
   ]
  },
  {
   "cell_type": "code",
   "execution_count": 3,
   "id": "9650833d-ddee-4f28-a46e-fc4481669a97",
   "metadata": {},
   "outputs": [],
   "source": [
    "from spacy.lang.en import English"
   ]
  },
  {
   "cell_type": "code",
   "execution_count": 5,
   "id": "dbe1b19d-384f-4280-969a-d5581d0cbcdf",
   "metadata": {},
   "outputs": [],
   "source": [
    "text = \"\"\"The familiar Poem\n",
    "\n",
    "The fox jumps over the lazy dog.The lazy dog could be ball but anyway.\n",
    "It had been a wild party.\n",
    "\n",
    "The End\"\"\""
   ]
  },
  {
   "cell_type": "code",
   "execution_count": 4,
   "id": "88c8b756-2c04-4ba4-8d8b-6327c58942f2",
   "metadata": {},
   "outputs": [],
   "source": [
    "def paragraphs(document):\n",
    "    start = 0\n",
    "    for token in document:\n",
    "        if token.is_space and token.text.count(\"\\n\") > 1:\n",
    "            yield document[start:token.i]\n",
    "            start = token.i\n",
    "    yield document[start:]"
   ]
  },
  {
   "cell_type": "code",
   "execution_count": 6,
   "id": "31ccb7af-71d4-4004-ad04-5da7da1658c5",
   "metadata": {},
   "outputs": [],
   "source": [
    "nlp = English()\n",
    "doc = nlp(text)"
   ]
  },
  {
   "cell_type": "code",
   "execution_count": 11,
   "id": "ae844d6a-feee-4260-9273-0a5d485fc645",
   "metadata": {},
   "outputs": [
    {
     "name": "stdout",
     "output_type": "stream",
     "text": [
      "para - The familiar Poem\n",
      "para - The fox jumps over the lazy dog.The lazy dog could be ball but anyway. It had been a wild party.\n",
      "para - The End\n"
     ]
    }
   ],
   "source": [
    "for p in paragraphs(doc):\n",
    "    p = str(p).replace(\"\\n\", \" \").strip()\n",
    "    print(f'para - {p}')"
   ]
  },
  {
   "cell_type": "code",
   "execution_count": null,
   "id": "f489c0b2-8b59-41fc-9017-f5bbaf2df4ac",
   "metadata": {},
   "outputs": [],
   "source": []
  }
 ],
 "metadata": {
  "kernelspec": {
   "display_name": "Python 3 (ipykernel)",
   "language": "python",
   "name": "python3"
  },
  "language_info": {
   "codemirror_mode": {
    "name": "ipython",
    "version": 3
   },
   "file_extension": ".py",
   "mimetype": "text/x-python",
   "name": "python",
   "nbconvert_exporter": "python",
   "pygments_lexer": "ipython3",
   "version": "3.10.14"
  }
 },
 "nbformat": 4,
 "nbformat_minor": 5
}
