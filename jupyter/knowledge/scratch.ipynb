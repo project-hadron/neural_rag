{
 "cells": [
  {
   "cell_type": "code",
   "execution_count": 1,
   "id": "3d448bfe-19b5-4fdb-86ce-658e94d2049d",
   "metadata": {},
   "outputs": [],
   "source": [
    "# saves you having to use print as all exposed variables are printed in the cell\n",
    "from IPython.core.interactiveshell import InteractiveShell\n",
    "InteractiveShell.ast_node_interactivity = \"all\""
   ]
  },
  {
   "cell_type": "code",
   "execution_count": 2,
   "id": "f28fd70e-e671-4615-bce2-3e9fd6fa5958",
   "metadata": {},
   "outputs": [],
   "source": [
    "# suppress warning message\n",
    "# import warnings\n",
    "# warnings.filterwarnings('ignore')"
   ]
  },
  {
   "cell_type": "code",
   "execution_count": 3,
   "id": "23954339-a56c-4067-9def-550397dbf8c9",
   "metadata": {},
   "outputs": [],
   "source": [
    "import pandas as pd\n",
    "import numpy as np\n",
    "import torch\n",
    "import pyarrow as pa\n",
    "import pyarrow.compute as pc"
   ]
  },
  {
   "cell_type": "markdown",
   "id": "3338b3bc-a199-441c-a6be-b2c5585e6a70",
   "metadata": {},
   "source": [
    "---------"
   ]
  },
  {
   "cell_type": "code",
   "execution_count": 4,
   "id": "f489c0b2-8b59-41fc-9017-f5bbaf2df4ac",
   "metadata": {},
   "outputs": [],
   "source": [
    "from nn_rag import Knowledge\n",
    "from nn_rag.components.commons import Commons"
   ]
  },
  {
   "cell_type": "code",
   "execution_count": 5,
   "id": "2b5d30a2-176e-4a69-8c07-d4957763326a",
   "metadata": {},
   "outputs": [],
   "source": [
    "# create instance of capability\n",
    "kn = Knowledge.from_memory()"
   ]
  },
  {
   "cell_type": "code",
   "execution_count": 8,
   "id": "4e44a29a-b063-42e3-9286-3dfd1f9c7c3e",
   "metadata": {},
   "outputs": [
    {
     "data": {
      "text/html": [
       "<style type=\"text/css\">\n",
       "#T_406fd th {\n",
       "  font-size: 120%;\n",
       "  text-align: center;\n",
       "}\n",
       "#T_406fd .row_heading {\n",
       "  display: none;;\n",
       "}\n",
       "#T_406fd  .blank {\n",
       "  display: none;;\n",
       "}\n",
       "#T_406fd_row0_col0, #T_406fd_row0_col1, #T_406fd_row0_col2, #T_406fd_row0_col3, #T_406fd_row0_col4, #T_406fd_row0_col5, #T_406fd_row0_col6, #T_406fd_row1_col0, #T_406fd_row1_col1, #T_406fd_row1_col2, #T_406fd_row1_col3, #T_406fd_row1_col4, #T_406fd_row1_col5, #T_406fd_row1_col6, #T_406fd_row2_col0, #T_406fd_row2_col1, #T_406fd_row2_col2, #T_406fd_row2_col3, #T_406fd_row2_col4, #T_406fd_row2_col5, #T_406fd_row2_col6, #T_406fd_row3_col0, #T_406fd_row3_col1, #T_406fd_row3_col2, #T_406fd_row3_col3, #T_406fd_row3_col4, #T_406fd_row3_col5, #T_406fd_row3_col6, #T_406fd_row4_col0, #T_406fd_row4_col1, #T_406fd_row4_col2, #T_406fd_row4_col3, #T_406fd_row4_col4, #T_406fd_row4_col5, #T_406fd_row4_col6, #T_406fd_row5_col0, #T_406fd_row5_col1, #T_406fd_row5_col2, #T_406fd_row5_col3, #T_406fd_row5_col4, #T_406fd_row5_col5, #T_406fd_row5_col6 {\n",
       "  text-align: left;\n",
       "}\n",
       "</style>\n",
       "<table id=\"T_406fd\">\n",
       "  <thead>\n",
       "    <tr>\n",
       "      <th class=\"blank level0\" >&nbsp;</th>\n",
       "      <th id=\"T_406fd_level0_col0\" class=\"col_heading level0 col0\" >paragraph_word_count</th>\n",
       "      <th id=\"T_406fd_level0_col1\" class=\"col_heading level0 col1\" >paragraph_words</th>\n",
       "      <th id=\"T_406fd_level0_col2\" class=\"col_heading level0 col2\" >index</th>\n",
       "      <th id=\"T_406fd_level0_col3\" class=\"col_heading level0 col3\" >paragraph_score</th>\n",
       "      <th id=\"T_406fd_level0_col4\" class=\"col_heading level0 col4\" >paragraph_token_count</th>\n",
       "      <th id=\"T_406fd_level0_col5\" class=\"col_heading level0 col5\" >paragraph_char_count</th>\n",
       "      <th id=\"T_406fd_level0_col6\" class=\"col_heading level0 col6\" >paragraph_sentence_count</th>\n",
       "    </tr>\n",
       "  </thead>\n",
       "  <tbody>\n",
       "    <tr>\n",
       "      <th id=\"T_406fd_level0_row0\" class=\"row_heading level0 row0\" >0</th>\n",
       "      <td id=\"T_406fd_row0_col0\" class=\"data row0 col0\" >11</td>\n",
       "      <td id=\"T_406fd_row0_col1\" class=\"data row0 col1\" >[]</td>\n",
       "      <td id=\"T_406fd_row0_col2\" class=\"data row0 col2\" >0</td>\n",
       "      <td id=\"T_406fd_row0_col3\" class=\"data row0 col3\" >0</td>\n",
       "      <td id=\"T_406fd_row0_col4\" class=\"data row0 col4\" >12</td>\n",
       "      <td id=\"T_406fd_row0_col5\" class=\"data row0 col5\" >49</td>\n",
       "      <td id=\"T_406fd_row0_col6\" class=\"data row0 col6\" >2</td>\n",
       "    </tr>\n",
       "    <tr>\n",
       "      <th id=\"T_406fd_level0_row1\" class=\"row_heading level0 row1\" >1</th>\n",
       "      <td id=\"T_406fd_row1_col0\" class=\"data row1 col0\" >3</td>\n",
       "      <td id=\"T_406fd_row1_col1\" class=\"data row1 col1\" >[]</td>\n",
       "      <td id=\"T_406fd_row1_col2\" class=\"data row1 col2\" >1</td>\n",
       "      <td id=\"T_406fd_row1_col3\" class=\"data row1 col3\" >0</td>\n",
       "      <td id=\"T_406fd_row1_col4\" class=\"data row1 col4\" >8</td>\n",
       "      <td id=\"T_406fd_row1_col5\" class=\"data row1 col5\" >34</td>\n",
       "      <td id=\"T_406fd_row1_col6\" class=\"data row1 col6\" >1</td>\n",
       "    </tr>\n",
       "    <tr>\n",
       "      <th id=\"T_406fd_level0_row2\" class=\"row_heading level0 row2\" >2</th>\n",
       "      <td id=\"T_406fd_row2_col0\" class=\"data row2 col0\" >9</td>\n",
       "      <td id=\"T_406fd_row2_col1\" class=\"data row2 col1\" >[]</td>\n",
       "      <td id=\"T_406fd_row2_col2\" class=\"data row2 col2\" >2</td>\n",
       "      <td id=\"T_406fd_row2_col3\" class=\"data row2 col3\" >0</td>\n",
       "      <td id=\"T_406fd_row2_col4\" class=\"data row2 col4\" >16</td>\n",
       "      <td id=\"T_406fd_row2_col5\" class=\"data row2 col5\" >63</td>\n",
       "      <td id=\"T_406fd_row2_col6\" class=\"data row2 col6\" >2</td>\n",
       "    </tr>\n",
       "    <tr>\n",
       "      <th id=\"T_406fd_level0_row3\" class=\"row_heading level0 row3\" >3</th>\n",
       "      <td id=\"T_406fd_row3_col0\" class=\"data row3 col0\" >7</td>\n",
       "      <td id=\"T_406fd_row3_col1\" class=\"data row3 col1\" >[]</td>\n",
       "      <td id=\"T_406fd_row3_col2\" class=\"data row3 col2\" >3</td>\n",
       "      <td id=\"T_406fd_row3_col3\" class=\"data row3 col3\" >0</td>\n",
       "      <td id=\"T_406fd_row3_col4\" class=\"data row3 col4\" >12</td>\n",
       "      <td id=\"T_406fd_row3_col5\" class=\"data row3 col5\" >50</td>\n",
       "      <td id=\"T_406fd_row3_col6\" class=\"data row3 col6\" >2</td>\n",
       "    </tr>\n",
       "    <tr>\n",
       "      <th id=\"T_406fd_level0_row4\" class=\"row_heading level0 row4\" >4</th>\n",
       "      <td id=\"T_406fd_row4_col0\" class=\"data row4 col0\" >6</td>\n",
       "      <td id=\"T_406fd_row4_col1\" class=\"data row4 col1\" >[]</td>\n",
       "      <td id=\"T_406fd_row4_col2\" class=\"data row4 col2\" >4</td>\n",
       "      <td id=\"T_406fd_row4_col3\" class=\"data row4 col3\" >0</td>\n",
       "      <td id=\"T_406fd_row4_col4\" class=\"data row4 col4\" >8</td>\n",
       "      <td id=\"T_406fd_row4_col5\" class=\"data row4 col5\" >32</td>\n",
       "      <td id=\"T_406fd_row4_col6\" class=\"data row4 col6\" >1</td>\n",
       "    </tr>\n",
       "    <tr>\n",
       "      <th id=\"T_406fd_level0_row5\" class=\"row_heading level0 row5\" >5</th>\n",
       "      <td id=\"T_406fd_row5_col0\" class=\"data row5 col0\" >9</td>\n",
       "      <td id=\"T_406fd_row5_col1\" class=\"data row5 col1\" >[]</td>\n",
       "      <td id=\"T_406fd_row5_col2\" class=\"data row5 col2\" >5</td>\n",
       "      <td id=\"T_406fd_row5_col3\" class=\"data row5 col3\" >0</td>\n",
       "      <td id=\"T_406fd_row5_col4\" class=\"data row5 col4\" >12</td>\n",
       "      <td id=\"T_406fd_row5_col5\" class=\"data row5 col5\" >50</td>\n",
       "      <td id=\"T_406fd_row5_col6\" class=\"data row5 col6\" >2</td>\n",
       "    </tr>\n",
       "  </tbody>\n",
       "</table>\n"
      ],
      "text/plain": [
       "<pandas.io.formats.style.Styler at 0x7fd32d92e0b0>"
      ]
     },
     "execution_count": 8,
     "metadata": {},
     "output_type": "execute_result"
    }
   ],
   "source": [
    "text = ('You took too long. You are not easy to deal with.\\n\\nPayment Failure/Incorrect Payment.\\n\\nYou provided '\n",
    "        'me with incorrect information. Unhappy with delay.\\n\\nUnsuitable advice. You never answered my question.\\n\\n'\n",
    "        'You did not understand my needs.\\n\\nI have been mis-sold. My details are not accurate.')\n",
    "arr = pa.array([text], pa.string())\n",
    "tbl = pa.table([arr], names=['text'])\n",
    "p = kn.tools.text_to_paragraphs(tbl, has_stats=False)\n",
    "kn.table_report(p, headers='text', drop=True)"
   ]
  },
  {
   "cell_type": "code",
   "execution_count": 49,
   "id": "682fdbd7-e8e7-4043-ad30-496c31026a30",
   "metadata": {},
   "outputs": [
    {
     "data": {
      "text/html": [
       "<div>\n",
       "<style scoped>\n",
       "    .dataframe tbody tr th:only-of-type {\n",
       "        vertical-align: middle;\n",
       "    }\n",
       "\n",
       "    .dataframe tbody tr th {\n",
       "        vertical-align: top;\n",
       "    }\n",
       "\n",
       "    .dataframe thead th {\n",
       "        text-align: right;\n",
       "    }\n",
       "</style>\n",
       "<table border=\"1\" class=\"dataframe\">\n",
       "  <thead>\n",
       "    <tr style=\"text-align: right;\">\n",
       "      <th></th>\n",
       "      <th>index</th>\n",
       "      <th>paragraph_char_count</th>\n",
       "      <th>paragraph_word_count</th>\n",
       "      <th>paragraph_sentence_count</th>\n",
       "      <th>paragraph_token_count</th>\n",
       "      <th>paragraph_score</th>\n",
       "      <th>paragraph_words</th>\n",
       "      <th>text</th>\n",
       "    </tr>\n",
       "  </thead>\n",
       "  <tbody>\n",
       "    <tr>\n",
       "      <th>0</th>\n",
       "      <td>0</td>\n",
       "      <td>49</td>\n",
       "      <td>11</td>\n",
       "      <td>2</td>\n",
       "      <td>12</td>\n",
       "      <td>0</td>\n",
       "      <td>[]</td>\n",
       "      <td>You took too long. You are not easy to deal with.</td>\n",
       "    </tr>\n",
       "    <tr>\n",
       "      <th>1</th>\n",
       "      <td>1</td>\n",
       "      <td>34</td>\n",
       "      <td>3</td>\n",
       "      <td>1</td>\n",
       "      <td>8</td>\n",
       "      <td>0</td>\n",
       "      <td>[]</td>\n",
       "      <td>Payment Failure/Incorrect Payment.</td>\n",
       "    </tr>\n",
       "    <tr>\n",
       "      <th>2</th>\n",
       "      <td>2</td>\n",
       "      <td>63</td>\n",
       "      <td>9</td>\n",
       "      <td>2</td>\n",
       "      <td>16</td>\n",
       "      <td>0</td>\n",
       "      <td>[]</td>\n",
       "      <td>You provided me with incorrect information. Unhappy with delay.</td>\n",
       "    </tr>\n",
       "    <tr>\n",
       "      <th>3</th>\n",
       "      <td>2</td>\n",
       "      <td>50</td>\n",
       "      <td>7</td>\n",
       "      <td>2</td>\n",
       "      <td>12</td>\n",
       "      <td>0</td>\n",
       "      <td>[]</td>\n",
       "      <td>Unsuitable advice. You never answered my question.</td>\n",
       "    </tr>\n",
       "    <tr>\n",
       "      <th>4</th>\n",
       "      <td>2</td>\n",
       "      <td>32</td>\n",
       "      <td>6</td>\n",
       "      <td>1</td>\n",
       "      <td>8</td>\n",
       "      <td>0</td>\n",
       "      <td>[]</td>\n",
       "      <td>You did not understand my needs.</td>\n",
       "    </tr>\n",
       "    <tr>\n",
       "      <th>5</th>\n",
       "      <td>5</td>\n",
       "      <td>50</td>\n",
       "      <td>9</td>\n",
       "      <td>2</td>\n",
       "      <td>12</td>\n",
       "      <td>0</td>\n",
       "      <td>[]</td>\n",
       "      <td>I have been mis-sold. My details are not accurate.</td>\n",
       "    </tr>\n",
       "  </tbody>\n",
       "</table>\n",
       "</div>"
      ],
      "text/plain": [
       "   index  paragraph_char_count  paragraph_word_count   \n",
       "0      0                    49                    11  \\\n",
       "1      1                    34                     3   \n",
       "2      2                    63                     9   \n",
       "3      2                    50                     7   \n",
       "4      2                    32                     6   \n",
       "5      5                    50                     9   \n",
       "\n",
       "   paragraph_sentence_count  paragraph_token_count  paragraph_score   \n",
       "0                         2                     12                0  \\\n",
       "1                         1                      8                0   \n",
       "2                         2                     16                0   \n",
       "3                         2                     12                0   \n",
       "4                         1                      8                0   \n",
       "5                         2                     12                0   \n",
       "\n",
       "  paragraph_words   \n",
       "0              []  \\\n",
       "1              []   \n",
       "2              []   \n",
       "3              []   \n",
       "4              []   \n",
       "5              []   \n",
       "\n",
       "                                                              text  \n",
       "0                You took too long. You are not easy to deal with.  \n",
       "1                               Payment Failure/Incorrect Payment.  \n",
       "2  You provided me with incorrect information. Unhappy with delay.  \n",
       "3               Unsuitable advice. You never answered my question.  \n",
       "4                                 You did not understand my needs.  \n",
       "5               I have been mis-sold. My details are not accurate.  "
      ]
     },
     "execution_count": 49,
     "metadata": {},
     "output_type": "execute_result"
    }
   ],
   "source": [
    "indices = [2,3]\n",
    "\n",
    "df = p.to_pandas()\n",
    "for idx in range(1, df.shape[0]):\n",
    "    if idx-1 in indices:\n",
    "        df.loc[idx,'index'] = df.loc[idx-1,'index']\n",
    "df"
   ]
  },
  {
   "cell_type": "code",
   "execution_count": 37,
   "id": "0014f917-461c-4c5b-ba5c-f584f78ea138",
   "metadata": {},
   "outputs": [
    {
     "ename": "AttributeError",
     "evalue": "'dict' object has no attribute 'index'",
     "output_type": "error",
     "traceback": [
      "\u001b[0;31m---------------------------------------------------------------------------\u001b[0m",
      "\u001b[0;31mAttributeError\u001b[0m                            Traceback (most recent call last)",
      "Cell \u001b[0;32mIn[37], line 3\u001b[0m\n\u001b[1;32m      1\u001b[0m pl \u001b[38;5;241m=\u001b[39m p\u001b[38;5;241m.\u001b[39mto_pylist()\n\u001b[1;32m      2\u001b[0m \u001b[38;5;28;01mfor\u001b[39;00m idx \u001b[38;5;129;01min\u001b[39;00m \u001b[38;5;28mrange\u001b[39m(\u001b[38;5;241m1\u001b[39m, \u001b[38;5;28mlen\u001b[39m(pl)):\n\u001b[0;32m----> 3\u001b[0m     \u001b[38;5;28;01mif\u001b[39;00m \u001b[43mpl\u001b[49m\u001b[43m[\u001b[49m\u001b[43midx\u001b[49m\u001b[43m]\u001b[49m\u001b[38;5;241;43m.\u001b[39;49m\u001b[43mindex\u001b[49m \u001b[38;5;241m==\u001b[39m \u001b[38;5;241m2\u001b[39m \u001b[38;5;241m+\u001b[39m\u001b[38;5;241m1\u001b[39m:\n\u001b[1;32m      4\u001b[0m         pl[idx][\u001b[38;5;124m'\u001b[39m\u001b[38;5;124mindex\u001b[39m\u001b[38;5;124m'\u001b[39m] \u001b[38;5;241m=\u001b[39m \u001b[38;5;241m2\u001b[39m\n",
      "\u001b[0;31mAttributeError\u001b[0m: 'dict' object has no attribute 'index'"
     ]
    }
   ],
   "source": []
  },
  {
   "cell_type": "code",
   "execution_count": 35,
   "id": "205695f6-5685-45e3-afb2-56bf87721535",
   "metadata": {},
   "outputs": [],
   "source": [
    "# df = pd.DataFrame(pl)\n",
    "# df.groupby('index').sum()"
   ]
  },
  {
   "cell_type": "code",
   "execution_count": 36,
   "id": "f8f7e34c-a857-4088-a00d-7fc2c0678d3e",
   "metadata": {},
   "outputs": [
    {
     "data": {
      "text/plain": [
       "[0, 1, 2, 3, 4, 5, 6, 7, 8, 9]"
      ]
     },
     "execution_count": 36,
     "metadata": {},
     "output_type": "execute_result"
    }
   ],
   "source": [
    "list(range(10))"
   ]
  },
  {
   "cell_type": "code",
   "execution_count": null,
   "id": "cfdec594-c999-47eb-bdb7-d33f9ccefb05",
   "metadata": {},
   "outputs": [],
   "source": []
  }
 ],
 "metadata": {
  "kernelspec": {
   "display_name": "Python 3 (ipykernel)",
   "language": "python",
   "name": "python3"
  },
  "language_info": {
   "codemirror_mode": {
    "name": "ipython",
    "version": 3
   },
   "file_extension": ".py",
   "mimetype": "text/x-python",
   "name": "python",
   "nbconvert_exporter": "python",
   "pygments_lexer": "ipython3",
   "version": "3.10.14"
  }
 },
 "nbformat": 4,
 "nbformat_minor": 5
}
