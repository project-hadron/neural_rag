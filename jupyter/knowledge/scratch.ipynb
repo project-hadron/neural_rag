{
 "cells": [
  {
   "cell_type": "code",
   "execution_count": 1,
   "id": "3d448bfe-19b5-4fdb-86ce-658e94d2049d",
   "metadata": {},
   "outputs": [],
   "source": [
    "# saves you having to use print as all exposed variables are printed in the cell\n",
    "from IPython.core.interactiveshell import InteractiveShell\n",
    "InteractiveShell.ast_node_interactivity = \"all\""
   ]
  },
  {
   "cell_type": "code",
   "execution_count": 2,
   "id": "23954339-a56c-4067-9def-550397dbf8c9",
   "metadata": {},
   "outputs": [],
   "source": [
    "import pandas as pd\n",
    "import numpy as np\n",
    "import torch\n",
    "import pyarrow as pa\n",
    "import pyarrow.compute as pc"
   ]
  },
  {
   "cell_type": "markdown",
   "id": "3338b3bc-a199-441c-a6be-b2c5585e6a70",
   "metadata": {},
   "source": [
    "---------"
   ]
  },
  {
   "cell_type": "code",
   "execution_count": 3,
   "id": "f489c0b2-8b59-41fc-9017-f5bbaf2df4ac",
   "metadata": {},
   "outputs": [],
   "source": [
    "from nn_rag import Knowledge"
   ]
  },
  {
   "cell_type": "code",
   "execution_count": 4,
   "id": "2b5d30a2-176e-4a69-8c07-d4957763326a",
   "metadata": {},
   "outputs": [],
   "source": [
    "# create instance of capability\n",
    "kn = Knowledge.from_memory()"
   ]
  },
  {
   "cell_type": "code",
   "execution_count": 5,
   "id": "69da3e9d-c48d-4fc9-ab52-39ac982cdf1a",
   "metadata": {},
   "outputs": [],
   "source": [
    "tbl = kn.set_source_uri('hadron/source/Gen AI Best Practices.pdf').load_source_canonical()"
   ]
  },
  {
   "cell_type": "code",
   "execution_count": 16,
   "id": "9ad54d9e-fb1f-4690-93d9-74c55741dedf",
   "metadata": {},
   "outputs": [],
   "source": [
    "import io\n",
    "import requests\n",
    "import fitz\n",
    "import pymupdf4llm\n",
    "\n",
    "def _get_text_from_doc(doc, as_pages, as_markdown) -> list:\n",
    "    if as_markdown:\n",
    "        if as_pages\n",
    "        texts = []\n",
    "        table = []\n",
    "        for chunk in pymupdf4llm.to_markdown(doc, page_chunks=True):\n",
    "            text.append(chunk['text'])\n",
    "            table.append\n",
    "        else:\n",
    "            return pymupdf4llm.to_markdown(doc, page_chunks=as_pages)\n",
    "    elif as_pages:\n",
    "        texts = []\n",
    "        for page in doc:  # iterate the document pages\n",
    "            texts.append(page.get_text().encode().decode())\n",
    "        return texts\n",
    "    return [chr(12).join([page.get_text() for page in doc]).encode().decode()]\n",
    "\n",
    "filename = 'hadron/source/Gen AI Best Practices.pdf'\n",
    "# filename = \"https://assets.circle.so/kvx4ix1f5ctctk55daheobna46hf\"\n",
    "file_type = 'pdf'\n",
    "markdown = True\n",
    "pages = True\n",
    "\n",
    "# request = requests.get(filename)\n",
    "# filestream = io.BytesIO(request.content)\n",
    "\n",
    "with fitz.open(filename, filetype=file_type) as doc:\n",
    "    texts = _get_text_from_doc(doc, pages, markdown)"
   ]
  },
  {
   "cell_type": "code",
   "execution_count": null,
   "id": "913665a7-d87c-4ce4-808c-f9f86c745644",
   "metadata": {},
   "outputs": [],
   "source": [
    "texts"
   ]
  },
  {
   "cell_type": "code",
   "execution_count": null,
   "id": "e50f4e8f-d5e3-425f-b4bc-39b27029cd93",
   "metadata": {},
   "outputs": [],
   "source": []
  },
  {
   "cell_type": "code",
   "execution_count": null,
   "id": "5ea052ff-7f8b-4983-83e0-27ee7874d8bc",
   "metadata": {},
   "outputs": [],
   "source": []
  },
  {
   "cell_type": "code",
   "execution_count": 8,
   "id": "5b7ce8b9-e40b-46bb-a5d1-fcca9e377a57",
   "metadata": {},
   "outputs": [
    {
     "name": "stdout",
     "output_type": "stream",
     "text": [
      "3 is less than 5\n",
      "5 is greater than 2\n",
      "2 is less than 8\n",
      "8 is greater than 6\n"
     ]
    }
   ],
   "source": [
    "def compare_elements(input_list):\n",
    "    for i in range(len(input_list) - 1):\n",
    "        current_element = input_list[i]\n",
    "        next_element = input_list[i + 1]\n",
    "        \n",
    "        if current_element < next_element:\n",
    "            print(f\"{current_element} is less than {next_element}\")\n",
    "        elif current_element == next_element:\n",
    "            print(f\"{current_element} is equal to {next_element}\")\n",
    "        else:\n",
    "            print(f\"{current_element} is greater than {next_element}\")\n",
    "\n",
    "# Example usage\n",
    "example_list = [3, 5, 2, 8, 6]\n",
    "compare_elements(example_list)\n"
   ]
  },
  {
   "cell_type": "code",
   "execution_count": 9,
   "id": "db096512-76b6-4c91-9910-4b2f109dfd5e",
   "metadata": {},
   "outputs": [],
   "source": [
    "# dir(spacy.symbols)"
   ]
  },
  {
   "cell_type": "code",
   "execution_count": 10,
   "id": "5a1995a3-3056-475f-87ae-1ff6fdde0fc0",
   "metadata": {},
   "outputs": [
    {
     "data": {
      "text/plain": [
       "spacy.lang.en.English"
      ]
     },
     "execution_count": 10,
     "metadata": {},
     "output_type": "execute_result"
    },
    {
     "ename": "NameError",
     "evalue": "name 'p' is not defined",
     "output_type": "error",
     "traceback": [
      "\u001b[0;31m---------------------------------------------------------------------------\u001b[0m",
      "\u001b[0;31mNameError\u001b[0m                                 Traceback (most recent call last)",
      "Cell \u001b[0;32mIn[10], line 6\u001b[0m\n\u001b[1;32m      4\u001b[0m nlp \u001b[38;5;241m=\u001b[39m spacy\u001b[38;5;241m.\u001b[39mload(\u001b[38;5;124m\"\u001b[39m\u001b[38;5;124men_core_web_sm\u001b[39m\u001b[38;5;124m\"\u001b[39m)\n\u001b[1;32m      5\u001b[0m \u001b[38;5;28mtype\u001b[39m(nlp)\n\u001b[0;32m----> 6\u001b[0m \u001b[38;5;28;01mfor\u001b[39;00m text \u001b[38;5;129;01min\u001b[39;00m \u001b[43mp\u001b[49m[\u001b[38;5;124m'\u001b[39m\u001b[38;5;124mtext\u001b[39m\u001b[38;5;124m'\u001b[39m]:\n\u001b[1;32m      7\u001b[0m     doc \u001b[38;5;241m=\u001b[39m nlp(text\u001b[38;5;241m.\u001b[39mas_py())\n\u001b[1;32m      9\u001b[0m     chunks \u001b[38;5;241m=\u001b[39m \u001b[38;5;28mlist\u001b[39m(doc\u001b[38;5;241m.\u001b[39mnoun_chunks)\n",
      "\u001b[0;31mNameError\u001b[0m: name 'p' is not defined"
     ]
    }
   ],
   "source": [
    "import spacy\n",
    "from collections import Counter\n",
    "\n",
    "nlp = spacy.load(\"en_core_web_sm\")\n",
    "type(nlp)\n",
    "for text in p['text']:\n",
    "    doc = nlp(text.as_py())\n",
    "\n",
    "    chunks = list(doc.noun_chunks)\n",
    "    \n",
    "    words = [token.text for token in doc \n",
    "             if not token.is_stop and \n",
    "                not token.is_punct and \n",
    "                not token.is_space and\n",
    "                not token.text in ['●']]\n",
    "    \n",
    "    # noun tokens that arent stop words or punctuations\n",
    "    nouns = [token.text\n",
    "             for token in doc\n",
    "             if (not token.is_stop and\n",
    "                 not token.is_punct and\n",
    "                 not token.is_space and\n",
    "                 not token.text in ['●'] and\n",
    "                 token.pos_ == \"NOUN\")]\n",
    "    \n",
    "    # five most common tokens\n",
    "    common_words = dict(Counter(words).most_common(5))\n",
    "    type(common_words)\n",
    "    {k: c for k, c in common_words.items() if c >= 3}\n",
    "    # print(f\"words - {[{k: c} for k, c in common_words.items() if c >= 0]}\")\n",
    "    \n",
    "    # five most common noun tokens\n",
    "    common_nouns = dict(Counter(nouns).most_common(5))\n",
    "    [{k: c for k, c in common_nouns.items() if c >= 3}]\n",
    "    # print(f\"nouns - {[{k: c} for k, c in common_nouns.items() if c >= 0]}\")\n"
   ]
  },
  {
   "cell_type": "code",
   "execution_count": null,
   "id": "1aac0434-a9ca-4875-8ef6-cc1d525a5ae3",
   "metadata": {},
   "outputs": [],
   "source": []
  }
 ],
 "metadata": {
  "kernelspec": {
   "display_name": "Python 3 (ipykernel)",
   "language": "python",
   "name": "python3"
  },
  "language_info": {
   "codemirror_mode": {
    "name": "ipython",
    "version": 3
   },
   "file_extension": ".py",
   "mimetype": "text/x-python",
   "name": "python",
   "nbconvert_exporter": "python",
   "pygments_lexer": "ipython3",
   "version": "3.10.14"
  }
 },
 "nbformat": 4,
 "nbformat_minor": 5
}
